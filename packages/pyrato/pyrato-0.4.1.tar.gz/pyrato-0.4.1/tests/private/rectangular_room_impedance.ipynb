{
 "cells": [
  {
   "cell_type": "code",
   "execution_count": null,
   "metadata": {},
   "outputs": [],
   "source": [
    "import numpy as np\n",
    "import pyrato.analytic as analytic\n",
    "\n",
    "import matplotlib.pyplot as plt"
   ]
  },
  {
   "cell_type": "code",
   "execution_count": null,
   "metadata": {},
   "outputs": [],
   "source": [
    "L = np.array([8, 5, 3])/10\n",
    "zetas = np.ones((3, 2)) * 100\n",
    "\n",
    "c = 343.9\n",
    "\n",
    "r_R = np.array([3.3, 1.6, 1.8])/10\n",
    "r_S = np.array([5.3, 3.6, 1.2])/10\n",
    "\n",
    "f_max = 1e3\n",
    "\n",
    "samplingrate = 2200\n",
    "n_samples = 2**10\n",
    "freqs = np.fft.rfftfreq(n_samples, 1/samplingrate)\n",
    "ks = 2*np.pi*freqs/c"
   ]
  },
  {
   "cell_type": "code",
   "execution_count": null,
   "metadata": {},
   "outputs": [],
   "source": [
    "k_ns, mode_idx = analytic.eigenfrequencies_rectangular_room_impedance(\n",
    "    L, ks, f_max*2*np.pi/c, zetas, only_normal=True)"
   ]
  },
  {
   "cell_type": "code",
   "execution_count": null,
   "metadata": {},
   "outputs": [],
   "source": [
    "mask = np.prod(np.array([0,0,0]) == mode_idx, axis=-1) == 1"
   ]
  },
  {
   "cell_type": "code",
   "execution_count": null,
   "metadata": {},
   "outputs": [],
   "source": [
    "rir, spec, k_ns = analytic.rectangular_room_impedance(\n",
    "    L, r_S, r_R, zetas, f_max, samplingrate, c, n_samples, remove_cavity_mode=False)"
   ]
  },
  {
   "cell_type": "code",
   "execution_count": null,
   "metadata": {},
   "outputs": [],
   "source": [
    "plt.figure(figsize=(12, 4))\n",
    "plt.subplot(1,2,1)\n",
    "plt.plot(freqs, 20*np.log10(np.abs(spec)))\n",
    "ax = plt.gca()\n",
    "ax.set_ylabel(\"Magnitude [dB]\")\n",
    "ax.set_xlabel(\"Frequency [Hz]\")\n",
    "plt.grid(True)\n",
    "plt.subplot(1,2,2)\n",
    "plt.plot(freqs, (np.angle(spec)))\n",
    "plt.grid(True)\n",
    "ax = plt.gca()\n",
    "ax.set_ylabel(\"Phase [rad]\")\n",
    "ax.set_xlabel(\"Frequency [Hz]\");"
   ]
  },
  {
   "cell_type": "code",
   "execution_count": null,
   "metadata": {},
   "outputs": [],
   "source": [
    "times = np.arange(0, n_samples)/samplingrate\n",
    "\n",
    "plt.figure(figsize=(12, 4))\n",
    "plt.plot(times, 20*np.log10(np.abs(rir)))\n",
    "ax = plt.gca()\n",
    "ax.set_ylabel(\"Magnitude [dB]\")\n",
    "ax.set_xlabel(\"Time [s]\")\n",
    "plt.grid(True)"
   ]
  },
  {
   "cell_type": "code",
   "execution_count": null,
   "metadata": {},
   "outputs": [],
   "source": [
    "np.save('../data/analytic_rtf_impedance.npy', spec)\n",
    "np.save('../data/analytic_rir_impedance.npy', rir)"
   ]
  },
  {
   "cell_type": "code",
   "execution_count": null,
   "metadata": {},
   "outputs": [],
   "source": [
    "rir_rem, spec_rem, k_ns_rem = analytic.rectangular_room_impedance(\n",
    "    L, r_S, r_R, zetas, f_max, samplingrate, c, n_samples, remove_cavity_mode=True)"
   ]
  },
  {
   "cell_type": "code",
   "execution_count": null,
   "metadata": {},
   "outputs": [],
   "source": [
    "plt.figure(figsize=(12, 4))\n",
    "plt.subplot(1,2,1)\n",
    "plt.plot(freqs, 20*np.log10(np.abs(spec)))\n",
    "plt.plot(freqs, 20*np.log10(np.abs(spec_rem)))\n",
    "ax = plt.gca()\n",
    "ax.set_ylabel(\"Magnitude [dB]\")\n",
    "ax.set_xlabel(\"Frequency [Hz]\")\n",
    "plt.grid(True)\n",
    "plt.subplot(1,2,2)\n",
    "plt.plot(freqs, (np.angle(spec)))\n",
    "plt.plot(freqs, (np.angle(spec_rem)))\n",
    "plt.grid(True)\n",
    "ax = plt.gca()\n",
    "ax.set_ylabel(\"Phase [rad]\")\n",
    "ax.set_xlabel(\"Frequency [Hz]\");"
   ]
  },
  {
   "cell_type": "code",
   "execution_count": null,
   "metadata": {},
   "outputs": [],
   "source": [
    "times = np.arange(0, n_samples)/samplingrate\n",
    "\n",
    "plt.figure(figsize=(12, 4))\n",
    "plt.plot(times, 20*np.log10(np.abs(rir)))\n",
    "plt.plot(times, 20*np.log10(np.abs(rir_rem)))\n",
    "ax = plt.gca()\n",
    "ax.set_ylabel(\"Magnitude [dB]\")\n",
    "ax.set_xlabel(\"Time [s]\")\n",
    "plt.grid(True)"
   ]
  },
  {
   "cell_type": "code",
   "execution_count": null,
   "metadata": {},
   "outputs": [],
   "source": [
    "np.save('../data/analytic_rtf_impedance_no_cav.npy', spec_rem)\n",
    "np.save('../data/analytic_rir_impedance_no_cav.npy', rir_rem)"
   ]
  }
 ],
 "metadata": {
  "kernelspec": {
   "display_name": "Python 3",
   "language": "python",
   "name": "python3"
  },
  "language_info": {
   "codemirror_mode": {
    "name": "ipython",
    "version": 3
   },
   "file_extension": ".py",
   "mimetype": "text/x-python",
   "name": "python",
   "nbconvert_exporter": "python",
   "pygments_lexer": "ipython3",
   "version": "3.7.5"
  }
 },
 "nbformat": 4,
 "nbformat_minor": 4
}
