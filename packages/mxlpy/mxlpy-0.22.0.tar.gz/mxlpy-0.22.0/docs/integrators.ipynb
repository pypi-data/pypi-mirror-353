{
 "cells": [
  {
   "cell_type": "markdown",
   "id": "dfbb65ae",
   "metadata": {},
   "source": [
    "## Integrator configuration\n",
    "\n",
    "You can explicitly control which integrator is used for the simulations.  \n",
    "As all integrators have different settings, changing them is done on the integrator object itself, which can be found at `Simulator().integrator`.  \n",
    "\n",
    "By default, the `Assimulo` integrator is used.  \n",
    "However, that package currenlty requires installation via `conda-forge`.  \n",
    "If `mxlpy` was installed from `pypi`, this package is not available and `mxlpy` will fall back to the `Scipy` package.  \n",
    "Thus, when setting integrator settings you should always check which integrator you are actually working with, as this otherwise might lead bugs on other systems.   "
   ]
  },
  {
   "cell_type": "code",
   "execution_count": null,
   "id": "054b159d",
   "metadata": {},
   "outputs": [],
   "source": [
    "from functools import partial\n",
    "\n",
    "from example_models import get_linear_chain_2v\n",
    "from mxlpy import Simulator, unwrap\n",
    "from mxlpy.integrators import Scipy\n",
    "\n",
    "model = get_linear_chain_2v()\n",
    "\n",
    "# You can explicitly set an integrator for the simulation\n",
    "s = Simulator(model, integrator=Scipy)\n",
    "\n",
    "# You can also change the default settings of each integrator\n",
    "s = Simulator(model, integrator=partial(Scipy, atol=1e-6, rtol=1e-6))\n",
    "s.simulate(5)\n",
    "\n",
    "# You can change integration settings mid simulation\n",
    "# As not all integrators have the same settings, we recommend explicitly checking\n",
    "# which integrator is currently set\n",
    "if isinstance(s.integrator, Scipy):\n",
    "    s.integrator.atol = 1e-8  # set absolute tolerance\n",
    "    s.integrator.rtol = 1e-8  # set relative tolerance\n",
    "\n",
    "unwrap(s.simulate(10).get_result()).variables.plot()"
   ]
  },
  {
   "cell_type": "code",
   "execution_count": null,
   "id": "06e63014",
   "metadata": {},
   "outputs": [],
   "source": []
  }
 ],
 "metadata": {
  "kernelspec": {
   "display_name": "default",
   "language": "python",
   "name": "python3"
  },
  "language_info": {
   "codemirror_mode": {
    "name": "ipython",
    "version": 3
   },
   "file_extension": ".py",
   "mimetype": "text/x-python",
   "name": "python",
   "nbconvert_exporter": "python",
   "pygments_lexer": "ipython3",
   "version": "3.12.10"
  }
 },
 "nbformat": 4,
 "nbformat_minor": 5
}
