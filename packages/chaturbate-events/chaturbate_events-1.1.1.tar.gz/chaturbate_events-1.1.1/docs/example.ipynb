{
 "cells": [
  {
   "cell_type": "markdown",
   "id": "b55f6736",
   "metadata": {},
   "source": [
    "# Getting Started with Chaturbate Events\n",
    "\n",
    "This example shows you how to connect to the Chaturbate Events API and start listening for events.\n",
    "\n",
    "## What you'll need\n",
    "\n",
    "- A Chaturbate account with an API token\n",
    "- Python 3.12 or newer\n",
    "- The `chaturbate_events` library installed\n"
   ]
  },
  {
   "cell_type": "code",
   "execution_count": null,
   "id": "c527a72f",
   "metadata": {},
   "outputs": [
    {
     "name": "stdout",
     "output_type": "stream",
     "text": [
      "Connected to Chaturbate Events API...\n",
      "Listening for events (press Ctrl+C to stop)...\n",
      "\n",
      "==================================================\n",
      "Event received!\n",
      "Method: userEnter\n",
      "ID: 1748919662520-0\n",
      "   Event type: BroadcastStartEvent\n",
      "\n",
      "==================================================\n",
      "Event received!\n",
      "Method: tip\n",
      "ID: 1748919662678-0\n",
      "\n",
      "TIP RECEIVED!\n",
      "   Amount: 25 tokens\n",
      "   From: mountaingod2\n",
      "\n",
      "Event stream cancelled.\n"
     ]
    }
   ],
   "source": [
    "from chaturbate_events import ChaturbateEventsClient, TipEvent\n",
    "\n",
    "\n",
    "async def main():\n",
    "    \"\"\"Connect to Chaturbate and listen for events.\"\"\"\n",
    "    username = \"your_username\"  # Replace with the broadcaster's username\n",
    "    api_token = \"your_api_token\"  # Get this from your Chaturbate account\n",
    "\n",
    "    async with ChaturbateEventsClient(username, api_token, testbed=True) as client:\n",
    "        print(\"Connected! Waiting for events...\")\n",
    "\n",
    "        async for event in client.stream_events():\n",
    "            print(f\"Got event: {event.method} (ID: {event.id})\")\n",
    "\n",
    "            # Check if it's a tip event and show the details\n",
    "            if isinstance(event, TipEvent):\n",
    "                print(f\"Yay! {event.user.username} tipped {event.tip.tokens} tokens!\")\n",
    "                if event.tip.message:\n",
    "                    print(f\"They said: {event.tip.message}\")\n",
    "\n",
    "\n",
    "# Run the example (press Ctrl+C to stop)\n",
    "try:\n",
    "    await main()\n",
    "except KeyboardInterrupt:\n",
    "    print(\"Disconnected.\")"
   ]
  },
  {
   "cell_type": "markdown",
   "id": "a57585f4",
   "metadata": {},
   "source": [
    "## Testing vs Production\n",
    "\n",
    "- Use `testbed=True` when you're developing and testing your code\n",
    "- Use `testbed=False` when you're ready to go live\n",
    "\n",
    "Check out the API documentation to see all the different event types and options you can use.\n"
   ]
  }
 ],
 "metadata": {
  "kernelspec": {
   "display_name": ".venv",
   "language": "python",
   "name": "python3"
  },
  "language_info": {
   "codemirror_mode": {
    "name": "ipython",
    "version": 3
   },
   "file_extension": ".py",
   "mimetype": "text/x-python",
   "name": "python",
   "nbconvert_exporter": "python",
   "pygments_lexer": "ipython3",
   "version": "3.13.2"
  }
 },
 "nbformat": 4,
 "nbformat_minor": 5
}
