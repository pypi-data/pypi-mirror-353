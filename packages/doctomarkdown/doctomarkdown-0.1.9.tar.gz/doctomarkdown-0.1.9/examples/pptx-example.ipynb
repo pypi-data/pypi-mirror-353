{
 "cells": [
  {
   "cell_type": "code",
   "execution_count": 1,
   "id": "d66e253c",
   "metadata": {},
   "outputs": [
    {
     "name": "stdout",
     "output_type": "stream",
     "text": [
      "[INFO] Starting PPTX extraction for: sample_docs/sample_ppt_2.pptx\n",
      "Conversion completed: 2 files converted successfully, 0 files failed.\n",
      "[SUCCESS] Extraction is successful via LLM for file: sample_docs/sample_ppt_2.pptx\n",
      "Page Number: 1 | Page Content: \n",
      "# Resume Screening Application Design\n",
      "\n",
      "## Icons\n",
      "- **O365**\n",
      "- **Amazon S3**\n",
      "- **SQL**\n",
      "\n",
      "## Resumes Directory\n",
      "- **No-SQL DB**\n",
      "\n",
      "## Batch Processing\n",
      "- **PDFTextExtractor Agent**\n",
      "\n",
      "## HR Input Parameters\n",
      "- **Priority Score: 0-1**\n",
      "- **Job Title**\n",
      "- **Job Description**\n",
      "- **Years of Experience**\n",
      "- **Education Qualification**\n",
      "- **Skill Set**\n",
      "\n",
      "## Prompt Context\n",
      "- **Refined Information**\n",
      "  - \"YOE\", \"Skillset\", \"Projects\"\n",
      "  - \"Education Qualification\"\n",
      "  - \"Experience\", \"Company Names\"\n",
      "  - \"Quantitively Impacts\"\n",
      "\n",
      "## VectorDB Embedding Store\n",
      "- **OBJECT**\n",
      "  - **Key** | **Value**\n",
      "  - **Key** | **Value**\n",
      "  - **Key** | **Value**\n",
      "\n",
      "## Retrieval Agent\n",
      "- **Top 20 Matching records**\n",
      "\n",
      "## LLM\n",
      "- **Reranking Algorithm Mechanism**\n",
      "- **Resume Score Generation Based on factors**\n",
      "\n",
      "## Top Resumes Selection\n",
      "\n",
      "## Future Scope\n",
      "- **Profile Summary Extraction Agent**\n",
      "  - **LinkedIn**\n",
      "\n",
      "## Table\n",
      "| Job Title        | Required Skills                  | Key Responsibilities                                                                 |\n",
      "|------------------|----------------------------------|---------------------------------------------------------------------------------------|\n",
      "| Software Engineer| Python, JavaScript, RESTful APIs | Develop and maintain software applications, collaborate with cross-functional teams, ensure code quality |\n",
      "| Data Scientist   | Python, Machine Learning, Data Analysis | Analyze large datasets to extract insights, build predictive models, collaborate with stakeholders |\n",
      "| Project Manager  | Agile, Scrum, Leadership, Communication | Manage project timelines, coordinate with team members, ensure project goals are met |\n",
      "\n",
      "## Note\n",
      "The diagram illustrates a flowchart for a resume screening application design. It includes various components such as data sources, processing agents, HR input parameters, and a retrieval and ranking mechanism. The flowchart shows the relationship between these components, starting from data extraction to the final selection of top resumes.\n"
     ]
    }
   ],
   "source": [
    "from doctomarkdown import DocToMarkdown\n",
    "from openai import OpenAI\n",
    "import os\n",
    "from dotenv import load_dotenv\n",
    "load_dotenv()\n",
    "\n",
    "client = OpenAI(\n",
    "    api_key=os.environ.get(\"OPENAI_API_KEY\"),\n",
    ")\n",
    "\n",
    "app = DocToMarkdown(llm_client=client, \n",
    "                    llm_model='gpt-4o')\n",
    "\n",
    "result = app.convert_pptx_to_markdown(\n",
    "    filepath=\"sample_docs/sample_ppt_2.pptx\",\n",
    "    extract_images=True,\n",
    "    extract_tables=True,\n",
    "    output_path=\"markdown_output\"\n",
    ")\n",
    "\n",
    "for page in result.pages:\n",
    "    print(f\"Page Number: {page.page_number} | Page Content: {page.page_content}\")"
   ]
  },
  {
   "cell_type": "code",
   "execution_count": 2,
   "id": "32302aaa",
   "metadata": {},
   "outputs": [
    {
     "name": "stdout",
     "output_type": "stream",
     "text": [
      "Page Number: 1 | Page Content: Professional PowerPoint\n"
     ]
    }
   ],
   "source": [
    "from doctomarkdown import DocToMarkdown\n",
    "from openai import OpenAI\n",
    "import os\n",
    "from dotenv import load_dotenv\n",
    "load_dotenv()\n",
    "\n",
    "app = DocToMarkdown()\n",
    "\n",
    "result = app.convert_pptx_to_markdown(\n",
    "    filepath=\"sample_docs/sample_ppt.pptx\",\n",
    "    extract_images=True,\n",
    "    extract_tables=True,\n",
    "    output_path=\"markdown_output\"\n",
    ")\n",
    "\n",
    "for page in result.pages:\n",
    "    print(f\"Page Number: {page.page_number} | Page Content: {page.page_content}\")"
   ]
  },
  {
   "cell_type": "code",
   "execution_count": null,
   "id": "7d314a6c",
   "metadata": {},
   "outputs": [],
   "source": []
  }
 ],
 "metadata": {
  "kernelspec": {
   "display_name": "genai",
   "language": "python",
   "name": "python3"
  },
  "language_info": {
   "codemirror_mode": {
    "name": "ipython",
    "version": 3
   },
   "file_extension": ".py",
   "mimetype": "text/x-python",
   "name": "python",
   "nbconvert_exporter": "python",
   "pygments_lexer": "ipython3",
   "version": "3.12.8"
  }
 },
 "nbformat": 4,
 "nbformat_minor": 5
}
