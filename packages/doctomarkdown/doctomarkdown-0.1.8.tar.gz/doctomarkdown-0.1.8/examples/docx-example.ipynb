{
 "cells": [
  {
   "cell_type": "markdown",
   "id": "ff7660b3",
   "metadata": {},
   "source": [
    "# Example without LLM"
   ]
  },
  {
   "cell_type": "code",
   "execution_count": null,
   "id": "9afedf8f",
   "metadata": {},
   "outputs": [],
   "source": [
    "from doctomarkdown import DocToMarkdown\n",
    "from dotenv import load_dotenv\n",
    "load_dotenv()\n",
    "\n",
    "app = DocToMarkdown()\n",
    "\n",
    "result = app.convert_docx_to_markdown(\n",
    "    filepath=\"sample_docs/sample_docx_1.docx\",\n",
    "    extract_images=True,\n",
    "    extract_tables=True,\n",
    "    output_path=\"markdown_output\"\n",
    ")\n",
    "\n",
    "for page in result.pages:\n",
    "    print(f\"Page Number: {page.page_number} | Page Content: {page.page_content}\")"
   ]
  },
  {
   "cell_type": "markdown",
   "id": "57fc033a",
   "metadata": {},
   "source": [
    "# Example using LLM"
   ]
  },
  {
   "cell_type": "code",
   "execution_count": null,
   "id": "015bb77b",
   "metadata": {},
   "outputs": [],
   "source": [
    "from groq import Groq\n",
    "from doctomarkdown import DocToMarkdown\n",
    "from dotenv import load_dotenv\n",
    "import os\n",
    "load_dotenv()\n",
    "\n",
    "client_groq = Groq(\n",
    "    api_key=\"API_KEY\",\n",
    ")\n",
    "\n",
    "app = DocToMarkdown(\n",
    "    llm_client=client_groq,\n",
    "    llm_model='meta-llama/llama-4-scout-17b-16e-instruct'\n",
    ")\n",
    "\n",
    "result = app.convert_docx_to_markdown(\n",
    "    filepath=\"sample_docs/sample_docx_1.docx\",\n",
    "    extract_images=True,\n",
    "    extract_tables=True,\n",
    "    output_path=\"markdown_output\"\n",
    ")\n",
    "\n",
    "for page in result.pages:\n",
    "    print(f\"Page Number: {page.page_number} | Page Content: {page.page_content}\")"
   ]
  }
 ],
 "metadata": {
  "kernelspec": {
   "display_name": "genai",
   "language": "python",
   "name": "python3"
  },
  "language_info": {
   "codemirror_mode": {
    "name": "ipython",
    "version": 3
   },
   "file_extension": ".py",
   "mimetype": "text/x-python",
   "name": "python",
   "nbconvert_exporter": "python",
   "pygments_lexer": "ipython3",
   "version": "3.12.8"
  }
 },
 "nbformat": 4,
 "nbformat_minor": 5
}
