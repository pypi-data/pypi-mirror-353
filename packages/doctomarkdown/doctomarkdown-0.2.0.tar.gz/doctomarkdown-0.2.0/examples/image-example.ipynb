{
 "cells": [
  {
   "cell_type": "markdown",
   "id": "ed39b058",
   "metadata": {},
   "source": [
    "## Conversion of Images into Markdown/Text Format"
   ]
  },
  {
   "cell_type": "code",
   "execution_count": 1,
   "id": "e3352f58",
   "metadata": {},
   "outputs": [
    {
     "data": {
      "text/plain": [
       "True"
      ]
     },
     "execution_count": 1,
     "metadata": {},
     "output_type": "execute_result"
    }
   ],
   "source": [
    "# Initialize Azure OpenAI client\n",
    "from langchain_openai import AzureChatOpenAI\n",
    "from groq import Groq\n",
    "import os\n",
    "from doctomarkdown import DocToMarkdown\n",
    "from dotenv import load_dotenv\n",
    "load_dotenv()"
   ]
  },
  {
   "cell_type": "markdown",
   "id": "463befad",
   "metadata": {},
   "source": [
    "## Extrcation without LLM"
   ]
  },
  {
   "cell_type": "code",
   "execution_count": 2,
   "id": "0fea8cd9",
   "metadata": {},
   "outputs": [
    {
     "name": "stdout",
     "output_type": "stream",
     "text": [
      "Page Number: 1 | Page Content: Apps & devices\n",
      "\n",
      "Office\n",
      "\n",
      "Your admin has turned off office installs. Contact your admin for more information about how to\n",
      "get office in your organization.\n",
      "\n",
      "DEVICES\n",
      "\n",
      "Apps & devices\n",
      "\n",
      "Skvyne for Rucinecc\n"
     ]
    }
   ],
   "source": [
    "import os\n",
    "from doctomarkdown import DocToMarkdown\n",
    "import pytesseract\n",
    "pytesseract.pytesseract.tesseract_cmd = r'C:\\Users\\sayantghosh\\AppData\\Local\\Programs\\Tesseract-OCR\\tesseract.exe'\n",
    "\n",
    "app = DocToMarkdown()\n",
    "\n",
    "result = app.convert_image_to_markdown(\n",
    "    filepath=\"sample_docs/sample_image.png\",\n",
    "    output_path=\"markdown_output\",\n",
    "    output_type=\"text\"\n",
    ")\n",
    "\n",
    "for page in result.pages:\n",
    "    print(f\"Page Number: {page.page_number} | Page Content: {page.page_content}\")"
   ]
  },
  {
   "cell_type": "markdown",
   "id": "3ae1fc7d",
   "metadata": {},
   "source": [
    "## Extraction with LLM (OpenAI)"
   ]
  },
  {
   "cell_type": "code",
   "execution_count": 4,
   "id": "7519a5a6",
   "metadata": {},
   "outputs": [
    {
     "name": "stdout",
     "output_type": "stream",
     "text": [
      "Page Number: 1 | Page Content: \n",
      "# My account\n",
      "\n",
      "## Apps & devices\n",
      "\n",
      "### Office\n",
      "Your admin has turned off office installs. Contact your admin for more information about how to get office in your organization.\n",
      "\n",
      "**DEVICES** ▼\n",
      "\n",
      "---\n",
      "\n",
      "### Sidebar Menu\n",
      "\n",
      "- **My account**\n",
      "- **Subscriptions**\n",
      "- **Security & privacy**\n",
      "- **App permissions**\n",
      "- **Apps & devices**\n",
      "\n",
      "---\n",
      "\n",
      "### Skype for Business\n",
      "\n",
      "(Note: The image shows a user interface for managing apps and devices, with a focus on Office installations being disabled by an admin. The sidebar provides navigation options for account management.)\n"
     ]
    }
   ],
   "source": [
    "from openai import OpenAI\n",
    "from doctomarkdown import DocToMarkdown\n",
    "import os\n",
    "from dotenv import load_dotenv\n",
    "load_dotenv()\n",
    "\n",
    "client = OpenAI(api_key=os.environ.get(\"OPENAI_API_KEY\"))\n",
    "\n",
    "app = DocToMarkdown(llm_client=client, llm_model='gpt-4o')\n",
    "\n",
    "result = app.convert_image_to_markdown(\n",
    "    filepath=\"sample_docs/sample_image.png\",\n",
    "    extract_images=True,\n",
    "    extract_tables=True,\n",
    "    output_path=\"markdown_output\",\n",
    "    output_type=\"text\"\n",
    ")\n",
    "\n",
    "for page in result.pages:\n",
    "    print(f\"Page Number: {page.page_number} | Page Content: {page.page_content}\")"
   ]
  },
  {
   "cell_type": "code",
   "execution_count": null,
   "id": "f458048c",
   "metadata": {},
   "outputs": [],
   "source": []
  },
  {
   "cell_type": "code",
   "execution_count": null,
   "id": "762c1200",
   "metadata": {},
   "outputs": [],
   "source": []
  }
 ],
 "metadata": {
  "kernelspec": {
   "display_name": "genai",
   "language": "python",
   "name": "python3"
  },
  "language_info": {
   "codemirror_mode": {
    "name": "ipython",
    "version": 3
   },
   "file_extension": ".py",
   "mimetype": "text/x-python",
   "name": "python",
   "nbconvert_exporter": "python",
   "pygments_lexer": "ipython3",
   "version": "3.12.8"
  }
 },
 "nbformat": 4,
 "nbformat_minor": 5
}
