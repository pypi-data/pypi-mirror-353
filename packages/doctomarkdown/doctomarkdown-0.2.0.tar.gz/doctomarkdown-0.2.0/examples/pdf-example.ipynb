{
 "cells": [
  {
   "cell_type": "markdown",
   "id": "eeb14978",
   "metadata": {},
   "source": [
    "# DocToMarkdown Example Notebook\n",
    "\n",
    "This notebook demonstrates how to use the DocToMarkdown library to convert PDF documents to Markdown using different types of API clients. It showcases both extraction with and without LLM (Large Language Model) support.\n",
    "\n",
    "## Supported API Clients in this Notebook\n",
    "\n",
    "- **Groq API Client**: Use Groq's LLM for PDF-to-Markdown conversion.\n",
    "- **Gemini API Client**: Use Google's Gemini Vision model for advanced extraction.\n",
    "- **Azure OpenAI Client**: Use Azure-hosted OpenAI models (e.g., GPT-4o) for document conversion.\n",
    "- **Ollama API Client**: Use local or remote Ollama models via OpenAI-compatible API.\n",
    "- **No LLM (Standard Extraction)**: Extracts text and images using only local libraries (fitz) without any LLM.\n",
    "\n",
    "Each section below provides example code for initializing and using these clients with DocToMarkdown."
   ]
  },
  {
   "cell_type": "code",
   "execution_count": 1,
   "id": "a161201a",
   "metadata": {},
   "outputs": [
    {
     "data": {
      "text/plain": [
       "True"
      ]
     },
     "execution_count": 1,
     "metadata": {},
     "output_type": "execute_result"
    }
   ],
   "source": [
    "# Initialize Azure OpenAI client\n",
    "from langchain_openai import AzureChatOpenAI\n",
    "from groq import Groq\n",
    "import os\n",
    "from doctomarkdown import DocToMarkdown\n",
    "from dotenv import load_dotenv\n",
    "load_dotenv()"
   ]
  },
  {
   "cell_type": "markdown",
   "id": "3c0da19c",
   "metadata": {},
   "source": [
    "## Groq API Client"
   ]
  },
  {
   "cell_type": "code",
   "execution_count": 2,
   "id": "a8a6c8ce",
   "metadata": {},
   "outputs": [
    {
     "name": "stdout",
     "output_type": "stream",
     "text": [
      "Page Number: 1 | Page Content: \n",
      "## Image to Markdown\n",
      "Extraction of Complex PPT Contents (Images) into Markdown\n",
      "\n",
      "### Resume Screening Application Design\n",
      "\n",
      "#### Icons\n",
      "* **$365**\n",
      "* **Amazon S3**\n",
      "* **SQL**\n",
      "\n",
      "#### Resumes Directory\n",
      "* **No-SQL DB**\n",
      "\n",
      "#### Batch Processing\n",
      "* **PDFTextExtractor Agent**\n",
      "\n",
      "#### HR Input Parameters\n",
      "* **Priority Score: 0-1**\n",
      "* **List**\n",
      "* **Job Description**\n",
      "* **Years of Experience**\n",
      "* **Education Qualification**\n",
      "* **Skill Set**\n",
      "\n",
      "#### Prompt Context\n",
      "* **Information**\n",
      "\t+ \"Education Qualification\"\n",
      "\t+ \"Projects\"\n",
      "\t+ \"YE\"\n",
      "\t+ \"Skillset\"\n",
      "\t+ \"Experience\"\n",
      "\t+ \"Company Names\"\n",
      "\t+ \"Quantitatively Impacts\"\n",
      "\n",
      "#### VectorDB Embedding Store\n",
      "* **OBJECT**\n",
      "\t+ **Key** : **Value**\n",
      "\t+ **Key** : **Value**\n",
      "\n",
      "#### Retrieval Agent\n",
      "* **Top 20 Matching records**\n",
      "* **LLM**\n",
      "* **Re-ranking Algorithm Mechanism**\n",
      "\t+ *Resume Score Generation Based on factors*\n",
      "\t+ *Resume*\n",
      "\n",
      "#### Top Resumes Selection\n",
      "\n",
      "#### Future Scope\n",
      "* **Profile Summary Extraction Agent**\n",
      "\n",
      "## Flowchart Description\n",
      "\n",
      "The flowchart illustrates the process of a Resume Screening Application Design. The process begins with a **Resumes Directory** stored in a **No-SQL DB** and an **Amazon S3** storage. The resumes are then processed in batches using a **PDFTextExtractor Agent**.\n",
      "\n",
      "The **HR Input Parameters** are used to create a **Prompt Context**, which includes information such as **Education Qualification**, **Projects**, **YE**, **Skillset**, **Experience**, **Company Names**, and **Quantitatively Impacts**.\n",
      "\n",
      "The **Prompt Context** is then used to retrieve information from a **VectorDB Embedding Store**, which stores **OBJECT** data with **Key** and **Value** pairs.\n",
      "\n",
      "The retrieved information is then passed through a **Retrieval Agent**, which uses a **Re-ranking Algorithm Mechanism** to generate a **Resume Score** based on factors. The top 20 matching records are then selected.\n",
      "\n",
      "The selected resumes are then stored in a **Top Resumes Selection** output.\n",
      "\n",
      "The flowchart also highlights potential future scope, including the use of a **Profile Summary Extraction Agent**.\n",
      "\n",
      "## Relationship of Entities\n",
      "\n",
      "* **Resumes Directory** → **Batch Processing** → **PDFTextExtractor Agent**\n",
      "* **HR Input Parameters** → **Prompt Context** → **VectorDB Embedding Store**\n",
      "* **VectorDB Embedding Store** → **Retrieval Agent** → **Re-ranking Algorithm Mechanism**\n",
      "* **Re-ranking Algorithm Mechanism** → **Top Resumes Selection**\n",
      "* **Top Resumes Selection** → **Future Scope** → **Profile Summary Extraction Agent**\n",
      "Page Number: 2 | Page Content: \n",
      "# pip install doctomarkdown\n",
      "\n",
      "```python\n",
      "from doctomarkdown import DocToMarkdown\n",
      "from openai import OpenAI\n",
      "import os\n",
      "from dotenv import load_dotenv\n",
      "load_dotenv()\n",
      "\n",
      "client = OpenAI(\n",
      "    api_key=os.environ.get(\"OPENAI_API_KEY\"),\n",
      ")\n",
      "\n",
      "app = DocToMarkdown(llm_client=client,\n",
      "                    llm_model='gpt-4o')\n",
      "\n",
      "result = app.convert_pptx_to_markdown(\n",
      "    filepath='sample-docs/sample_ppt_2.pptx',\n",
      "    extract_images=True,\n",
      "    extract_tables=True,\n",
      "    output_path=\"markdown_output\"\n",
      ")\n",
      "\n",
      "for page in result.pages:\n",
      "    print(f\"Page Number: {page.page_number} | Page Content: {page.page_content}\")\n",
      "```\n",
      "\n",
      "## Note\n",
      "The provided image shows a code snippet for converting a PPTX file to Markdown format using the `doctomarkdown` library. The code utilizes the OpenAI API for processing. The conversion process includes extracting images and tables from the PPTX file. The output is saved to a specified path. \n",
      "\n",
      "No flowchart or complex diagrams are present in the image. The code is straightforward and does not depict any specific flowchart or diagrammatic relationship.\n"
     ]
    }
   ],
   "source": [
    "\n",
    "client_groq = Groq(\n",
    "    api_key=os.environ.get(\"GROQ_API_KEY\"),\n",
    ")\n",
    "\n",
    "app = DocToMarkdown(llm_client=client_groq, \n",
    "                    llm_model='meta-llama/llama-4-scout-17b-16e-instruct')\n",
    "\n",
    "result = app.convert_pdf_to_markdown(\n",
    "    filepath=\"sample_docs/sample_ppt_2.pdf\",\n",
    "    extract_images=True,\n",
    "    extract_tables=True,\n",
    "    output_path=\"markdown_output\",\n",
    "    output_type=\"text\"\n",
    ")\n",
    "\n",
    "for page in result.pages:\n",
    "    print(f\"Page Number: {page.page_number} | Page Content: {page.page_content}\")"
   ]
  },
  {
   "cell_type": "markdown",
   "id": "242b6457",
   "metadata": {},
   "source": [
    "## Extraction without LLM"
   ]
  },
  {
   "cell_type": "code",
   "execution_count": 3,
   "id": "3abb57fa",
   "metadata": {},
   "outputs": [
    {
     "name": "stdout",
     "output_type": "stream",
     "text": [
      "Page Number: 1 | Page Content: Why should organisations consider early \n",
      "adoption and avoid being late movers? \n",
      "Late movers\n",
      "Early adopters\n",
      "Market \n",
      "position\n",
      "Set industry benchmarks  \n",
      "and gain ﬁrst-mover market advantage. \n",
      "Struggle to catch up and miss out on \n",
      "creating competitive advantage.\n",
      "Innovation\n",
      "Leverage AI to innovate business \n",
      "processes, deploy the AI solutions \n",
      "eﬀectively and create diﬀerentiation.\n",
      "Slow to innovate business processes and \n",
      "take full advantage of AI solutions to create \n",
      "diﬀerentiation. \n",
      "Customer \n",
      "relationships\n",
      "Build deeper customer relationships \n",
      "through personalised and newer \n",
      "experiences.\n",
      "Play catch-up to match the personalised \n",
      "services of early adopters.\n",
      "Operational \n",
      "eﬃciency\n",
      "Streamline operations and reduce \n",
      "operational cost early on.\n",
      "Higher lost opportunity cost due to late entry \n",
      "and adoptions.\n",
      "Learning curve\n",
      "Beneﬁt from the initial learning curve and \n",
      "shape industry standards.\n",
      "Miss out on early learning opportunities and \n",
      "industry inﬂuence.\n",
      "Market share\n",
      "Increase market share and proﬁtability \n",
      "through early adoption.\n",
      "Struggle to achieve similar market share.\n",
      "Barriers to \n",
      "entry\n",
      "Create barriers for competitors through \n",
      "deep AI integration.\n",
      "Face higher barriers to entry due to \n",
      "established competitors.\n",
      "Cost to entry\n",
      "Pay relatively higher cost of entry and \n",
      "iterative test-and-learn due to new AI \n",
      "solutions.\n",
      "Pay relatively lower cost of entry and lower \n",
      "learning and experiments.\n"
     ]
    }
   ],
   "source": [
    "import os\n",
    "from doctomarkdown import DocToMarkdown\n",
    "import pytesseract\n",
    "pytesseract.pytesseract.tesseract_cmd = r'C:\\Users\\sayantghosh\\AppData\\Local\\Programs\\Tesseract-OCR\\tesseract.exe'\n",
    "\n",
    "app = DocToMarkdown()\n",
    "\n",
    "result = app.convert_pdf_to_markdown(\n",
    "    filepath=\"sample_docs/sample-1.pdf\",\n",
    "    extract_images=True,\n",
    "    extract_tables=True,\n",
    "    output_path=\"markdown_output\",\n",
    "    output_type=\"text\"\n",
    ")\n",
    "\n",
    "for page in result.pages:\n",
    "    print(f\"Page Number: {page.page_number} | Page Content: {page.page_content}\")"
   ]
  },
  {
   "cell_type": "markdown",
   "id": "56694f9d",
   "metadata": {},
   "source": [
    "## OpenAI API Client"
   ]
  },
  {
   "cell_type": "code",
   "execution_count": 4,
   "id": "e8c530e9",
   "metadata": {},
   "outputs": [
    {
     "name": "stdout",
     "output_type": "stream",
     "text": [
      "Page Number: 1 | Page Content: \n",
      "# Why should organisations consider early adoption and avoid being late movers?\n",
      "\n",
      "|                             | **Early adopters**                                                                 | **Late movers**                                                                 |\n",
      "|-----------------------------|------------------------------------------------------------------------------------|---------------------------------------------------------------------------------|\n",
      "| **Market position**         | Set industry benchmarks and gain first-mover market advantage.                     | Struggle to catch up and miss out on creating competitive advantage.            |\n",
      "| **Innovation**              | Leverage AI to innovate business processes, deploy the AI solutions effectively and create differentiation. | Slow to innovate business processes and take full advantage of AI solutions to create differentiation. |\n",
      "| **Customer relationships**  | Build deeper customer relationships through personalised and newer experiences.    | Play catch-up to match the personalised services of early adopters.             |\n",
      "| **Operational efficiency**  | Streamline operations and reduce operational cost early on.                        | Higher lost opportunity cost due to late entry and adoptions.                   |\n",
      "| **Learning curve**          | Benefit from the initial learning curve and shape industry standards.              | Miss out on early learning opportunities and industry influence.                |\n",
      "| **Market share**            | Increase market share and profitability through early adoption.                    | Struggle to achieve similar market share.                                       |\n",
      "| **Barriers to entry**       | Create barriers for competitors through deep AI integration.                       | Face higher barriers to entry due to established competitors.                   |\n",
      "| **Cost to entry**           | Pay relatively higher cost of entry and iterative test-and-learn due to new AI solutions. | Pay relatively lower cost of entry and lower learning and experiments.          |\n",
      "\n",
      "---\n",
      "\n",
      "**Note:** The image is a comparison table highlighting the advantages of early adoption versus the challenges faced by late movers in various business aspects such as market position, innovation, customer relationships, operational efficiency, learning curve, market share, barriers to entry, and cost to entry.\n"
     ]
    }
   ],
   "source": [
    "from openai import OpenAI\n",
    "from dotenv import load_dotenv\n",
    "load_dotenv()\n",
    "\n",
    "client = OpenAI(\n",
    "    api_key=os.environ.get(\"OPENAI_API_KEY\"),\n",
    ")\n",
    "\n",
    "app = DocToMarkdown(llm_client=client, \n",
    "                    llm_model='gpt-4o')\n",
    "\n",
    "result = app.convert_pdf_to_markdown(\n",
    "    filepath=\"sample_docs/sample-1.pdf\",\n",
    "    extract_images=True,\n",
    "    extract_tables=True,\n",
    "    output_path=\"markdown_output\",\n",
    "    output_type=\"text\"\n",
    ")\n",
    "\n",
    "for page in result.pages:\n",
    "    print(f\"Page Number: {page.page_number} | Page Content: {page.page_content}\")"
   ]
  },
  {
   "cell_type": "markdown",
   "id": "08819cfd",
   "metadata": {},
   "source": [
    "## Gemini API Client"
   ]
  },
  {
   "cell_type": "code",
   "execution_count": 5,
   "id": "a11814ee",
   "metadata": {},
   "outputs": [
    {
     "name": "stdout",
     "output_type": "stream",
     "text": [
      "Page Number: 1 | Page Content: \n",
      "IDRH\n",
      "Non-text-searchable PDF\n",
      "\n",
      "This is an example of a non-text-searchable PDF. Because it was created from\n",
      "an image rather than a text document, it cannot be rendered as plain text by the\n",
      "PDF reader. Thus, attempting to select the text on the page as though it were a\n",
      "text document or website will not work, regardless of how neatly it is organized.\n",
      "\n",
      "There are no flowcharts or diagrams in the provided image.\n"
     ]
    }
   ],
   "source": [
    "from google import genai\n",
    "from dotenv import load_dotenv\n",
    "load_dotenv()\n",
    "\n",
    "import asyncio\n",
    "import google.generativeai as genai\n",
    "from doctomarkdown import DocToMarkdown\n",
    "\n",
    "# Setup Gemini API\n",
    "genai.configure(api_key=os.getenv(\"GOOGLE_API_KEY\"))\n",
    "\n",
    "# Use Gemini Pro Vision model\n",
    "vision_model = genai.GenerativeModel(\"gemini-1.5-flash\") # CHOOSE YOUR GOOGLE VISION MODEL\n",
    "\n",
    "# Initialize DocToMarkdown with Gemini client\n",
    "app = DocToMarkdown(\n",
    "    llm_client=vision_model\n",
    ")\n",
    "\n",
    "result = app.convert_pdf_to_markdown(\n",
    "    filepath=\"sample_docs/Non-text-searchable.pdf\",\n",
    "    extract_images=True,\n",
    "    extract_tables=True,\n",
    "    output_path=\"markdown_output\",\n",
    "    output_type=\"text\"\n",
    ")\n",
    "\n",
    "for page in result.pages:\n",
    "    print(f\"Page Number: {page.page_number} | Page Content: {page.page_content}\")\n"
   ]
  },
  {
   "cell_type": "markdown",
   "id": "e051a74e",
   "metadata": {},
   "source": [
    "## Azure OpenAI Client"
   ]
  },
  {
   "cell_type": "code",
   "execution_count": 8,
   "id": "48cb9ffb",
   "metadata": {},
   "outputs": [
    {
     "name": "stdout",
     "output_type": "stream",
     "text": [
      "Page Number: 1 | Page Content: \n",
      "# Why should organisations consider early adoption and avoid being late movers?\n",
      "\n",
      "|                        | **Early adopters**                                                                 | **Late movers**                                                                 |\n",
      "|------------------------|------------------------------------------------------------------------------------|---------------------------------------------------------------------------------|\n",
      "| **Market position**    | Set industry benchmarks and gain first-mover market advantage.                     | Struggle to catch up and miss out on creating competitive advantage.            |\n",
      "| **Innovation**         | Leverage AI to innovate business processes, deploy the AI solutions effectively and create differentiation. | Slow to innovate business processes and take full advantage of AI solutions to create differentiation. |\n",
      "| **Customer relationships** | Build deeper customer relationships through personalised and newer experiences. | Play catch-up to match the personalised services of early adopters.             |\n",
      "| **Operational efficiency** | Streamline operations and reduce operational cost early on.                     | Higher lost opportunity cost due to late entry and adoptions.                   |\n",
      "| **Learning curve**     | Benefit from the initial learning curve and shape industry standards.              | Miss out on early learning opportunities and industry influence.                |\n",
      "| **Market share**       | Increase market share and profitability through early adoption.                    | Struggle to achieve similar market share.                                       |\n",
      "| **Barriers to entry**  | Create barriers for competitors through deep AI integration.                       | Face higher barriers to entry due to established competitors.                   |\n",
      "| **Cost to entry**      | Pay relatively higher cost of entry and iterative test-and-learn due to new AI solutions. | Pay relatively lower cost of entry and lower learning and experiments.          |\n"
     ]
    }
   ],
   "source": [
    "from openai import AzureOpenAI\n",
    "from doctomarkdown import DocToMarkdown\n",
    "import os\n",
    "from dotenv import load_dotenv\n",
    "load_dotenv()\n",
    "\n",
    "clinet = AzureOpenAI(\n",
    "    api_key=os.environ.get(\"AZURE_OPENAI_API_KEY\"),\n",
    "    azure_endpoint=os.environ.get(\"AZURE_OPENAI_ENDPOINT\"),\n",
    "    api_version=os.environ.get(\"AZURE_OPENAI_API_VERSION\"),\n",
    ")\n",
    "\n",
    "app = DocToMarkdown(llm_client=clinet, \n",
    "                    llm_model='gpt-4o')\n",
    "\n",
    "\n",
    "result = app.convert_pdf_to_markdown(\n",
    "    filepath=\"sample_docs/sample-1.pdf\",\n",
    "    extract_images=True,\n",
    "    extract_tables=True,\n",
    "    output_path=\"markdown_output\"\n",
    ")\n",
    "\n",
    "for page in result.pages:\n",
    "    print(f\"Page Number: {page.page_number} | Page Content: {page.page_content}\")"
   ]
  },
  {
   "cell_type": "markdown",
   "id": "9f148a28",
   "metadata": {},
   "source": [
    "## Ollama API Client"
   ]
  },
  {
   "cell_type": "code",
   "execution_count": 3,
   "id": "5c323d16",
   "metadata": {},
   "outputs": [
    {
     "name": "stdout",
     "output_type": "stream",
     "text": [
      "Page Number: 1 | Page Content: \n",
      "# IDRH\n",
      "\n",
      "Non-text-searchable PDF\n",
      "\n",
      "This is an example of a non-text-searchable PDF. Because it was created from an image rather than a text document, it cannot be rendered as plain text by the PDF reader. Thus, attempting to select the text on the page as though it were a text document or website will not work, regardless of how neatly it is organized.\n"
     ]
    }
   ],
   "source": [
    "from openai import OpenAI\n",
    "\n",
    "ollama_client = OpenAI(\n",
    "    base_url = 'http://localhost:11434/v1',\n",
    "    api_key='ollama',\n",
    ")\n",
    "\n",
    "app = DocToMarkdown(llm_client=ollama_client, \n",
    "                    llm_model='gemma3:4b')\n",
    "result = app.convert_pdf_to_markdown(\n",
    "    filepath=\"sample_docs/Non-text-searchable.pdf\",\n",
    "    extract_images=True,\n",
    "    extract_tables=True,\n",
    "    output_path=\"markdown_output\"\n",
    ")\n",
    "\n",
    "for page in result.pages:\n",
    "    print(f\"Page Number: {page.page_number} | Page Content: {page.page_content}\")"
   ]
  },
  {
   "cell_type": "code",
   "execution_count": null,
   "id": "04ef702f",
   "metadata": {},
   "outputs": [],
   "source": []
  }
 ],
 "metadata": {
  "kernelspec": {
   "display_name": "genai",
   "language": "python",
   "name": "python3"
  },
  "language_info": {
   "codemirror_mode": {
    "name": "ipython",
    "version": 3
   },
   "file_extension": ".py",
   "mimetype": "text/x-python",
   "name": "python",
   "nbconvert_exporter": "python",
   "pygments_lexer": "ipython3",
   "version": "3.12.8"
  }
 },
 "nbformat": 4,
 "nbformat_minor": 5
}
