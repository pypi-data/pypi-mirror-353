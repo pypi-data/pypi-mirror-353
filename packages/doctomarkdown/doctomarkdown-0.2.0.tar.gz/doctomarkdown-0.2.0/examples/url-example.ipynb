{
 "cells": [
  {
   "cell_type": "markdown",
   "id": "4ac4a52c",
   "metadata": {},
   "source": [
    "# Example without LLM\n",
    "\n",
    "First, let's try using the URL-to-Markdown converter without any LLM. This will use only the standard HTML-to-markdown conversion.\n",
    "\n",
    "## Medium Article"
   ]
  },
  {
   "cell_type": "code",
   "execution_count": 1,
   "id": "d66e253c",
   "metadata": {},
   "outputs": [
    {
     "name": "stdout",
     "output_type": "stream",
     "text": [
      "Page Number: 1\n",
      "Content Preview: # Build A Local Reliable RAG Agent Using CrewAI And Groq | by Plaban Nayak | The AI Forum | Medium\n",
      "\n",
      "# Build A Local Reliable RAG Agent Using CrewAI And Groq\n",
      "\n",
      "[![Plaban Nayak](https://miro.medium.com/v2/resize:fill:64:64/1*oFXd8MlaJnMFie2YKsWB_Q.jpeg)](</@nayakpplaban?source=post_page---byline--013e5d557bcd--------------------------------------->)\n",
      "\n",
      "[Plaban Nayak](</@nayakpplaban?source=post_page---byline--013e5d557bcd--------------------------------------->)\n",
      "\n",
      "Follow\n",
      "\n",
      "36 min read\n",
      "\n",
      "·\n",
      "\n",
      "Jun 16, 2024\n",
      "...\n",
      "Total Length: 69327 characters\n"
     ]
    }
   ],
   "source": [
    "from doctomarkdown import DocToMarkdown\n",
    "from dotenv import load_dotenv\n",
    "load_dotenv()\n",
    "\n",
    "app = DocToMarkdown()\n",
    "\n",
    "# Convert Medium article\n",
    "result = app.convert_url_to_markdown(\n",
    "    urlpath=\"https://medium.com/the-ai-forum/build-a-local-reliable-rag-agent-using-crewai-and-groq-013e5d557bcd\",\n",
    "    extract_images=True,\n",
    "    extract_tables=True,\n",
    "    output_path=\"markdown_output\"\n",
    ")\n",
    "\n",
    "# Display first 500 chars to preview\n",
    "for page in result.pages:\n",
    "    print(f\"Page Number: {page.page_number}\")\n",
    "    print(f\"Content Preview: {page.page_content[:500]}...\")\n",
    "    print(f\"Total Length: {len(page.page_content)} characters\")"
   ]
  },
  {
   "cell_type": "markdown",
   "id": "3f43220c",
   "metadata": {},
   "source": [
    "# Example with Wikipedia (Non-LLM)\n",
    "\n",
    "Let's try converting a Wikipedia article without using an LLM."
   ]
  },
  {
   "cell_type": "code",
   "execution_count": 2,
   "id": "5f65c046",
   "metadata": {},
   "outputs": [
    {
     "name": "stdout",
     "output_type": "stream",
     "text": [
      "Page Number: 1\n",
      "Content Preview: # India - Wikipedia\n",
      "\n",
      "## Etymology\n",
      "\n",
      "## History\n",
      "\n",
      "## Geography\n",
      "\n",
      "## Biodiversity\n",
      "\n",
      "## Politics and government\n",
      "\n",
      "## Foreign, economic, and strategic relations\n",
      "\n",
      "## Economy\n",
      "\n",
      "## Demographics, languages, and religion\n",
      "\n",
      "## Culture\n",
      "\n",
      "## See also\n",
      "\n",
      "## Notes\n",
      "\n",
      "## References\n",
      "\n",
      "## Bibliography\n",
      "\n",
      "## External links\n",
      "\n",
      "### Ancient India\n",
      "\n",
      "### Medieval India\n",
      "\n",
      "### Early modern India\n",
      "\n",
      "### Modern India\n",
      "\n",
      "### Politics\n",
      "\n",
      "### Government\n",
      "\n",
      "### Administrative divisions\n",
      "\n",
      "### Industries\n",
      "\n",
      "### Energy\n",
      "\n",
      "### Socio-economic challenges\n",
      "\n",
      "### Vis...\n",
      "Total Length: 184589 characters\n"
     ]
    }
   ],
   "source": [
    "from doctomarkdown import DocToMarkdown\n",
    "from dotenv import load_dotenv\n",
    "load_dotenv()\n",
    "\n",
    "app = DocToMarkdown()\n",
    "\n",
    "# Convert Wikipedia article\n",
    "result = app.convert_url_to_markdown(\n",
    "    urlpath=\"https://en.wikipedia.org/wiki/India\",\n",
    "    extract_images=True,\n",
    "    extract_tables=True,\n",
    "    output_path=\"markdown_output\"\n",
    ")\n",
    "\n",
    "# Display first 500 chars to preview\n",
    "for page in result.pages:\n",
    "    print(f\"Page Number: {page.page_number}\")\n",
    "    print(f\"Content Preview: {page.page_content[:500]}...\")\n",
    "    print(f\"Total Length: {len(page.page_content)} characters\")"
   ]
  },
  {
   "cell_type": "markdown",
   "id": "cad4b8b0",
   "metadata": {},
   "source": [
    "# Example using LLM\n",
    "\n",
    "Now, let's try using the URL-to-Markdown converter with an LLM (Groq in this case).\n",
    "The LLM will format and clean the extracted content."
   ]
  },
  {
   "cell_type": "code",
   "execution_count": 3,
   "id": "a8f782d9",
   "metadata": {},
   "outputs": [
    {
     "name": "stderr",
     "output_type": "stream",
     "text": [
      "Extraction failed retry left over exception Error code: 400 - {'error': {'message': \"'messages.1' : for 'role:user' the following must be satisfied[('messages.1.content' : one of the following must be satisfied[('messages.1.content' : value must be a string) OR ('messages.1.content.0' : one of the following must be satisfied[('messages.1.content.0.text' : Value is not nullable) OR ('messages.1.content.0.type' : value is not one of the allowed values ['image_url'])])])]\", 'type': 'invalid_request_error'}} : 2\n",
      "Extraction failed retry left over exception Error code: 400 - {'error': {'message': \"'messages.1' : for 'role:user' the following must be satisfied[('messages.1.content' : one of the following must be satisfied[('messages.1.content' : value must be a string) OR ('messages.1.content.0' : one of the following must be satisfied[('messages.1.content.0.text' : Value is not nullable) OR ('messages.1.content.0.type' : value is not one of the allowed values ['image_url'])])])]\", 'type': 'invalid_request_error'}} : 1\n",
      "Extraction failed retry left over exception Error code: 400 - {'error': {'message': \"'messages.1' : for 'role:user' the following must be satisfied[('messages.1.content' : one of the following must be satisfied[('messages.1.content' : value must be a string) OR ('messages.1.content.0' : one of the following must be satisfied[('messages.1.content.0.text' : Value is not nullable) OR ('messages.1.content.0.type' : value is not one of the allowed values ['image_url'])])])]\", 'type': 'invalid_request_error'}} : 1\n",
      "Extraction failed retry left over exception Error code: 400 - {'error': {'message': \"'messages.1' : for 'role:user' the following must be satisfied[('messages.1.content' : one of the following must be satisfied[('messages.1.content' : value must be a string) OR ('messages.1.content.0' : one of the following must be satisfied[('messages.1.content.0.text' : Value is not nullable) OR ('messages.1.content.0.type' : value is not one of the allowed values ['image_url'])])])]\", 'type': 'invalid_request_error'}} : 0\n",
      "Fall back to the fallback function\n",
      "Extraction failed retry left over exception Error code: 400 - {'error': {'message': \"'messages.1' : for 'role:user' the following must be satisfied[('messages.1.content' : one of the following must be satisfied[('messages.1.content' : value must be a string) OR ('messages.1.content.0' : one of the following must be satisfied[('messages.1.content.0.text' : Value is not nullable) OR ('messages.1.content.0.type' : value is not one of the allowed values ['image_url'])])])]\", 'type': 'invalid_request_error'}} : 0\n",
      "Fall back to the fallback function\n"
     ]
    },
    {
     "name": "stdout",
     "output_type": "stream",
     "text": [
      "Page Number: 1\n",
      "Content Preview: # Inferential Statistics : Types of Hypothesis testing | by Sayantan Ghosh | May, 2025 | Medium\n",
      "\n",
      "```\n",
      "None\n",
      "```\n",
      "ns--207bd345b6b3---------------------bookmark_footer------------------>)\n",
      "\n",
      "Listen\n",
      "\n",
      "Share\n",
      "\n",
      "Hypothesis testing is a fundamental concept in statistics, enabling data scientists and researchers to make informed decisions based on sample data. **It involves evaluating a hypothesis about a population parameter using sample data and determining the likelihood that the hypothesis is true.** This ...\n",
      "Total Length: 7845 characters\n"
     ]
    }
   ],
   "source": [
    "from groq import Groq\n",
    "from doctomarkdown import DocToMarkdown\n",
    "from dotenv import load_dotenv\n",
    "import os\n",
    "load_dotenv()\n",
    "\n",
    "client_groq = Groq(\n",
    "    api_key=os.environ.get(\"GROQ_API_KEY\"),\n",
    ")\n",
    "app = DocToMarkdown(\n",
    "    llm_client=client_groq,\n",
    "    llm_model='gemma2-9b-it'\n",
    ")\n",
    "\n",
    "# Convert Medium article with LLM\n",
    "result = app.convert_url_to_markdown(\n",
    "    urlpath=\"https://medium.com/@gsayantan1999/inferential-statistics-types-of-hypothesis-testing-207bd345b6b3\",\n",
    "    output_path=\"markdown_output\"\n",
    ")\n",
    "\n",
    "# Display first 500 chars to preview\n",
    "for page in result.pages:\n",
    "    print(f\"Page Number: {page.page_number}\")\n",
    "    print(f\"Content Preview: {page.page_content[:500]}...\")\n",
    "    print(f\"Total Length: {len(page.page_content)} characters\")"
   ]
  },
  {
   "cell_type": "markdown",
   "id": "c61d124f",
   "metadata": {},
   "source": [
    "# Example with Wikipedia (LLM)\n",
    "\n",
    "Finally, let's try converting a Wikipedia article using the LLM for better formatting."
   ]
  },
  {
   "cell_type": "code",
   "execution_count": 4,
   "id": "a9156b28",
   "metadata": {},
   "outputs": [
    {
     "name": "stderr",
     "output_type": "stream",
     "text": [
      "Extraction failed retry left over exception Error code: 400 - {'error': {'message': \"'messages.1' : for 'role:user' the following must be satisfied[('messages.1.content' : one of the following must be satisfied[('messages.1.content' : value must be a string) OR ('messages.1.content.0' : one of the following must be satisfied[('messages.1.content.0.text' : Value is not nullable) OR ('messages.1.content.0.type' : value is not one of the allowed values ['image_url'])])])]\", 'type': 'invalid_request_error'}} : 2\n",
      "Extraction failed retry left over exception Error code: 400 - {'error': {'message': \"'messages.1' : for 'role:user' the following must be satisfied[('messages.1.content' : one of the following must be satisfied[('messages.1.content' : value must be a string) OR ('messages.1.content.0' : one of the following must be satisfied[('messages.1.content.0.text' : Value is not nullable) OR ('messages.1.content.0.type' : value is not one of the allowed values ['image_url'])])])]\", 'type': 'invalid_request_error'}} : 1\n",
      "Extraction failed retry left over exception Error code: 400 - {'error': {'message': \"'messages.1' : for 'role:user' the following must be satisfied[('messages.1.content' : one of the following must be satisfied[('messages.1.content' : value must be a string) OR ('messages.1.content.0' : one of the following must be satisfied[('messages.1.content.0.text' : Value is not nullable) OR ('messages.1.content.0.type' : value is not one of the allowed values ['image_url'])])])]\", 'type': 'invalid_request_error'}} : 0\n",
      "Fall back to the fallback function\n",
      "Extraction failed retry left over exception Error code: 400 - {'error': {'message': \"'messages.1' : for 'role:user' the following must be satisfied[('messages.1.content' : one of the following must be satisfied[('messages.1.content' : value must be a string) OR ('messages.1.content.0' : one of the following must be satisfied[('messages.1.content.0.text' : Value is not nullable) OR ('messages.1.content.0.type' : value is not one of the allowed values ['image_url'])])])]\", 'type': 'invalid_request_error'}} : 1\n",
      "Extraction failed retry left over exception Error code: 400 - {'error': {'message': \"'messages.1' : for 'role:user' the following must be satisfied[('messages.1.content' : one of the following must be satisfied[('messages.1.content' : value must be a string) OR ('messages.1.content.0' : one of the following must be satisfied[('messages.1.content.0.text' : Value is not nullable) OR ('messages.1.content.0.type' : value is not one of the allowed values ['image_url'])])])]\", 'type': 'invalid_request_error'}} : 0\n",
      "Fall back to the fallback function\n"
     ]
    },
    {
     "name": "stdout",
     "output_type": "stream",
     "text": [
      "Page Number: 1\n",
      "Content Preview: # Summer Olympic Games - Wikipedia\n",
      "\n",
      "```\n",
      "None\n",
      "```\n",
      "al multi-sport event of its kind, organised by the [International Olympic Committee](</wiki/International_Olympic_Committee> \"International Olympic Committee\") (IOC) founded by [Pierre de Coubertin](</wiki/Pierre_de_Coubertin> \"Pierre de Coubertin\").[1] The tradition of awarding medals began in [1904](</wiki/1904_Summer_Olympics> \"1904 Summer Olympics\"); in each [Olympic](</wiki/Olympic_Games> \"Olympic Games\") event, [gold medals](</wiki/Gold_meda...\n",
      "Total Length: 108595 characters\n"
     ]
    }
   ],
   "source": [
    "from groq import Groq\n",
    "from doctomarkdown import DocToMarkdown\n",
    "from dotenv import load_dotenv\n",
    "import os\n",
    "load_dotenv()\n",
    "\n",
    "client_groq = Groq(\n",
    "    api_key=os.environ.get(\"GROQ_API_KEY\"),\n",
    ")\n",
    "app = DocToMarkdown(\n",
    "    llm_client=client_groq,\n",
    "    llm_model='gemma2-9b-it'\n",
    ")\n",
    "\n",
    "# Convert Wikipedia article with LLM\n",
    "result = app.convert_url_to_markdown(\n",
    "    urlpath=\"https://en.wikipedia.org/wiki/Summer_Olympic_Games\",\n",
    "    output_path=\"markdown_output\"\n",
    ")\n",
    "\n",
    "# Display first 500 chars to preview\n",
    "for page in result.pages:\n",
    "    print(f\"Page Number: {page.page_number}\")\n",
    "    print(f\"Content Preview: {page.page_content[:500]}...\")\n",
    "    print(f\"Total Length: {len(page.page_content)} characters\")"
   ]
  },
  {
   "cell_type": "code",
   "execution_count": 5,
   "id": "336f83ec",
   "metadata": {},
   "outputs": [
    {
     "name": "stderr",
     "output_type": "stream",
     "text": [
      "Extraction failed retry left over exception Error code: 400 - {'error': {'message': \"'messages.1' : for 'role:user' the following must be satisfied[('messages.1.content' : one of the following must be satisfied[('messages.1.content' : value must be a string) OR ('messages.1.content.0' : one of the following must be satisfied[('messages.1.content.0.text' : Value is not nullable) OR ('messages.1.content.0.type' : value is not one of the allowed values ['image_url'])])])]\", 'type': 'invalid_request_error'}} : 2\n",
      "Extraction failed retry left over exception Error code: 400 - {'error': {'message': \"'messages.1' : for 'role:user' the following must be satisfied[('messages.1.content' : one of the following must be satisfied[('messages.1.content' : value must be a string) OR ('messages.1.content.0' : one of the following must be satisfied[('messages.1.content.0.text' : Value is not nullable) OR ('messages.1.content.0.type' : value is not one of the allowed values ['image_url'])])])]\", 'type': 'invalid_request_error'}} : 1\n",
      "Extraction failed retry left over exception Error code: 400 - {'error': {'message': \"'messages.1' : for 'role:user' the following must be satisfied[('messages.1.content' : one of the following must be satisfied[('messages.1.content' : value must be a string) OR ('messages.1.content.0' : one of the following must be satisfied[('messages.1.content.0.text' : Value is not nullable) OR ('messages.1.content.0.type' : value is not one of the allowed values ['image_url'])])])]\", 'type': 'invalid_request_error'}} : 1\n",
      "Extraction failed retry left over exception Error code: 400 - {'error': {'message': \"'messages.1' : for 'role:user' the following must be satisfied[('messages.1.content' : one of the following must be satisfied[('messages.1.content' : value must be a string) OR ('messages.1.content.0' : one of the following must be satisfied[('messages.1.content.0.text' : Value is not nullable) OR ('messages.1.content.0.type' : value is not one of the allowed values ['image_url'])])])]\", 'type': 'invalid_request_error'}} : 0\n",
      "Fall back to the fallback function\n",
      "Extraction failed retry left over exception Error code: 400 - {'error': {'message': \"'messages.1' : for 'role:user' the following must be satisfied[('messages.1.content' : one of the following must be satisfied[('messages.1.content' : value must be a string) OR ('messages.1.content.0' : one of the following must be satisfied[('messages.1.content.0.text' : Value is not nullable) OR ('messages.1.content.0.type' : value is not one of the allowed values ['image_url'])])])]\", 'type': 'invalid_request_error'}} : 0\n",
      "Fall back to the fallback function\n"
     ]
    },
    {
     "name": "stdout",
     "output_type": "stream",
     "text": [
      "Page Number: 1\n",
      "Content Preview: # Introduction | 🦜️🔗 LangChain\n",
      "\n",
      "```\n",
      "None\n",
      "```\n",
      "eady APIs and Assistants with [LangGraph Platform](<https://langchain-ai.github.io/langgraph/cloud/>).\n",
      "\n",
      "![Diagram outlining the hierarchical organization of the LangChain framework, displaying the interconnected parts across multiple layers.](/svg/langchain_stack_112024.svg)![Diagram outlining the hierarchical organization of the LangChain framework, displaying the interconnected parts across multiple layers.](/svg/langchain_stack_112024_dark.svg)\n",
      "\n",
      "La...\n",
      "Total Length: 6052 characters\n"
     ]
    }
   ],
   "source": [
    "from groq import Groq\n",
    "from doctomarkdown import DocToMarkdown\n",
    "from dotenv import load_dotenv\n",
    "import os\n",
    "load_dotenv()\n",
    "\n",
    "client_groq = Groq(\n",
    "    api_key=os.environ.get(\"GROQ_API_KEY\"),\n",
    ")\n",
    "app = DocToMarkdown(\n",
    "    llm_client=client_groq,\n",
    "    llm_model='gemma2-9b-it'\n",
    ")\n",
    "\n",
    "# Convert Wikipedia article with LLM\n",
    "result = app.convert_url_to_markdown(\n",
    "    urlpath=\"https://python.langchain.com/docs/introduction/\",\n",
    "    output_path=\"markdown_output\"\n",
    ")\n",
    "\n",
    "# Display first 500 chars to preview\n",
    "for page in result.pages:\n",
    "    print(f\"Page Number: {page.page_number}\")\n",
    "    print(f\"Content Preview: {page.page_content[:500]}...\")\n",
    "    print(f\"Total Length: {len(page.page_content)} characters\")"
   ]
  },
  {
   "cell_type": "code",
   "execution_count": null,
   "id": "70fc5b52",
   "metadata": {},
   "outputs": [],
   "source": []
  }
 ],
 "metadata": {
  "kernelspec": {
   "display_name": "genai",
   "language": "python",
   "name": "python3"
  },
  "language_info": {
   "codemirror_mode": {
    "name": "ipython",
    "version": 3
   },
   "file_extension": ".py",
   "mimetype": "text/x-python",
   "name": "python",
   "nbconvert_exporter": "python",
   "pygments_lexer": "ipython3",
   "version": "3.12.8"
  }
 },
 "nbformat": 4,
 "nbformat_minor": 5
}
