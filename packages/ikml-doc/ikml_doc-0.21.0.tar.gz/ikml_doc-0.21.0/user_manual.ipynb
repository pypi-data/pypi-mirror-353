{
 "cells": [
  {
   "cell_type": "code",
   "execution_count": null,
   "id": "ffe5863e-f243-46e4-b4b8-b63d226be3ed",
   "metadata": {},
   "outputs": [],
   "source": [
    "from ikml_doc import IKML_Document"
   ]
  },
  {
   "cell_type": "code",
   "execution_count": null,
   "id": "49ac17c6-367c-465b-bf60-8a2023edb145",
   "metadata": {},
   "outputs": [],
   "source": [
    "ikml_url = \"https://siddhantakosha.org/libraries/smap-granthas/Naadi-Pariksha/vakyas-ikml.txt\""
   ]
  },
  {
   "cell_type": "code",
   "execution_count": null,
   "id": "5ff1419d-940a-4d8d-84b4-688de0e576cd",
   "metadata": {},
   "outputs": [],
   "source": [
    "doc = IKML_Document()\n",
    "doc.load(url=ikml_url)\n",
    "# IKML text data can be loaded directly using `doc.load(data=ikml_data)`\n",
    "\n",
    "# url can be directly passed to IKML_Document as well.\n",
    "_doc = IKML_Document(url=ikml_url)\n",
    "_doc.tags()"
   ]
  },
  {
   "cell_type": "markdown",
   "id": "e303d2a8-e3e4-4b1b-ba4c-659bdabe6ab0",
   "metadata": {},
   "source": [
    "## Print top-level tags"
   ]
  },
  {
   "cell_type": "code",
   "execution_count": null,
   "id": "9af7db27-11d1-4ecf-9322-92b517ac5a03",
   "metadata": {
    "scrolled": true
   },
   "outputs": [],
   "source": [
    "tags = doc.tags()\n",
    "tags[:10]"
   ]
  },
  {
   "cell_type": "markdown",
   "id": "c21cfd74-d643-4c4a-9e50-41672f9ed68b",
   "metadata": {},
   "source": [
    "## Print child tags of a given id"
   ]
  },
  {
   "cell_type": "code",
   "execution_count": null,
   "id": "a69678af-4458-42a2-8f00-659bd828b2c8",
   "metadata": {
    "scrolled": true
   },
   "outputs": [],
   "source": [
    "print(tags[0][\"id\"])\n",
    "doc.child_tags(tags[0][\"id\"])"
   ]
  },
  {
   "cell_type": "markdown",
   "id": "aa246a6e-1666-4f19-aae6-0ae28f060d1c",
   "metadata": {},
   "source": [
    "## Print a given node using id"
   ]
  },
  {
   "cell_type": "code",
   "execution_count": null,
   "id": "ace79548-eec5-4beb-bf5f-2bb221a73826",
   "metadata": {},
   "outputs": [],
   "source": [
    "# Formats could either be \"dict\", \"xml\", \"txt\", \"node\"\n",
    "# Default format is \"node\"\n",
    "# doc.get(tags[10][\"id\"], format=\"node\")\n",
    "doc.get(tags[10][\"id\"], format=\"dict\")"
   ]
  },
  {
   "cell_type": "markdown",
   "id": "f4a5e59e-f0bf-40c3-8349-7eb98b48d3a8",
   "metadata": {},
   "source": [
    "## Navigate a tag further"
   ]
  },
  {
   "cell_type": "code",
   "execution_count": null,
   "id": "f225dd6f-550d-4216-8006-24d8b71673b5",
   "metadata": {},
   "outputs": [],
   "source": [
    "tag_node = doc.get(tags[10][\"id\"])\n",
    "tag_node.keys()"
   ]
  },
  {
   "cell_type": "markdown",
   "id": "e59e5baa-23df-4851-bf3c-3bb606b7f271",
   "metadata": {},
   "source": [
    "## Iterate over the entire tree"
   ]
  },
  {
   "cell_type": "code",
   "execution_count": null,
   "id": "bfb519bc-90ae-4ff3-be77-72cc1da43783",
   "metadata": {
    "scrolled": true
   },
   "outputs": [],
   "source": [
    "for node in doc.iter():\n",
    "    print(node)"
   ]
  },
  {
   "cell_type": "markdown",
   "id": "f50df09d-184e-4bd9-9ed1-3e92b6453f9f",
   "metadata": {},
   "source": [
    "## Iterate over children of tag"
   ]
  },
  {
   "cell_type": "code",
   "execution_count": null,
   "id": "81dcd55b-1e61-4cf8-85eb-dafb0a977ae3",
   "metadata": {},
   "outputs": [],
   "source": [
    "for child in tag_node.node_children:\n",
    "    print(child)"
   ]
  },
  {
   "cell_type": "markdown",
   "id": "62f6b6d2-74cf-4a81-85a4-14fdbac0dc4a",
   "metadata": {},
   "source": [
    "## Find Children with having tag_name"
   ]
  },
  {
   "cell_type": "code",
   "execution_count": null,
   "id": "e62cf9c8-1335-4a9f-9a11-c4a9fe6e7144",
   "metadata": {
    "scrolled": true
   },
   "outputs": [],
   "source": [
    "list(doc.find_children(tag_name=\"va\"))[:5]"
   ]
  },
  {
   "cell_type": "markdown",
   "id": "4931c322-b7e6-49ec-8b4f-a61d05eae649",
   "metadata": {},
   "source": [
    "## Convert text from `doc.get` to a new IKML Document"
   ]
  },
  {
   "cell_type": "code",
   "execution_count": null,
   "id": "c52c39d6-c3c3-4231-b499-d6e68546d45d",
   "metadata": {
    "scrolled": true
   },
   "outputs": [],
   "source": [
    "node = doc.get(tags[10][\"id\"])\n",
    "# print(node.to_txt())\n",
    "new_doc = IKML_Document(data=node.to_txt())\n",
    "new_doc.to_dict()"
   ]
  },
  {
   "cell_type": "markdown",
   "id": "ad2fee55-e747-4f58-a839-851f8e49de61",
   "metadata": {},
   "source": [
    "## Convert to other types (Dict, XML, Text)"
   ]
  },
  {
   "cell_type": "code",
   "execution_count": null,
   "id": "b204f107-9e05-4f66-8ad2-650721d21e70",
   "metadata": {
    "scrolled": true
   },
   "outputs": [],
   "source": [
    "doc.to_dict()"
   ]
  },
  {
   "cell_type": "code",
   "execution_count": null,
   "id": "e191350f-f0fe-4546-a309-ceb94edcea40",
   "metadata": {
    "scrolled": true
   },
   "outputs": [],
   "source": [
    "doc.to_xml()"
   ]
  },
  {
   "cell_type": "code",
   "execution_count": null,
   "id": "6ee7d41d-c1f2-4432-b74b-e32630239786",
   "metadata": {
    "scrolled": true
   },
   "outputs": [],
   "source": [
    "doc.to_txt()"
   ]
  },
  {
   "cell_type": "markdown",
   "id": "8cbc81e1-838e-4ddc-8dca-6877a6646c19",
   "metadata": {},
   "source": [
    "## Save as IKML"
   ]
  },
  {
   "cell_type": "code",
   "execution_count": null,
   "id": "ce0cf9ea-0ed6-47e7-9908-8511988c6d2a",
   "metadata": {},
   "outputs": [],
   "source": [
    "filename = \"out_ikml.txt\"\n",
    "doc.save(filename)"
   ]
  },
  {
   "cell_type": "markdown",
   "id": "18d38ada-a11f-4c07-8f45-27010ca90ab3",
   "metadata": {},
   "source": [
    "## Save as XML"
   ]
  },
  {
   "cell_type": "code",
   "execution_count": null,
   "id": "6bfd59d7-771a-4a9f-b68b-5d275818d66b",
   "metadata": {},
   "outputs": [],
   "source": [
    "xmlout = doc.to_xml()\n",
    "with open(\"out_xml.txt\", \"w\", encoding=\"utf-8\") as fd:\n",
    "    fd.write(xmlout)"
   ]
  },
  {
   "cell_type": "markdown",
   "id": "424fee3d-09e5-430f-b0f0-578764c29639",
   "metadata": {},
   "source": [
    "## Load `all-ikml` with `.rel_id` attribute at root level"
   ]
  },
  {
   "cell_type": "code",
   "execution_count": null,
   "id": "39d5792e-93d2-4bc3-a38c-005c4c38ee42",
   "metadata": {},
   "outputs": [],
   "source": [
    "from ikml_doc import IKML_Document"
   ]
  },
  {
   "cell_type": "code",
   "execution_count": null,
   "id": "93b3d09b-d5bc-41ae-a263-316e96611d21",
   "metadata": {},
   "outputs": [],
   "source": [
    "all_ikml_url = \"https://siddhantakosha.org/libraries/smap-granthas/Tarkasangraha-Moola/all-ikml.txt\""
   ]
  },
  {
   "cell_type": "code",
   "execution_count": null,
   "id": "423da509-72bf-42bf-a5ca-a93cd7c84f85",
   "metadata": {},
   "outputs": [],
   "source": [
    "doc2 = IKML_Document(url=all_ikml_url)"
   ]
  },
  {
   "cell_type": "code",
   "execution_count": null,
   "id": "f0d96985-7c75-4d67-af40-e73e6b780e5d",
   "metadata": {},
   "outputs": [],
   "source": [
    "new_dict = doc2.to_dict()\n",
    "new_dict"
   ]
  },
  {
   "cell_type": "markdown",
   "id": "5735c0cf-f879-439e-b427-d462093faea5",
   "metadata": {},
   "source": [
    "## Reload exported dict back into IKML_Document"
   ]
  },
  {
   "cell_type": "code",
   "execution_count": null,
   "id": "51543441-4ca2-4531-85f4-50a862dcccb5",
   "metadata": {},
   "outputs": [],
   "source": [
    "doc3 = IKML_Document()\n",
    "doc3.load(data=new_dict)\n",
    "doc3.to_dict()"
   ]
  },
  {
   "cell_type": "markdown",
   "id": "5c79cb82-650c-4745-a23e-63cfb9c2573f",
   "metadata": {},
   "source": [
    "## Load Sambandhas"
   ]
  },
  {
   "cell_type": "code",
   "execution_count": null,
   "id": "95f226d1-5630-4b50-9e05-8daffb2ff4e6",
   "metadata": {},
   "outputs": [],
   "source": [
    "from ikml_doc import IKML_Document"
   ]
  },
  {
   "cell_type": "code",
   "execution_count": null,
   "id": "b1768907-20a4-4075-9084-fc11dca4f7b5",
   "metadata": {},
   "outputs": [],
   "source": [
    "smb_url = \"https://siddhantakosha.org/libraries/smap-granthas/Tarkasangraha-Moola/sambandhas-ikml.txt\""
   ]
  },
  {
   "cell_type": "code",
   "execution_count": null,
   "id": "a6838291-ad72-46e0-8ffe-e83bcf807d74",
   "metadata": {},
   "outputs": [],
   "source": [
    "doc4 = IKML_Document()\n",
    "doc4.load(url=smb_url)"
   ]
  },
  {
   "cell_type": "code",
   "execution_count": null,
   "id": "ac20bc95-f093-4a95-997c-a1453d45b59f",
   "metadata": {},
   "outputs": [],
   "source": [
    "doc4.get('smaps.TarkaSM.r.1')"
   ]
  },
  {
   "cell_type": "code",
   "execution_count": null,
   "id": "040f5f1c-247a-4d96-b85a-15100d5d53fc",
   "metadata": {},
   "outputs": [],
   "source": [
    "n = doc4.get('smaps.TarkaSM.r.1', format='node')\n",
    "print(n.keys())\n",
    "n['.srcid']"
   ]
  },
  {
   "cell_type": "markdown",
   "id": "03541a0b-0d31-4bd0-8c1e-a639a5cbdc98",
   "metadata": {},
   "source": [
    "## Find Children using pattern"
   ]
  },
  {
   "cell_type": "code",
   "execution_count": null,
   "id": "448b0e30-fb20-4f03-b829-10e8af6e2a81",
   "metadata": {},
   "outputs": [],
   "source": [
    "from ikml_doc import IKML_Document\n",
    "from anytree import LevelOrderIter, findall\n",
    "import re"
   ]
  },
  {
   "cell_type": "code",
   "execution_count": null,
   "id": "02664416-678c-4438-9820-4782d1c0d250",
   "metadata": {},
   "outputs": [],
   "source": [
    "url = \"https://siddhantakosha.org/libraries/smap-granthas/Tattvabodha/vakyas-ikml.txt\"\n",
    "doc5 = IKML_Document(url=url)"
   ]
  },
  {
   "cell_type": "code",
   "execution_count": null,
   "id": "569fe932-5db0-43e1-85b0-170ec1ea2056",
   "metadata": {
    "scrolled": true
   },
   "outputs": [],
   "source": [
    "nodes = list(doc5.find_children_regex(\"smaps.TatvB.v\", tag_names={\"pa\"}, max_depth=-1, fmt=\"node\"))"
   ]
  },
  {
   "cell_type": "code",
   "execution_count": null,
   "id": "7dd7cd48-b81a-48d9-be9a-0414d95d51ee",
   "metadata": {},
   "outputs": [],
   "source": [
    "counted = {n for n in LevelOrderIter(doc5.root) if n.depth <= 1}\n",
    "len(list(counted))"
   ]
  },
  {
   "cell_type": "code",
   "execution_count": null,
   "id": "27fa9af9-2227-4e4e-94c0-e677075f63ae",
   "metadata": {
    "scrolled": true
   },
   "outputs": [],
   "source": [
    "len(findall(doc5.root, filter_=lambda node: re.match(\"smaps.TatvB.v\", node.get(\"id\", \"\")) and node.tag_name == \"pa\", maxlevel=4))"
   ]
  },
  {
   "cell_type": "code",
   "execution_count": null,
   "id": "fc6cc138-3d64-487a-9d5d-9f124b09448d",
   "metadata": {},
   "outputs": [],
   "source": [
    "list(doc5.find_children(\"pa\", max_depth=2))"
   ]
  },
  {
   "cell_type": "markdown",
   "id": "a627451a-380d-4057-b9d9-da8cb550f356",
   "metadata": {},
   "source": [
    "## Navigate Schema"
   ]
  },
  {
   "cell_type": "code",
   "execution_count": null,
   "id": "19fec38d-3220-41df-833a-39e8a7836f5b",
   "metadata": {},
   "outputs": [],
   "source": [
    "url = \"https://siddhantakosha.org/libraries/smap-granthas/schema-ikml.txt\"\n",
    "schema = IKML_Document(url=url)"
   ]
  },
  {
   "cell_type": "code",
   "execution_count": null,
   "id": "2f949e9e-c0d1-4d67-b365-01ba30c493f3",
   "metadata": {},
   "outputs": [],
   "source": [
    "list(schema.find_children_regex(\".*\", tag_names={\"va\"}, max_depth=-1))"
   ]
  },
  {
   "cell_type": "markdown",
   "id": "905a35fd-eaa0-49b0-9cc1-1bfd34d158b5",
   "metadata": {},
   "source": [
    "## Validate against Schema"
   ]
  },
  {
   "cell_type": "code",
   "execution_count": null,
   "id": "1ce9d74d-6aa1-4270-9ef9-84efde11afcd",
   "metadata": {},
   "outputs": [],
   "source": [
    "from ikml_doc import IKML_Document"
   ]
  },
  {
   "cell_type": "code",
   "execution_count": null,
   "id": "c3aa69a2-0da4-4971-ba1e-a15195d1f7c1",
   "metadata": {},
   "outputs": [],
   "source": [
    "doc = IKML_Document(url = \"https://siddhantakosha.org/libraries/smap-granthas/Tattvabodha/vakyas-ikml.txt\")\n",
    "schema_doc = IKML_Document(url = \"https://api.siddhantakosha.org/ikmldata?attrs_as_nodes=1&expand_inline=1&expand_include=1&gpath=smap-granthas%2Fschema-ikml.txt\")"
   ]
  },
  {
   "cell_type": "code",
   "execution_count": null,
   "id": "c4b92d9f-af2b-4d06-81f4-dc0eda9bdc2d",
   "metadata": {
    "scrolled": true
   },
   "outputs": [],
   "source": [
    "doc.validate_schema(schema_doc)"
   ]
  }
 ],
 "metadata": {
  "kernelspec": {
   "display_name": "Python 3 (ipykernel)",
   "language": "python",
   "name": "python3"
  },
  "language_info": {
   "codemirror_mode": {
    "name": "ipython",
    "version": 3
   },
   "file_extension": ".py",
   "mimetype": "text/x-python",
   "name": "python",
   "nbconvert_exporter": "python",
   "pygments_lexer": "ipython3",
   "version": "3.10.12"
  }
 },
 "nbformat": 4,
 "nbformat_minor": 5
}
