{
 "cells": [
  {
   "cell_type": "markdown",
   "metadata": {},
   "source": [
    "# Basic usage\n",
    "\n",
    "This example shows how to use the `genlm-bytes` library for byte-level language modeling.\n",
    "\n",
    "\n",
    "\n",
    "\n",
    "\n"
   ]
  },
  {
   "cell_type": "code",
   "execution_count": 1,
   "metadata": {},
   "outputs": [
    {
     "name": "stderr",
     "output_type": "stream",
     "text": [
      "/opt/homebrew/Caskroom/miniconda/base/envs/genlm-tokenization/lib/python3.11/site-packages/tqdm/auto.py:21: TqdmWarning: IProgress not found. Please update jupyter and ipywidgets. See https://ipywidgets.readthedocs.io/en/stable/user_install.html\n",
      "  from .autonotebook import tqdm as notebook_tqdm\n"
     ]
    }
   ],
   "source": [
    "from genlm.bytes import ByteBeamState, BeamParams\n",
    "from genlm.backend import load_model_by_name"
   ]
  },
  {
   "cell_type": "markdown",
   "metadata": {},
   "source": [
    "First, load a token-level language model from a huggingface model name. Dependeing on whether CUDA is available, the model will be loaded using either a huggingface (CPU) or vllm (GPU) backend."
   ]
  },
  {
   "cell_type": "code",
   "execution_count": 2,
   "metadata": {},
   "outputs": [
    {
     "name": "stderr",
     "output_type": "stream",
     "text": [
      "/opt/homebrew/Caskroom/miniconda/base/envs/genlm-tokenization/lib/python3.11/site-packages/genlm/backend/tokenization/vocab.py:98: UserWarning: Duplicate tokens found in string vocabulary. This may lead to downstream issues with the string vocabulary; we recommend using the byte vocabulary.\n",
      "  warnings.warn(\n"
     ]
    }
   ],
   "source": [
    "llm = load_model_by_name(\"gpt2-medium\")"
   ]
  },
  {
   "cell_type": "markdown",
   "metadata": {},
   "source": [
    "Initialize a beam state with a maximum beam width of 5."
   ]
  },
  {
   "cell_type": "code",
   "execution_count": 3,
   "metadata": {},
   "outputs": [
    {
     "name": "stderr",
     "output_type": "stream",
     "text": [
      "/Users/benlebrun/new-genlm/genlm-tokenization/genlm/bytes/trie.py:208: UserWarning: Sparse CSR tensor support is in beta state. If you miss a functionality in the sparse tensor support, please submit a feature request to https://github.com/pytorch/pytorch/issues. (Triggered internally at /Users/runner/work/pytorch/pytorch/pytorch/aten/src/ATen/SparseCsrTensorImpl.cpp:55.)\n",
      "  ).to_sparse_csr()\n"
     ]
    }
   ],
   "source": [
    "beam = await ByteBeamState.initial(llm, BeamParams(K=5))"
   ]
  },
  {
   "cell_type": "markdown",
   "metadata": {},
   "source": [
    "Populate the beam state with the context. The return value is a new beam state."
   ]
  },
  {
   "cell_type": "code",
   "execution_count": 4,
   "metadata": {},
   "outputs": [
    {
     "data": {
      "text/plain": [
       "\u001b[1mZ: -19.598907929485275\n",
       "\u001b[0m\u001b[1mCandidates:\n",
       "\u001b[0m(\u001b[0;32m1.0000\u001b[0m) -19.60: \u001b[38;5;91m<|endoftext|>|An|␣apple|␣a|␣day|␣keeps|␣the\u001b[0m\u001b[0;32m|␣\u001b[0m\n",
       "(\u001b[0;32m0.0000\u001b[0m) -31.03: \u001b[38;5;91m<|endoftext|>|An|␣apple|␣a|␣day|␣keep|s|␣the\u001b[0m\u001b[0;32m|␣\u001b[0m\n",
       "(\u001b[0;32m0.0000\u001b[0m) -36.22: \u001b[38;5;91m<|endoftext|>|An|␣app|le|␣a|␣day|␣keeps|␣the\u001b[0m\u001b[0;32m|␣\u001b[0m\n",
       "(\u001b[0;32m0.0000\u001b[0m) -36.49: \u001b[38;5;91m<|endoftext|>|An|␣apple|␣a|␣day|␣keeps|␣th|e\u001b[0m\u001b[0;32m|␣\u001b[0m\n",
       "(\u001b[0;32m0.0000\u001b[0m) -40.52: \u001b[38;5;91m<|endoftext|>|An|␣apple|␣a|␣day|␣keeps|␣t|he\u001b[0m\u001b[0;32m|␣\u001b[0m"
      ]
     },
     "execution_count": 4,
     "metadata": {},
     "output_type": "execute_result"
    }
   ],
   "source": [
    "beam = await beam.prefill(b\"An apple a day keeps the \")\n",
    "beam"
   ]
  },
  {
   "cell_type": "markdown",
   "metadata": {},
   "source": [
    "* Each candidate in the beam corresponds to a sequence of tokens (in purple) and a partial token (in green).\n",
    "* Each candidate has an associated log weight (the negative numbers in grey), which is the log probability of the sequence of tokens and the partial token.\n",
    "* The `Z` value corresponds to our estimate of the log partition function, which is the estimate of the prefix probability of the context under the language model.\n",
    "* Each candidate also has an associated probability (shown on the left in green), which is the weight normalized by the partition function."
   ]
  },
  {
   "cell_type": "markdown",
   "metadata": {},
   "source": [
    "We can use the `logp_next` method to get the (log) probability distribution over the next byte."
   ]
  },
  {
   "cell_type": "code",
   "execution_count": 5,
   "metadata": {},
   "outputs": [
    {
     "data": {
      "text/html": [
       "<div style=\"font-family: Monospace;\"><table><tr style=\"font-weight: bold;\"><td>key</td><td>value</td></tr><tr><td><pre>b&#x27;d&#x27;</pre></td><td><pre>-0.5768002911707057</pre></td> </tr><tr><td><pre>b&#x27;b&#x27;</pre></td><td><pre>-2.8733914084455527</pre></td> </tr><tr><td><pre>b&#x27;s&#x27;</pre></td><td><pre>-2.981722712805219</pre></td> </tr><tr><td><pre>b&#x27;w&#x27;</pre></td><td><pre>-3.375940367664043</pre></td> </tr><tr><td><pre>b&#x27;m&#x27;</pre></td><td><pre>-3.5282914648667756</pre></td> </tr></table></div>"
      ],
      "text/plain": [
       "{b'd': np.float64(-0.5768002911707057), b'b': np.float64(-2.8733914084455527), b's': np.float64(-2.981722712805219), b'w': np.float64(-3.375940367664043), b'm': np.float64(-3.5282914648667756)}"
      ]
     },
     "execution_count": 5,
     "metadata": {},
     "output_type": "execute_result"
    }
   ],
   "source": [
    "# Get the log probability distribution over the next byte.\n",
    "logp_next = await beam.logp_next()\n",
    "logp_next.pretty().top(5)  # Show the top 5 most probable next bytes"
   ]
  },
  {
   "cell_type": "markdown",
   "metadata": {},
   "source": [
    "To advance the beam by the next byte, we first prune it to keep only the top 5 candidates, and then use the `<<` operator to feed in the next byte."
   ]
  },
  {
   "cell_type": "code",
   "execution_count": 6,
   "metadata": {},
   "outputs": [
    {
     "data": {
      "text/plain": [
       "\u001b[1mZ: -20.17567801749765\n",
       "\u001b[0m\u001b[1mCandidates:\n",
       "\u001b[0m(\u001b[0;32m1.0000\u001b[0m) -20.18: \u001b[38;5;91m<|endoftext|>|An|␣apple|␣a|␣day|␣keeps|␣the\u001b[0m\u001b[0;32m|␣d\u001b[0m\n",
       "(\u001b[0;32m0.0000\u001b[0m) -31.93: \u001b[38;5;91m<|endoftext|>|An|␣apple|␣a|␣day|␣keep|s|␣the\u001b[0m\u001b[0;32m|␣d\u001b[0m\n",
       "(\u001b[0;32m0.0000\u001b[0m) -38.71: \u001b[38;5;91m<|endoftext|>|An|␣app|le|␣a|␣day|␣keeps|␣the\u001b[0m\u001b[0;32m|␣d\u001b[0m\n",
       "(\u001b[0;32m0.0000\u001b[0m) -39.28: \u001b[38;5;91m<|endoftext|>|An|␣apple|␣a|␣day|␣keeps|␣th|e\u001b[0m\u001b[0;32m|␣d\u001b[0m\n",
       "(\u001b[0;32m0.0000\u001b[0m) -40.25: \u001b[38;5;91m<|endoftext|>|An|␣apple|␣a|␣day|␣keeps|␣the|␣\u001b[0m\u001b[0;32m|d\u001b[0m\n",
       "(\u001b[0;32m0.0000\u001b[0m) -43.16: \u001b[38;5;91m<|endoftext|>|An|␣apple|␣a|␣day|␣keeps|␣t|he\u001b[0m\u001b[0;32m|␣d\u001b[0m\n",
       "(\u001b[0;32m0.0000\u001b[0m) -51.34: \u001b[38;5;91m<|endoftext|>|An|␣apple|␣a|␣day|␣keep|s|␣the|␣\u001b[0m\u001b[0;32m|d\u001b[0m\n",
       "(\u001b[0;32m0.0000\u001b[0m) -54.79: \u001b[38;5;91m<|endoftext|>|An|␣apple|␣a|␣day|␣keeps|␣th|e|␣\u001b[0m\u001b[0;32m|d\u001b[0m\n",
       "(\u001b[0;32m0.0000\u001b[0m) -56.64: \u001b[38;5;91m<|endoftext|>|An|␣app|le|␣a|␣day|␣keeps|␣the|␣\u001b[0m\u001b[0;32m|d\u001b[0m\n",
       "(\u001b[0;32m0.0000\u001b[0m) -58.94: \u001b[38;5;91m<|endoftext|>|An|␣apple|␣a|␣day|␣keeps|␣t|he|␣\u001b[0m\u001b[0;32m|d\u001b[0m"
      ]
     },
     "execution_count": 6,
     "metadata": {},
     "output_type": "execute_result"
    }
   ],
   "source": [
    "new_beam = await (beam.prune() << 100)  # 100 is the byte value of 'd'\n",
    "new_beam"
   ]
  },
  {
   "cell_type": "markdown",
   "metadata": {},
   "source": [
    "Since extending the beam by one byte can grow the number of candidates, we can again prune it to keep only the top 5 candidates:"
   ]
  },
  {
   "cell_type": "code",
   "execution_count": 7,
   "metadata": {},
   "outputs": [
    {
     "data": {
      "text/plain": [
       "\u001b[1mZ: -20.175678017602173\n",
       "\u001b[0m\u001b[1mCandidates:\n",
       "\u001b[0m(\u001b[0;32m1.0000\u001b[0m) -20.18: \u001b[38;5;91m<|endoftext|>|An|␣apple|␣a|␣day|␣keeps|␣the\u001b[0m\u001b[0;32m|␣d\u001b[0m\n",
       "(\u001b[0;32m0.0000\u001b[0m) -31.93: \u001b[38;5;91m<|endoftext|>|An|␣apple|␣a|␣day|␣keep|s|␣the\u001b[0m\u001b[0;32m|␣d\u001b[0m\n",
       "(\u001b[0;32m0.0000\u001b[0m) -38.71: \u001b[38;5;91m<|endoftext|>|An|␣app|le|␣a|␣day|␣keeps|␣the\u001b[0m\u001b[0;32m|␣d\u001b[0m\n",
       "(\u001b[0;32m0.0000\u001b[0m) -39.28: \u001b[38;5;91m<|endoftext|>|An|␣apple|␣a|␣day|␣keeps|␣th|e\u001b[0m\u001b[0;32m|␣d\u001b[0m\n",
       "(\u001b[0;32m0.0000\u001b[0m) -40.25: \u001b[38;5;91m<|endoftext|>|An|␣apple|␣a|␣day|␣keeps|␣the|␣\u001b[0m\u001b[0;32m|d\u001b[0m"
      ]
     },
     "execution_count": 7,
     "metadata": {},
     "output_type": "execute_result"
    }
   ],
   "source": [
    "pruned_beam = new_beam.prune()\n",
    "pruned_beam"
   ]
  },
  {
   "cell_type": "markdown",
   "metadata": {},
   "source": [
    "We can further speed up the algorithm with more a more aggressive pruning strategy. \n",
    "\n",
    "In particular, `BeamParams` has a `prune_threshold` parameter which controls the minimum probability that a candidate must have to be kept in the beam. Higher values lead to more aggressive pruning, which significantly reduces the number of language model calls we need to make.\n"
   ]
  },
  {
   "cell_type": "code",
   "execution_count": 8,
   "metadata": {},
   "outputs": [
    {
     "data": {
      "text/plain": [
       "\u001b[1mZ: -19.598918914794922\n",
       "\u001b[0m\u001b[1mCandidates:\n",
       "\u001b[0m(\u001b[0;32m1.0000\u001b[0m) -19.60: \u001b[38;5;91m<|endoftext|>|An|␣apple|␣a|␣day|␣keeps|␣the\u001b[0m\u001b[0;32m|␣\u001b[0m"
      ]
     },
     "execution_count": 8,
     "metadata": {},
     "output_type": "execute_result"
    }
   ],
   "source": [
    "beam = await ByteBeamState.initial(llm, BeamParams(K=5, prune_threshold=0.05))\n",
    "beam = await beam.prefill(b\"An apple a day keeps the \")\n",
    "beam"
   ]
  },
  {
   "cell_type": "code",
   "execution_count": 9,
   "metadata": {},
   "outputs": [
    {
     "data": {
      "text/html": [
       "<div style=\"font-family: Monospace;\"><table><tr style=\"font-weight: bold;\"><td>key</td><td>value</td></tr><tr><td><pre>b&#x27;d&#x27;</pre></td><td><pre>-0.5766762743944795</pre></td> </tr><tr><td><pre>b&#x27;b&#x27;</pre></td><td><pre>-2.8732729803080233</pre></td> </tr><tr><td><pre>b&#x27;s&#x27;</pre></td><td><pre>-2.9816068063730867</pre></td> </tr><tr><td><pre>b&#x27;w&#x27;</pre></td><td><pre>-3.3758250127787264</pre></td> </tr><tr><td><pre>b&#x27;m&#x27;</pre></td><td><pre>-3.528177345847574</pre></td> </tr></table></div>"
      ],
      "text/plain": [
       "{b'd': np.float64(-0.5766762743944795), b'b': np.float64(-2.8732729803080233), b's': np.float64(-2.9816068063730867), b'w': np.float64(-3.3758250127787264), b'm': np.float64(-3.528177345847574)}"
      ]
     },
     "execution_count": 9,
     "metadata": {},
     "output_type": "execute_result"
    }
   ],
   "source": [
    "logp_next = await beam.logp_next()\n",
    "logp_next.pretty().top(5)"
   ]
  },
  {
   "cell_type": "markdown",
   "metadata": {},
   "source": [
    "Putting it all together, we can generate a sequence of bytes by repeatedly selecting a next byte from the log probability distribution and advancing the beam by that byte. \n",
    "\n",
    "One selection strategy is to always select the byte with the highest log probability, which is what `greedy` does:"
   ]
  },
  {
   "cell_type": "code",
   "execution_count": 10,
   "metadata": {},
   "outputs": [
    {
     "name": "stdout",
     "output_type": "stream",
     "text": [
      "\n",
      "\u001b[1mZ: -2.174436330795288\n",
      "\u001b[0m\u001b[1mCandidates:\n",
      "\u001b[0m(\u001b[0;32m1.0000\u001b[0m) -2.17: \u001b[38;5;91m<|endoftext|>\u001b[0m\u001b[0;32m|A\u001b[0m\n",
      "\n",
      "\n",
      "\u001b[1mZ: -4.501037198697343\n",
      "\u001b[0m\u001b[1mCandidates:\n",
      "\u001b[0m(\u001b[0;32m0.9977\u001b[0m) -4.50: \u001b[38;5;91m<|endoftext|>\u001b[0m\u001b[0;32m|An\u001b[0m\n",
      "(\u001b[0;31m0.0023\u001b[0m) -10.56: \u001b[38;5;91m<|endoftext|>|A\u001b[0m\u001b[0;32m|n\u001b[0m\n",
      "\n",
      "\n",
      "\u001b[1mZ: -5.643285751342773\n",
      "\u001b[0m\u001b[1mCandidates:\n",
      "\u001b[0m(\u001b[0;32m1.0000\u001b[0m) -5.64: \u001b[38;5;91m<|endoftext|>|An\u001b[0m\u001b[0;32m|␣\u001b[0m\n",
      "\n",
      "\n",
      "\u001b[1mZ: -7.201362133026123\n",
      "\u001b[0m\u001b[1mCandidates:\n",
      "\u001b[0m(\u001b[0;32m1.0000\u001b[0m) -7.20: \u001b[38;5;91m<|endoftext|>|An\u001b[0m\u001b[0;32m|␣a\u001b[0m\n",
      "\n",
      "\n",
      "\u001b[1mZ: -10.39808464050293\n",
      "\u001b[0m\u001b[1mCandidates:\n",
      "\u001b[0m(\u001b[0;32m1.0000\u001b[0m) -10.40: \u001b[38;5;91m<|endoftext|>|An\u001b[0m\u001b[0;32m|␣ap\u001b[0m\n",
      "\n",
      "\n",
      "\u001b[1mZ: -10.627063751220703\n",
      "\u001b[0m\u001b[1mCandidates:\n",
      "\u001b[0m(\u001b[0;32m1.0000\u001b[0m) -10.63: \u001b[38;5;91m<|endoftext|>|An\u001b[0m\u001b[0;32m|␣app\u001b[0m\n",
      "\n",
      "\n",
      "\u001b[1mZ: -12.216539396150903\n",
      "\u001b[0m\u001b[1mCandidates:\n",
      "\u001b[0m(\u001b[0;32m0.9934\u001b[0m) -12.22: \u001b[38;5;91m<|endoftext|>|An\u001b[0m\u001b[0;32m|␣appl\u001b[0m\n",
      "(\u001b[0;31m0.0066\u001b[0m) -17.23: \u001b[38;5;91m<|endoftext|>|An|␣app\u001b[0m\u001b[0;32m|l\u001b[0m\n",
      "\n",
      "\n",
      "\u001b[1mZ: -13.993473052978516\n",
      "\u001b[0m\u001b[1mCandidates:\n",
      "\u001b[0m(\u001b[0;32m1.0000\u001b[0m) -13.99: \u001b[38;5;91m<|endoftext|>|An\u001b[0m\u001b[0;32m|␣apple\u001b[0m\n",
      "\n",
      "\n",
      "\u001b[1mZ: -14.135584831237793\n",
      "\u001b[0m\u001b[1mCandidates:\n",
      "\u001b[0m(\u001b[0;32m1.0000\u001b[0m) -14.14: \u001b[38;5;91m<|endoftext|>|An|␣apple\u001b[0m\u001b[0;32m|␣\u001b[0m\n",
      "\n",
      "\n",
      "\u001b[1mZ: -16.980817794799805\n",
      "\u001b[0m\u001b[1mCandidates:\n",
      "\u001b[0m(\u001b[0;32m1.0000\u001b[0m) -16.98: \u001b[38;5;91m<|endoftext|>|An|␣apple\u001b[0m\u001b[0;32m|␣a\u001b[0m\n",
      "\n",
      "\n",
      "\u001b[1mZ: -17.91916847229004\n",
      "\u001b[0m\u001b[1mCandidates:\n",
      "\u001b[0m(\u001b[0;32m1.0000\u001b[0m) -17.92: \u001b[38;5;91m<|endoftext|>|An|␣apple|␣a\u001b[0m\u001b[0;32m|␣\u001b[0m\n",
      "\n",
      "\n",
      "\u001b[1mZ: -18.107898712158203\n",
      "\u001b[0m\u001b[1mCandidates:\n",
      "\u001b[0m(\u001b[0;32m1.0000\u001b[0m) -18.11: \u001b[38;5;91m<|endoftext|>|An|␣apple|␣a\u001b[0m\u001b[0;32m|␣d\u001b[0m\n",
      "\n",
      "\n",
      "\u001b[1mZ: -18.110923767089844\n",
      "\u001b[0m\u001b[1mCandidates:\n",
      "\u001b[0m(\u001b[0;32m1.0000\u001b[0m) -18.11: \u001b[38;5;91m<|endoftext|>|An|␣apple|␣a\u001b[0m\u001b[0;32m|␣da\u001b[0m\n",
      "\n",
      "\n",
      "\u001b[1mZ: -18.111148834228516\n",
      "\u001b[0m\u001b[1mCandidates:\n",
      "\u001b[0m(\u001b[0;32m1.0000\u001b[0m) -18.11: \u001b[38;5;91m<|endoftext|>|An|␣apple|␣a\u001b[0m\u001b[0;32m|␣day\u001b[0m\n",
      "\n",
      "\n",
      "\u001b[1mZ: -18.135374069213867\n",
      "\u001b[0m\u001b[1mCandidates:\n",
      "\u001b[0m(\u001b[0;32m1.0000\u001b[0m) -18.14: \u001b[38;5;91m<|endoftext|>|An|␣apple|␣a|␣day\u001b[0m\u001b[0;32m|␣\u001b[0m\n",
      "\n",
      "\n",
      "\u001b[1mZ: -18.454233169555664\n",
      "\u001b[0m\u001b[1mCandidates:\n",
      "\u001b[0m(\u001b[0;32m1.0000\u001b[0m) -18.45: \u001b[38;5;91m<|endoftext|>|An|␣apple|␣a|␣day\u001b[0m\u001b[0;32m|␣k\u001b[0m\n",
      "\n",
      "\n",
      "\u001b[1mZ: -18.4615478515625\n",
      "\u001b[0m\u001b[1mCandidates:\n",
      "\u001b[0m(\u001b[0;32m1.0000\u001b[0m) -18.46: \u001b[38;5;91m<|endoftext|>|An|␣apple|␣a|␣day\u001b[0m\u001b[0;32m|␣ke\u001b[0m\n",
      "\n",
      "\n",
      "\u001b[1mZ: -18.469377517700195\n",
      "\u001b[0m\u001b[1mCandidates:\n",
      "\u001b[0m(\u001b[0;32m1.0000\u001b[0m) -18.47: \u001b[38;5;91m<|endoftext|>|An|␣apple|␣a|␣day\u001b[0m\u001b[0;32m|␣kee\u001b[0m\n",
      "\n",
      "\n",
      "\u001b[1mZ: -18.469377517700195\n",
      "\u001b[0m\u001b[1mCandidates:\n",
      "\u001b[0m(\u001b[0;32m1.0000\u001b[0m) -18.47: \u001b[38;5;91m<|endoftext|>|An|␣apple|␣a|␣day\u001b[0m\u001b[0;32m|␣keep\u001b[0m\n",
      "\n",
      "\n",
      "\u001b[1mZ: -18.469871520996094\n",
      "\u001b[0m\u001b[1mCandidates:\n",
      "\u001b[0m(\u001b[0;32m1.0000\u001b[0m) -18.47: \u001b[38;5;91m<|endoftext|>|An|␣apple|␣a|␣day\u001b[0m\u001b[0;32m|␣keeps\u001b[0m\n",
      "\n",
      "\n",
      "\u001b[1mZ: -18.472919464111328\n",
      "\u001b[0m\u001b[1mCandidates:\n",
      "\u001b[0m(\u001b[0;32m1.0000\u001b[0m) -18.47: \u001b[38;5;91m<|endoftext|>|An|␣apple|␣a|␣day|␣keeps\u001b[0m\u001b[0;32m|␣\u001b[0m\n",
      "\n",
      "\n",
      "\u001b[1mZ: -19.51340675354004\n",
      "\u001b[0m\u001b[1mCandidates:\n",
      "\u001b[0m(\u001b[0;32m1.0000\u001b[0m) -19.51: \u001b[38;5;91m<|endoftext|>|An|␣apple|␣a|␣day|␣keeps\u001b[0m\u001b[0;32m|␣t\u001b[0m\n",
      "\n",
      "\n",
      "\u001b[1mZ: -19.53944206237793\n",
      "\u001b[0m\u001b[1mCandidates:\n",
      "\u001b[0m(\u001b[0;32m1.0000\u001b[0m) -19.54: \u001b[38;5;91m<|endoftext|>|An|␣apple|␣a|␣day|␣keeps\u001b[0m\u001b[0;32m|␣th\u001b[0m\n",
      "\n",
      "\n",
      "\u001b[1mZ: -19.567386627197266\n",
      "\u001b[0m\u001b[1mCandidates:\n",
      "\u001b[0m(\u001b[0;32m1.0000\u001b[0m) -19.57: \u001b[38;5;91m<|endoftext|>|An|␣apple|␣a|␣day|␣keeps\u001b[0m\u001b[0;32m|␣the\u001b[0m\n",
      "\n",
      "\n",
      "\u001b[1mZ: -19.598918914794922\n",
      "\u001b[0m\u001b[1mCandidates:\n",
      "\u001b[0m(\u001b[0;32m1.0000\u001b[0m) -19.60: \u001b[38;5;91m<|endoftext|>|An|␣apple|␣a|␣day|␣keeps|␣the\u001b[0m\u001b[0;32m|␣\u001b[0m\n",
      "\n",
      "\n",
      "\u001b[1mZ: -20.17568588256836\n",
      "\u001b[0m\u001b[1mCandidates:\n",
      "\u001b[0m(\u001b[0;32m1.0000\u001b[0m) -20.18: \u001b[38;5;91m<|endoftext|>|An|␣apple|␣a|␣day|␣keeps|␣the\u001b[0m\u001b[0;32m|␣d\u001b[0m\n",
      "\n",
      "\n",
      "\u001b[1mZ: -20.21005630493164\n",
      "\u001b[0m\u001b[1mCandidates:\n",
      "\u001b[0m(\u001b[0;32m1.0000\u001b[0m) -20.21: \u001b[38;5;91m<|endoftext|>|An|␣apple|␣a|␣day|␣keeps|␣the\u001b[0m\u001b[0;32m|␣do\u001b[0m\n",
      "\n",
      "\n",
      "\u001b[1mZ: -20.214828491210938\n",
      "\u001b[0m\u001b[1mCandidates:\n",
      "\u001b[0m(\u001b[0;32m1.0000\u001b[0m) -20.21: \u001b[38;5;91m<|endoftext|>|An|␣apple|␣a|␣day|␣keeps|␣the\u001b[0m\u001b[0;32m|␣doc\u001b[0m\n",
      "\n",
      "\n",
      "\u001b[1mZ: -20.21491241455078\n",
      "\u001b[0m\u001b[1mCandidates:\n",
      "\u001b[0m(\u001b[0;32m1.0000\u001b[0m) -20.21: \u001b[38;5;91m<|endoftext|>|An|␣apple|␣a|␣day|␣keeps|␣the\u001b[0m\u001b[0;32m|␣doct\u001b[0m\n",
      "\n",
      "\n",
      "\u001b[1mZ: -20.214920043945312\n",
      "\u001b[0m\u001b[1mCandidates:\n",
      "\u001b[0m(\u001b[0;32m1.0000\u001b[0m) -20.21: \u001b[38;5;91m<|endoftext|>|An|␣apple|␣a|␣day|␣keeps|␣the\u001b[0m\u001b[0;32m|␣docto\u001b[0m\n",
      "\n",
      "\n",
      "\u001b[1mZ: -20.214920043945312\n",
      "\u001b[0m\u001b[1mCandidates:\n",
      "\u001b[0m(\u001b[0;32m1.0000\u001b[0m) -20.21: \u001b[38;5;91m<|endoftext|>|An|␣apple|␣a|␣day|␣keeps|␣the\u001b[0m\u001b[0;32m|␣doctor\u001b[0m\n",
      "\n",
      "\n",
      "\u001b[1mZ: -20.248199462890625\n",
      "\u001b[0m\u001b[1mCandidates:\n",
      "\u001b[0m(\u001b[0;32m1.0000\u001b[0m) -20.25: \u001b[38;5;91m<|endoftext|>|An|␣apple|␣a|␣day|␣keeps|␣the|␣doctor\u001b[0m\u001b[0;32m|␣\u001b[0m\n",
      "\n",
      "\n",
      "\u001b[1mZ: -20.292394638061523\n",
      "\u001b[0m\u001b[1mCandidates:\n",
      "\u001b[0m(\u001b[0;32m1.0000\u001b[0m) -20.29: \u001b[38;5;91m<|endoftext|>|An|␣apple|␣a|␣day|␣keeps|␣the|␣doctor\u001b[0m\u001b[0;32m|␣a\u001b[0m\n",
      "\n",
      "\n",
      "\u001b[1mZ: -20.30491065979004\n",
      "\u001b[0m\u001b[1mCandidates:\n",
      "\u001b[0m(\u001b[0;32m1.0000\u001b[0m) -20.30: \u001b[38;5;91m<|endoftext|>|An|␣apple|␣a|␣day|␣keeps|␣the|␣doctor\u001b[0m\u001b[0;32m|␣aw\u001b[0m\n",
      "\n",
      "\n",
      "\u001b[1mZ: -20.304912567138672\n",
      "\u001b[0m\u001b[1mCandidates:\n",
      "\u001b[0m(\u001b[0;32m1.0000\u001b[0m) -20.30: \u001b[38;5;91m<|endoftext|>|An|␣apple|␣a|␣day|␣keeps|␣the|␣doctor\u001b[0m\u001b[0;32m|␣awa\u001b[0m\n",
      "\n",
      "\n",
      "\u001b[1mZ: -20.30513572692871\n",
      "\u001b[0m\u001b[1mCandidates:\n",
      "\u001b[0m(\u001b[0;32m1.0000\u001b[0m) -20.31: \u001b[38;5;91m<|endoftext|>|An|␣apple|␣a|␣day|␣keeps|␣the|␣doctor\u001b[0m\u001b[0;32m|␣away\u001b[0m\n",
      "\n",
      "\n",
      "\u001b[1mZ: -21.068042755126953\n",
      "\u001b[0m\u001b[1mCandidates:\n",
      "\u001b[0m(\u001b[0;32m1.0000\u001b[0m) -21.07: \u001b[38;5;91m<|endoftext|>|An|␣apple|␣a|␣day|␣keeps|␣the|␣doctor|␣away\u001b[0m\u001b[0;32m|.\u001b[0m\n",
      "\n"
     ]
    },
    {
     "data": {
      "text/plain": [
       "b'An apple a day keeps the doctor away.'"
      ]
     },
     "execution_count": 10,
     "metadata": {},
     "output_type": "execute_result"
    }
   ],
   "source": [
    "beam = await ByteBeamState.initial(\n",
    "    llm, BeamParams(K=5, prune_threshold=0.05, verbose=True)\n",
    ")\n",
    "sampled = await beam.greedy(b\"An apple a day keeps the \", steps=12)\n",
    "sampled"
   ]
  },
  {
   "cell_type": "markdown",
   "metadata": {},
   "source": [
    "We can also sample from the log probability distribution over the next byte:"
   ]
  },
  {
   "cell_type": "code",
   "execution_count": 11,
   "metadata": {},
   "outputs": [
    {
     "name": "stdout",
     "output_type": "stream",
     "text": [
      "\n",
      "\u001b[1mZ: -2.174436330795288\n",
      "\u001b[0m\u001b[1mCandidates:\n",
      "\u001b[0m(\u001b[0;32m1.0000\u001b[0m) -2.17: \u001b[38;5;91m<|endoftext|>\u001b[0m\u001b[0;32m|A\u001b[0m\n",
      "\n",
      "\n",
      "\u001b[1mZ: -4.501037198697343\n",
      "\u001b[0m\u001b[1mCandidates:\n",
      "\u001b[0m(\u001b[0;32m0.9977\u001b[0m) -4.50: \u001b[38;5;91m<|endoftext|>\u001b[0m\u001b[0;32m|An\u001b[0m\n",
      "(\u001b[0;31m0.0023\u001b[0m) -10.56: \u001b[38;5;91m<|endoftext|>|A\u001b[0m\u001b[0;32m|n\u001b[0m\n",
      "\n",
      "\n",
      "\u001b[1mZ: -5.643285751342773\n",
      "\u001b[0m\u001b[1mCandidates:\n",
      "\u001b[0m(\u001b[0;32m1.0000\u001b[0m) -5.64: \u001b[38;5;91m<|endoftext|>|An\u001b[0m\u001b[0;32m|␣\u001b[0m\n",
      "\n",
      "\n",
      "\u001b[1mZ: -7.201362133026123\n",
      "\u001b[0m\u001b[1mCandidates:\n",
      "\u001b[0m(\u001b[0;32m1.0000\u001b[0m) -7.20: \u001b[38;5;91m<|endoftext|>|An\u001b[0m\u001b[0;32m|␣a\u001b[0m\n",
      "\n",
      "\n",
      "\u001b[1mZ: -10.39808464050293\n",
      "\u001b[0m\u001b[1mCandidates:\n",
      "\u001b[0m(\u001b[0;32m1.0000\u001b[0m) -10.40: \u001b[38;5;91m<|endoftext|>|An\u001b[0m\u001b[0;32m|␣ap\u001b[0m\n",
      "\n",
      "\n",
      "\u001b[1mZ: -10.627063751220703\n",
      "\u001b[0m\u001b[1mCandidates:\n",
      "\u001b[0m(\u001b[0;32m1.0000\u001b[0m) -10.63: \u001b[38;5;91m<|endoftext|>|An\u001b[0m\u001b[0;32m|␣app\u001b[0m\n",
      "\n",
      "\n",
      "\u001b[1mZ: -12.216539396150903\n",
      "\u001b[0m\u001b[1mCandidates:\n",
      "\u001b[0m(\u001b[0;32m0.9934\u001b[0m) -12.22: \u001b[38;5;91m<|endoftext|>|An\u001b[0m\u001b[0;32m|␣appl\u001b[0m\n",
      "(\u001b[0;31m0.0066\u001b[0m) -17.23: \u001b[38;5;91m<|endoftext|>|An|␣app\u001b[0m\u001b[0;32m|l\u001b[0m\n",
      "\n",
      "\n",
      "\u001b[1mZ: -13.993473052978516\n",
      "\u001b[0m\u001b[1mCandidates:\n",
      "\u001b[0m(\u001b[0;32m1.0000\u001b[0m) -13.99: \u001b[38;5;91m<|endoftext|>|An\u001b[0m\u001b[0;32m|␣apple\u001b[0m\n",
      "\n",
      "\n",
      "\u001b[1mZ: -14.135584831237793\n",
      "\u001b[0m\u001b[1mCandidates:\n",
      "\u001b[0m(\u001b[0;32m1.0000\u001b[0m) -14.14: \u001b[38;5;91m<|endoftext|>|An|␣apple\u001b[0m\u001b[0;32m|␣\u001b[0m\n",
      "\n",
      "\n",
      "\u001b[1mZ: -16.980817794799805\n",
      "\u001b[0m\u001b[1mCandidates:\n",
      "\u001b[0m(\u001b[0;32m1.0000\u001b[0m) -16.98: \u001b[38;5;91m<|endoftext|>|An|␣apple\u001b[0m\u001b[0;32m|␣a\u001b[0m\n",
      "\n",
      "\n",
      "\u001b[1mZ: -17.91916847229004\n",
      "\u001b[0m\u001b[1mCandidates:\n",
      "\u001b[0m(\u001b[0;32m1.0000\u001b[0m) -17.92: \u001b[38;5;91m<|endoftext|>|An|␣apple|␣a\u001b[0m\u001b[0;32m|␣\u001b[0m\n",
      "\n",
      "\n",
      "\u001b[1mZ: -18.107898712158203\n",
      "\u001b[0m\u001b[1mCandidates:\n",
      "\u001b[0m(\u001b[0;32m1.0000\u001b[0m) -18.11: \u001b[38;5;91m<|endoftext|>|An|␣apple|␣a\u001b[0m\u001b[0;32m|␣d\u001b[0m\n",
      "\n",
      "\n",
      "\u001b[1mZ: -18.110923767089844\n",
      "\u001b[0m\u001b[1mCandidates:\n",
      "\u001b[0m(\u001b[0;32m1.0000\u001b[0m) -18.11: \u001b[38;5;91m<|endoftext|>|An|␣apple|␣a\u001b[0m\u001b[0;32m|␣da\u001b[0m\n",
      "\n",
      "\n",
      "\u001b[1mZ: -18.111148834228516\n",
      "\u001b[0m\u001b[1mCandidates:\n",
      "\u001b[0m(\u001b[0;32m1.0000\u001b[0m) -18.11: \u001b[38;5;91m<|endoftext|>|An|␣apple|␣a\u001b[0m\u001b[0;32m|␣day\u001b[0m\n",
      "\n",
      "\n",
      "\u001b[1mZ: -18.135374069213867\n",
      "\u001b[0m\u001b[1mCandidates:\n",
      "\u001b[0m(\u001b[0;32m1.0000\u001b[0m) -18.14: \u001b[38;5;91m<|endoftext|>|An|␣apple|␣a|␣day\u001b[0m\u001b[0;32m|␣\u001b[0m\n",
      "\n",
      "\n",
      "\u001b[1mZ: -18.454233169555664\n",
      "\u001b[0m\u001b[1mCandidates:\n",
      "\u001b[0m(\u001b[0;32m1.0000\u001b[0m) -18.45: \u001b[38;5;91m<|endoftext|>|An|␣apple|␣a|␣day\u001b[0m\u001b[0;32m|␣k\u001b[0m\n",
      "\n",
      "\n",
      "\u001b[1mZ: -18.4615478515625\n",
      "\u001b[0m\u001b[1mCandidates:\n",
      "\u001b[0m(\u001b[0;32m1.0000\u001b[0m) -18.46: \u001b[38;5;91m<|endoftext|>|An|␣apple|␣a|␣day\u001b[0m\u001b[0;32m|␣ke\u001b[0m\n",
      "\n",
      "\n",
      "\u001b[1mZ: -18.469377517700195\n",
      "\u001b[0m\u001b[1mCandidates:\n",
      "\u001b[0m(\u001b[0;32m1.0000\u001b[0m) -18.47: \u001b[38;5;91m<|endoftext|>|An|␣apple|␣a|␣day\u001b[0m\u001b[0;32m|␣kee\u001b[0m\n",
      "\n",
      "\n",
      "\u001b[1mZ: -18.469377517700195\n",
      "\u001b[0m\u001b[1mCandidates:\n",
      "\u001b[0m(\u001b[0;32m1.0000\u001b[0m) -18.47: \u001b[38;5;91m<|endoftext|>|An|␣apple|␣a|␣day\u001b[0m\u001b[0;32m|␣keep\u001b[0m\n",
      "\n",
      "\n",
      "\u001b[1mZ: -18.469871520996094\n",
      "\u001b[0m\u001b[1mCandidates:\n",
      "\u001b[0m(\u001b[0;32m1.0000\u001b[0m) -18.47: \u001b[38;5;91m<|endoftext|>|An|␣apple|␣a|␣day\u001b[0m\u001b[0;32m|␣keeps\u001b[0m\n",
      "\n",
      "\n",
      "\u001b[1mZ: -18.472919464111328\n",
      "\u001b[0m\u001b[1mCandidates:\n",
      "\u001b[0m(\u001b[0;32m1.0000\u001b[0m) -18.47: \u001b[38;5;91m<|endoftext|>|An|␣apple|␣a|␣day|␣keeps\u001b[0m\u001b[0;32m|␣\u001b[0m\n",
      "\n",
      "\n",
      "\u001b[1mZ: -19.51340675354004\n",
      "\u001b[0m\u001b[1mCandidates:\n",
      "\u001b[0m(\u001b[0;32m1.0000\u001b[0m) -19.51: \u001b[38;5;91m<|endoftext|>|An|␣apple|␣a|␣day|␣keeps\u001b[0m\u001b[0;32m|␣t\u001b[0m\n",
      "\n",
      "\n",
      "\u001b[1mZ: -19.53944206237793\n",
      "\u001b[0m\u001b[1mCandidates:\n",
      "\u001b[0m(\u001b[0;32m1.0000\u001b[0m) -19.54: \u001b[38;5;91m<|endoftext|>|An|␣apple|␣a|␣day|␣keeps\u001b[0m\u001b[0;32m|␣th\u001b[0m\n",
      "\n",
      "\n",
      "\u001b[1mZ: -19.567386627197266\n",
      "\u001b[0m\u001b[1mCandidates:\n",
      "\u001b[0m(\u001b[0;32m1.0000\u001b[0m) -19.57: \u001b[38;5;91m<|endoftext|>|An|␣apple|␣a|␣day|␣keeps\u001b[0m\u001b[0;32m|␣the\u001b[0m\n",
      "\n",
      "\n",
      "\u001b[1mZ: -19.598918914794922\n",
      "\u001b[0m\u001b[1mCandidates:\n",
      "\u001b[0m(\u001b[0;32m1.0000\u001b[0m) -19.60: \u001b[38;5;91m<|endoftext|>|An|␣apple|␣a|␣day|␣keeps|␣the\u001b[0m\u001b[0;32m|␣\u001b[0m\n",
      "\n",
      "\n",
      "\u001b[1mZ: -24.765562057495117\n",
      "\u001b[0m\u001b[1mCandidates:\n",
      "\u001b[0m(\u001b[0;32m1.0000\u001b[0m) -24.77: \u001b[38;5;91m<|endoftext|>|An|␣apple|␣a|␣day|␣keeps|␣the\u001b[0m\u001b[0;32m|␣D\u001b[0m\n",
      "\n",
      "\n",
      "\u001b[1mZ: -27.6703574912875\n",
      "\u001b[0m\u001b[1mCandidates:\n",
      "\u001b[0m(\u001b[0;32m0.9409\u001b[0m) -27.73: \u001b[38;5;91m<|endoftext|>|An|␣apple|␣a|␣day|␣keeps|␣the\u001b[0m\u001b[0;32m|␣Du\u001b[0m\n",
      "(\u001b[0;32m0.0591\u001b[0m) -30.50: \u001b[38;5;91m<|endoftext|>|An|␣apple|␣a|␣day|␣keeps|␣the|␣D\u001b[0m\u001b[0;32m|u\u001b[0m\n",
      "\n",
      "\n",
      "\u001b[1mZ: -28.567639703725348\n",
      "\u001b[0m\u001b[1mCandidates:\n",
      "\u001b[0m(\u001b[0;32m0.9906\u001b[0m) -28.58: \u001b[38;5;91m<|endoftext|>|An|␣apple|␣a|␣day|␣keeps|␣the\u001b[0m\u001b[0;32m|␣Dut\u001b[0m\n",
      "(\u001b[0;31m0.0094\u001b[0m) -33.24: \u001b[38;5;91m<|endoftext|>|An|␣apple|␣a|␣day|␣keeps|␣the|␣D\u001b[0m\u001b[0;32m|ut\u001b[0m\n",
      "\n",
      "\n",
      "\u001b[1mZ: -28.577476501464844\n",
      "\u001b[0m\u001b[1mCandidates:\n",
      "\u001b[0m(\u001b[0;32m1.0000\u001b[0m) -28.58: \u001b[38;5;91m<|endoftext|>|An|␣apple|␣a|␣day|␣keeps|␣the\u001b[0m\u001b[0;32m|␣Dutc\u001b[0m\n",
      "\n",
      "\n",
      "\u001b[1mZ: -28.577476501464844\n",
      "\u001b[0m\u001b[1mCandidates:\n",
      "\u001b[0m(\u001b[0;32m1.0000\u001b[0m) -28.58: \u001b[38;5;91m<|endoftext|>|An|␣apple|␣a|␣day|␣keeps|␣the\u001b[0m\u001b[0;32m|␣Dutch\u001b[0m\n",
      "\n",
      "\n",
      "\u001b[1mZ: -28.774438858032227\n",
      "\u001b[0m\u001b[1mCandidates:\n",
      "\u001b[0m(\u001b[0;32m1.0000\u001b[0m) -28.77: \u001b[38;5;91m<|endoftext|>|An|␣apple|␣a|␣day|␣keeps|␣the|␣Dutch\u001b[0m\u001b[0;32m|␣\u001b[0m\n",
      "\n",
      "\n",
      "\u001b[1mZ: -31.404659271240234\n",
      "\u001b[0m\u001b[1mCandidates:\n",
      "\u001b[0m(\u001b[0;32m1.0000\u001b[0m) -31.40: \u001b[38;5;91m<|endoftext|>|An|␣apple|␣a|␣day|␣keeps|␣the|␣Dutch\u001b[0m\u001b[0;32m|␣a\u001b[0m\n",
      "\n",
      "\n",
      "\u001b[1mZ: -32.12074279785156\n",
      "\u001b[0m\u001b[1mCandidates:\n",
      "\u001b[0m(\u001b[0;32m1.0000\u001b[0m) -32.12: \u001b[38;5;91m<|endoftext|>|An|␣apple|␣a|␣day|␣keeps|␣the|␣Dutch\u001b[0m\u001b[0;32m|␣aw\u001b[0m\n",
      "\n",
      "\n",
      "\u001b[1mZ: -32.12383270263672\n",
      "\u001b[0m\u001b[1mCandidates:\n",
      "\u001b[0m(\u001b[0;32m1.0000\u001b[0m) -32.12: \u001b[38;5;91m<|endoftext|>|An|␣apple|␣a|␣day|␣keeps|␣the|␣Dutch\u001b[0m\u001b[0;32m|␣awa\u001b[0m\n",
      "\n",
      "\n",
      "\u001b[1mZ: -32.18830490112305\n",
      "\u001b[0m\u001b[1mCandidates:\n",
      "\u001b[0m(\u001b[0;32m1.0000\u001b[0m) -32.19: \u001b[38;5;91m<|endoftext|>|An|␣apple|␣a|␣day|␣keeps|␣the|␣Dutch\u001b[0m\u001b[0;32m|␣away\u001b[0m\n",
      "\n",
      "\n",
      "\u001b[1mZ: -33.56272506713867\n",
      "\u001b[0m\u001b[1mCandidates:\n",
      "\u001b[0m(\u001b[0;32m1.0000\u001b[0m) -33.56: \u001b[38;5;91m<|endoftext|>|An|␣apple|␣a|␣day|␣keeps|␣the|␣Dutch|␣away\u001b[0m\u001b[0;32m|.\u001b[0m\n",
      "\n",
      "\n",
      "\u001b[1mZ: -34.75253677368164\n",
      "\u001b[0m\u001b[1mCandidates:\n",
      "\u001b[0m(\u001b[0;32m1.0000\u001b[0m) -34.75: \u001b[38;5;91m<|endoftext|>|An|␣apple|␣a|␣day|␣keeps|␣the|␣Dutch|␣away|.\u001b[0m\u001b[0;32m|\\n\u001b[0m\n",
      "\n"
     ]
    },
    {
     "data": {
      "text/plain": [
       "b'An apple a day keeps the Dutch away.\\n'"
      ]
     },
     "execution_count": 11,
     "metadata": {},
     "output_type": "execute_result"
    }
   ],
   "source": [
    "beam = await ByteBeamState.initial(\n",
    "    llm, BeamParams(K=5, prune_threshold=0.05, verbose=True)\n",
    ")\n",
    "sampled = await beam.sample(b\"An apple a day keeps the \", steps=12)\n",
    "sampled"
   ]
  },
  {
   "cell_type": "code",
   "execution_count": null,
   "metadata": {},
   "outputs": [],
   "source": []
  }
 ],
 "metadata": {
  "kernelspec": {
   "display_name": "genlm-tokenization",
   "language": "python",
   "name": "python3"
  },
  "language_info": {
   "codemirror_mode": {
    "name": "ipython",
    "version": 3
   },
   "file_extension": ".py",
   "mimetype": "text/x-python",
   "name": "python",
   "nbconvert_exporter": "python",
   "pygments_lexer": "ipython3",
   "version": "3.11.11"
  }
 },
 "nbformat": 4,
 "nbformat_minor": 2
}
