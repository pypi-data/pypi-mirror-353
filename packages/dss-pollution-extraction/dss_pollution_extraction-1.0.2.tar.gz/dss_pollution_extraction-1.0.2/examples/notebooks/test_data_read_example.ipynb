{
 "cells": [
  {
   "cell_type": "markdown",
   "id": "22431817",
   "metadata": {},
   "source": [
    "# Import Required Libraries\n",
    "Import necessary libraries such as matplotlib and pollution_extraction modules."
   ]
  },
  {
   "cell_type": "code",
   "execution_count": null,
   "id": "f29accb4",
   "metadata": {},
   "outputs": [],
   "source": [
    "import matplotlib.pyplot as plt\n",
    "from pollution_extraction.core import DataExporter\n",
    "from pollution_extraction.core.data_reader import PollutionDataReader\n",
    "from pollution_extraction.core.data_visualizer import DataVisualizer\n",
    "from pollution_extraction.core.spatial_extractor import SpatialExtractor"
   ]
  },
  {
   "cell_type": "markdown",
   "id": "1cfbb991",
   "metadata": {},
   "source": [
    "# Initialize PollutionDataReader\n",
    "Initialize PollutionDataReader with the NetCDF file path and pollution type."
   ]
  },
  {
   "cell_type": "code",
   "execution_count": null,
   "id": "00368e47",
   "metadata": {},
   "outputs": [],
   "source": [
    "file_path = \"/workspaces/dss-pollution-extraction/PM2p5_downscaled_daily_lr_2006_01.nc\"\n",
    "reader = PollutionDataReader(file_path, pollution_type=\"pm25\")"
   ]
  },
  {
   "cell_type": "markdown",
   "id": "4590f98f",
   "metadata": {},
   "source": [
    "# Inspect Dataset Information\n",
    "Print dataset shape, basic information, time range, and spatial bounds."
   ]
  },
  {
   "cell_type": "code",
   "execution_count": null,
   "id": "f82b98b2",
   "metadata": {},
   "outputs": [],
   "source": [
    "data = reader.data_variable\n",
    "print(\"\\nData variable shape:\", data.shape)\n",
    "info = reader.get_basic_info()\n",
    "print(\"\\nBasic Info:\")\n",
    "for k, v in info.items():\n",
    "    print(f\"  {k}: {v}\")\n",
    "print(\"\\nTime range:\", reader.time_range)\n",
    "print(\"Spatial bounds:\", reader.spatial_bounds)"
   ]
  },
  {
   "cell_type": "markdown",
   "id": "3da759fb",
   "metadata": {},
   "source": [
    "# Subset Data by Time\n",
    "Select a subset of data for the first 7 days and print its shape."
   ]
  },
  {
   "cell_type": "code",
   "execution_count": null,
   "id": "549c9172",
   "metadata": {},
   "outputs": [],
   "source": [
    "subset = data.isel(time=slice(0, 7))\n",
    "print(\"\\nSubset shape (first 7 days):\", subset.shape)"
   ]
  },
  {
   "cell_type": "markdown",
   "id": "f66eb9a7",
   "metadata": {},
   "source": [
    "# Visualize First Time Slice\n",
    "Plot the first time slice using xarray or matplotlib with controlled vmin/vmax."
   ]
  },
  {
   "cell_type": "code",
   "execution_count": null,
   "id": "f0a0bb00",
   "metadata": {},
   "outputs": [],
   "source": [
    "first_slice = data.isel(time=0).clip(min=0)\n",
    "print(\"\\nFirst slice stats:\")\n",
    "print(\"  min:\", float(first_slice.min().values))\n",
    "print(\"  max:\", float(first_slice.max().values))\n",
    "print(\"  mean:\", float(first_slice.mean().values))\n",
    "try:\n",
    "    first_slice.plot.imshow(vmin=0, vmax=40, cmap=\"Reds\", origin=\"upper\")\n",
    "    plt.title(\"First Time Slice (time=0)\")\n",
    "    plt.show()\n",
    "except Exception:\n",
    "    plt.imshow(first_slice.values, origin=\"upper\", vmin=0, vmax=40, cmap=\"Reds\")\n",
    "    plt.title(\"First Time Slice (time=0) [imshow fallback]\")\n",
    "    plt.colorbar()\n",
    "    plt.show()"
   ]
  },
  {
   "cell_type": "markdown",
   "id": "67df863e",
   "metadata": {},
   "source": [
    "# Compute Monthly Average\n",
    "Calculate the monthly average (mean over time) and visualize it."
   ]
  },
  {
   "cell_type": "code",
   "execution_count": null,
   "id": "a61e533a",
   "metadata": {},
   "outputs": [],
   "source": [
    "dataset = reader.dataset\n",
    "var_name = reader.variable_info[\"var_name\"]\n",
    "time_avg = dataset[var_name].mean(dim=\"time\").clip(min=0)\n",
    "print(\"\\nTime-averaged (monthly mean) shape:\", time_avg.shape)\n",
    "time_avg.plot.imshow(vmin=0, vmax=40, cmap=\"RdYlBu_r\", origin=\"upper\")\n",
    "plt.title(\"Monthly Mean (Time-Averaged) PM2.5\")\n",
    "plt.show()"
   ]
  },
  {
   "cell_type": "markdown",
   "id": "bded924a",
   "metadata": {},
   "source": [
    "# Extract Spatial Point\n",
    "Extract the value at the center of the spatial domain using SpatialExtractor."
   ]
  },
  {
   "cell_type": "code",
   "execution_count": null,
   "id": "d5eecd64",
   "metadata": {},
   "outputs": [],
   "source": [
    "spatial_ext = SpatialExtractor(dataset, var_name)\n",
    "x_center = float(\n",
    "    reader.spatial_bounds[\"x_min\"]\n",
    "    + (reader.spatial_bounds[\"x_max\"] - reader.spatial_bounds[\"x_min\"]) / 2\n",
    ")\n",
    "y_center = float(\n",
    "    reader.spatial_bounds[\"y_min\"]\n",
    "    + (reader.spatial_bounds[\"y_max\"] - reader.spatial_bounds[\"y_min\"]) / 2\n",
    ")\n",
    "try:\n",
    "    point_result = spatial_ext.extract_points([(x_center, y_center)], method=\"nearest\")\n",
    "    print(\n",
    "        f\"\\nExtracted value at domain center (x={x_center:.1f}, y={y_center:.1f}):\\n\",\n",
    "        point_result,\n",
    "    )\n",
    "except KeyError as e:\n",
    "    print(\n",
    "        f\"\\n[SpatialExtractor] Extraction failed: {e}\\nCheck if the coordinates are within the valid range and match the dataset's CRS.\"\n",
    "    )"
   ]
  },
  {
   "cell_type": "markdown",
   "id": "5eb55fc0",
   "metadata": {},
   "source": [
    "# Export Data to GeoTIFF\n",
    "Demonstrate exporting the time-averaged map to GeoTIFF using DataExporter."
   ]
  },
  {
   "cell_type": "code",
   "execution_count": null,
   "id": "a8045272",
   "metadata": {},
   "outputs": [],
   "source": [
    "exporter = DataExporter(dataset, var_name)\n",
    "exporter.to_geotiff(\n",
    "    \"/workspaces/dss-pollution-extraction/monthly_mean_pm25.tif\",\n",
    "    time_index=slice(None),\n",
    "    aggregation_method=\"mean\",\n",
    ")\n",
    "print(\"\\n[DataExporter] Example: exporter.to_geotiff() can export data.\")"
   ]
  },
  {
   "cell_type": "markdown",
   "id": "08febced",
   "metadata": {},
   "source": [
    "# Custom Visualization\n",
    "Use DataVisualizer to create a custom plot for a specific time index."
   ]
  },
  {
   "cell_type": "code",
   "execution_count": null,
   "id": "c304d907",
   "metadata": {},
   "outputs": [],
   "source": [
    "visualizer = DataVisualizer(dataset, var_name, reader.pollution_type)\n",
    "fig = visualizer.plot_spatial_map(\n",
    "    time_index=0, vmin=0, vmax=40, title=\"PM2.5 Day 1 (Visualizer)\"\n",
    ")\n",
    "plt.show()\n",
    "reader.close()"
   ]
  }
 ],
 "metadata": {
  "language_info": {
   "name": "python"
  }
 },
 "nbformat": 4,
 "nbformat_minor": 5
}
