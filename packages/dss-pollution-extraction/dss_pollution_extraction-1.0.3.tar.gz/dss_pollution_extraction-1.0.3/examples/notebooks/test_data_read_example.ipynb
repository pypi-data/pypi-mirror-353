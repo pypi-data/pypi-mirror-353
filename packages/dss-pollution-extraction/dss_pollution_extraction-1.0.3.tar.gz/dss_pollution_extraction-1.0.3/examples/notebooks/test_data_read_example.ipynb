{
 "cells": [
  {
   "cell_type": "markdown",
   "id": "22431817",
   "metadata": {},
   "source": [
    "# Import Required Libraries\n",
    "Import necessary libraries such as matplotlib and pollution_extraction modules."
   ]
  },
  {
   "cell_type": "code",
   "execution_count": null,
   "id": "f29accb4",
   "metadata": {},
   "outputs": [],
   "source": [
    "import matplotlib.pyplot as plt\n",
    "\n",
    "from pollution_extraction.core import DataExporter\n",
    "from pollution_extraction.core.data_reader import PollutionDataReader\n",
    "from pollution_extraction.core.data_visualizer import DataVisualizer\n",
    "from pollution_extraction.core.spatial_extractor import SpatialExtractor"
   ]
  },
  {
   "cell_type": "markdown",
   "id": "1cfbb991",
   "metadata": {},
   "source": [
    "# Initialize PollutionDataReader\n",
    "Initialize PollutionDataReader with the NetCDF file path and pollution type."
   ]
  },
  {
   "cell_type": "code",
   "execution_count": null,
   "id": "00368e47",
   "metadata": {},
   "outputs": [],
   "source": [
    "file_path = \"/workspaces/dss-pollution-extraction/PM2p5_downscaled_daily_lr_2006_01.nc\"\n",
    "reader = PollutionDataReader(file_path, pollution_type=\"pm25\")"
   ]
  },
  {
   "cell_type": "markdown",
   "id": "4590f98f",
   "metadata": {},
   "source": [
    "# Inspect Dataset Information\n",
    "Print dataset shape, basic information, time range, and spatial bounds."
   ]
  },
  {
   "cell_type": "code",
   "execution_count": null,
   "id": "f82b98b2",
   "metadata": {},
   "outputs": [],
   "source": [
    "data = reader.data_variable\n",
    "print(\"\\nData variable shape:\", data.shape)\n",
    "info = reader.get_basic_info()\n",
    "print(\"\\nBasic Info:\")\n",
    "for k, v in info.items():\n",
    "    print(f\"  {k}: {v}\")\n",
    "print(\"\\nTime range:\", reader.time_range)\n",
    "print(\"Spatial bounds:\", reader.spatial_bounds)"
   ]
  },
  {
   "cell_type": "markdown",
   "id": "3da759fb",
   "metadata": {},
   "source": [
    "# Subset Data by Time\n",
    "Select a subset of data for the first 7 days and print its shape."
   ]
  },
  {
   "cell_type": "code",
   "execution_count": null,
   "id": "549c9172",
   "metadata": {},
   "outputs": [],
   "source": [
    "subset = data.isel(time=slice(0, 7))\n",
    "print(\"\\nSubset shape (first 7 days):\", subset.shape)"
   ]
  },
  {
   "cell_type": "markdown",
   "id": "f66eb9a7",
   "metadata": {},
   "source": [
    "# Visualize First Time Slice\n",
    "Plot the first time slice using xarray or matplotlib with controlled vmin/vmax."
   ]
  },
  {
   "cell_type": "code",
   "execution_count": null,
   "id": "f0a0bb00",
   "metadata": {},
   "outputs": [],
   "source": [
    "first_slice = data.isel(time=0).clip(min=0)\n",
    "print(\"\\nFirst slice stats:\")\n",
    "print(\"  min:\", float(first_slice.min().values))\n",
    "print(\"  max:\", float(first_slice.max().values))\n",
    "print(\"  mean:\", float(first_slice.mean().values))\n",
    "try:\n",
    "    first_slice.plot.imshow(vmin=0, vmax=40, cmap=\"Reds\", origin=\"upper\")\n",
    "    plt.title(\"First Time Slice (time=0)\")\n",
    "    plt.show()\n",
    "except Exception:\n",
    "    plt.imshow(first_slice.values, origin=\"upper\", vmin=0, vmax=40, cmap=\"Reds\")\n",
    "    plt.title(\"First Time Slice (time=0) [imshow fallback]\")\n",
    "    plt.colorbar()\n",
    "    plt.show()"
   ]
  },
  {
   "cell_type": "markdown",
   "id": "67df863e",
   "metadata": {},
   "source": [
    "# Compute Monthly Average\n",
    "Calculate the monthly average (mean over time) and visualize it."
   ]
  },
  {
   "cell_type": "code",
   "execution_count": null,
   "id": "a61e533a",
   "metadata": {},
   "outputs": [],
   "source": [
    "dataset = reader.dataset\n",
    "var_name = reader.variable_info[\"var_name\"]\n",
    "time_avg = dataset[var_name].mean(dim=\"time\").clip(min=0)\n",
    "print(\"\\nTime-averaged (monthly mean) shape:\", time_avg.shape)\n",
    "time_avg.plot.imshow(vmin=0, vmax=40, cmap=\"RdYlBu_r\", origin=\"upper\")\n",
    "plt.title(\"Monthly Mean (Time-Averaged) PM2.5\")\n",
    "plt.show()"
   ]
  },
  {
   "cell_type": "markdown",
   "id": "bded924a",
   "metadata": {},
   "source": [
    "# Extract Spatial Point\n",
    "Extract the value at the center of the spatial domain using SpatialExtractor."
   ]
  },
  {
   "cell_type": "code",
   "execution_count": null,
   "id": "d5eecd64",
   "metadata": {},
   "outputs": [],
   "source": [
    "spatial_ext = SpatialExtractor(dataset, var_name)\n",
    "x_center = float(\n",
    "    reader.spatial_bounds[\"x_min\"]\n",
    "    + (reader.spatial_bounds[\"x_max\"] - reader.spatial_bounds[\"x_min\"]) / 2\n",
    ")\n",
    "y_center = float(\n",
    "    reader.spatial_bounds[\"y_min\"]\n",
    "    + (reader.spatial_bounds[\"y_max\"] - reader.spatial_bounds[\"y_min\"]) / 2\n",
    ")\n",
    "try:\n",
    "    point_result = spatial_ext.extract_points([(x_center, y_center)], method=\"nearest\")\n",
    "    print(\n",
    "        f\"\\nExtracted value at domain center (x={x_center:.1f}, y={y_center:.1f}):\\n\",\n",
    "        point_result,\n",
    "    )\n",
    "except KeyError as e:\n",
    "    print(\n",
    "        f\"\\n[SpatialExtractor] Extraction failed: {e}\\nCheck if the coordinates are within the valid range and match the dataset's CRS.\"\n",
    "    )"
   ]
  },
  {
   "cell_type": "markdown",
   "id": "5eb55fc0",
   "metadata": {},
   "source": [
    "# Export Data to GeoTIFF\n",
    "Demonstrate exporting the time-averaged map to GeoTIFF using DataExporter."
   ]
  },
  {
   "cell_type": "code",
   "execution_count": null,
   "id": "a8045272",
   "metadata": {},
   "outputs": [],
   "source": [
    "exporter = DataExporter(dataset, var_name)\n",
    "exporter.to_geotiff(\n",
    "    \"/workspaces/dss-pollution-extraction/monthly_mean_pm25.tif\",\n",
    "    time_index=slice(None),\n",
    "    aggregation_method=\"mean\",\n",
    ")\n",
    "print(\"\\n[DataExporter] Example: exporter.to_geotiff() can export data.\")"
   ]
  },
  {
   "cell_type": "markdown",
   "id": "08febced",
   "metadata": {},
   "source": [
    "# Custom Visualization\n",
    "Use DataVisualizer to create a custom plot for a specific time index."
   ]
  },
  {
   "cell_type": "markdown",
   "id": "46a9a13b",
   "metadata": {},
   "source": [
    "# Animate Time Slices\n",
    "Create an animation to visualize the evolution of PM2.5 over time using matplotlib's animation module."
   ]
  },
  {
   "cell_type": "code",
   "execution_count": null,
   "id": "c304d907",
   "metadata": {},
   "outputs": [],
   "source": [
    "visualizer = DataVisualizer(dataset, var_name, reader.pollution_type)\n",
    "fig = visualizer.plot_spatial_map(\n",
    "    time_index=2,\n",
    "    vmin=0,\n",
    "    vmax=150,\n",
    "    title=\"PM2.5 Day 1 (Visualizer)\",\n",
    "    cmap=\"RdYlBu_r\",\n",
    "    # origin=\"upper\"\n",
    ")\n",
    "plt.show()\n",
    "reader.close()"
   ]
  },
  {
   "cell_type": "code",
   "execution_count": null,
   "id": "a3a80d5e",
   "metadata": {},
   "outputs": [],
   "source": [
    "import numpy as np\n",
    "from matplotlib import animation\n",
    "from IPython.display import HTML\n",
    "\n",
    "# Prepare data for animation\n",
    "var_data = dataset[var_name].clip(min=0)\n",
    "num_times = var_data.shape[0]\n",
    "\n",
    "fig, ax = plt.subplots(figsize=(6, 5))\n",
    "im = ax.imshow(var_data.isel(time=0).values, vmin=0, vmax=40, cmap=\"RdYlBu_r\", origin=\"upper\")\n",
    "plt.title(\"PM2.5 Animation\")\n",
    "cbar = plt.colorbar(im, ax=ax)\n",
    "cbar.set_label(\"PM2.5 (ug/m3)\")\n",
    "\n",
    "def animate(i):\n",
    "    im.set_array(var_data.isel(time=i).values)\n",
    "    ax.set_title(f\"PM2.5 Day {i+1}\")\n",
    "    return [im]\n",
    "\n",
    "ani = animation.FuncAnimation(fig, animate, frames=num_times, interval=400, blit=True)\n",
    "plt.close(fig)  # Prevent duplicate static image\n",
    "HTML(ani.to_jshtml())"
   ]
  },
  {
   "cell_type": "code",
   "execution_count": null,
   "id": "bfe7346f",
   "metadata": {},
   "outputs": [],
   "source": [
    "# In Jupyter: Kernel -> Restart & Run All\n",
    "# Then reimport:\n",
    "from data_visualizer import DataVisualizer\n",
    "\n",
    "dataset = reader.dataset\n",
    "var_name = reader.variable_info[\"var_name\"]\n",
    "visualizer = DataVisualizer(dataset, var_name, pollution_type=\"pm25\")\n",
    "html_animation = visualizer.create_jupyter_animation(clip_min=0)\n",
    "html_animation\n"
   ]
  },
  {
   "cell_type": "code",
   "execution_count": null,
   "id": "e7688e68",
   "metadata": {},
   "outputs": [],
   "source": [
    "# More control over parameters\n",
    "html_animation = visualizer.create_animation(\n",
    "    figsize=(8, 6),\n",
    "    vmin=0,\n",
    "    vmax=50,\n",
    "    interval=300,\n",
    "    return_html=True,\n",
    "    title_template=\"{var_title} - {date}\",\n",
    "    clip_min=0,\n",
    ")\n"
   ]
  },
  {
   "cell_type": "code",
   "execution_count": null,
   "id": "557a01a0",
   "metadata": {},
   "outputs": [],
   "source": [
    "# Save as GIF\n",
    "visualizer.create_animation(output_path=\"pollution_animation.gif\", fps=2, dpi=150)\n"
   ]
  },
  {
   "cell_type": "code",
   "execution_count": null,
   "id": "c12338a4",
   "metadata": {},
   "outputs": [],
   "source": [
    "# Use the enhanced create_animation method\n",
    "visualizer = DataVisualizer(dataset, var_name, pollution_type=\"pm25\")\n",
    "html_animation = visualizer.create_animation(\n",
    "    output_path=None,\n",
    "    figsize=(6, 5),\n",
    "    vmin=0,\n",
    "    vmax=40,\n",
    "    interval=400,\n",
    "    return_html=True,\n",
    "    origin=\"upper\",\n",
    "    clip_min=0,\n",
    "    title_template=\"PM2.5 Day {frame}\",\n",
    ")\n",
    "html_animation\n"
   ]
  }
 ],
 "metadata": {
  "kernelspec": {
   "display_name": ".venv",
   "language": "python",
   "name": "python3"
  },
  "language_info": {
   "codemirror_mode": {
    "name": "ipython",
    "version": 3
   },
   "file_extension": ".py",
   "mimetype": "text/x-python",
   "name": "python",
   "nbconvert_exporter": "python",
   "pygments_lexer": "ipython3",
   "version": "3.13.3"
  }
 },
 "nbformat": 4,
 "nbformat_minor": 5
}
