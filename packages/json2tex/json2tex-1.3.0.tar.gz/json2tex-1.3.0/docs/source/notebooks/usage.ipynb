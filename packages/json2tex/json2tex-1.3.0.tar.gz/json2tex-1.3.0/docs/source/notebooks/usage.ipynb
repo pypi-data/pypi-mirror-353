{
 "cells": [
  {
   "cell_type": "markdown",
   "id": "90b78ab3-9e09-4158-9d4f-732e9c3238ac",
   "metadata": {},
   "source": [
    "# ❓ `json2tex` Usage"
   ]
  },
  {
   "cell_type": "markdown",
   "id": "747ea169-0123-4587-b568-c142791b9ab9",
   "metadata": {},
   "source": [
    "## 📟 From the command-line"
   ]
  },
  {
   "cell_type": "markdown",
   "id": "ad3280fb-b798-4a2d-9291-0d991dac9bb0",
   "metadata": {},
   "source": [
    "Get some JSON data from the [OpenSenseMap](https://opensensemap.org):"
   ]
  },
  {
   "cell_type": "code",
   "execution_count": 11,
   "id": "740539d7-fb7d-49f4-a3cc-1b5a7a69a41a",
   "metadata": {},
   "outputs": [
    {
     "name": "stdout",
     "output_type": "stream",
     "text": [
      "[{\"_id\":\"61bf059419a991001bf7b331\",\"createdAt\":\"2021-12-19T10:12:36.134Z\",\"updatedAt\":\"2022-02-27T19:40:19.145Z\",\"name\":\"Station 17\",\"currentLocation\":{\"type\":\"Point\",\"coordinates\":[8.818073,48.442269],\"timestamp\":\"2021-12-19T10:45:08.813Z\"},\"grouptag\":\"co2mofetten\",\"exposure\":\"outdoor\",\"sensors\":[{\"icon\":\"osem-thermometer\",\"title\":\"Temperatur\",\"unit\":\"°C\",\"sensorType\":\"thermistor\",\"_id\":\"61bf059419a991001bf7b336\",\"lastMeasurement\":\"621bd3a345db71001bbfa7d1\"},{\"icon\":\"osem-co2\",\"title\":\"CO2 Konzentration\",\"unit\":\"ppm\",\"sensorType\":\"GSS\",\"_id\":\"61bf059419a991001bf7b335\",\"lastMeasurement\":\"621bd3a345db71001bbfa7d0\"},{\"icon\":\"osem-gauge\",\"title\":\"CO2 Ausstoß momentan\",\"unit\":\"g/s\",\"sensorType\":\"...\",\"_id\":\"61bf059419a991001bf7b334\",\"lastMeasurement\":\"621bd3a245db71001bbfa79f\"},{\"icon\":\"osem-gauge\",\"title\":\"CO2 Ausstoß gesamt\",\"unit\":\"kg\",\"sensorType\":\"...\",\"_id\":\"61bf059419a991001bf7b333\",\"lastMeasurement\":\"621bd3a245db71001bbfa7b9\"},{\"icon\":\"osem-gauge\",\"title\":\"Gesamtausstoßvolumen\",\"unit\":\"m³\",\"sensorType\":\"...\",\"_id\":\"61bf059419a991001bf7b332\",\"lastMeasurement\":\"621bd3a245db71001bbfa7ba\"}],\"model\":\"custom\",\"lastMeasurementAt\":\"2022-02-27T19:40:18.585Z\",\"description\":\"Mofetta Hood v3\\n\\n03.02.2022: v3.1 operationell im Feld\",\"image\":\"61bf059419a991001bf7b331_r4cz16.jpg\"}]"
     ]
    }
   ],
   "source": [
    "!curl -s \"https://api.opensensemap.org/boxes?format=json&near=8.818073,48.442269&maxDistance=10\""
   ]
  },
  {
   "cell_type": "markdown",
   "id": "6a5ba845-ed8d-41fd-8eed-efacb6252d62",
   "metadata": {},
   "source": [
    "Now pipe this data into `json2tex` and it will convert it to LaTeX definitions:"
   ]
  },
  {
   "cell_type": "code",
   "execution_count": 12,
   "id": "e21b09c0-7a59-437e-a37d-6406828d0647",
   "metadata": {},
   "outputs": [
    {
     "name": "stdout",
     "output_type": "stream",
     "text": [
      "\\newcommand{\\First_Id}{61bf059419a991001bf7b331}\n",
      "\\newcommand{\\FirstCreatedat}{2021-12-19T10:12:36.134Z}\n",
      "\\newcommand{\\FirstUpdatedat}{2022-02-27T19:40:19.145Z}\n",
      "\\newcommand{\\FirstName}{Station 17}\n",
      "\\newcommand{\\FirstCurrentlocationType}{Point}\n",
      "\\newcommand{\\FirstCurrentlocationCoordinatesFirst}{8.818073}\n",
      "\\newcommand{\\FirstCurrentlocationCoordinatesSecond}{48.442269}\n",
      "\\newcommand{\\FirstCurrentlocationTimestamp}{2021-12-19T10:45:08.813Z}\n",
      "\\newcommand{\\FirstGrouptag}{co2mofetten}\n",
      "\\newcommand{\\FirstExposure}{outdoor}\n",
      "\\newcommand{\\FirstSensorsFirstIcon}{osem-thermometer}\n",
      "\\newcommand{\\FirstSensorsFirstTitle}{Temperatur}\n",
      "\\newcommand{\\FirstSensorsFirstUnit}{°C}\n",
      "\\newcommand{\\FirstSensorsFirstSensortype}{thermistor}\n",
      "\\newcommand{\\FirstSensorsFirst_Id}{61bf059419a991001bf7b336}\n",
      "\\newcommand{\\FirstSensorsFirstLastmeasurement}{621bd3a345db71001bbfa7d1}\n",
      "\\newcommand{\\FirstSensorsSecondIcon}{osem-co2}\n",
      "\\newcommand{\\FirstSensorsSecondTitle}{CO2 Konzentration}\n",
      "\\newcommand{\\FirstSensorsSecondUnit}{ppm}\n",
      "\\newcommand{\\FirstSensorsSecondSensortype}{GSS}\n",
      "\\newcommand{\\FirstSensorsSecond_Id}{61bf059419a991001bf7b335}\n",
      "\\newcommand{\\FirstSensorsSecondLastmeasurement}{621bd3a345db71001bbfa7d0}\n",
      "\\newcommand{\\FirstSensorsThirdIcon}{osem-gauge}\n",
      "\\newcommand{\\FirstSensorsThirdTitle}{CO2 Ausstoß momentan}\n",
      "\\newcommand{\\FirstSensorsThirdUnit}{g/s}\n",
      "\\newcommand{\\FirstSensorsThirdSensortype}{...}\n",
      "\\newcommand{\\FirstSensorsThird_Id}{61bf059419a991001bf7b334}\n",
      "\\newcommand{\\FirstSensorsThirdLastmeasurement}{621bd3a245db71001bbfa79f}\n",
      "\\newcommand{\\FirstSensorsFourthIcon}{osem-gauge}\n",
      "\\newcommand{\\FirstSensorsFourthTitle}{CO2 Ausstoß gesamt}\n",
      "\\newcommand{\\FirstSensorsFourthUnit}{kg}\n",
      "\\newcommand{\\FirstSensorsFourthSensortype}{...}\n",
      "\\newcommand{\\FirstSensorsFourth_Id}{61bf059419a991001bf7b333}\n",
      "\\newcommand{\\FirstSensorsFourthLastmeasurement}{621bd3a245db71001bbfa7b9}\n",
      "\\newcommand{\\FirstSensorsFifthIcon}{osem-gauge}\n",
      "\\newcommand{\\FirstSensorsFifthTitle}{Gesamtausstoßvolumen}\n",
      "\\newcommand{\\FirstSensorsFifthUnit}{m³}\n",
      "\\newcommand{\\FirstSensorsFifthSensortype}{...}\n",
      "\\newcommand{\\FirstSensorsFifth_Id}{61bf059419a991001bf7b332}\n",
      "\\newcommand{\\FirstSensorsFifthLastmeasurement}{621bd3a245db71001bbfa7ba}\n",
      "\\newcommand{\\FirstModel}{custom}\n",
      "\\newcommand{\\FirstLastmeasurementat}{2022-02-27T19:40:18.585Z}\n",
      "\\newcommand{\\FirstDescription}{Mofetta Hood v3\n",
      "\n",
      "03.02.2022: v3.1 operationell im Feld}\n",
      "\\newcommand{\\FirstImage}{61bf059419a991001bf7b331\\_r4cz16.jpg}\n"
     ]
    }
   ],
   "source": [
    "!curl -s \"https://api.opensensemap.org/boxes?format=json&near=8.818073,48.442269&maxDistance=10\" | json2tex"
   ]
  },
  {
   "cell_type": "markdown",
   "id": "7a62a318-16af-4d1e-ac71-2047fed3dbb0",
   "metadata": {},
   "source": [
    "## 🐍 From Python"
   ]
  },
  {
   "cell_type": "markdown",
   "id": "50b479d5-8f4f-457f-b1a8-ba676f78bb32",
   "metadata": {},
   "source": [
    "Assume you have some JSON in your Python code (e.g. generated results from a calculation, a database query, a web query as above, etc.):"
   ]
  },
  {
   "cell_type": "code",
   "execution_count": 13,
   "id": "2a379553-49a2-4ed6-8616-6ef5c751103a",
   "metadata": {},
   "outputs": [],
   "source": [
    "JSON = {\n",
    "    \"participants\": [\n",
    "        {\"name\": \"Alice\", \"age\": 27},\n",
    "        {\"name\": \"Bob\", \"hobbies\": [\"guitar\", \"coding\"]},\n",
    "    ],\n",
    "    \"events\": [\"soccer\", \"hackathon\"],\n",
    "}"
   ]
  },
  {
   "cell_type": "markdown",
   "id": "dbd0709c-2167-49e4-967c-83ede871b6c0",
   "metadata": {},
   "source": [
    "You can turn this JSON to LaTeX definitions with `json2tex` like in the following ways:"
   ]
  },
  {
   "cell_type": "code",
   "execution_count": 19,
   "id": "5ae2a0b8-7be8-4a67-8337-bab298dbe4f5",
   "metadata": {},
   "outputs": [],
   "source": [
    "import json2tex"
   ]
  },
  {
   "cell_type": "code",
   "execution_count": 20,
   "id": "6e85d26c-6248-4eeb-9d9a-f586c7b27247",
   "metadata": {},
   "outputs": [
    {
     "data": {
      "text/plain": [
       "['\\\\newcommand{\\\\ParticipantsFirstName}{Alice}',\n",
       " '\\\\newcommand{\\\\ParticipantsFirstAge}{27}',\n",
       " '\\\\newcommand{\\\\ParticipantsSecondName}{Bob}',\n",
       " '\\\\newcommand{\\\\ParticipantsSecondHobbiesFirst}{guitar}',\n",
       " '\\\\newcommand{\\\\ParticipantsSecondHobbiesSecond}{coding}',\n",
       " '\\\\newcommand{\\\\EventsFirst}{soccer}',\n",
       " '\\\\newcommand{\\\\EventsSecond}{hackathon}']"
      ]
     },
     "execution_count": 20,
     "metadata": {},
     "output_type": "execute_result"
    }
   ],
   "source": [
    "list(json2tex.json2texcommands(JSON))"
   ]
  },
  {
   "cell_type": "code",
   "execution_count": 18,
   "id": "534571a4-8c0d-428c-9db6-71cb568c1f66",
   "metadata": {},
   "outputs": [
    {
     "name": "stdout",
     "output_type": "stream",
     "text": [
      "\\newcommand{\\ParticipantsFirstName}{Alice}\n",
      "\\newcommand{\\ParticipantsFirstAge}{27}\n",
      "\\newcommand{\\ParticipantsSecondName}{Bob}\n",
      "\\newcommand{\\ParticipantsSecondHobbiesFirst}{guitar}\n",
      "\\newcommand{\\ParticipantsSecondHobbiesSecond}{coding}\n",
      "\\newcommand{\\EventsFirst}{soccer}\n",
      "\\newcommand{\\EventsSecond}{hackathon}\n"
     ]
    }
   ],
   "source": [
    "for latex in json2tex.json2texcommands(JSON):\n",
    "    print(latex)"
   ]
  },
  {
   "cell_type": "markdown",
   "id": "4fa46f09-286f-4258-ae4e-4835780b8881",
   "metadata": {},
   "source": [
    "Or save it to a file `results.tex`:"
   ]
  },
  {
   "cell_type": "code",
   "execution_count": 21,
   "id": "5c499e35-5c56-41ae-b51b-344d02e6e487",
   "metadata": {},
   "outputs": [],
   "source": [
    "with open(\"results.tex\", \"w\") as fh:\n",
    "    for latex in json2tex.json2texcommands(JSON):\n",
    "        fh.write(f\"{latex}\\n\")"
   ]
  },
  {
   "cell_type": "markdown",
   "id": "891696fc-6f1c-425f-980e-5346f97bc003",
   "metadata": {},
   "source": [
    "Now the file contains LaTeX definitions:"
   ]
  },
  {
   "cell_type": "code",
   "execution_count": 22,
   "id": "0500d6a2-fea4-4d89-8abd-01ac596dccd4",
   "metadata": {},
   "outputs": [
    {
     "name": "stdout",
     "output_type": "stream",
     "text": [
      "\\newcommand{\\ParticipantsFirstName}{Alice}\n",
      "\\newcommand{\\ParticipantsFirstAge}{27}\n",
      "\\newcommand{\\ParticipantsSecondName}{Bob}\n",
      "\\newcommand{\\ParticipantsSecondHobbiesFirst}{guitar}\n",
      "\\newcommand{\\ParticipantsSecondHobbiesSecond}{coding}\n",
      "\\newcommand{\\EventsFirst}{soccer}\n",
      "\\newcommand{\\EventsSecond}{hackathon}\n"
     ]
    }
   ],
   "source": [
    "!cat results.tex"
   ]
  }
 ],
 "metadata": {
  "kernelspec": {
   "display_name": "Python 3 (ipykernel)",
   "language": "python",
   "name": "python3"
  },
  "language_info": {
   "codemirror_mode": {
    "name": "ipython",
    "version": 3
   },
   "file_extension": ".py",
   "mimetype": "text/x-python",
   "name": "python",
   "nbconvert_exporter": "python",
   "pygments_lexer": "ipython3",
   "version": "3.10.2"
  }
 },
 "nbformat": 4,
 "nbformat_minor": 5
}
