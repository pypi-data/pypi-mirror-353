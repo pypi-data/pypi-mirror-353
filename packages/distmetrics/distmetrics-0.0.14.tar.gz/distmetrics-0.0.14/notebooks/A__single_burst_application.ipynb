{
 "cells": [
  {
   "cell_type": "code",
   "execution_count": 1,
   "id": "42aeb6e0-f99d-4402-8471-76de0d77ade3",
   "metadata": {},
   "outputs": [],
   "source": [
    "%load_ext autoreload\n",
    "%autoreload 2"
   ]
  },
  {
   "cell_type": "code",
   "execution_count": 2,
   "id": "24973762-b9b0-48b9-9ed0-ea02d6d59061",
   "metadata": {},
   "outputs": [
    {
     "name": "stderr",
     "output_type": "stream",
     "text": [
      "/Users/cmarshak/miniforge3/envs/distmetrics/lib/python3.12/site-packages/tqdm/auto.py:21: TqdmWarning: IProgress not found. Please update jupyter and ipywidgets. See https://ipywidgets.readthedocs.io/en/stable/user_install.html\n",
      "  from .autonotebook import tqdm as notebook_tqdm\n"
     ]
    }
   ],
   "source": [
    "import matplotlib.pyplot as plt\n",
    "import numpy as np\n",
    "import pandas as pd\n",
    "from rasterio.plot import show\n",
    "from scipy.special import expit, logit\n",
    "\n",
    "from distmetrics import (\n",
    "    compute_mahalonobis_dist_2d,\n",
    "    compute_transformer_zscore,\n",
    "    despeckle_rtc_arrs_with_tv,\n",
    "    get_asf_rtc_burst_ts,\n",
    "    load_transformer_model,\n",
    "    read_asf_rtc_image_data,\n",
    ")"
   ]
  },
  {
   "cell_type": "markdown",
   "id": "cb9dbb9c-2ced-4d51-8daf-5f5c6f2591fa",
   "metadata": {},
   "source": [
    "References:\n",
    "\n",
    "- CNN story: https://www.cnn.com/2024/05/25/world/video/damage-papua-new-guinea-landslide-ldn-digvid\n",
    "- ASF Search: https://search.asf.alaska.edu/#/?polygon=POINT(143.3641%20-5.3821)&zoom=13.000&center=143.364,-5.425&resultsLoaded=true&granule=OPERA_L2_RTC-S1_T009-019294-IW2_20240603T084748Z_20240603T133726Z_S1A_30_v1.0&maxResults=250&dataset=OPERA-S1&productTypes=RTC"
   ]
  },
  {
   "cell_type": "code",
   "execution_count": 3,
   "id": "4bc199f2-0dae-4cad-9245-7da597225b0f",
   "metadata": {},
   "outputs": [],
   "source": [
    "BURST_ID = \"T009_019294_IW2\""
   ]
  },
  {
   "cell_type": "code",
   "execution_count": 4,
   "id": "d74a1c12-f245-4f23-9719-ef7aa730f2bf",
   "metadata": {},
   "outputs": [
    {
     "name": "stdout",
     "output_type": "stream",
     "text": [
      "# of results:  86\n"
     ]
    },
    {
     "data": {
      "text/html": [
       "<div>\n",
       "<style scoped>\n",
       "    .dataframe tbody tr th:only-of-type {\n",
       "        vertical-align: middle;\n",
       "    }\n",
       "\n",
       "    .dataframe tbody tr th {\n",
       "        vertical-align: top;\n",
       "    }\n",
       "\n",
       "    .dataframe thead th {\n",
       "        text-align: right;\n",
       "    }\n",
       "</style>\n",
       "<table border=\"1\" class=\"dataframe\">\n",
       "  <thead>\n",
       "    <tr style=\"text-align: right;\">\n",
       "      <th></th>\n",
       "      <th>opera_id</th>\n",
       "      <th>acq_datetime</th>\n",
       "      <th>polarization</th>\n",
       "      <th>track_number</th>\n",
       "      <th>geometry</th>\n",
       "      <th>url_vh</th>\n",
       "      <th>url_vv</th>\n",
       "      <th>dedup_id</th>\n",
       "    </tr>\n",
       "  </thead>\n",
       "  <tbody>\n",
       "    <tr>\n",
       "      <th>0</th>\n",
       "      <td>OPERA_L2_RTC-S1_T009-019294-IW2_20220109T08473...</td>\n",
       "      <td>2022-01-09 08:47:38+00:00</td>\n",
       "      <td>VV+VH</td>\n",
       "      <td>9</td>\n",
       "      <td>POLYGON ((143.32562 -5.40824, 144.11311 -5.233...</td>\n",
       "      <td>https://datapool.asf.alaska.edu/RTC/OPERA-S1/O...</td>\n",
       "      <td>https://datapool.asf.alaska.edu/RTC/OPERA-S1/O...</td>\n",
       "      <td>OPERA_L2_RTC-S1_T009-019294-IW2_20220109T084738Z</td>\n",
       "    </tr>\n",
       "    <tr>\n",
       "      <th>1</th>\n",
       "      <td>OPERA_L2_RTC-S1_T009-019294-IW2_20220121T08473...</td>\n",
       "      <td>2022-01-21 08:47:37+00:00</td>\n",
       "      <td>VV+VH</td>\n",
       "      <td>9</td>\n",
       "      <td>POLYGON ((143.32598 -5.40772, 144.11344 -5.232...</td>\n",
       "      <td>https://datapool.asf.alaska.edu/RTC/OPERA-S1/O...</td>\n",
       "      <td>https://datapool.asf.alaska.edu/RTC/OPERA-S1/O...</td>\n",
       "      <td>OPERA_L2_RTC-S1_T009-019294-IW2_20220121T084737Z</td>\n",
       "    </tr>\n",
       "    <tr>\n",
       "      <th>2</th>\n",
       "      <td>OPERA_L2_RTC-S1_T009-019294-IW2_20220202T08473...</td>\n",
       "      <td>2022-02-02 08:47:36+00:00</td>\n",
       "      <td>VV+VH</td>\n",
       "      <td>9</td>\n",
       "      <td>POLYGON ((143.3266 -5.40807, 144.11408 -5.2331...</td>\n",
       "      <td>https://datapool.asf.alaska.edu/RTC/OPERA-S1/O...</td>\n",
       "      <td>https://datapool.asf.alaska.edu/RTC/OPERA-S1/O...</td>\n",
       "      <td>OPERA_L2_RTC-S1_T009-019294-IW2_20220202T084736Z</td>\n",
       "    </tr>\n",
       "    <tr>\n",
       "      <th>3</th>\n",
       "      <td>OPERA_L2_RTC-S1_T009-019294-IW2_20220214T08473...</td>\n",
       "      <td>2022-02-14 08:47:37+00:00</td>\n",
       "      <td>VV+VH</td>\n",
       "      <td>9</td>\n",
       "      <td>POLYGON ((143.32545 -5.40826, 144.11296 -5.233...</td>\n",
       "      <td>https://datapool.asf.alaska.edu/RTC/OPERA-S1/O...</td>\n",
       "      <td>https://datapool.asf.alaska.edu/RTC/OPERA-S1/O...</td>\n",
       "      <td>OPERA_L2_RTC-S1_T009-019294-IW2_20220214T084737Z</td>\n",
       "    </tr>\n",
       "    <tr>\n",
       "      <th>4</th>\n",
       "      <td>OPERA_L2_RTC-S1_T009-019294-IW2_20220226T08473...</td>\n",
       "      <td>2022-02-26 08:47:36+00:00</td>\n",
       "      <td>VV+VH</td>\n",
       "      <td>9</td>\n",
       "      <td>POLYGON ((143.32548 -5.40829, 144.11299 -5.233...</td>\n",
       "      <td>https://datapool.asf.alaska.edu/RTC/OPERA-S1/O...</td>\n",
       "      <td>https://datapool.asf.alaska.edu/RTC/OPERA-S1/O...</td>\n",
       "      <td>OPERA_L2_RTC-S1_T009-019294-IW2_20220226T084736Z</td>\n",
       "    </tr>\n",
       "  </tbody>\n",
       "</table>\n",
       "</div>"
      ],
      "text/plain": [
       "                                            opera_id  \\\n",
       "0  OPERA_L2_RTC-S1_T009-019294-IW2_20220109T08473...   \n",
       "1  OPERA_L2_RTC-S1_T009-019294-IW2_20220121T08473...   \n",
       "2  OPERA_L2_RTC-S1_T009-019294-IW2_20220202T08473...   \n",
       "3  OPERA_L2_RTC-S1_T009-019294-IW2_20220214T08473...   \n",
       "4  OPERA_L2_RTC-S1_T009-019294-IW2_20220226T08473...   \n",
       "\n",
       "               acq_datetime polarization  track_number  \\\n",
       "0 2022-01-09 08:47:38+00:00        VV+VH             9   \n",
       "1 2022-01-21 08:47:37+00:00        VV+VH             9   \n",
       "2 2022-02-02 08:47:36+00:00        VV+VH             9   \n",
       "3 2022-02-14 08:47:37+00:00        VV+VH             9   \n",
       "4 2022-02-26 08:47:36+00:00        VV+VH             9   \n",
       "\n",
       "                                            geometry  \\\n",
       "0  POLYGON ((143.32562 -5.40824, 144.11311 -5.233...   \n",
       "1  POLYGON ((143.32598 -5.40772, 144.11344 -5.232...   \n",
       "2  POLYGON ((143.3266 -5.40807, 144.11408 -5.2331...   \n",
       "3  POLYGON ((143.32545 -5.40826, 144.11296 -5.233...   \n",
       "4  POLYGON ((143.32548 -5.40829, 144.11299 -5.233...   \n",
       "\n",
       "                                              url_vh  \\\n",
       "0  https://datapool.asf.alaska.edu/RTC/OPERA-S1/O...   \n",
       "1  https://datapool.asf.alaska.edu/RTC/OPERA-S1/O...   \n",
       "2  https://datapool.asf.alaska.edu/RTC/OPERA-S1/O...   \n",
       "3  https://datapool.asf.alaska.edu/RTC/OPERA-S1/O...   \n",
       "4  https://datapool.asf.alaska.edu/RTC/OPERA-S1/O...   \n",
       "\n",
       "                                              url_vv  \\\n",
       "0  https://datapool.asf.alaska.edu/RTC/OPERA-S1/O...   \n",
       "1  https://datapool.asf.alaska.edu/RTC/OPERA-S1/O...   \n",
       "2  https://datapool.asf.alaska.edu/RTC/OPERA-S1/O...   \n",
       "3  https://datapool.asf.alaska.edu/RTC/OPERA-S1/O...   \n",
       "4  https://datapool.asf.alaska.edu/RTC/OPERA-S1/O...   \n",
       "\n",
       "                                           dedup_id  \n",
       "0  OPERA_L2_RTC-S1_T009-019294-IW2_20220109T084738Z  \n",
       "1  OPERA_L2_RTC-S1_T009-019294-IW2_20220121T084737Z  \n",
       "2  OPERA_L2_RTC-S1_T009-019294-IW2_20220202T084736Z  \n",
       "3  OPERA_L2_RTC-S1_T009-019294-IW2_20220214T084737Z  \n",
       "4  OPERA_L2_RTC-S1_T009-019294-IW2_20220226T084736Z  "
      ]
     },
     "execution_count": 4,
     "metadata": {},
     "output_type": "execute_result"
    }
   ],
   "source": [
    "df_rtc_ts = get_asf_rtc_burst_ts(BURST_ID)\n",
    "print(\"# of results: \", df_rtc_ts.shape[0])\n",
    "df_rtc_ts.head()"
   ]
  },
  {
   "cell_type": "markdown",
   "id": "76d69294-902a-4e93-b62f-0adae5f86b9c",
   "metadata": {},
   "source": [
    "**Warning**: sometime this cell fails and must be re-run due to a transient server error."
   ]
  },
  {
   "cell_type": "code",
   "execution_count": 5,
   "id": "58c5dd08-1802-428d-a723-6fb69c31b7b2",
   "metadata": {},
   "outputs": [
    {
     "name": "stderr",
     "output_type": "stream",
     "text": [
      "Loading RTC data: 100%|█| 86/86 [01:06<\n",
      "Loading RTC data: 100%|█| 86/86 [01:09<\n"
     ]
    }
   ],
   "source": [
    "arrs_vv, profiles = read_asf_rtc_image_data(df_rtc_ts.url_vv.tolist())\n",
    "arrs_vh, _ = read_asf_rtc_image_data(df_rtc_ts.url_vh.tolist())"
   ]
  },
  {
   "cell_type": "code",
   "execution_count": 11,
   "id": "972cb2ff-a392-48a0-8556-c7c52d6eab42",
   "metadata": {},
   "outputs": [
    {
     "name": "stderr",
     "output_type": "stream",
     "text": [
      "Despeckling: 100%|█| 86/86 [00:31<00:00\n",
      "Despeckling: 100%|█| 86/86 [00:27<00:00\n"
     ]
    }
   ],
   "source": [
    "arrs_vv_d = despeckle_rtc_arrs_with_tv(arrs_vv)\n",
    "arrs_vh_d = despeckle_rtc_arrs_with_tv(arrs_vh)"
   ]
  },
  {
   "cell_type": "code",
   "execution_count": null,
   "id": "d4b9e34a-cd83-4cc0-b691-198eee210e7b",
   "metadata": {},
   "outputs": [],
   "source": [
    "for k, date in enumerate(df_rtc_ts.acq_datetime):\n",
    "    print(k, date)"
   ]
  },
  {
   "cell_type": "code",
   "execution_count": null,
   "id": "139eb797-400b-40e3-991d-7f11c813cc83",
   "metadata": {},
   "outputs": [],
   "source": [
    "EVENT_TS = pd.Timestamp(\"2024-05-28\", tz=\"utc\")\n",
    "N_PRE_IMAGES = 10\n",
    "\n",
    "pre_indices = [\n",
    "    k for (k, date) in enumerate(df_rtc_ts.acq_datetime.tolist()) if date < EVENT_TS\n",
    "][-N_PRE_IMAGES:]\n",
    "post_index = [\n",
    "    k for (k, date) in enumerate(df_rtc_ts.acq_datetime.tolist()) if date >= EVENT_TS\n",
    "][0]\n",
    "pre_indices, post_index"
   ]
  },
  {
   "cell_type": "code",
   "execution_count": null,
   "id": "8784b411-5d28-43e0-b1df-35d6da4a0813",
   "metadata": {},
   "outputs": [],
   "source": [
    "transformer = load_transformer_model(model_token=\"latest\")"
   ]
  },
  {
   "cell_type": "code",
   "execution_count": null,
   "id": "2aadae3f-d93e-46a9-8935-1fa0d6fedfa5",
   "metadata": {},
   "outputs": [],
   "source": [
    "pre_imgs_vv = [arrs_vv_d[k] for k in pre_indices]\n",
    "pre_imgs_vh = [arrs_vh_d[k] for k in pre_indices]"
   ]
  },
  {
   "cell_type": "code",
   "execution_count": null,
   "id": "9f2223ef-8fe9-4d8d-9525-07a94bc4e9d8",
   "metadata": {},
   "outputs": [],
   "source": [
    "sy = np.s_[1250:1500]\n",
    "sx = np.s_[400:750]\n",
    "plt.imshow(pre_imgs_vv[0][sy, sx])\n",
    "plt.colorbar()"
   ]
  },
  {
   "cell_type": "code",
   "execution_count": null,
   "id": "41084c0a-7e9c-428f-b814-f9c12dddcb5e",
   "metadata": {},
   "outputs": [],
   "source": [
    "pre_vv_c = [arr[sy, sx] for arr in pre_imgs_vv]\n",
    "pre_vh_c = [arr[sy, sx] for arr in pre_imgs_vh]\n",
    "\n",
    "post_vv_c = arrs_vv_d[post_index][sy, sx]\n",
    "post_vh_c = arrs_vh_d[post_index][sy, sx]"
   ]
  },
  {
   "cell_type": "code",
   "execution_count": null,
   "id": "99c4ffd5-1a72-4aa3-b2a5-b533d9423a0b",
   "metadata": {},
   "outputs": [],
   "source": [
    "dist_ob = compute_transformer_zscore(\n",
    "    transformer,\n",
    "    pre_vv_c,\n",
    "    pre_vh_c,\n",
    "    post_vv_c,\n",
    "    post_vh_c,\n",
    "    stride=2,\n",
    "    agg=\"max\",\n",
    "    batch_size=256,\n",
    "    memory_strategy=\"high\",\n",
    ")"
   ]
  },
  {
   "cell_type": "code",
   "execution_count": null,
   "id": "ceff0b4d-dfab-4ebb-8c28-01a9bd78bcc4",
   "metadata": {},
   "outputs": [],
   "source": [
    "plt.imshow(dist_ob.dist, vmax=5)\n",
    "plt.colorbar()"
   ]
  },
  {
   "cell_type": "code",
   "execution_count": null,
   "id": "8b0cda41-8692-4cf5-b708-65af97cfa38a",
   "metadata": {},
   "outputs": [],
   "source": [
    "plt.imshow(dist_ob.dist > 5.5, vmax=1, interpolation=\"none\")\n",
    "plt.colorbar()"
   ]
  },
  {
   "cell_type": "markdown",
   "id": "56d6bc88-5c42-40cb-822b-e83c62f2ea71",
   "metadata": {},
   "source": [
    "**Warninig**: the stat outputs of the function above are in `logits` NOT `gamma naught`. Hence `expit`!"
   ]
  },
  {
   "cell_type": "code",
   "execution_count": null,
   "id": "92d1bf41-f3b6-42a4-9699-c6b7dcfa89ba",
   "metadata": {},
   "outputs": [],
   "source": [
    "from scipy.special import expit\n",
    "\n",
    "plt.title(\"Mean Estimate VV ($\\gamma$)\")\n",
    "plt.imshow(expit(dist_ob.mean[0, ...]))\n",
    "plt.colorbar()"
   ]
  },
  {
   "cell_type": "markdown",
   "id": "7ad021fc-8b2c-4d8b-9799-4e0a8aca44ea",
   "metadata": {},
   "source": [
    "Can't really apply `expit` to `sigma`..."
   ]
  },
  {
   "cell_type": "code",
   "execution_count": null,
   "id": "dd54cde9-cb3b-4a65-bbc0-08f053c2ef12",
   "metadata": {},
   "outputs": [],
   "source": [
    "plt.title(\"Std Estimate logit(VV)\")\n",
    "plt.imshow(dist_ob.std[0, ...], vmax=1, vmin=0)\n",
    "plt.colorbar()"
   ]
  }
 ],
 "metadata": {
  "kernelspec": {
   "display_name": "distmetrics",
   "language": "python",
   "name": "distmetrics"
  },
  "language_info": {
   "codemirror_mode": {
    "name": "ipython",
    "version": 3
   },
   "file_extension": ".py",
   "mimetype": "text/x-python",
   "name": "python",
   "nbconvert_exporter": "python",
   "pygments_lexer": "ipython3",
   "version": "3.12.5"
  }
 },
 "nbformat": 4,
 "nbformat_minor": 5
}
