{
 "cells": [
  {
   "cell_type": "markdown",
   "metadata": {},
   "source": [
    "# Quick-Start Guide\n",
    "\n",
    "If you are using a supported Operating System - Architecture combination, you should be able to simply `pip install rust-code-analysis-python`, which will download and install the pre-compiled binary package.\n",
    "\n",
    "Should this fail, you may need to install the Rust toolchain to build from source. We recommend using https://rustup.rs/ to do so. Once installed, `pip install rust-code-analysis-python` will work as expected."
   ]
  },
  {
   "cell_type": "code",
   "execution_count": null,
   "metadata": {},
   "outputs": [],
   "source": [
    "%pip install rust-code-analysis-python\n",
    "from rust_code_analysis_python import compute_metrics, remove_comments\n",
    "\n",
    "filename = \"example.js\"\n",
    "code = \"\"\"\n",
    "/* My example file */\n",
    "const x = 42; // This is a constant\n",
    "function add(a, b) {\n",
    "    return a + b; // Adds two numbers\n",
    "}\n",
    "function fibonacci(n) {\n",
    "    if (n <= 1) return n; // Base case\n",
    "    return fibonacci(n - 1) + fibonacci(n - 2); // Recursive case\n",
    "}\n",
    "\"\"\""
   ]
  },
  {
   "cell_type": "markdown",
   "metadata": {},
   "source": [
    "## Remove comments from code"
   ]
  },
  {
   "cell_type": "code",
   "execution_count": 2,
   "metadata": {},
   "outputs": [
    {
     "name": "stdout",
     "output_type": "stream",
     "text": [
      "\n",
      "\n",
      "const x = 42; \n",
      "function add(a, b) {\n",
      "    return a + b; \n",
      "}\n",
      "function fibonacci(n) {\n",
      "    if (n <= 1) return n; \n",
      "    return fibonacci(n - 1) + fibonacci(n - 2); \n",
      "}\n",
      "\n"
     ]
    }
   ],
   "source": [
    "code_without_comments = remove_comments(filename, code)\n",
    "print(code_without_comments)"
   ]
  },
  {
   "cell_type": "markdown",
   "metadata": {},
   "source": [
    "## Get code metrics"
   ]
  },
  {
   "cell_type": "code",
   "execution_count": 11,
   "metadata": {},
   "outputs": [
    {
     "name": "stdout",
     "output_type": "stream",
     "text": [
      "File Metrics\n",
      "\tHalstead Difficulty = 12.0\n",
      "\tMaintainability Index = 62.70845905142113\n",
      "Function add metrics\n",
      "\tHalstead Difficulty = 5.833333333333333\n",
      "\tMaintainability Index = 78.25036867974562\n",
      "Function fibonacci metrics\n",
      "\tHalstead Difficulty = 12.375\n",
      "\tMaintainability Index = 72.71109985054457\n",
      "\n"
     ]
    }
   ],
   "source": [
    "\n",
    "metrics_result = compute_metrics(filename, code, unit=False)\n",
    "print(\"File Metrics\")\n",
    "print(\"\\tHalstead Difficulty =\", metrics_result['metrics']['halstead']['difficulty'])\n",
    "print(\"\\tMaintainability Index =\", metrics_result['metrics']['mi']['mi_visual_studio'])\n",
    "for space in metrics_result['spaces']:\n",
    "  print(f\"Function {space['name']} metrics\")\n",
    "  print(\"\\tHalstead Difficulty =\", space['metrics']['halstead']['difficulty'])\n",
    "  print(\"\\tMaintainability Index =\", space['metrics']['mi']['mi_visual_studio'])\n",
    "print()\n"
   ]
  },
  {
   "cell_type": "markdown",
   "metadata": {},
   "source": [
    "The following are all available metrics:"
   ]
  },
  {
   "cell_type": "code",
   "execution_count": 10,
   "metadata": {},
   "outputs": [
    {
     "name": "stdout",
     "output_type": "stream",
     "text": [
      "- name: example.js\n",
      "- start_line: 2\n",
      "- end_line: 10\n",
      "- kind: unit\n",
      "- spaces: A list of dictionaries with the same schema if unit=False, otherwise []\n",
      "- metrics:\n",
      "\t- nargs:\n",
      "\t\t- total_functions: 3.0\n",
      "\t\t- total_closures: 0.0\n",
      "\t\t- average_functions: 1.5\n",
      "\t\t- average_closures: 0.0\n",
      "\t\t- total: 3.0\n",
      "\t\t- average: 1.5\n",
      "\t\t- functions_min: 0.0\n",
      "\t\t- functions_max: 2.0\n",
      "\t\t- closures_min: 0.0\n",
      "\t\t- closures_max: 0.0\n",
      "\t- nexits:\n",
      "\t\t- sum: 0.0\n",
      "\t\t- average: 1.5\n",
      "\t\t- min: 0.0\n",
      "\t\t- max: 2.0\n",
      "\t- cognitive:\n",
      "\t\t- sum: 1.0\n",
      "\t\t- average: 0.5\n",
      "\t\t- min: 0.0\n",
      "\t\t- max: 1.0\n",
      "\t- cyclomatic:\n",
      "\t\t- sum: 4.0\n",
      "\t\t- average: 1.3333333333333333\n",
      "\t\t- min: 1.0\n",
      "\t\t- max: 2.0\n",
      "\t- halstead:\n",
      "\t\t- n1: 12.0\n",
      "\t\t- N1: 25.0\n",
      "\t\t- n2: 9.0\n",
      "\t\t- N2: 18.0\n",
      "\t\t- length: 43.0\n",
      "\t\t- estimated_program_length: 71.54887502163469\n",
      "\t\t- purity_ratio: 1.6639273260845275\n",
      "\t\t- vocabulary: 21.0\n",
      "\t\t- volume: 188.86964917948671\n",
      "\t\t- difficulty: 12.0\n",
      "\t\t- level: 0.08333333333333333\n",
      "\t\t- effort: 2266.4357901538406\n",
      "\t\t- time: 125.91309945299115\n",
      "\t\t- bugs: 0.05751410399993093\n",
      "\t- loc:\n",
      "\t\t- sloc: 9.0\n",
      "\t\t- ploc: 8.0\n",
      "\t\t- lloc: 6.0\n",
      "\t\t- cloc: 5.0\n",
      "\t\t- blank: 0.0\n",
      "\t\t- sloc_average: 3.0\n",
      "\t\t- ploc_average: 2.6666666666666665\n",
      "\t\t- lloc_average: 2.0\n",
      "\t\t- cloc_average: 1.6666666666666667\n",
      "\t\t- blank_average: 0.0\n",
      "\t\t- sloc_min: 3.0\n",
      "\t\t- sloc_max: 4.0\n",
      "\t\t- cloc_min: 1.0\n",
      "\t\t- cloc_max: 2.0\n",
      "\t\t- ploc_min: 3.0\n",
      "\t\t- ploc_max: 4.0\n",
      "\t\t- lloc_min: 2.0\n",
      "\t\t- lloc_max: 4.0\n",
      "\t\t- blank_min: 0.0\n",
      "\t\t- blank_max: 0.0\n",
      "\t- nom:\n",
      "\t\t- functions: 2.0\n",
      "\t\t- closures: 0.0\n",
      "\t\t- functions_average: 0.6666666666666666\n",
      "\t\t- closures_average: 0.0\n",
      "\t\t- total: 2.0\n",
      "\t\t- average: 0.6666666666666666\n",
      "\t\t- functions_min: 0.0\n",
      "\t\t- functions_max: 1.0\n",
      "\t\t- closures_min: 0.0\n",
      "\t\t- closures_max: 0.0\n",
      "\t- mi:\n",
      "\t\t- mi_original: 107.23146497793014\n",
      "\t\t- mi_sei: 125.14242821222805\n",
      "\t\t- mi_visual_studio: 62.70845905142113\n",
      "\t- abc:\n",
      "\t\t- assignments: 0.0\n",
      "\t\t- branches: 0.0\n",
      "\t\t- conditions: 0.0\n",
      "\t\t- magnitude: 0.0\n",
      "\t\t- assignments_average: 0.0\n",
      "\t\t- branches_average: 0.0\n",
      "\t\t- conditions_average: 0.0\n",
      "\t\t- assignments_min: 0.0\n",
      "\t\t- assignments_max: 0.0\n",
      "\t\t- branches_min: 0.0\n",
      "\t\t- branches_max: 0.0\n",
      "\t\t- conditions_min: 0.0\n",
      "\t\t- conditions_max: 0.0\n"
     ]
    }
   ],
   "source": [
    "def pprint_dict(d, depth = 0):\n",
    "  for k, v in d.items():\n",
    "    head = f\"{'\\t'*depth}- {k}:\"\n",
    "    if k == 'spaces':\n",
    "      print(head, \"A list of dictionaries with the same schema if unit=False, otherwise []\")\n",
    "    elif isinstance(v, dict):\n",
    "      print(head)\n",
    "      pprint_dict(v, depth + 1)\n",
    "    else: \n",
    "      print(head, v)\n",
    "pprint_dict(metrics_result)"
   ]
  }
 ],
 "metadata": {
  "kernelspec": {
   "display_name": "env",
   "language": "python",
   "name": "python3"
  },
  "language_info": {
   "codemirror_mode": {
    "name": "ipython",
    "version": 3
   },
   "file_extension": ".py",
   "mimetype": "text/x-python",
   "name": "python",
   "nbconvert_exporter": "python",
   "pygments_lexer": "ipython3",
   "version": "3.13.3"
  }
 },
 "nbformat": 4,
 "nbformat_minor": 2
}
