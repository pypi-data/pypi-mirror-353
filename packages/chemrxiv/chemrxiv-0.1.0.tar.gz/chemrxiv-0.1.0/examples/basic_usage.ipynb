{
 "cells": [
  {
   "cell_type": "markdown",
   "metadata": {},
   "source": [
    "# Usage example: Basic usage\n",
    "\n",
    "## Configure logging (for debugging)\n"
   ]
  },
  {
   "cell_type": "code",
   "execution_count": null,
   "metadata": {},
   "outputs": [],
   "source": [
    "import logging\n",
    "import sys\n",
    "\n",
    "# Configure logging to show DEBUG level messages\n",
    "logging.basicConfig(\n",
    "    level=logging.DEBUG,\n",
    "    format=\"%(asctime)s - %(name)s - %(levelname)s - %(message)s\",\n",
    "    handlers=[logging.StreamHandler(sys.stdout)],\n",
    ")\n",
    "\n",
    "# Set logger for chemrxiv to DEBUG\n",
    "chemrxiv_logger = logging.getLogger(\"chemrxiv\")\n",
    "chemrxiv_logger.setLevel(logging.DEBUG)"
   ]
  },
  {
   "cell_type": "markdown",
   "metadata": {},
   "source": [
    "## Initialize the ChemRxiv client\n"
   ]
  },
  {
   "cell_type": "code",
   "execution_count": null,
   "metadata": {},
   "outputs": [],
   "source": [
    "import chemrxiv\n",
    "\n",
    "# Create a client with a smaller delay to speed up testing\n",
    "client = chemrxiv.Client(page_size=10, delay_seconds=0, num_retries=3)"
   ]
  },
  {
   "cell_type": "markdown",
   "metadata": {},
   "source": [
    "## Search for keywords and sort\n"
   ]
  },
  {
   "cell_type": "code",
   "execution_count": null,
   "metadata": {},
   "outputs": [],
   "source": [
    "# Test a simple search\n",
    "logging.info(\"\\nTesting search for 'catalysis'\")\n",
    "search = chemrxiv.Search(\n",
    "    term=\"ammonia+decomposition\",\n",
    "    limit=10,\n",
    "    sort=chemrxiv.SortCriterion.PUBLISHED_DATE_DESC,\n",
    ")\n",
    "\n",
    "logging.info(\n",
    "    f\"Searching for {search.term} with limit {search.limit} and sort {search.sort}\"\n",
    ")\n",
    "results = list(client.results(search))\n",
    "logging.info(len(results))\n",
    "logging.info(results)"
   ]
  },
  {
   "cell_type": "markdown",
   "metadata": {},
   "source": [
    "## Inspect the results\n"
   ]
  },
  {
   "cell_type": "code",
   "execution_count": null,
   "metadata": {},
   "outputs": [],
   "source": [
    "for key in results[0]._raw.keys():\n",
    "    print(f\"{key}: {results[0]._raw[key]}\")\n",
    "\n",
    "## Download the PDF\n",
    "results[0].pdf_url\n",
    "results[0].download_pdf()\n",
    "results[0].download_si()"
   ]
  },
  {
   "cell_type": "markdown",
   "metadata": {},
   "source": [
    "## Get all available categories\n"
   ]
  },
  {
   "cell_type": "code",
   "execution_count": null,
   "metadata": {},
   "outputs": [],
   "source": [
    "print(\"\\nExample 2: Get all categories\")\n",
    "categories = client.categories()\n",
    "print(f\"Found {len(categories)} categories\")\n",
    "for i, category in enumerate(categories[:5], 1):  # Just print the first 5\n",
    "    print(f\"{i}. {category.name} ({category.id})\")\n",
    "    if category.description:\n",
    "        print(f\"   Description: {category.description}\")\n",
    "    if category.count:\n",
    "        print(f\"   Count: {category.count}\")\n",
    "    print()"
   ]
  },
  {
   "cell_type": "markdown",
   "metadata": {},
   "source": [
    "## Get all available licenses\n"
   ]
  },
  {
   "cell_type": "code",
   "execution_count": null,
   "metadata": {},
   "outputs": [],
   "source": [
    "print(\"\\nExample 3: Get all licenses\")\n",
    "licenses = client.licenses()\n",
    "print(f\"Found {len(licenses)} licenses\")\n",
    "for i, license in enumerate(licenses, 1):\n",
    "    print(f\"{i}. {license.name} ({license.id})\")\n",
    "    if license.url:\n",
    "        print(f\"   URL: {license.url}\")\n",
    "    print()"
   ]
  },
  {
   "cell_type": "markdown",
   "metadata": {},
   "source": [
    "## Get paper by ChemRxiv ID\n"
   ]
  },
  {
   "cell_type": "code",
   "execution_count": null,
   "metadata": {},
   "outputs": [],
   "source": [
    "paper_id = (\n",
    "    \"6826a61850018ac7c5739260\"  # Use one of the real paper IDs from the search\n",
    ")\n",
    "\n",
    "paper = client.item(paper_id)\n",
    "print(f\"Title: {paper.title}\")\n",
    "print(f\"Authors: {', '.join(str(author) for author in paper.authors)}\")\n",
    "print(f\"Abstract: {paper.abstract[:100]}...\")  # First 100 chars of abstract\n",
    "print(f\"DOI: {paper.doi}\")"
   ]
  },
  {
   "cell_type": "markdown",
   "metadata": {},
   "source": [
    "## Get a paper by DOI\n"
   ]
  },
  {
   "cell_type": "code",
   "execution_count": null,
   "metadata": {},
   "outputs": [],
   "source": [
    "doi = (\n",
    "    \"10.26434/chemrxiv-2025-5j4tn\"  # Use the DOI from the first search result\n",
    ")\n",
    "\n",
    "paper = client.item_by_doi(doi)\n",
    "print(f\"Title: {paper.title}\")\n",
    "print(f\"Authors: {', '.join(str(author) for author in paper.authors)}\")\n",
    "print(f\"Abstract: {paper.abstract[:100]}...\")\n",
    "print(f\"ID: {paper.id}\")"
   ]
  },
  {
   "cell_type": "markdown",
   "metadata": {},
   "source": [
    "## Search with filters\n"
   ]
  },
  {
   "cell_type": "code",
   "execution_count": null,
   "metadata": {},
   "outputs": [],
   "source": [
    "filtered_search = chemrxiv.Search(\n",
    "    term=\"catalysis\",\n",
    "    limit=3,\n",
    "    search_date_from=\"2023-01-01T00:00:00.000Z\",\n",
    "    search_date_to=\"2025-05-19T00:00:00.000Z\",\n",
    "    search_license=\"CC-BY-4.0\",\n",
    "    category_ids=[\"605c72ef153207001f6470d4\"],\n",
    ")\n",
    "filtered_results = list(client.results(filtered_search))\n",
    "print(f\"Found {len(filtered_results)} filtered results\")\n",
    "for i, result in enumerate(filtered_results, 1):\n",
    "    print(f\"{i}. {result.title}\")\n",
    "    print(f\"   Published: {result.published_date}\")"
   ]
  }
 ],
 "metadata": {
  "kernelspec": {
   "display_name": ".venv",
   "language": "python",
   "name": "python3"
  },
  "language_info": {
   "codemirror_mode": {
    "name": "ipython",
    "version": 3
   },
   "file_extension": ".py",
   "mimetype": "text/x-python",
   "name": "python",
   "nbconvert_exporter": "python",
   "pygments_lexer": "ipython3",
   "version": "3.12.10"
  }
 },
 "nbformat": 4,
 "nbformat_minor": 2
}
