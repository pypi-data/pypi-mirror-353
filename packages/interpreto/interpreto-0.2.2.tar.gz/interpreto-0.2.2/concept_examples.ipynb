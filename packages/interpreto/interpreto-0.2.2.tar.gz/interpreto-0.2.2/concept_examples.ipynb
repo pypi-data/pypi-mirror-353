{
    "cells": [
        {
            "cell_type": "markdown",
            "metadata": {},
            "source": [
                "# Examples of how to build concept-based explanations"
            ]
        },
        {
            "cell_type": "markdown",
            "metadata": {},
            "source": [
                "Load the model and list modules to find where to split it."
            ]
        },
        {
            "cell_type": "code",
            "execution_count": null,
            "metadata": {},
            "outputs": [],
            "source": [
                "from transformers import AutoModelForCausalLM\n",
                "\n",
                "model = AutoModelForCausalLM.from_pretrained(\"gpt2\")\n",
                "\n",
                "print(list(model.named_children()))\n",
                "del model"
            ]
        },
        {
            "cell_type": "markdown",
            "metadata": {},
            "source": [
                "### Split the model using the `ModelWithSplitPoints` class"
            ]
        },
        {
            "cell_type": "code",
            "execution_count": 3,
            "metadata": {},
            "outputs": [],
            "source": [
                "from interpreto import ModelWithSplitPoints\n",
                "\n",
                "splitted_model = ModelWithSplitPoints(\n",
                "    model_or_repo_id=\"gpt2\",\n",
                "    split_points=\"transformer.h.1.mlp\",\n",
                "    model_autoclass=AutoModelForCausalLM,\n",
                ")"
            ]
        },
        {
            "cell_type": "markdown",
            "metadata": {},
            "source": [
                "### Load the dataset and compute activations"
            ]
        },
        {
            "cell_type": "code",
            "execution_count": 4,
            "metadata": {},
            "outputs": [],
            "source": [
                "from datasets import load_dataset\n",
                "\n",
                "rotten_tomatoes = load_dataset(\"cornell-movie-review-data/rotten_tomatoes\")[\"train\"][\"text\"]\n",
                "\n",
                "activations = splitted_model.get_activations(rotten_tomatoes[1000:])\n",
                "\n",
                "print(activations.shape)"
            ]
        },
        {
            "cell_type": "markdown",
            "metadata": {},
            "source": [
                "### Create and fit the concept explainer"
            ]
        },
        {
            "cell_type": "code",
            "execution_count": null,
            "metadata": {},
            "outputs": [],
            "source": [
                "from interpreto.concepts import ICAConcepts\n",
                "\n",
                "concept_explainer = ICAConcepts(splitted_model, nb_concepts=10)\n",
                "\n",
                "concept_explainer.fit(activations)"
            ]
        },
        {
            "cell_type": "markdown",
            "metadata": {},
            "source": [
                "### Interpret the concepts"
            ]
        },
        {
            "cell_type": "code",
            "execution_count": 15,
            "metadata": {},
            "outputs": [],
            "source": [
                "from interpreto.concepts.interpretations import Granularities, InterpretationSources, TopKInputs\n",
                "\n",
                "some_words = [\n",
                "    \"excellent\",\n",
                "    \"amazing\",\n",
                "    \"fantastic\",\n",
                "    \"outstanding\",\n",
                "    \"great\",\n",
                "    \"perfect\",\n",
                "    \"wonderful\",\n",
                "    \"superb\",\n",
                "    \"love\",\n",
                "    \"loved\",\n",
                "    \"satisfied\",\n",
                "    \"recommend\",\n",
                "    \"best\",\n",
                "    \"delightful\",\n",
                "    \"pleasant\",\n",
                "    \"enjoyed\",\n",
                "    \"happy\",\n",
                "    \"awesome\",\n",
                "    \"brilliant\",\n",
                "    \"incredible\",\n",
                "    \"flawless\",\n",
                "    \"impressive\",\n",
                "    \"top-notch\",\n",
                "    \"well-done\",\n",
                "    \"five stars\",\n",
                "    \"worth it\",\n",
                "    \"will buy again\",\n",
                "    \"high quality\",\n",
                "    \"fast delivery\",\n",
                "    \"friendlyterrible\",\n",
                "    \"awful\",\n",
                "    \"bad\",\n",
                "    \"poor\",\n",
                "    \"disappointing\",\n",
                "    \"hate\",\n",
                "    \"horrible\",\n",
                "    \"worst\",\n",
                "    \"boring\",\n",
                "    \"rude\",\n",
                "    \"unsatisfied\",\n",
                "    \"never again\",\n",
                "    \"waste\",\n",
                "    \"problem\",\n",
                "    \"issue\",\n",
                "    \"slow\",\n",
                "    \"cheap\",\n",
                "    \"low quality\",\n",
                "    \"broken\",\n",
                "    \"not recommended\",\n",
                "    \"annoying\",\n",
                "    \"frustrating\",\n",
                "    \"one star\",\n",
                "    \"unacceptable\",\n",
                "    \"defective\",\n",
                "    \"dirty\",\n",
                "    \"late delivery\",\n",
                "    \"noisy\",\n",
                "    \"difficult\",\n",
                "    \"didn't work\",\n",
                "]\n",
                "\n",
                "interpretations = concept_explainer.interpret(\n",
                "    TopKInputs,\n",
                "    concepts_indices=\"all\",\n",
                "    source=InterpretationSources.INPUTS,\n",
                "    granularity=Granularities.TOKENS,\n",
                "    inputs=some_words,\n",
                "    k=5,\n",
                ")"
            ]
        },
        {
            "cell_type": "code",
            "execution_count": null,
            "metadata": {},
            "outputs": [],
            "source": [
                "for concept_id, words_importance in interpretations.items():\n",
                "    print(f\"Concept {concept_id}: {words_importance}\")"
            ]
        }
    ],
    "metadata": {
        "language_info": {
            "name": "python"
        }
    },
    "nbformat": 4,
    "nbformat_minor": 2
}
