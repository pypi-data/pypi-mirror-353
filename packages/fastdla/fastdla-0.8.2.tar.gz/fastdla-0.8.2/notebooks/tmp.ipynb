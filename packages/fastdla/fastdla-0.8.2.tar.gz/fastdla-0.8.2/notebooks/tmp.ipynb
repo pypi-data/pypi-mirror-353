{
 "cells": [
  {
   "cell_type": "code",
   "execution_count": 1,
   "id": "e5bc568b",
   "metadata": {},
   "outputs": [],
   "source": [
    "import os\n",
    "import logging\n",
    "import numpy as np\n",
    "import h5py\n",
    "import jax\n",
    "import jax.numpy as jnp\n",
    "import matplotlib.pyplot as plt\n",
    "import pennylane as qml\n",
    "\n",
    "from fastdla.lie_closure import lie_closure\n",
    "from fastdla.generators.hea import hea_generators\n",
    "from fastdla.generators.spin_glass import spin_glass_generators\n",
    "from fastdla.generators.heisenberg_hva import xxz_hva_generators\n",
    "from fastdla.generators.tfim_hva import tfim_1d_hva_generators\n",
    "from fastdla.generators.spin_chain import (magnetization_eigenspace, parity_eigenspace,\n",
    "                                           translation_eigenspace, spin_flip_eigenspace)"
   ]
  },
  {
   "cell_type": "code",
   "execution_count": 2,
   "id": "ee01a097",
   "metadata": {},
   "outputs": [],
   "source": [
    "num_qubits = 4\n",
    "generators = hea_generators(num_qubits=num_qubits)"
   ]
  },
  {
   "cell_type": "code",
   "execution_count": 13,
   "id": "0c269cc0",
   "metadata": {},
   "outputs": [],
   "source": [
    "from pennylane import X, Y, Z\n",
    "from pennylane.pauli import PauliSentence, PauliWord\n",
    "\n",
    "qml_generators = []\n",
    "for op in generators:\n",
    "    sentence = {}\n",
    "    for pstr, coeff in zip(op.paulis, op.coeffs):\n",
    "        word = PauliWord({idx: p for idx, p in enumerate(pstr[::-1]) if p != 'I'})\n",
    "        sentence[word] = coeff\n",
    "    sentence = PauliSentence(sentence)\n",
    "    qml_generators.append(sentence)\n"
   ]
  },
  {
   "cell_type": "code",
   "execution_count": 15,
   "id": "7f55d86d",
   "metadata": {},
   "outputs": [
    {
     "name": "stderr",
     "output_type": "stream",
     "text": [
      "/usr/local/lib/python3.10/dist-packages/pennylane/pauli/dla/lie_closure.py:422: ComplexWarning: Casting complex values to real discards the imaginary part\n",
      "  M[pw_to_idx[pw], rank] = value\n"
     ]
    }
   ],
   "source": [
    "closure = qml.lie_closure(qml_generators)"
   ]
  },
  {
   "cell_type": "code",
   "execution_count": 16,
   "id": "f9fcb289",
   "metadata": {},
   "outputs": [
    {
     "data": {
      "text/plain": [
       "255"
      ]
     },
     "execution_count": 16,
     "metadata": {},
     "output_type": "execute_result"
    }
   ],
   "source": [
    "len(closure)"
   ]
  },
  {
   "cell_type": "code",
   "execution_count": null,
   "id": "b199dacc",
   "metadata": {},
   "outputs": [],
   "source": []
  }
 ],
 "metadata": {
  "kernelspec": {
   "display_name": "Python 3 (ipykernel)",
   "language": "python",
   "name": "python3"
  },
  "language_info": {
   "codemirror_mode": {
    "name": "ipython",
    "version": 3
   },
   "file_extension": ".py",
   "mimetype": "text/x-python",
   "name": "python",
   "nbconvert_exporter": "python",
   "pygments_lexer": "ipython3",
   "version": "3.10.12"
  }
 },
 "nbformat": 4,
 "nbformat_minor": 5
}
