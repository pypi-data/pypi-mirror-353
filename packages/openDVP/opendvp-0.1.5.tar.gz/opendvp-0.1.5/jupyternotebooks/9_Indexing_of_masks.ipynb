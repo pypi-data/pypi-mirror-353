{
 "cells": [
  {
   "cell_type": "code",
   "execution_count": 1,
   "metadata": {},
   "outputs": [
    {
     "name": "stderr",
     "output_type": "stream",
     "text": [
      "/opt/homebrew/Caskroom/mambaforge/base/envs/spatialdata/lib/python3.10/site-packages/dask/dataframe/__init__.py:31: FutureWarning: The legacy Dask DataFrame implementation is deprecated and will be removed in a future version. Set the configuration option `dataframe.query-planning` to `True` or None to enable the new Dask Dataframe implementation and silence this warning.\n",
      "  warnings.warn(\n",
      "/opt/homebrew/Caskroom/mambaforge/base/envs/spatialdata/lib/python3.10/site-packages/numba/core/decorators.py:246: RuntimeWarning: nopython is set for njit and is ignored\n",
      "  warnings.warn('nopython is set for njit and is ignored', RuntimeWarning)\n",
      "/opt/homebrew/Caskroom/mambaforge/base/envs/spatialdata/lib/python3.10/site-packages/anndata/utils.py:429: FutureWarning: Importing read_csv from `anndata` is deprecated. Import anndata.io.read_csv instead.\n",
      "  warnings.warn(msg, FutureWarning)\n",
      "/opt/homebrew/Caskroom/mambaforge/base/envs/spatialdata/lib/python3.10/site-packages/anndata/utils.py:429: FutureWarning: Importing read_excel from `anndata` is deprecated. Import anndata.io.read_excel instead.\n",
      "  warnings.warn(msg, FutureWarning)\n",
      "/opt/homebrew/Caskroom/mambaforge/base/envs/spatialdata/lib/python3.10/site-packages/anndata/utils.py:429: FutureWarning: Importing read_hdf from `anndata` is deprecated. Import anndata.io.read_hdf instead.\n",
      "  warnings.warn(msg, FutureWarning)\n",
      "/opt/homebrew/Caskroom/mambaforge/base/envs/spatialdata/lib/python3.10/site-packages/anndata/utils.py:429: FutureWarning: Importing read_loom from `anndata` is deprecated. Import anndata.io.read_loom instead.\n",
      "  warnings.warn(msg, FutureWarning)\n",
      "/opt/homebrew/Caskroom/mambaforge/base/envs/spatialdata/lib/python3.10/site-packages/anndata/utils.py:429: FutureWarning: Importing read_mtx from `anndata` is deprecated. Import anndata.io.read_mtx instead.\n",
      "  warnings.warn(msg, FutureWarning)\n",
      "/opt/homebrew/Caskroom/mambaforge/base/envs/spatialdata/lib/python3.10/site-packages/anndata/utils.py:429: FutureWarning: Importing read_text from `anndata` is deprecated. Import anndata.io.read_text instead.\n",
      "  warnings.warn(msg, FutureWarning)\n",
      "/opt/homebrew/Caskroom/mambaforge/base/envs/spatialdata/lib/python3.10/site-packages/anndata/utils.py:429: FutureWarning: Importing read_umi_tools from `anndata` is deprecated. Import anndata.io.read_umi_tools instead.\n",
      "  warnings.warn(msg, FutureWarning)\n"
     ]
    }
   ],
   "source": [
    "#imports\n",
    "import spatialdata\n",
    "import dask_image.imread\n",
    "import dask.array as da\n",
    "import geopandas as gpd\n",
    "import anndata as ad\n",
    "import napari_spatialdata\n",
    "import time\n",
    "\n",
    "import sys, os\n",
    "sys.path.append(os.path.abspath(\"../functions/\"))\n",
    "import anndata_utils"
   ]
  },
  {
   "cell_type": "code",
   "execution_count": 2,
   "metadata": {},
   "outputs": [
    {
     "name": "stdout",
     "output_type": "stream",
     "text": [
      "spatialdata: 0.2.5.post0\n",
      "geopandas: 1.0.1\n",
      "anndata: 0.11.1\n",
      "napari_spatialdata: 0.5.3\n"
     ]
    }
   ],
   "source": [
    "for package in [spatialdata, gpd, ad, napari_spatialdata]:\n",
    "    print(f\"{package.__name__}: {package.__version__}\")"
   ]
  },
  {
   "cell_type": "code",
   "execution_count": 3,
   "metadata": {},
   "outputs": [],
   "source": [
    "#paths\n",
    "path_to_mIF = \"/Volumes/Extreme SSD/P26_BCCN/P26E07_E08_E09_SOPA_Gates/processed_images/991.ome.tif\"\n",
    "path_to_mask = \"/Volumes/Extreme SSD/P26_BCCN/P26E07_E08_E09_SOPA_Gates/expanded-masks/991.tif\"\n",
    "path_to_shapes = \"../data/geojsons/Primary/processed/20241129_1442_Primary991_harmonized.geojson\"\n",
    "path_to_imaging = \"../data/imaging/991.csv\"\n",
    "path_to_proteomics = \"../data/proteomic/20241201_170620_filtered_imputed_outerjoin_mergefirst.h5ad\"\n",
    "\n",
    "# initiate spatialdata object\n",
    "sdata = spatialdata.SpatialData()"
   ]
  },
  {
   "cell_type": "code",
   "execution_count": 4,
   "metadata": {},
   "outputs": [
    {
     "name": "stdout",
     "output_type": "stream",
     "text": [
      "\u001b[34mINFO    \u001b[0m no axes information specified in the object, setting `dims` to: \u001b[1m(\u001b[0m\u001b[32m'c'\u001b[0m, \u001b[32m'y'\u001b[0m, \u001b[32m'x'\u001b[0m\u001b[1m)\u001b[0m                           \n"
     ]
    }
   ],
   "source": [
    "#parse image\n",
    "image = dask_image.imread.imread(path_to_mIF)\n",
    "image = image.rechunk(chunks=(1, 5000, 5000))\n",
    "parsed_image = spatialdata.models.Image2DModel.parse(image)\n",
    "sdata['image'] = parsed_image"
   ]
  },
  {
   "cell_type": "code",
   "execution_count": 5,
   "metadata": {},
   "outputs": [
    {
     "name": "stdout",
     "output_type": "stream",
     "text": [
      "\u001b[34mINFO    \u001b[0m no axes information specified in the object, setting `dims` to: \u001b[1m(\u001b[0m\u001b[32m'y'\u001b[0m, \u001b[32m'x'\u001b[0m\u001b[1m)\u001b[0m                                \n"
     ]
    }
   ],
   "source": [
    "#parse mask\n",
    "mask = dask_image.imread.imread(path_to_mask)\n",
    "mask = da.squeeze(mask)\n",
    "assert mask.ndim == 2\n",
    "mask = mask.rechunk(chunks=(5000, 5000))\n",
    "sdata['mask'] = spatialdata.models.Labels2DModel.parse(mask)"
   ]
  },
  {
   "cell_type": "code",
   "execution_count": 6,
   "metadata": {},
   "outputs": [],
   "source": [
    "#create polygons from mask\n",
    "sdata['poly_mask'] = spatialdata.to_polygons(sdata['mask'])\n",
    "# change datatype of index to int64 to match CellID from imaging table\n",
    "sdata['poly_mask'].index = sdata['poly_mask'].index.astype('int64')"
   ]
  },
  {
   "cell_type": "code",
   "execution_count": 7,
   "metadata": {},
   "outputs": [],
   "source": [
    "# parse shapes \n",
    "gdf = gpd.read_file(path_to_shapes)\n",
    "# make column matching proteomic table the index\n",
    "gdf = gdf.set_index(\"harmonized_class\")\n",
    "sdata[\"Primary_contours\"] = spatialdata.models.ShapesModel.parse(gdf)"
   ]
  },
  {
   "cell_type": "code",
   "execution_count": 8,
   "metadata": {},
   "outputs": [
    {
     "name": "stderr",
     "output_type": "stream",
     "text": [
      "/opt/homebrew/Caskroom/mambaforge/base/envs/spatialdata/lib/python3.10/site-packages/spatialdata/_core/_elements.py:116: UserWarning: Key `proteomics` already exists. Overwriting it in-memory.\n",
      "  self._check_key(key, self.keys(), self._shared_keys)\n"
     ]
    }
   ],
   "source": [
    "#load proteomic table\n",
    "adata = ad.read_h5ad(path_to_proteomics)\n",
    "adata.obs[\"region\"] = \"Primary_contours\"\n",
    "adata.obs[\"region\"] = adata.obs[\"region\"].astype(\"category\")\n",
    "table = spatialdata.models.TableModel.parse(adata, region = \"Primary_contours\", region_key = \"region\", instance_key = \"shape_key\")\n",
    "sdata[\"proteomics\"] = table\n",
    "sdata['proteomics'] = anndata_utils.switch_adat_var_index(sdata['proteomics'], \"Genes\")\n",
    "sdata['proteomics'].var.sort_index(inplace=True) #much easier to find a gene like this"
   ]
  },
  {
   "cell_type": "code",
   "execution_count": 9,
   "metadata": {},
   "outputs": [
    {
     "name": "stderr",
     "output_type": "stream",
     "text": [
      "\u001b[32m2024-12-09 15:25:55.616\u001b[0m | \u001b[1mINFO    \u001b[0m | \u001b[36manndata_utils\u001b[0m:\u001b[36mread_quant\u001b[0m:\u001b[36m13\u001b[0m - \u001b[1m ---- read_quant : version number 1.1.0 ----\u001b[0m\n",
      "\u001b[32m2024-12-09 15:25:58.844\u001b[0m | \u001b[1mINFO    \u001b[0m | \u001b[36manndata_utils\u001b[0m:\u001b[36mread_quant\u001b[0m:\u001b[36m33\u001b[0m - \u001b[1m 685805 cells and 75 variables\u001b[0m\n",
      "\u001b[32m2024-12-09 15:25:58.845\u001b[0m | \u001b[1mINFO    \u001b[0m | \u001b[36manndata_utils\u001b[0m:\u001b[36mread_quant\u001b[0m:\u001b[36m34\u001b[0m - \u001b[1m ---- read_quant is done, took 3s  ----\u001b[0m\n"
     ]
    }
   ],
   "source": [
    "#load imaging table\n",
    "adata = anndata_utils.read_quant(path_to_imaging)\n",
    "#labels and cells ids should start at 1, 0 is reserved for background\n",
    "adata.obs['CellID'] = adata.obs['CellID'] + 1\n",
    "adata.obs.index = adata.obs.index.astype('int64')\n",
    "adata.obs.index = adata.obs.index + 1\n",
    "adata.obs[\"region\"] = \"poly_mask\"\n",
    "adata.obs[\"region\"] = adata.obs[\"region\"].astype(\"category\")\n",
    "table = spatialdata.models.TableModel.parse(adata, region = \"poly_mask\", region_key = \"region\", instance_key = \"CellID\")\n",
    "sdata[\"imaging\"] = table"
   ]
  },
  {
   "cell_type": "code",
   "execution_count": 10,
   "metadata": {},
   "outputs": [
    {
     "name": "stdout",
     "output_type": "stream",
     "text": [
      "\u001b[34mINFO    \u001b[0m The Zarr backing store has been changed from \u001b[3;35mNone\u001b[0m the new file path:                                      \n",
      "         ..\u001b[35m/data/sdata/\u001b[0m\u001b[95m20241209_1525_sdata_full.zarr\u001b[0m                                                               \n"
     ]
    }
   ],
   "source": [
    "datetime = time.strftime(\"%Y%m%d_%H%M\")\n",
    "sdata.write(f\"../data/sdata/{datetime}_sdata_full.zarr\")"
   ]
  },
  {
   "cell_type": "code",
   "execution_count": 11,
   "metadata": {},
   "outputs": [
    {
     "name": "stderr",
     "output_type": "stream",
     "text": [
      "\u001b[32m2024-12-09 15:40:18.094\u001b[0m | \u001b[1mINFO    \u001b[0m | \u001b[36mfiltering\u001b[0m:\u001b[36mfilter_by_abs_value\u001b[0m:\u001b[36m36\u001b[0m - \u001b[1m ---- filter_by_abs_value : version number 1.1.0 ----\u001b[0m\n",
      "/opt/homebrew/Caskroom/mambaforge/base/envs/spatialdata/lib/python3.10/site-packages/anndata/_core/aligned_df.py:68: ImplicitModificationWarning: Transforming to str index.\n",
      "  warnings.warn(\"Transforming to str index.\", ImplicitModificationWarning)\n",
      "\u001b[32m2024-12-09 15:40:18.429\u001b[0m | \u001b[1mINFO    \u001b[0m | \u001b[36mfiltering\u001b[0m:\u001b[36mfilter_by_abs_value\u001b[0m:\u001b[36m70\u001b[0m - \u001b[1mNumber of cells with mean_DAPI_bg above 200: 638060\u001b[0m\n",
      "\u001b[32m2024-12-09 15:40:18.430\u001b[0m | \u001b[1mINFO    \u001b[0m | \u001b[36mfiltering\u001b[0m:\u001b[36mfilter_by_abs_value\u001b[0m:\u001b[36m85\u001b[0m - \u001b[1m ---- filter_by_abs_value is done, took 0s  ----\u001b[0m\n",
      "/opt/homebrew/Caskroom/mambaforge/base/envs/spatialdata/lib/python3.10/site-packages/spatialdata/_core/_elements.py:116: UserWarning: Key `imaging` already exists. Overwriting it in-memory.\n",
      "  self._check_key(key, self.keys(), self._shared_keys)\n"
     ]
    }
   ],
   "source": [
    "import filtering\n",
    "sdata['imaging'] = filtering.filter_by_abs_value(\n",
    "    adata = sdata['imaging'],\n",
    "    marker = \"mean_DAPI_bg\",\n",
    "    value=200,\n",
    "    direction=\"above\"\n",
    ")"
   ]
  },
  {
   "cell_type": "code",
   "execution_count": 12,
   "metadata": {},
   "outputs": [
    {
     "name": "stderr",
     "output_type": "stream",
     "text": [
      "\u001b[32m2024-12-09 15:40:19.589\u001b[0m | \u001b[1mINFO    \u001b[0m | \u001b[36mqupath_utils\u001b[0m:\u001b[36msdata_to_qupath_detections\u001b[0m:\u001b[36m35\u001b[0m - \u001b[1mConverting poly_mask geodataframe to detections\u001b[0m\n",
      "\u001b[32m2024-12-09 15:40:19.591\u001b[0m | \u001b[33m\u001b[1mWARNING \u001b[0m | \u001b[36mqupath_utils\u001b[0m:\u001b[36msdata_to_qupath_detections\u001b[0m:\u001b[36m48\u001b[0m - \u001b[33m\u001b[1mmean_DAPI_bg_above_200 is not a categorical, converting to categorical\u001b[0m\n",
      "\u001b[32m2024-12-09 15:40:19.613\u001b[0m | \u001b[1mINFO    \u001b[0m | \u001b[36mqupath_utils\u001b[0m:\u001b[36msdata_to_qupath_detections\u001b[0m:\u001b[36m58\u001b[0m - \u001b[1mCheck of inputs completed, starting conversion to detections\u001b[0m\n",
      "\u001b[32m2024-12-09 15:40:19.615\u001b[0m | \u001b[1mINFO    \u001b[0m | \u001b[36mqupath_utils\u001b[0m:\u001b[36msdata_to_qupath_detections\u001b[0m:\u001b[36m69\u001b[0m - \u001b[1mNaming detections as cellID\u001b[0m\n",
      "\u001b[32m2024-12-09 15:40:19.757\u001b[0m | \u001b[1mINFO    \u001b[0m | \u001b[36mqupath_utils\u001b[0m:\u001b[36msdata_to_qupath_detections\u001b[0m:\u001b[36m73\u001b[0m - \u001b[1mLabeling geometries as detections, for smooth viewing in QuPath\u001b[0m\n",
      "\u001b[32m2024-12-09 15:40:19.762\u001b[0m | \u001b[1mINFO    \u001b[0m | \u001b[36mqupath_utils\u001b[0m:\u001b[36msdata_to_qupath_detections\u001b[0m:\u001b[36m77\u001b[0m - \u001b[1mClassifying detections by mean_DAPI_bg_above_200\u001b[0m\n",
      "\u001b[32m2024-12-09 15:40:19.769\u001b[0m | \u001b[1mINFO    \u001b[0m | \u001b[36mqupath_utils\u001b[0m:\u001b[36msdata_to_qupath_detections\u001b[0m:\u001b[36m80\u001b[0m - \u001b[1mClasses found in table:\n",
      "mean_DAPI_bg_above_200\n",
      "True     638060\n",
      "False     47745\u001b[0m\n",
      "\u001b[32m2024-12-09 15:40:19.960\u001b[0m | \u001b[1mINFO    \u001b[0m | \u001b[36mqupath_utils\u001b[0m:\u001b[36msdata_to_qupath_detections\u001b[0m:\u001b[36m83\u001b[0m - \u001b[1mClasses now in shapes: ['True' 'False']\u001b[0m\n",
      "\u001b[32m2024-12-09 15:40:19.961\u001b[0m | \u001b[1mINFO    \u001b[0m | \u001b[36mqupath_utils\u001b[0m:\u001b[36msdata_to_qupath_detections\u001b[0m:\u001b[36m90\u001b[0m - \u001b[1mNo color_dict found, using defaults\u001b[0m\n",
      "\u001b[32m2024-12-09 15:40:19.961\u001b[0m | \u001b[1mINFO    \u001b[0m | \u001b[36mqupath_utils\u001b[0m:\u001b[36msdata_to_qupath_detections\u001b[0m:\u001b[36m94\u001b[0m - \u001b[1mcolor_dict created: {'False': [31, 119, 180], 'True': [255, 127, 14]}\u001b[0m\n",
      "\u001b[32m2024-12-09 15:40:23.122\u001b[0m | \u001b[1mINFO    \u001b[0m | \u001b[36mqupath_utils\u001b[0m:\u001b[36msdata_to_qupath_detections\u001b[0m:\u001b[36m101\u001b[0m - \u001b[1mSimplifying the geometry with tolerance 1.0\u001b[0m\n",
      "/opt/homebrew/Caskroom/mambaforge/base/envs/spatialdata/lib/python3.10/site-packages/pyogrio/geopandas.py:662: UserWarning: 'crs' was not provided.  The output dataset will not have projection information defined and may not be usable in other systems.\n",
      "  write(\n"
     ]
    }
   ],
   "source": [
    "import qupath_utils\n",
    "import importlib\n",
    "importlib.reload(qupath_utils)\n",
    "\n",
    "qupath_utils.sdata_to_qupath_detections(\n",
    "    sdata=sdata,\n",
    "    key_to_shapes=\"poly_mask\",\n",
    "    export_path=f\"../data/geojsons/{datetime}_qupath_detections_justint64.geojson\",\n",
    "    table_key=\"imaging\",\n",
    "    classify_by=\"mean_DAPI_bg_above_200\",\n",
    ")"
   ]
  },
  {
   "cell_type": "markdown",
   "metadata": {},
   "source": [
    "# Indexing works now :) "
   ]
  },
  {
   "cell_type": "markdown",
   "metadata": {},
   "source": [
    "Summary:\n",
    "    If the indexing column share same dtype and same order it works fine, I changed both index and CellID, because sometimes I use index."
   ]
  }
 ],
 "metadata": {
  "kernelspec": {
   "display_name": "spatialdata",
   "language": "python",
   "name": "python3"
  },
  "language_info": {
   "codemirror_mode": {
    "name": "ipython",
    "version": 3
   },
   "file_extension": ".py",
   "mimetype": "text/x-python",
   "name": "python",
   "nbconvert_exporter": "python",
   "pygments_lexer": "ipython3",
   "version": "3.12.9"
  }
 },
 "nbformat": 4,
 "nbformat_minor": 2
}
