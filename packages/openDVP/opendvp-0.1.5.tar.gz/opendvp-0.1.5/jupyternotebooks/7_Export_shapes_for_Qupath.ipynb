{
 "cells": [
  {
   "cell_type": "markdown",
   "metadata": {},
   "source": [
    "# Export shapes for QuPath QC"
   ]
  },
  {
   "cell_type": "markdown",
   "metadata": {},
   "source": [
    "### See [Issue #6](https://github.com/josenimo/openDVP/issues/6) for more details. "
   ]
  },
  {
   "cell_type": "markdown",
   "metadata": {},
   "source": [
    "## Scenario 1: from spatialdata"
   ]
  },
  {
   "cell_type": "code",
   "execution_count": 1,
   "metadata": {},
   "outputs": [
    {
     "name": "stderr",
     "output_type": "stream",
     "text": [
      "/opt/homebrew/Caskroom/mambaforge/base/envs/spatialdata/lib/python3.10/site-packages/dask/dataframe/__init__.py:31: FutureWarning: The legacy Dask DataFrame implementation is deprecated and will be removed in a future version. Set the configuration option `dataframe.query-planning` to `True` or None to enable the new Dask Dataframe implementation and silence this warning.\n",
      "  warnings.warn(\n",
      "/opt/homebrew/Caskroom/mambaforge/base/envs/spatialdata/lib/python3.10/site-packages/numba/core/decorators.py:246: RuntimeWarning: nopython is set for njit and is ignored\n",
      "  warnings.warn('nopython is set for njit and is ignored', RuntimeWarning)\n"
     ]
    }
   ],
   "source": [
    "# imports\n",
    "import spatialdata"
   ]
  },
  {
   "cell_type": "code",
   "execution_count": 2,
   "metadata": {},
   "outputs": [
    {
     "name": "stderr",
     "output_type": "stream",
     "text": [
      "/opt/homebrew/Caskroom/mambaforge/base/envs/spatialdata/lib/python3.10/site-packages/zarr/creation.py:614: UserWarning: ignoring keyword argument 'read_only'\n",
      "  compressor, fill_value = _kwargs_compat(compressor, fill_value, kwargs)\n",
      "/opt/homebrew/Caskroom/mambaforge/base/envs/spatialdata/lib/python3.10/site-packages/anndata/_core/anndata.py:1758: UserWarning: Variable names are not unique. To make them unique, call `.var_names_make_unique`.\n",
      "  utils.warn_names_duplicates(\"var\")\n"
     ]
    }
   ],
   "source": [
    "sdata = spatialdata.read_zarr(\"../data/sdata/20241201_1730_sdata_fullres.zarr\")"
   ]
  },
  {
   "cell_type": "code",
   "execution_count": 3,
   "metadata": {},
   "outputs": [
    {
     "data": {
      "text/plain": [
       "SpatialData object, with associated Zarr store: /Users/jnimoca/Jose_BI/1_Pipelines/openDVP/data/sdata/20241201_1730_sdata_fullres.zarr\n",
       "├── Images\n",
       "│     └── 'image': DataArray[cyx] (15, 44470, 73167)\n",
       "├── Labels\n",
       "│     └── 'mask': DataArray[yx] (44470, 73167)\n",
       "├── Shapes\n",
       "│     └── 'Primary_contours': GeoDataFrame shape: (347, 6) (2D shapes)\n",
       "└── Tables\n",
       "      └── 'proteomics': AnnData (18, 4531)\n",
       "with coordinate systems:\n",
       "    ▸ 'global', with elements:\n",
       "        image (Images), mask (Labels), Primary_contours (Shapes)"
      ]
     },
     "execution_count": 3,
     "metadata": {},
     "output_type": "execute_result"
    }
   ],
   "source": [
    "sdata"
   ]
  },
  {
   "cell_type": "code",
   "execution_count": 4,
   "metadata": {},
   "outputs": [],
   "source": [
    "# lets polygonize the labels\n",
    "sdata['seg_polygons'] = spatialdata.to_polygons(sdata['mask'])"
   ]
  },
  {
   "cell_type": "code",
   "execution_count": null,
   "metadata": {},
   "outputs": [],
   "source": [
    "# name them after their cellid, this will be shown in Qupath, might be useful to track them\n",
    "sdata['seg_polygons']['name'] = \"cellID_\" + sdata['seg_polygons']['label'].astype(int).astype(str)"
   ]
  },
  {
   "cell_type": "code",
   "execution_count": 58,
   "metadata": {},
   "outputs": [],
   "source": [
    "# Important to set the objectType to detection, so that QuPath knows that these are detections and not annotations\n",
    "# Detections are much more computationally efficient to work with in QuPath\n",
    "sdata['seg_polygons']['properties'] = {'objectType' : \"detection\"}"
   ]
  },
  {
   "cell_type": "code",
   "execution_count": null,
   "metadata": {},
   "outputs": [],
   "source": [
    "# to_polygons creates both index and column called label, maybe this breaks something for napari interactive viz\n",
    "sdata['seg_polygons'].drop(columns=['label'], inplace=True)"
   ]
  },
  {
   "cell_type": "code",
   "execution_count": 64,
   "metadata": {},
   "outputs": [
    {
     "name": "stderr",
     "output_type": "stream",
     "text": [
      "/opt/homebrew/Caskroom/mambaforge/base/envs/spatialdata/lib/python3.10/site-packages/pyogrio/geopandas.py:662: UserWarning: 'crs' was not provided.  The output dataset will not have projection information defined and may not be usable in other systems.\n",
      "  write(\n"
     ]
    }
   ],
   "source": [
    "import time\n",
    "datetime = time.strftime(\"%Y%m%d_%H%M%S\")\n",
    "sdata['seg_polygons'].to_file(f\"../data/sdata/{datetime}_fullres_qupath.geojson\", driver=\"GeoJSON\")"
   ]
  },
  {
   "cell_type": "markdown",
   "metadata": {},
   "source": [
    "## Scenario 2. Files"
   ]
  },
  {
   "cell_type": "code",
   "execution_count": null,
   "metadata": {},
   "outputs": [],
   "source": [
    "path_to_subset_mask = \"../data/subset_elements/mask.ome.tif\""
   ]
  },
  {
   "cell_type": "code",
   "execution_count": 65,
   "metadata": {},
   "outputs": [],
   "source": [
    "#lets try to poligonize the mask\n",
    "import numpy as np\n",
    "from shapely.geometry import shape, MultiPolygon\n",
    "from rasterio.features import shapes\n",
    "import geopandas as gpd\n",
    "import skimage.io \n",
    "\n",
    "#TODO deal with allowed datatypes\n",
    "def create_geodataframe_with_multipolygons(array):\n",
    "    \"\"\"\n",
    "    Converts a labeled segmentation mask into a GeoDataFrame with polygons or multipolygons for each cell.\n",
    "    Args:\n",
    "        array: A 2D labeled segmentation mask, where pixel values represent cell IDs and background is 0.\n",
    "    Returns:\n",
    "        geopandas.GeoDataFrame: A GeoDataFrame containing polygons/multipolygons and their cell IDs.\n",
    "    Caveats:\n",
    "        Larger than memory arrays will fail\n",
    "    \"\"\"\n",
    "    \n",
    "    # Dictionary to store geometries grouped by cell ID\n",
    "    cell_geometries = {}\n",
    "    \n",
    "    # Extract shapes and corresponding values\n",
    "    for shape_dict, cell_id in shapes(array, mask=(array > 0)):\n",
    "        polygon = shape(shape_dict)  # Convert to Shapely geometry\n",
    "        cell_id = int(cell_id)\n",
    "        if cell_id not in cell_geometries:\n",
    "            cell_geometries[cell_id] = []\n",
    "        cell_geometries[cell_id].append(polygon)\n",
    "    \n",
    "    # Combine multiple polygons into MultiPolygons if needed\n",
    "    cell_ids = []\n",
    "    geometries = []\n",
    "    for cell_id, polygons in cell_geometries.items():\n",
    "        if len(polygons) == 1:\n",
    "            geometries.append(polygons[0])  # Single Polygon\n",
    "        else:\n",
    "            geometries.append(MultiPolygon(polygons))  # Combine into MultiPolygon\n",
    "        cell_ids.append(cell_id)\n",
    "    \n",
    "    # Create a GeoDataFrame\n",
    "    gdf = gpd.GeoDataFrame({'cellId': cell_ids, 'geometry': geometries}, crs=\"EPSG:4326\")\n",
    "    \n",
    "    return gdf"
   ]
  },
  {
   "cell_type": "code",
   "execution_count": null,
   "metadata": {},
   "outputs": [],
   "source": [
    "mask = skimage.io.imread(path_to_subset_mask)\n",
    "mask = mask.astype(np.int32)\n",
    "gdf = create_geodataframe_with_multipolygons(mask)"
   ]
  },
  {
   "cell_type": "code",
   "execution_count": null,
   "metadata": {},
   "outputs": [],
   "source": [
    "gdf.sort_values(by='cellId', inplace=True)\n",
    "gdf.reset_index(drop=True, inplace=True)\n",
    "gdf['objectType'] = 'detection'\n",
    "gdf['name'] = \"cellID_\" + gdf['cellId'].astype(str)"
   ]
  },
  {
   "cell_type": "code",
   "execution_count": null,
   "metadata": {},
   "outputs": [],
   "source": [
    "import time\n",
    "datetime = time.strftime(\"%Y%m%d_%H%M%S\")\n",
    "gdf.to_file(f\"../data/subset_elements/{datetime}mask_detections.geojson\", driver='GeoJSON')"
   ]
  },
  {
   "cell_type": "markdown",
   "metadata": {},
   "source": [
    "'name' has to be lower case"
   ]
  },
  {
   "cell_type": "code",
   "execution_count": null,
   "metadata": {},
   "outputs": [],
   "source": [
    "# we could color them by using classification"
   ]
  }
 ],
 "metadata": {
  "kernelspec": {
   "display_name": "spatialdata",
   "language": "python",
   "name": "python3"
  },
  "language_info": {
   "codemirror_mode": {
    "name": "ipython",
    "version": 3
   },
   "file_extension": ".py",
   "mimetype": "text/x-python",
   "name": "python",
   "nbconvert_exporter": "python",
   "pygments_lexer": "ipython3",
   "version": "3.12.9"
  }
 },
 "nbformat": 4,
 "nbformat_minor": 2
}
