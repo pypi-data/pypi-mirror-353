{
 "cells": [
  {
   "cell_type": "code",
   "execution_count": 2,
   "metadata": {},
   "outputs": [
    {
     "name": "stderr",
     "output_type": "stream",
     "text": [
      "/Users/jnimoca/Jose_BI/1_Pipelines/openDVP/.pixi/envs/default/lib/python3.12/site-packages/dask/dataframe/__init__.py:31: FutureWarning: The legacy Dask DataFrame implementation is deprecated and will be removed in a future version. Set the configuration option `dataframe.query-planning` to `True` or None to enable the new Dask Dataframe implementation and silence this warning.\n",
      "  warnings.warn(\n"
     ]
    }
   ],
   "source": [
    "import sys, os\n",
    "sys.path.append(os.path.abspath(\"../functions/\"))\n",
    "import qupath_utils"
   ]
  },
  {
   "cell_type": "code",
   "execution_count": null,
   "metadata": {},
   "outputs": [],
   "source": [
    "# qc stitching by drag and dropping images into qupath"
   ]
  },
  {
   "cell_type": "code",
   "execution_count": 7,
   "metadata": {},
   "outputs": [
    {
     "name": "stdout",
     "output_type": "stream",
     "text": [
      "\u001b[34mINFO    \u001b[0m no axes information specified in the object, setting `dims` to: \u001b[1m(\u001b[0m\u001b[32m'y'\u001b[0m, \u001b[32m'x'\u001b[0m\u001b[1m)\u001b[0m                                \n"
     ]
    },
    {
     "name": "stderr",
     "output_type": "stream",
     "text": [
      "\u001b[32m2025-01-15 13:05:45.960\u001b[0m | \u001b[1mINFO    \u001b[0m | \u001b[36mqupath_utils\u001b[0m:\u001b[36msegmentation_mask_to_qupath_detections\u001b[0m:\u001b[36m60\u001b[0m - \u001b[1mSimplifying the geometry with tolerance 1\u001b[0m\n"
     ]
    }
   ],
   "source": [
    "# to check mask, transform tif to geojson\n",
    "import importlib\n",
    "importlib.reload(qupath_utils)\n",
    "\n",
    "gdf = qupath_utils.segmentation_mask_to_qupath_detections(\n",
    "    path_to_mask = \"../data/exemplar001/segmentation/mesmer-Exemplar001/cell.tif\",\n",
    ")"
   ]
  },
  {
   "cell_type": "code",
   "execution_count": 8,
   "metadata": {},
   "outputs": [
    {
     "data": {
      "text/html": [
       "<div>\n",
       "<style scoped>\n",
       "    .dataframe tbody tr th:only-of-type {\n",
       "        vertical-align: middle;\n",
       "    }\n",
       "\n",
       "    .dataframe tbody tr th {\n",
       "        vertical-align: top;\n",
       "    }\n",
       "\n",
       "    .dataframe thead th {\n",
       "        text-align: right;\n",
       "    }\n",
       "</style>\n",
       "<table border=\"1\" class=\"dataframe\">\n",
       "  <thead>\n",
       "    <tr style=\"text-align: right;\">\n",
       "      <th></th>\n",
       "      <th>geometry</th>\n",
       "      <th>objectType</th>\n",
       "    </tr>\n",
       "    <tr>\n",
       "      <th>label</th>\n",
       "      <th></th>\n",
       "      <th></th>\n",
       "    </tr>\n",
       "  </thead>\n",
       "  <tbody>\n",
       "    <tr>\n",
       "      <th>1</th>\n",
       "      <td>POLYGON ((1775 267.5, 1765 267.5, 1761.5 264, ...</td>\n",
       "      <td>detection</td>\n",
       "    </tr>\n",
       "    <tr>\n",
       "      <th>2</th>\n",
       "      <td>POLYGON ((1074 670.5, 1070 670.5, 1067.5 667, ...</td>\n",
       "      <td>detection</td>\n",
       "    </tr>\n",
       "    <tr>\n",
       "      <th>3</th>\n",
       "      <td>POLYGON ((1119 676.5, 1105 675.5, 1101.5 672, ...</td>\n",
       "      <td>detection</td>\n",
       "    </tr>\n",
       "    <tr>\n",
       "      <th>4</th>\n",
       "      <td>POLYGON ((1330 685.5, 1322 682.5, 1320.5 678, ...</td>\n",
       "      <td>detection</td>\n",
       "    </tr>\n",
       "    <tr>\n",
       "      <th>5</th>\n",
       "      <td>POLYGON ((910 685.5, 906 685.5, 900.5 680, 900...</td>\n",
       "      <td>detection</td>\n",
       "    </tr>\n",
       "    <tr>\n",
       "      <th>...</th>\n",
       "      <td>...</td>\n",
       "      <td>...</td>\n",
       "    </tr>\n",
       "    <tr>\n",
       "      <th>9707</th>\n",
       "      <td>POLYGON ((1082 3139.5, 1075 3139.5, 1072.5 313...</td>\n",
       "      <td>detection</td>\n",
       "    </tr>\n",
       "    <tr>\n",
       "      <th>9708</th>\n",
       "      <td>POLYGON ((1137 3139.5, 1120.5 3139, 1119.5 313...</td>\n",
       "      <td>detection</td>\n",
       "    </tr>\n",
       "    <tr>\n",
       "      <th>9709</th>\n",
       "      <td>POLYGON ((1184 3139.5, 1154 3139.5, 1149.5 313...</td>\n",
       "      <td>detection</td>\n",
       "    </tr>\n",
       "    <tr>\n",
       "      <th>9710</th>\n",
       "      <td>POLYGON ((1231 3139.5, 1216 3139.5, 1214.5 313...</td>\n",
       "      <td>detection</td>\n",
       "    </tr>\n",
       "    <tr>\n",
       "      <th>9711</th>\n",
       "      <td>POLYGON ((1282 3139.5, 1253 3139.5, 1252.5 313...</td>\n",
       "      <td>detection</td>\n",
       "    </tr>\n",
       "  </tbody>\n",
       "</table>\n",
       "<p>9711 rows × 2 columns</p>\n",
       "</div>"
      ],
      "text/plain": [
       "                                                geometry objectType\n",
       "label                                                              \n",
       "1      POLYGON ((1775 267.5, 1765 267.5, 1761.5 264, ...  detection\n",
       "2      POLYGON ((1074 670.5, 1070 670.5, 1067.5 667, ...  detection\n",
       "3      POLYGON ((1119 676.5, 1105 675.5, 1101.5 672, ...  detection\n",
       "4      POLYGON ((1330 685.5, 1322 682.5, 1320.5 678, ...  detection\n",
       "5      POLYGON ((910 685.5, 906 685.5, 900.5 680, 900...  detection\n",
       "...                                                  ...        ...\n",
       "9707   POLYGON ((1082 3139.5, 1075 3139.5, 1072.5 313...  detection\n",
       "9708   POLYGON ((1137 3139.5, 1120.5 3139, 1119.5 313...  detection\n",
       "9709   POLYGON ((1184 3139.5, 1154 3139.5, 1149.5 313...  detection\n",
       "9710   POLYGON ((1231 3139.5, 1216 3139.5, 1214.5 313...  detection\n",
       "9711   POLYGON ((1282 3139.5, 1253 3139.5, 1252.5 313...  detection\n",
       "\n",
       "[9711 rows x 2 columns]"
      ]
     },
     "execution_count": 8,
     "metadata": {},
     "output_type": "execute_result"
    }
   ],
   "source": [
    "gdf"
   ]
  },
  {
   "cell_type": "code",
   "execution_count": 10,
   "metadata": {},
   "outputs": [
    {
     "name": "stderr",
     "output_type": "stream",
     "text": [
      "/Users/jnimoca/Jose_BI/1_Pipelines/openDVP/.pixi/envs/default/lib/python3.12/site-packages/pyogrio/geopandas.py:662: UserWarning: 'crs' was not provided.  The output dataset will not have projection information defined and may not be usable in other systems.\n",
      "  write(\n"
     ]
    }
   ],
   "source": [
    "gdf.to_file(\"../data/geojsons/exemplar001/segmask_cell.geojson\", driver='GeoJSON')"
   ]
  }
 ],
 "metadata": {
  "kernelspec": {
   "display_name": "default",
   "language": "python",
   "name": "python3"
  },
  "language_info": {
   "codemirror_mode": {
    "name": "ipython",
    "version": 3
   },
   "file_extension": ".py",
   "mimetype": "text/x-python",
   "name": "python",
   "nbconvert_exporter": "python",
   "pygments_lexer": "ipython3",
   "version": "3.12.8"
  }
 },
 "nbformat": 4,
 "nbformat_minor": 2
}
