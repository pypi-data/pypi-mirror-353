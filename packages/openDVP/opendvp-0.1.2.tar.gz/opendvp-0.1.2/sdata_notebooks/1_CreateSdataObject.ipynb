{
 "cells": [
  {
   "cell_type": "code",
   "execution_count": 1,
   "metadata": {},
   "outputs": [
    {
     "name": "stderr",
     "output_type": "stream",
     "text": [
      "/Users/jnimoca/Jose_BI/1_Pipelines/openDVP/.pixi/envs/default/lib/python3.12/site-packages/dask/dataframe/__init__.py:31: FutureWarning: The legacy Dask DataFrame implementation is deprecated and will be removed in a future version. Set the configuration option `dataframe.query-planning` to `True` or None to enable the new Dask Dataframe implementation and silence this warning.\n",
      "  warnings.warn(\n"
     ]
    },
    {
     "name": "stdout",
     "output_type": "stream",
     "text": [
      "spatialdata: 0.2.3\n",
      "napari_spatialdata: 0.5.3\n"
     ]
    }
   ],
   "source": [
    "#imports\n",
    "import spatialdata\n",
    "import dask_image.imread\n",
    "import dask.array as da\n",
    "import napari_spatialdata\n",
    "\n",
    "import sys, os\n",
    "sys.path.append(os.path.abspath(\"../functions/\"))\n",
    "import anndata_utils\n",
    "\n",
    "for package in [spatialdata, napari_spatialdata]:\n",
    "    print(f\"{package.__name__}: {package.__version__}\")"
   ]
  },
  {
   "cell_type": "code",
   "execution_count": 2,
   "metadata": {},
   "outputs": [],
   "source": [
    "#paths\n",
    "path_to_image = \"../data/exemplar001/registration/Exemplar001.ome.tif\"\n",
    "path_to_mask = \"../data/exemplar001/segmentation/mesmer-Exemplar001/cell.tif\"\n",
    "path_to_quant = \"../data/exemplar001/quantification/Exemplar001--mesmer_cell.csv\" "
   ]
  },
  {
   "cell_type": "code",
   "execution_count": 3,
   "metadata": {},
   "outputs": [],
   "source": [
    "#create sdata\n",
    "sdata = spatialdata.SpatialData()"
   ]
  },
  {
   "cell_type": "code",
   "execution_count": 4,
   "metadata": {},
   "outputs": [
    {
     "name": "stdout",
     "output_type": "stream",
     "text": [
      "\u001b[34mINFO    \u001b[0m no axes information specified in the object, setting `dims` to: \u001b[1m(\u001b[0m\u001b[32m'c'\u001b[0m, \u001b[32m'y'\u001b[0m, \u001b[32m'x'\u001b[0m\u001b[1m)\u001b[0m                           \n"
     ]
    }
   ],
   "source": [
    "#parse mIF image\n",
    "image = dask_image.imread.imread(path_to_image)\n",
    "sdata['image'] = spatialdata.models.Image2DModel.parse(image)"
   ]
  },
  {
   "cell_type": "code",
   "execution_count": 5,
   "metadata": {},
   "outputs": [
    {
     "name": "stdout",
     "output_type": "stream",
     "text": [
      "\u001b[34mINFO    \u001b[0m no axes information specified in the object, setting `dims` to: \u001b[1m(\u001b[0m\u001b[32m'y'\u001b[0m, \u001b[32m'x'\u001b[0m\u001b[1m)\u001b[0m                                \n"
     ]
    }
   ],
   "source": [
    "#parse mask\n",
    "mask = dask_image.imread.imread(path_to_mask)\n",
    "mask = da.squeeze(mask) #remove singleton dimension\n",
    "sdata['mask'] = spatialdata.models.Labels2DModel.parse(mask)"
   ]
  },
  {
   "cell_type": "code",
   "execution_count": 6,
   "metadata": {},
   "outputs": [
    {
     "name": "stderr",
     "output_type": "stream",
     "text": [
      "\u001b[32m2025-01-14 16:49:10.808\u001b[0m | \u001b[1mINFO    \u001b[0m | \u001b[36manndata_utils\u001b[0m:\u001b[36mread_quant\u001b[0m:\u001b[36m16\u001b[0m - \u001b[1m ---- read_quant : version number 1.1.0 ----\u001b[0m\n",
      "\u001b[32m2025-01-14 16:49:10.836\u001b[0m | \u001b[1mINFO    \u001b[0m | \u001b[36manndata_utils\u001b[0m:\u001b[36mread_quant\u001b[0m:\u001b[36m36\u001b[0m - \u001b[1m 9711 cells and 12 variables\u001b[0m\n",
      "\u001b[32m2025-01-14 16:49:10.837\u001b[0m | \u001b[1mINFO    \u001b[0m | \u001b[36manndata_utils\u001b[0m:\u001b[36mread_quant\u001b[0m:\u001b[36m37\u001b[0m - \u001b[1m ---- read_quant is done, took 0s  ----\u001b[0m\n"
     ]
    }
   ],
   "source": [
    "#parse quantification table\n",
    "adata = anndata_utils.read_quant(path_to_quant) #create adata from csv\n",
    "sdata[\"imaging\"] = spatialdata.models.TableModel.parse(adata)"
   ]
  },
  {
   "cell_type": "code",
   "execution_count": 7,
   "metadata": {},
   "outputs": [
    {
     "data": {
      "text/plain": [
       "SpatialData object\n",
       "├── Images\n",
       "│     └── 'image': DataArray[cyx] (12, 3139, 2511)\n",
       "├── Labels\n",
       "│     └── 'mask': DataArray[yx] (3139, 2511)\n",
       "└── Tables\n",
       "      └── 'imaging': AnnData (9711, 12)\n",
       "with coordinate systems:\n",
       "    ▸ 'global', with elements:\n",
       "        image (Images), mask (Labels)"
      ]
     },
     "execution_count": 7,
     "metadata": {},
     "output_type": "execute_result"
    }
   ],
   "source": [
    "sdata"
   ]
  },
  {
   "cell_type": "code",
   "execution_count": 8,
   "metadata": {},
   "outputs": [
    {
     "name": "stdout",
     "output_type": "stream",
     "text": [
      "\u001b[34mINFO    \u001b[0m The Zarr backing store has been changed from \u001b[3;35mNone\u001b[0m the new file path: ..\u001b[35m/data/exemplar001/\u001b[0m\u001b[95mexemplar001.zarr\u001b[0m \n"
     ]
    }
   ],
   "source": [
    "#write as zarr object\n",
    "sdata.write(\"../data/exemplar001/exemplar001.zarr\")"
   ]
  },
  {
   "cell_type": "code",
   "execution_count": 14,
   "metadata": {},
   "outputs": [],
   "source": [
    "# QC1 Visual check of stitching and segmentation\n",
    "interactive = napari_spatialdata.Interactive(sdata)\n",
    "interactive.run()"
   ]
  },
  {
   "cell_type": "code",
   "execution_count": 13,
   "metadata": {},
   "outputs": [],
   "source": [
    "# size considerations:\n",
    "# if image too big you have to chunk it to save it as a zarr\n",
    "# if image too big you have to create a downsampled version of the image"
   ]
  }
 ],
 "metadata": {
  "kernelspec": {
   "display_name": "default",
   "language": "python",
   "name": "python3"
  },
  "language_info": {
   "codemirror_mode": {
    "name": "ipython",
    "version": 3
   },
   "file_extension": ".py",
   "mimetype": "text/x-python",
   "name": "python",
   "nbconvert_exporter": "python",
   "pygments_lexer": "ipython3",
   "version": "3.12.8"
  }
 },
 "nbformat": 4,
 "nbformat_minor": 2
}
