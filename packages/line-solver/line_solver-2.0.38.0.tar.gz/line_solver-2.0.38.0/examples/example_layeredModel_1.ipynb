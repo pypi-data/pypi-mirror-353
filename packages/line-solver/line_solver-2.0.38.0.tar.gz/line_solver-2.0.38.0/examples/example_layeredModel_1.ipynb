{
 "cells": [
  {
   "metadata": {},
   "cell_type": "markdown",
   "source": [
    "This example is not yet full functional (getRawAvgTables is missing)\n",
    "\n",
    "This example illustrates the execution on a layered queueing network model.\n",
    "Performance indexes now refer to processors, tasks, entries, and activities.\n",
    "Indexes refer to the submodel (layer) where the processor or task acts as a server.\n",
    "NaN indexes indicate that the metric is not supported by the node type."
   ]
  },
  {
   "cell_type": "code",
   "metadata": {
    "ExecuteTime": {
     "end_time": "2025-05-17T13:13:18.845211Z",
     "start_time": "2025-05-17T13:13:17.968835Z"
    }
   },
   "source": [
    "from line_solver import *\n",
    "GlobalConstants.setVerbose(VerboseLevel.SILENT)"
   ],
   "outputs": [],
   "execution_count": 1
  },
  {
   "cell_type": "code",
   "source": [
    "model = LayeredNetwork('myLayeredModel')\n",
    "P = np.empty(2, dtype=object)\n",
    "P[0] = Processor(model, 'P1', 1, SchedStrategy.PS)\n",
    "P[1] = Processor(model, 'P2', 1, SchedStrategy.PS)\n",
    "T = np.empty(2, dtype=object)\n",
    "T[0] = Task(model, 'T1', 10, SchedStrategy.REF).on(P[0]).setThinkTime(Exp.fitMean(100))\n",
    "T[1] = Task(model, 'T2', 1, SchedStrategy.FCFS).on(P[1]).setThinkTime(Immediate())\n",
    "E = np.empty(2, dtype=object)\n",
    "E[0] = Entry(model, 'E1').on(T[0])\n",
    "E[1] = Entry(model, 'E2').on(T[1])\n",
    "A = np.empty(4, dtype=object)\n",
    "A[0] = Activity(model, 'AS1', Exp.fitMean(1.6)).on(T[0]).boundTo(E[0])\n",
    "A[1] = Activity(model, 'AS2', Immediate()).on(T[0]).synchCall(E[1],1)\n",
    "A[2] = Activity(model, 'AS3', Exp.fitMean(5.0)).on(T[1]).boundTo(E[1])\n",
    "A[3] = Activity(model, 'AS4', Exp.fitMean(1.0)).on(T[1]).repliesTo(E[1])\n",
    "T[0].addPrecedence(ActivityPrecedence.Serial(A[0], A[1]))\n",
    "T[1].addPrecedence(ActivityPrecedence.Serial(A[2], A[3]))"
   ],
   "metadata": {
    "collapsed": false,
    "ExecuteTime": {
     "end_time": "2025-05-17T13:13:18.957285Z",
     "start_time": "2025-05-17T13:13:18.944945Z"
    }
   },
   "outputs": [],
   "execution_count": 2
  },
  {
   "cell_type": "code",
   "source": [
    "solver = np.array([], dtype=object)\n",
    "\n",
    "solver = np.append(solver, SolverLQNS(model))\n",
    "solver = np.append(solver, SolverLN(model))\n",
    "\n",
    "AvgTable = np.empty(len(solver), dtype=object)\n",
    "for s in range(len(solver)):\n",
    "    print(f'\\nSOLVER: {solver[s].getName()}')    \n",
    "    print(solver[s].getAvgTable())\n",
    "    \n",
    "# useLQNSnaming = true\n",
    "# [AvgTable[2], CallAvgTable[2]] = solver[0].getRawAvgTables()\n",
    "# AvgTable[2]\n",
    "# CallAvgTable[2]"
   ],
   "metadata": {
    "collapsed": false,
    "ExecuteTime": {
     "end_time": "2025-05-17T13:13:19.243943Z",
     "start_time": "2025-05-17T13:13:18.999076Z"
    }
   },
   "outputs": [
    {
     "name": "stdout",
     "output_type": "stream",
     "text": [
      "\n",
      "SOLVER: SolverLQNS\n",
      "  Node   NodeType    QLen        Util    RespT  ResidT  ArvR    Tput\n",
      "0   P1  Processor     NaN  1.4206e-01      NaN     0.0   0.0     NaN\n",
      "1   P2  Processor     NaN  5.3271e-01      NaN     0.0   0.0     NaN\n",
      "2   T1       Task  1.1215  1.4206e-01      NaN     0.0   0.0  0.0888\n",
      "3   T2       Task  0.5327  5.3271e-01      NaN     0.0   0.0  0.0888\n",
      "4   E1      Entry  1.1215  1.4206e-01  12.6310     0.0   0.0  0.0888\n",
      "5   E2      Entry  0.5327  5.3271e-01   6.0000     0.0   0.0  0.0888\n",
      "6  AS1   Activity  0.1627  1.4206e-01   1.8327     0.0   0.0  0.0888\n",
      "7  AS2   Activity  0.9587  8.8786e-10  10.7983     0.0   0.0  0.0888\n",
      "8  AS3   Activity  0.4439  4.4393e-01   5.0000     0.0   0.0  0.0888\n",
      "9  AS4   Activity  0.0888  8.8786e-02   1.0000     0.0   0.0  0.0888\n",
      "\n",
      "SOLVER: SolverLN\n",
      "  Node   NodeType    QLen    Util    RespT  ResidT  ArvR    Tput\n",
      "0   P1  Processor     NaN  0.1421      NaN     NaN   NaN     NaN\n",
      "1   P2  Processor     NaN  0.5329      NaN     NaN   NaN     NaN\n",
      "2   T1       Task  1.1188  0.1421      NaN  1.8299   NaN  0.0888\n",
      "3   T2       Task  0.5328  0.5329      NaN  5.9998   NaN  0.0888\n",
      "4   E1      Entry  1.1188     NaN  12.5976     NaN   NaN  0.0888\n",
      "5   E2      Entry  0.5328     NaN   5.9998     NaN   NaN  0.0888\n",
      "6  AS1   Activity  0.1625  0.1421   1.8299  1.8299   NaN  0.0888\n",
      "7  AS2   Activity  0.9563  0.0000  10.7678  0.0000   NaN  0.0888\n",
      "8  AS3   Activity  0.4440  0.4441   4.9998  4.9998   NaN  0.0888\n",
      "9  AS4   Activity  0.0888  0.0888   1.0000  1.0000   NaN  0.0888\n"
     ]
    }
   ],
   "execution_count": 3
  }
 ],
 "metadata": {
  "kernelspec": {
   "display_name": "Python 3",
   "language": "python",
   "name": "python3"
  },
  "language_info": {
   "codemirror_mode": {
    "name": "ipython",
    "version": 3
   },
   "file_extension": ".py",
   "mimetype": "text/x-python",
   "name": "python",
   "nbconvert_exporter": "python",
   "pygments_lexer": "ipython3",
   "version": "3.6.4"
  }
 },
 "nbformat": 4,
 "nbformat_minor": 2
}
