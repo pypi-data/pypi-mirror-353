{
 "cells": [
  {
   "cell_type": "code",
   "execution_count": null,
   "id": "ed0dca6c",
   "metadata": {},
   "outputs": [],
   "source": [
    "%load_ext autoreload\n",
    "%autoreload 2"
   ]
  },
  {
   "cell_type": "markdown",
   "id": "f90214f5",
   "metadata": {},
   "source": [
    "# Simple usage to predict FEN from Chess Image"
   ]
  },
  {
   "cell_type": "code",
   "execution_count": null,
   "id": "76033214",
   "metadata": {},
   "outputs": [],
   "source": [
    "from chessimg2pos import predict_fen"
   ]
  },
  {
   "cell_type": "code",
   "execution_count": null,
   "id": "ca21eff1",
   "metadata": {},
   "outputs": [],
   "source": [
    "img_path = \"../images/chess_image.png\" #REPLACE WITH THE PATH OF YOUR TEST IMAGE\n",
    "\n",
    "fen = predict_fen(img_path)"
   ]
  },
  {
   "cell_type": "code",
   "execution_count": null,
   "id": "944d6eee",
   "metadata": {},
   "outputs": [],
   "source": [
    "print(fen)"
   ]
  },
  {
   "cell_type": "code",
   "execution_count": null,
   "id": "4fa99213",
   "metadata": {},
   "outputs": [],
   "source": [
    "predict_fen(img_path, output_type = \"complex\")"
   ]
  },
  {
   "cell_type": "markdown",
   "id": "17d19e33",
   "metadata": {},
   "source": [
    "# Training from your own set of Images\n",
    "- Insert all your images in a folder, each image named with its fen (replace '/' with '-')\n",
    "- e.g 1bk1bNQp-bbPQq1br-nbQrk11k-1qkbkBKN-KbBKRNPR-PbKbB1pk-rNBB1pKQ-bPNQbbrb.png"
   ]
  },
  {
   "cell_type": "code",
   "execution_count": null,
   "id": "a8cc29b4",
   "metadata": {},
   "outputs": [],
   "source": [
    "from chessimg2pos import ChessRecognitionTrainer"
   ]
  },
  {
   "cell_type": "code",
   "execution_count": null,
   "id": "d082426a",
   "metadata": {},
   "outputs": [],
   "source": [
    "trainer = ChessRecognitionTrainer(\n",
    "    images_dir=\"../../training_images/chessboards\", # replace with your path\n",
    "    classifier = \"enhanced\",\n",
    "    model_path=\"../../models/test_model.pt\",# replace with path where you want models tgo be saved\n",
    "    generate_tiles=False,  # Set to True if tiles need to be generated from boards\n",
    "    epochs = 5,\n",
    "    overwrite = False\n",
    ")\n",
    "model, device, accuracy = trainer.train()"
   ]
  },
  {
   "cell_type": "code",
   "execution_count": null,
   "id": "9837aa36",
   "metadata": {},
   "outputs": [],
   "source": [
    "from chessimg2pos import ChessPositionPredictor\n",
    "\n",
    "predictor = ChessPositionPredictor(\"../../models/test_model.pt\", classifier = \"enhanced\")\n",
    "result = predictor.predict_chessboard(\"../images/ccom_1.png\", return_tiles=True)"
   ]
  },
  {
   "cell_type": "code",
   "execution_count": null,
   "id": "a7e4fc6d",
   "metadata": {},
   "outputs": [],
   "source": [
    "print(\"Predicted FEN:\", result[\"fen\"])\n",
    "print(\"Confidence:\", result[\"confidence\"])"
   ]
  },
  {
   "cell_type": "code",
   "execution_count": null,
   "id": "72ad65a0",
   "metadata": {},
   "outputs": [],
   "source": [
    "predictor.visualize_prediction(result)"
   ]
  }
 ],
 "metadata": {
  "kernelspec": {
   "display_name": "chess",
   "language": "python",
   "name": "python3"
  },
  "language_info": {
   "codemirror_mode": {
    "name": "ipython",
    "version": 3
   },
   "file_extension": ".py",
   "mimetype": "text/x-python",
   "name": "python",
   "nbconvert_exporter": "python",
   "pygments_lexer": "ipython3",
   "version": "3.11.0"
  }
 },
 "nbformat": 4,
 "nbformat_minor": 5
}
