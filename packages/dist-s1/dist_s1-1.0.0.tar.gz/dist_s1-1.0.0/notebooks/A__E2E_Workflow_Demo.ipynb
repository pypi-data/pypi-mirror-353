{
 "cells": [
  {
   "cell_type": "code",
   "execution_count": 1,
   "id": "6e0cde21-2e6a-496b-9859-b6ec114c7fe9",
   "metadata": {},
   "outputs": [],
   "source": [
    "# %load_ext autoreload\n",
    "# %autoreload 2"
   ]
  },
  {
   "cell_type": "markdown",
   "id": "ff402f6b-df30-4f99-8742-1881c7e2e6b9",
   "metadata": {},
   "source": [
    "This is a notebook that illustrates how to run the end-to-end (e2e) workflow. Determining suitable parameters for the workflow are for operational considerations are explained in the ops library [`dist-s1-enumerator`](https://github.com/opera-adt/dist-s1-enumerator) - specifically, see this [notebook](https://github.com/opera-adt/dist-s1-enumerator/blob/dev/notebooks/A__Staging_Inputs_for_One_MGRS_Tile.ipynb)."
   ]
  },
  {
   "cell_type": "code",
   "execution_count": 2,
   "id": "91fb3320-c91c-465c-9ac3-926076e413e6",
   "metadata": {},
   "outputs": [],
   "source": [
    "from dist_s1 import run_dist_s1_workflow\n",
    "from pathlib import Path"
   ]
  },
  {
   "cell_type": "code",
   "execution_count": 3,
   "id": "7ce1f145-b58c-4982-b256-6a56b552d4cc",
   "metadata": {},
   "outputs": [],
   "source": [
    "## Example 0\n",
    "\n",
    "# mgrs_tile_id = '10SGD'\n",
    "# post_date = '2025-01-02'\n",
    "# track_number = 137\n",
    "# dst_dir = Path('out')\n",
    "# memory_strategy = 'high'\n",
    "\n",
    "\n",
    "## Example 1 - Los Angeles Wildfire\n",
    "mgrs_tile_id = '11SLT'\n",
    "post_date = '2025-01-21'\n",
    "track_number = 71\n",
    "dst_dir = Path('los-angeles')\n",
    "memory_strategy = 'high'  # can be high or low"
   ]
  },
  {
   "cell_type": "markdown",
   "id": "b8fe080a-df2c-493d-a65b-f280470c5a31",
   "metadata": {},
   "source": [
    "The downloading may be unstable, but currently the downloading step does not overwrite data so it can easily be rerun if it fails."
   ]
  },
  {
   "cell_type": "code",
   "execution_count": 5,
   "id": "3a0c448d-f360-435d-bc0d-8504753f5940",
   "metadata": {},
   "outputs": [
    {
     "data": {
      "application/vnd.jupyter.widget-view+json": {
       "model_id": "97e9c799a42e4174a21ab2c14652a936",
       "version_major": 2,
       "version_minor": 0
      },
      "text/plain": [
       "Downloading RTC-S1 burst data:   0%|                   | 0/416 [00:00<?, ?it/s]"
      ]
     },
     "metadata": {},
     "output_type": "display_data"
    },
    {
     "name": "stderr",
     "output_type": "stream",
     "text": [
      "Despeckling: 100%|███████████████████████████| 100/100 [00:32<00:00,  3.49it/s]\n",
      "Despeckling: 100%|███████████████████████████| 100/100 [00:40<00:00,  1.52it/s]\n",
      "Despeckling: 100%|███████████████████████████| 100/100 [00:39<00:00,  1.44it/s]\n",
      "Despeckling: 100%|███████████████████████████| 100/100 [00:35<00:00,  3.09it/s]\n",
      "Despeckling: 100%|█████████████████████████████| 16/16 [00:07<00:00,  3.83it/s]\n",
      "Despeckling batch: 100%|█████████████████████████| 5/5 [04:47<00:00, 57.48s/it]\n",
      "/u/aurora-r0/cmarshak/dist-s1/src/dist_s1/data_models/runconfig_model.py:302: FutureWarning: The provided callable <built-in function max> is currently using np.maximum.reduce. In a future version of pandas, the provided callable will be used directly. To keep current behavior pass the string np.maximum.reduce instead.\n",
      "  df_date = df_inputs.groupby('jpl_burst_id')['acq_dt'].apply(max).reset_index(drop=False)\n"
     ]
    },
    {
     "data": {
      "application/vnd.jupyter.widget-view+json": {
       "model_id": "e7fd5e5e5970417f94a1834d2f8bb924",
       "version_major": 2,
       "version_minor": 0
      },
      "text/plain": [
       "Param Est. by Burst:   0%|                              | 0/16 [00:00<?, ?it/s]"
      ]
     },
     "metadata": {},
     "output_type": "display_data"
    },
    {
     "data": {
      "application/vnd.jupyter.widget-view+json": {
       "model_id": "074704deb500416bb55f84c04d281863",
       "version_major": 2,
       "version_minor": 0
      },
      "text/plain": [
       "Lookbacks for burst T071-151226-IW2:   0%|               | 0/3 [00:00<?, ?it/s]"
      ]
     },
     "metadata": {},
     "output_type": "display_data"
    },
    {
     "data": {
      "application/vnd.jupyter.widget-view+json": {
       "model_id": "e849d1b88b0b469a809b401c1432b89c",
       "version_major": 2,
       "version_minor": 0
      },
      "text/plain": [
       "Chips Traversed:   0%|                               | 0/41838 [00:00<?, ?it/s]"
      ]
     },
     "metadata": {},
     "output_type": "display_data"
    },
    {
     "data": {
      "application/vnd.jupyter.widget-view+json": {
       "model_id": "55ee2b36bee448d2b29f8236ceac100b",
       "version_major": 2,
       "version_minor": 0
      },
      "text/plain": [
       "Chips Traversed:   0%|                               | 0/41838 [00:00<?, ?it/s]"
      ]
     },
     "metadata": {},
     "output_type": "display_data"
    },
    {
     "data": {
      "application/vnd.jupyter.widget-view+json": {
       "model_id": "31f8b856c0274196b2e18ed2af4134c4",
       "version_major": 2,
       "version_minor": 0
      },
      "text/plain": [
       "Chips Traversed:   0%|                               | 0/41838 [00:00<?, ?it/s]"
      ]
     },
     "metadata": {},
     "output_type": "display_data"
    },
    {
     "data": {
      "application/vnd.jupyter.widget-view+json": {
       "model_id": "df76bb766f514b869fe259008868eae1",
       "version_major": 2,
       "version_minor": 0
      },
      "text/plain": [
       "Lookbacks for burst T071-151226-IW3:   0%|               | 0/3 [00:00<?, ?it/s]"
      ]
     },
     "metadata": {},
     "output_type": "display_data"
    },
    {
     "data": {
      "application/vnd.jupyter.widget-view+json": {
       "model_id": "27561622555f4c30979de61a7ca2550e",
       "version_major": 2,
       "version_minor": 0
      },
      "text/plain": [
       "Chips Traversed:   0%|                               | 0/37225 [00:00<?, ?it/s]"
      ]
     },
     "metadata": {},
     "output_type": "display_data"
    },
    {
     "data": {
      "application/vnd.jupyter.widget-view+json": {
       "model_id": "47eddb73ea0f40ad9fdc0a3bf1e0c25a",
       "version_major": 2,
       "version_minor": 0
      },
      "text/plain": [
       "Chips Traversed:   0%|                               | 0/37225 [00:00<?, ?it/s]"
      ]
     },
     "metadata": {},
     "output_type": "display_data"
    },
    {
     "data": {
      "application/vnd.jupyter.widget-view+json": {
       "model_id": "ba14d86c5b824f2585190df194ccc285",
       "version_major": 2,
       "version_minor": 0
      },
      "text/plain": [
       "Chips Traversed:   0%|                               | 0/37225 [00:00<?, ?it/s]"
      ]
     },
     "metadata": {},
     "output_type": "display_data"
    },
    {
     "data": {
      "application/vnd.jupyter.widget-view+json": {
       "model_id": "5bd0e8d7526a449e971fca6ad1e6b456",
       "version_major": 2,
       "version_minor": 0
      },
      "text/plain": [
       "Lookbacks for burst T071-151227-IW2:   0%|               | 0/3 [00:00<?, ?it/s]"
      ]
     },
     "metadata": {},
     "output_type": "display_data"
    },
    {
     "data": {
      "application/vnd.jupyter.widget-view+json": {
       "model_id": "1b4240fe1202469589c5c520c1917485",
       "version_major": 2,
       "version_minor": 0
      },
      "text/plain": [
       "Chips Traversed:   0%|                               | 0/41915 [00:00<?, ?it/s]"
      ]
     },
     "metadata": {},
     "output_type": "display_data"
    },
    {
     "data": {
      "application/vnd.jupyter.widget-view+json": {
       "model_id": "6d141eff49a84c4382f597beac0f2074",
       "version_major": 2,
       "version_minor": 0
      },
      "text/plain": [
       "Chips Traversed:   0%|                               | 0/41915 [00:00<?, ?it/s]"
      ]
     },
     "metadata": {},
     "output_type": "display_data"
    },
    {
     "data": {
      "application/vnd.jupyter.widget-view+json": {
       "model_id": "a2414afef6484ea1b294c407ec05280e",
       "version_major": 2,
       "version_minor": 0
      },
      "text/plain": [
       "Chips Traversed:   0%|                               | 0/41915 [00:00<?, ?it/s]"
      ]
     },
     "metadata": {},
     "output_type": "display_data"
    },
    {
     "data": {
      "application/vnd.jupyter.widget-view+json": {
       "model_id": "779c217885fe4b988eea370e19771a04",
       "version_major": 2,
       "version_minor": 0
      },
      "text/plain": [
       "Lookbacks for burst T071-151227-IW3:   0%|               | 0/3 [00:00<?, ?it/s]"
      ]
     },
     "metadata": {},
     "output_type": "display_data"
    },
    {
     "data": {
      "application/vnd.jupyter.widget-view+json": {
       "model_id": "8fa9f370496c4df9a374fc1d8da3a6a1",
       "version_major": 2,
       "version_minor": 0
      },
      "text/plain": [
       "Chips Traversed:   0%|                               | 0/37274 [00:00<?, ?it/s]"
      ]
     },
     "metadata": {},
     "output_type": "display_data"
    },
    {
     "data": {
      "application/vnd.jupyter.widget-view+json": {
       "model_id": "cdb30ef16b3242e089a1b7ba845acc85",
       "version_major": 2,
       "version_minor": 0
      },
      "text/plain": [
       "Chips Traversed:   0%|                               | 0/37274 [00:00<?, ?it/s]"
      ]
     },
     "metadata": {},
     "output_type": "display_data"
    },
    {
     "data": {
      "application/vnd.jupyter.widget-view+json": {
       "model_id": "41afa67fb719492b8ba5381984b85500",
       "version_major": 2,
       "version_minor": 0
      },
      "text/plain": [
       "Chips Traversed:   0%|                               | 0/37274 [00:00<?, ?it/s]"
      ]
     },
     "metadata": {},
     "output_type": "display_data"
    },
    {
     "data": {
      "application/vnd.jupyter.widget-view+json": {
       "model_id": "d119fee1a31742f6b21c5b47261a298e",
       "version_major": 2,
       "version_minor": 0
      },
      "text/plain": [
       "Lookbacks for burst T071-151228-IW2:   0%|               | 0/3 [00:00<?, ?it/s]"
      ]
     },
     "metadata": {},
     "output_type": "display_data"
    },
    {
     "data": {
      "application/vnd.jupyter.widget-view+json": {
       "model_id": "5837ae94bb0843ed8531688f99c7af5c",
       "version_major": 2,
       "version_minor": 0
      },
      "text/plain": [
       "Chips Traversed:   0%|                               | 0/41945 [00:00<?, ?it/s]"
      ]
     },
     "metadata": {},
     "output_type": "display_data"
    },
    {
     "data": {
      "application/vnd.jupyter.widget-view+json": {
       "model_id": "b2fe3d22e1694be48c3a819aff252c87",
       "version_major": 2,
       "version_minor": 0
      },
      "text/plain": [
       "Chips Traversed:   0%|                               | 0/41945 [00:00<?, ?it/s]"
      ]
     },
     "metadata": {},
     "output_type": "display_data"
    },
    {
     "data": {
      "application/vnd.jupyter.widget-view+json": {
       "model_id": "c086eb813ca44b6e9cb37ca1fd1a2b46",
       "version_major": 2,
       "version_minor": 0
      },
      "text/plain": [
       "Chips Traversed:   0%|                               | 0/41945 [00:00<?, ?it/s]"
      ]
     },
     "metadata": {},
     "output_type": "display_data"
    },
    {
     "data": {
      "application/vnd.jupyter.widget-view+json": {
       "model_id": "9919fb7093c94d1fabeabcef579987d4",
       "version_major": 2,
       "version_minor": 0
      },
      "text/plain": [
       "Lookbacks for burst T071-151228-IW3:   0%|               | 0/3 [00:00<?, ?it/s]"
      ]
     },
     "metadata": {},
     "output_type": "display_data"
    },
    {
     "data": {
      "application/vnd.jupyter.widget-view+json": {
       "model_id": "dcda7319030349929647a1c7b5774985",
       "version_major": 2,
       "version_minor": 0
      },
      "text/plain": [
       "Chips Traversed:   0%|                               | 0/37274 [00:00<?, ?it/s]"
      ]
     },
     "metadata": {},
     "output_type": "display_data"
    },
    {
     "data": {
      "application/vnd.jupyter.widget-view+json": {
       "model_id": "be6feba05afe4200a3840656f289c582",
       "version_major": 2,
       "version_minor": 0
      },
      "text/plain": [
       "Chips Traversed:   0%|                               | 0/37274 [00:00<?, ?it/s]"
      ]
     },
     "metadata": {},
     "output_type": "display_data"
    },
    {
     "data": {
      "application/vnd.jupyter.widget-view+json": {
       "model_id": "38009e6720794d619bfa13a1b4932d61",
       "version_major": 2,
       "version_minor": 0
      },
      "text/plain": [
       "Chips Traversed:   0%|                               | 0/37274 [00:00<?, ?it/s]"
      ]
     },
     "metadata": {},
     "output_type": "display_data"
    },
    {
     "data": {
      "application/vnd.jupyter.widget-view+json": {
       "model_id": "5c37352df51f407a9097d43da35ac8f3",
       "version_major": 2,
       "version_minor": 0
      },
      "text/plain": [
       "Lookbacks for burst T071-151229-IW2:   0%|               | 0/3 [00:00<?, ?it/s]"
      ]
     },
     "metadata": {},
     "output_type": "display_data"
    },
    {
     "data": {
      "application/vnd.jupyter.widget-view+json": {
       "model_id": "3a1bf1e6b91b459fb1f0873ad8cfce05",
       "version_major": 2,
       "version_minor": 0
      },
      "text/plain": [
       "Chips Traversed:   0%|                               | 0/41945 [00:00<?, ?it/s]"
      ]
     },
     "metadata": {},
     "output_type": "display_data"
    },
    {
     "data": {
      "application/vnd.jupyter.widget-view+json": {
       "model_id": "cadc7670dad94d7c92d76abb2c335270",
       "version_major": 2,
       "version_minor": 0
      },
      "text/plain": [
       "Chips Traversed:   0%|                               | 0/41945 [00:00<?, ?it/s]"
      ]
     },
     "metadata": {},
     "output_type": "display_data"
    },
    {
     "data": {
      "application/vnd.jupyter.widget-view+json": {
       "model_id": "7ba03694a647468da6a5b2db4136a205",
       "version_major": 2,
       "version_minor": 0
      },
      "text/plain": [
       "Chips Traversed:   0%|                               | 0/41945 [00:00<?, ?it/s]"
      ]
     },
     "metadata": {},
     "output_type": "display_data"
    },
    {
     "data": {
      "application/vnd.jupyter.widget-view+json": {
       "model_id": "a408b2de125e416281781a3f2d3faf5e",
       "version_major": 2,
       "version_minor": 0
      },
      "text/plain": [
       "Lookbacks for burst T071-151229-IW3:   0%|               | 0/3 [00:00<?, ?it/s]"
      ]
     },
     "metadata": {},
     "output_type": "display_data"
    },
    {
     "data": {
      "application/vnd.jupyter.widget-view+json": {
       "model_id": "f731a657895b4b908cf913186444e9d0",
       "version_major": 2,
       "version_minor": 0
      },
      "text/plain": [
       "Chips Traversed:   0%|                               | 0/37322 [00:00<?, ?it/s]"
      ]
     },
     "metadata": {},
     "output_type": "display_data"
    },
    {
     "data": {
      "application/vnd.jupyter.widget-view+json": {
       "model_id": "6aaa01d24b14452a872302cb836ac2cf",
       "version_major": 2,
       "version_minor": 0
      },
      "text/plain": [
       "Chips Traversed:   0%|                               | 0/37322 [00:00<?, ?it/s]"
      ]
     },
     "metadata": {},
     "output_type": "display_data"
    },
    {
     "data": {
      "application/vnd.jupyter.widget-view+json": {
       "model_id": "44c6f7954dec43619e440f1c5ac25f2f",
       "version_major": 2,
       "version_minor": 0
      },
      "text/plain": [
       "Chips Traversed:   0%|                               | 0/37322 [00:00<?, ?it/s]"
      ]
     },
     "metadata": {},
     "output_type": "display_data"
    },
    {
     "data": {
      "application/vnd.jupyter.widget-view+json": {
       "model_id": "1b52a3ab4b81419bb7187929fc9b9e20",
       "version_major": 2,
       "version_minor": 0
      },
      "text/plain": [
       "Lookbacks for burst T071-151230-IW2:   0%|               | 0/3 [00:00<?, ?it/s]"
      ]
     },
     "metadata": {},
     "output_type": "display_data"
    },
    {
     "data": {
      "application/vnd.jupyter.widget-view+json": {
       "model_id": "42a4c4f6113d403ab9ae1b7429509fc7",
       "version_major": 2,
       "version_minor": 0
      },
      "text/plain": [
       "Chips Traversed:   0%|                               | 0/41998 [00:00<?, ?it/s]"
      ]
     },
     "metadata": {},
     "output_type": "display_data"
    },
    {
     "data": {
      "application/vnd.jupyter.widget-view+json": {
       "model_id": "c73c4ab9d69f48838669ca1adddeaac5",
       "version_major": 2,
       "version_minor": 0
      },
      "text/plain": [
       "Chips Traversed:   0%|                               | 0/41998 [00:00<?, ?it/s]"
      ]
     },
     "metadata": {},
     "output_type": "display_data"
    },
    {
     "data": {
      "application/vnd.jupyter.widget-view+json": {
       "model_id": "1e40b9f12c25475a94887329ed80a0c6",
       "version_major": 2,
       "version_minor": 0
      },
      "text/plain": [
       "Chips Traversed:   0%|                               | 0/41998 [00:00<?, ?it/s]"
      ]
     },
     "metadata": {},
     "output_type": "display_data"
    },
    {
     "data": {
      "application/vnd.jupyter.widget-view+json": {
       "model_id": "f91fd6787b5941309c5a7d4de4d4f21e",
       "version_major": 2,
       "version_minor": 0
      },
      "text/plain": [
       "Lookbacks for burst T071-151230-IW3:   0%|               | 0/3 [00:00<?, ?it/s]"
      ]
     },
     "metadata": {},
     "output_type": "display_data"
    },
    {
     "data": {
      "application/vnd.jupyter.widget-view+json": {
       "model_id": "4b2f4ea097364096a2d8771952805ae4",
       "version_major": 2,
       "version_minor": 0
      },
      "text/plain": [
       "Chips Traversed:   0%|                               | 0/37322 [00:00<?, ?it/s]"
      ]
     },
     "metadata": {},
     "output_type": "display_data"
    },
    {
     "data": {
      "application/vnd.jupyter.widget-view+json": {
       "model_id": "27c0bd096947472aad1b28f5146397b9",
       "version_major": 2,
       "version_minor": 0
      },
      "text/plain": [
       "Chips Traversed:   0%|                               | 0/37322 [00:00<?, ?it/s]"
      ]
     },
     "metadata": {},
     "output_type": "display_data"
    },
    {
     "data": {
      "application/vnd.jupyter.widget-view+json": {
       "model_id": "b74f374a477240c8aa9c8f65f8a646d3",
       "version_major": 2,
       "version_minor": 0
      },
      "text/plain": [
       "Chips Traversed:   0%|                               | 0/37322 [00:00<?, ?it/s]"
      ]
     },
     "metadata": {},
     "output_type": "display_data"
    },
    {
     "data": {
      "application/vnd.jupyter.widget-view+json": {
       "model_id": "eb8a191ea6264c12a1f910c7efb668a5",
       "version_major": 2,
       "version_minor": 0
      },
      "text/plain": [
       "Lookbacks for burst T071-151231-IW2:   0%|               | 0/3 [00:00<?, ?it/s]"
      ]
     },
     "metadata": {},
     "output_type": "display_data"
    },
    {
     "data": {
      "application/vnd.jupyter.widget-view+json": {
       "model_id": "0cabe31b713742e795493404c68f99c9",
       "version_major": 2,
       "version_minor": 0
      },
      "text/plain": [
       "Chips Traversed:   0%|                               | 0/41998 [00:00<?, ?it/s]"
      ]
     },
     "metadata": {},
     "output_type": "display_data"
    },
    {
     "data": {
      "application/vnd.jupyter.widget-view+json": {
       "model_id": "88bf8371d4bf41a2a8b6fe0f7f820a75",
       "version_major": 2,
       "version_minor": 0
      },
      "text/plain": [
       "Chips Traversed:   0%|                               | 0/41998 [00:00<?, ?it/s]"
      ]
     },
     "metadata": {},
     "output_type": "display_data"
    },
    {
     "data": {
      "application/vnd.jupyter.widget-view+json": {
       "model_id": "ec2b022254c3406cbc696eb3935a840c",
       "version_major": 2,
       "version_minor": 0
      },
      "text/plain": [
       "Chips Traversed:   0%|                               | 0/41998 [00:00<?, ?it/s]"
      ]
     },
     "metadata": {},
     "output_type": "display_data"
    },
    {
     "data": {
      "application/vnd.jupyter.widget-view+json": {
       "model_id": "e17f602ec09d4314b90a4c73da30da12",
       "version_major": 2,
       "version_minor": 0
      },
      "text/plain": [
       "Lookbacks for burst T071-151231-IW3:   0%|               | 0/3 [00:00<?, ?it/s]"
      ]
     },
     "metadata": {},
     "output_type": "display_data"
    },
    {
     "data": {
      "application/vnd.jupyter.widget-view+json": {
       "model_id": "5eceb3b1f9c4417bbb188e0dfc5cb82f",
       "version_major": 2,
       "version_minor": 0
      },
      "text/plain": [
       "Chips Traversed:   0%|                               | 0/37370 [00:00<?, ?it/s]"
      ]
     },
     "metadata": {},
     "output_type": "display_data"
    },
    {
     "data": {
      "application/vnd.jupyter.widget-view+json": {
       "model_id": "0004d388307c4f9d89a1876bf874812b",
       "version_major": 2,
       "version_minor": 0
      },
      "text/plain": [
       "Chips Traversed:   0%|                               | 0/37370 [00:00<?, ?it/s]"
      ]
     },
     "metadata": {},
     "output_type": "display_data"
    },
    {
     "data": {
      "application/vnd.jupyter.widget-view+json": {
       "model_id": "1abc2f5a137c4fae81dd148a52279c10",
       "version_major": 2,
       "version_minor": 0
      },
      "text/plain": [
       "Chips Traversed:   0%|                               | 0/37370 [00:00<?, ?it/s]"
      ]
     },
     "metadata": {},
     "output_type": "display_data"
    },
    {
     "data": {
      "application/vnd.jupyter.widget-view+json": {
       "model_id": "903c4dd5807947f0bcc7c18529ace795",
       "version_major": 2,
       "version_minor": 0
      },
      "text/plain": [
       "Lookbacks for burst T071-151232-IW2:   0%|               | 0/3 [00:00<?, ?it/s]"
      ]
     },
     "metadata": {},
     "output_type": "display_data"
    },
    {
     "data": {
      "application/vnd.jupyter.widget-view+json": {
       "model_id": "48f32bc5a48c4410930f563f46336c00",
       "version_major": 2,
       "version_minor": 0
      },
      "text/plain": [
       "Chips Traversed:   0%|                               | 0/42052 [00:00<?, ?it/s]"
      ]
     },
     "metadata": {},
     "output_type": "display_data"
    },
    {
     "data": {
      "application/vnd.jupyter.widget-view+json": {
       "model_id": "327abbea077a435e82db4e45707cc08b",
       "version_major": 2,
       "version_minor": 0
      },
      "text/plain": [
       "Chips Traversed:   0%|                               | 0/42052 [00:00<?, ?it/s]"
      ]
     },
     "metadata": {},
     "output_type": "display_data"
    },
    {
     "data": {
      "application/vnd.jupyter.widget-view+json": {
       "model_id": "9dbe7a9cda494dec9dca63d3297a15c0",
       "version_major": 2,
       "version_minor": 0
      },
      "text/plain": [
       "Chips Traversed:   0%|                               | 0/42052 [00:00<?, ?it/s]"
      ]
     },
     "metadata": {},
     "output_type": "display_data"
    },
    {
     "data": {
      "application/vnd.jupyter.widget-view+json": {
       "model_id": "d350f18835b4450a8f0beecf231ab909",
       "version_major": 2,
       "version_minor": 0
      },
      "text/plain": [
       "Lookbacks for burst T071-151232-IW3:   0%|               | 0/3 [00:00<?, ?it/s]"
      ]
     },
     "metadata": {},
     "output_type": "display_data"
    },
    {
     "data": {
      "application/vnd.jupyter.widget-view+json": {
       "model_id": "ce021aa4078e43539ac2e3e1d0ad1530",
       "version_major": 2,
       "version_minor": 0
      },
      "text/plain": [
       "Chips Traversed:   0%|                               | 0/37370 [00:00<?, ?it/s]"
      ]
     },
     "metadata": {},
     "output_type": "display_data"
    },
    {
     "data": {
      "application/vnd.jupyter.widget-view+json": {
       "model_id": "a47801dcd6dd48d6b3fcc6e30ec8054b",
       "version_major": 2,
       "version_minor": 0
      },
      "text/plain": [
       "Chips Traversed:   0%|                               | 0/37370 [00:00<?, ?it/s]"
      ]
     },
     "metadata": {},
     "output_type": "display_data"
    },
    {
     "data": {
      "application/vnd.jupyter.widget-view+json": {
       "model_id": "63f0459266d44c21b7bb83d7303d5b21",
       "version_major": 2,
       "version_minor": 0
      },
      "text/plain": [
       "Chips Traversed:   0%|                               | 0/37370 [00:00<?, ?it/s]"
      ]
     },
     "metadata": {},
     "output_type": "display_data"
    },
    {
     "data": {
      "application/vnd.jupyter.widget-view+json": {
       "model_id": "ee43df7d2e0148ee9c32e8b5fea2d37a",
       "version_major": 2,
       "version_minor": 0
      },
      "text/plain": [
       "Lookbacks for burst T071-151233-IW2:   0%|               | 0/3 [00:00<?, ?it/s]"
      ]
     },
     "metadata": {},
     "output_type": "display_data"
    },
    {
     "data": {
      "application/vnd.jupyter.widget-view+json": {
       "model_id": "6f180555cb9f4b27ac55bed6a1c95155",
       "version_major": 2,
       "version_minor": 0
      },
      "text/plain": [
       "Chips Traversed:   0%|                               | 0/42007 [00:00<?, ?it/s]"
      ]
     },
     "metadata": {},
     "output_type": "display_data"
    },
    {
     "data": {
      "application/vnd.jupyter.widget-view+json": {
       "model_id": "effdaf9c13e041478f0cab72235d09e3",
       "version_major": 2,
       "version_minor": 0
      },
      "text/plain": [
       "Chips Traversed:   0%|                               | 0/42007 [00:00<?, ?it/s]"
      ]
     },
     "metadata": {},
     "output_type": "display_data"
    },
    {
     "data": {
      "application/vnd.jupyter.widget-view+json": {
       "model_id": "a37c81c010504bcab3af48d1b013e949",
       "version_major": 2,
       "version_minor": 0
      },
      "text/plain": [
       "Chips Traversed:   0%|                               | 0/42007 [00:00<?, ?it/s]"
      ]
     },
     "metadata": {},
     "output_type": "display_data"
    },
    {
     "data": {
      "application/vnd.jupyter.widget-view+json": {
       "model_id": "623acb726f0047c78cbf22616e692020",
       "version_major": 2,
       "version_minor": 0
      },
      "text/plain": [
       "Lookbacks for burst T071-151233-IW3:   0%|               | 0/3 [00:00<?, ?it/s]"
      ]
     },
     "metadata": {},
     "output_type": "display_data"
    },
    {
     "data": {
      "application/vnd.jupyter.widget-view+json": {
       "model_id": "6822e3b9e852463aa84a44fd67819127",
       "version_major": 2,
       "version_minor": 0
      },
      "text/plain": [
       "Chips Traversed:   0%|                               | 0/37418 [00:00<?, ?it/s]"
      ]
     },
     "metadata": {},
     "output_type": "display_data"
    },
    {
     "data": {
      "application/vnd.jupyter.widget-view+json": {
       "model_id": "013f478d22154fcfaeea1453f22c4126",
       "version_major": 2,
       "version_minor": 0
      },
      "text/plain": [
       "Chips Traversed:   0%|                               | 0/37418 [00:00<?, ?it/s]"
      ]
     },
     "metadata": {},
     "output_type": "display_data"
    },
    {
     "data": {
      "application/vnd.jupyter.widget-view+json": {
       "model_id": "5bc8a2b99f3d4133be7fee56a30e0321",
       "version_major": 2,
       "version_minor": 0
      },
      "text/plain": [
       "Chips Traversed:   0%|                               | 0/37418 [00:00<?, ?it/s]"
      ]
     },
     "metadata": {},
     "output_type": "display_data"
    },
    {
     "data": {
      "application/vnd.jupyter.widget-view+json": {
       "model_id": "1fbdeefbc0ec4ebb99168aefea69cde9",
       "version_major": 2,
       "version_minor": 0
      },
      "text/plain": [
       "Burst disturbance:   0%|          | 0/16 [00:00<?, ?it/s]"
      ]
     },
     "metadata": {},
     "output_type": "display_data"
    },
    {
     "data": {
      "application/vnd.jupyter.widget-view+json": {
       "model_id": "35c6610dba3045e187b11d8a0c0fd3fe",
       "version_major": 2,
       "version_minor": 0
      },
      "text/plain": [
       "Lookbacks:   0%|          | 0/3 [00:00<?, ?it/s]"
      ]
     },
     "metadata": {},
     "output_type": "display_data"
    },
    {
     "name": "stderr",
     "output_type": "stream",
     "text": [
      "/u/aurora-r0/cmarshak/dist-s1/src/dist_s1/processing.py:175: RuntimeWarning: All-NaN slice encountered\n",
      "  np.nanmax(np.stack([mdist_copol, mdist_crosspol], axis=0), axis=0)\n",
      "/u/aurora-r0/cmarshak/dist-s1/src/dist_s1/processing.py:117: RuntimeWarning: All-NaN slice encountered\n",
      "  X_dist_max = np.nanmax(disturbance_stack, axis=0)\n"
     ]
    },
    {
     "data": {
      "application/vnd.jupyter.widget-view+json": {
       "model_id": "ad233e6b240442319189ea5f520ab7f1",
       "version_major": 2,
       "version_minor": 0
      },
      "text/plain": [
       "Lookbacks:   0%|          | 0/3 [00:00<?, ?it/s]"
      ]
     },
     "metadata": {},
     "output_type": "display_data"
    },
    {
     "data": {
      "application/vnd.jupyter.widget-view+json": {
       "model_id": "4dad1905a1514041a77410fb5169bcda",
       "version_major": 2,
       "version_minor": 0
      },
      "text/plain": [
       "Lookbacks:   0%|          | 0/3 [00:00<?, ?it/s]"
      ]
     },
     "metadata": {},
     "output_type": "display_data"
    },
    {
     "data": {
      "application/vnd.jupyter.widget-view+json": {
       "model_id": "3d24621f3d194ac19224d68b08fbc522",
       "version_major": 2,
       "version_minor": 0
      },
      "text/plain": [
       "Lookbacks:   0%|          | 0/3 [00:00<?, ?it/s]"
      ]
     },
     "metadata": {},
     "output_type": "display_data"
    },
    {
     "data": {
      "application/vnd.jupyter.widget-view+json": {
       "model_id": "e28debebf4e44f5994119d6e246eef6e",
       "version_major": 2,
       "version_minor": 0
      },
      "text/plain": [
       "Lookbacks:   0%|          | 0/3 [00:00<?, ?it/s]"
      ]
     },
     "metadata": {},
     "output_type": "display_data"
    },
    {
     "data": {
      "application/vnd.jupyter.widget-view+json": {
       "model_id": "b3a22eb9407d4d688429ec7165edd989",
       "version_major": 2,
       "version_minor": 0
      },
      "text/plain": [
       "Lookbacks:   0%|          | 0/3 [00:00<?, ?it/s]"
      ]
     },
     "metadata": {},
     "output_type": "display_data"
    },
    {
     "data": {
      "application/vnd.jupyter.widget-view+json": {
       "model_id": "7a164f7d4b3e4abeb0c551d421bf8ee2",
       "version_major": 2,
       "version_minor": 0
      },
      "text/plain": [
       "Lookbacks:   0%|          | 0/3 [00:00<?, ?it/s]"
      ]
     },
     "metadata": {},
     "output_type": "display_data"
    },
    {
     "data": {
      "application/vnd.jupyter.widget-view+json": {
       "model_id": "6385ba1ddaa147919b20a2979dd776a4",
       "version_major": 2,
       "version_minor": 0
      },
      "text/plain": [
       "Lookbacks:   0%|          | 0/3 [00:00<?, ?it/s]"
      ]
     },
     "metadata": {},
     "output_type": "display_data"
    },
    {
     "data": {
      "application/vnd.jupyter.widget-view+json": {
       "model_id": "160a4c5e9b0f468ca5acf185fb9adcc8",
       "version_major": 2,
       "version_minor": 0
      },
      "text/plain": [
       "Lookbacks:   0%|          | 0/3 [00:00<?, ?it/s]"
      ]
     },
     "metadata": {},
     "output_type": "display_data"
    },
    {
     "data": {
      "application/vnd.jupyter.widget-view+json": {
       "model_id": "baf1c8ab1a6d47a79dd12db4f1fd770b",
       "version_major": 2,
       "version_minor": 0
      },
      "text/plain": [
       "Lookbacks:   0%|          | 0/3 [00:00<?, ?it/s]"
      ]
     },
     "metadata": {},
     "output_type": "display_data"
    },
    {
     "data": {
      "application/vnd.jupyter.widget-view+json": {
       "model_id": "fe12f673501748adabfb7c57935b1bea",
       "version_major": 2,
       "version_minor": 0
      },
      "text/plain": [
       "Lookbacks:   0%|          | 0/3 [00:00<?, ?it/s]"
      ]
     },
     "metadata": {},
     "output_type": "display_data"
    },
    {
     "data": {
      "application/vnd.jupyter.widget-view+json": {
       "model_id": "2990a462dd7e487db05f1e8b81fd8365",
       "version_major": 2,
       "version_minor": 0
      },
      "text/plain": [
       "Lookbacks:   0%|          | 0/3 [00:00<?, ?it/s]"
      ]
     },
     "metadata": {},
     "output_type": "display_data"
    },
    {
     "data": {
      "application/vnd.jupyter.widget-view+json": {
       "model_id": "a7d7a01aec98457dbdc4c7bb8bff6677",
       "version_major": 2,
       "version_minor": 0
      },
      "text/plain": [
       "Lookbacks:   0%|          | 0/3 [00:00<?, ?it/s]"
      ]
     },
     "metadata": {},
     "output_type": "display_data"
    },
    {
     "data": {
      "application/vnd.jupyter.widget-view+json": {
       "model_id": "75bc8cba3040483e8841670f75051055",
       "version_major": 2,
       "version_minor": 0
      },
      "text/plain": [
       "Lookbacks:   0%|          | 0/3 [00:00<?, ?it/s]"
      ]
     },
     "metadata": {},
     "output_type": "display_data"
    },
    {
     "data": {
      "application/vnd.jupyter.widget-view+json": {
       "model_id": "af63bc7bbe2442c79d69608d6ee80459",
       "version_major": 2,
       "version_minor": 0
      },
      "text/plain": [
       "Lookbacks:   0%|          | 0/3 [00:00<?, ?it/s]"
      ]
     },
     "metadata": {},
     "output_type": "display_data"
    },
    {
     "data": {
      "application/vnd.jupyter.widget-view+json": {
       "model_id": "b227f6f9a29545d39510c8e352488c70",
       "version_major": 2,
       "version_minor": 0
      },
      "text/plain": [
       "Lookbacks:   0%|          | 0/3 [00:00<?, ?it/s]"
      ]
     },
     "metadata": {},
     "output_type": "display_data"
    }
   ],
   "source": [
    "_ = run_dist_s1_workflow(mgrs_tile_id, post_date, track_number, post_date_buffer_days = 1, dst_dir=dst_dir, memory_strategy=memory_strategy)"
   ]
  }
 ],
 "metadata": {
  "kernelspec": {
   "display_name": "dist-s1-env",
   "language": "python",
   "name": "dist-s1-env"
  },
  "language_info": {
   "codemirror_mode": {
    "name": "ipython",
    "version": 3
   },
   "file_extension": ".py",
   "mimetype": "text/x-python",
   "name": "python",
   "nbconvert_exporter": "python",
   "pygments_lexer": "ipython3",
   "version": "3.12.8"
  }
 },
 "nbformat": 4,
 "nbformat_minor": 5
}
