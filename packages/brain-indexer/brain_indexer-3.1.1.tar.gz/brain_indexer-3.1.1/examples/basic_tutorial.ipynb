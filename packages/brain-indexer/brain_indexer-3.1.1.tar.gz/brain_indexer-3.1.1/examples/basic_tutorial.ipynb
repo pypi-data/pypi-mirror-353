{
 "cells": [
  {
   "cell_type": "markdown",
   "metadata": {},
   "source": [
    "![The glorious brain-indexer logo](img/brain_indexer_logo.png)\n",
    "# BrainIndexer Basic Tutorial with Jupyter Notebook\n",
    "\n",
    "## Introduction\n",
    "\n",
    "BrainIndexer is the best choice for indexing and querying large circuits. It provides support for soma, segment and synapse circuits.\n",
    "\n",
    "Are you confused about all of this? Let's start from the beginning. \n",
    "\n",
    "Let's say you need to look into your circuit and find all the elements that are present in a certain region of space. This region, in BrainIndexer, could be a 3D box or a sphere.\n",
    "First of all we need to \"index\" the circuit. The indexing is a process in which we reorganize the content of the circuit so that it's much easier and quicker to look into. The indexing needs to be performed in order for BrainIndexer to run \"queries\" i.e. interrogate the circuit for the presence of elements in a certain region of space. The good news is that we need to run the indexing **only once**, then we can save it to disk so it can be loaded much faster in future iterations.\n",
    "\n",
    "Once the circuit has been indexed, we can perform queries on it by specifying the coordinates of the vertices of the 3D box where we want to find elements. You can also perform \"proximity queries\" i.e. find all the elements that are close to a certain point. In that case we need to specify the coordinates of the center and the radius of the sphere around it in which we want to look.\n",
    "\n",
    "In this tutorial we'll go through the entire process of setting up BrainIndexer, index a circuit and then perform some queries. What will be shown here is just the typical BrainIndexer workflow but keep in mind that there's much more you can do with it. For that we point you to the [official BrainIndexer documentation](https://bbpteam.epfl.ch/documentation/projects/brain-indexer/latest/intro.html) and the examples in the `example` folder of the BrainIndexer repo.\n",
    "\n",
    "Let's start!"
   ]
  },
  {
   "cell_type": "markdown",
   "metadata": {},
   "source": [
    "## Installation\n",
    "\n",
    "For the purposes of this tutorial, we will be using the `module load` command to load and setup BrainIndexer. This is the recommended way to use BrainIndexer on BB5 but you can also install it using `pip`, using `spack` or just by downloading and compiling the code yourself and creating your Python virtual environment. "
   ]
  },
  {
   "cell_type": "code",
   "execution_count": null,
   "metadata": {
    "vscode": {
     "languageId": "shellscript"
    }
   },
   "outputs": [],
   "source": [
    "%%bash\n",
    "module load unstable brain-indexer"
   ]
  },
  {
   "cell_type": "markdown",
   "metadata": {},
   "source": [
    "Now that BrainIndexer has been loaded, we can proceed and generate the index for a small test circuit. Indexing can be performed in two different ways: from command line or using Python code. Let's start with the first approach."
   ]
  },
  {
   "cell_type": "markdown",
   "metadata": {},
   "source": [
    "## Your first query\n",
    "\n",
    "Now that BrainIndexer has been loaded, we can proceed and generate the index for a small test circuit. Indexing can be performed in two different ways: from command line or using Python code. Let's start with the first approach.\n",
    "\n",
    "The easiest way to do this is by using the `brain-indexer-circuit` command line tool. While using this tool you just need to specify what kind of circuit you want to index (segment or synapse) and then the path to a SONATA `.json` file. The tool will automatically fetch the information regarding the location of the circuit and morphology files from the `.json` file.\n",
    "\n",
    "You can get more information on this command by running:"
   ]
  },
  {
   "cell_type": "code",
   "execution_count": null,
   "metadata": {
    "vscode": {
     "languageId": "shellscript"
    }
   },
   "outputs": [],
   "source": [
    "%%bash\n",
    "brain-indexer-circuit --help"
   ]
  },
  {
   "cell_type": "markdown",
   "metadata": {},
   "source": [
    "We can now try to index our first circuit using this command like shown below. We use the `-o` flag to specify the name of the output file and let the command to the rest:"
   ]
  },
  {
   "cell_type": "code",
   "execution_count": null,
   "metadata": {
    "vscode": {
     "languageId": "shellscript"
    }
   },
   "outputs": [],
   "source": [
    "%%bash\n",
    "export SI_DATADIR=/gpfs/bbp.cscs.ch/project/proj12/spatial_index/v4\n",
    "brain-indexer-circuit segments ${SI_DATADIR}/tutorial/usecases/usecase1/circuit_sonata.json -o usecase1"
   ]
  },
  {
   "cell_type": "markdown",
   "metadata": {},
   "source": [
    "When the process it's over, it should result in a folder called `usecase1` that contains the index for the whole tree.\n",
    "\n",
    "**You've just generated your first index!**\n",
    "\n",
    "Before doing some queries, let's look at an alternative way of generating the index whenever you don't have access to a `.json` file containing all the circuit configuration.\n",
    "\n",
    "---\n",
    "\n",
    "In case we don't have a `.json` file relative to the circuit, in order to index a segment circuit we need two paths: the first path should point to the `nodes.h5` file of the circuit and the second path should point to the morphology folder. This information should be known to you and depends, of course, on the circuit you're studying. \n",
    "\n",
    "Also for this command we can use the `-o` option to specify the name and the path of the output index file.\n",
    "\n",
    "We can now execute a terminal command to create the index. This is the required syntax:\n",
    "\n",
    "```\n",
    "Usage:\n",
    "        brain-indexer-nodes [options] <nodes-file> <morphology-dir>\n",
    "        brain-indexer-nodes --help\n",
    "```\n",
    "\n",
    "In the case of this example we run (please note that this can take a couple of minutes):"
   ]
  },
  {
   "cell_type": "code",
   "execution_count": null,
   "metadata": {
    "vscode": {
     "languageId": "shellscript"
    }
   },
   "outputs": [],
   "source": [
    "%%bash\n",
    "export SI_DATADIR=/gpfs/bbp.cscs.ch/project/proj12/spatial_index/v4\n",
    "brain-indexer-nodes ${SI_DATADIR}/circuit-2k/nodes.h5 ${SI_DATADIR}/circuit-2k/morphologies/ascii -o circuit2k"
   ]
  },
  {
   "cell_type": "markdown",
   "metadata": {},
   "source": [
    "When the process it's over, it should result in a folder called `circuit2k` that contains the index for the whole tree.\n",
    "\n",
    "Now that we have an index we can query it for some information.\n",
    "\n",
    "The simplest form of query would be a \"proximity query\" that identifies all the elements that are close by a certain radius from a certain point.\n",
    "\n",
    "In order to do so we can first load the index itself and then query it using the `box_query` function.\n",
    "Let's load some libraries, our previously generated index and the `box_query` function to perform our first query.\n",
    "\n",
    "Let's start by importing `brain_indexer` and then using the `open_index` function to load the previously generated index"
   ]
  },
  {
   "cell_type": "code",
   "execution_count": null,
   "metadata": {},
   "outputs": [],
   "source": [
    "import brain_indexer"
   ]
  },
  {
   "cell_type": "code",
   "execution_count": null,
   "metadata": {},
   "outputs": [],
   "source": [
    "index = brain_indexer.open_index(\"circuit2k\")"
   ]
  },
  {
   "cell_type": "markdown",
   "metadata": {},
   "source": [
    "This should take just a dozen of seconds. Then we can proceed with the query itself.\n",
    "\n",
    "For this test we want to look for all the elements that are closer than 50 units from the center of the axes.\n",
    "\n",
    "That's pretty simple to achieve. Let's run this code:"
   ]
  },
  {
   "cell_type": "code",
   "execution_count": null,
   "metadata": {},
   "outputs": [],
   "source": [
    "center = [0, 0, 0]\n",
    "radius = 50\n",
    "index.sphere_query(center, radius, fields=\"ids\")"
   ]
  },
  {
   "cell_type": "markdown",
   "metadata": {},
   "source": [
    "We specified a `center` (an array containing the xyz coordinates of the \"starting\" point) and a `radius` that defines the range of the search.\n",
    "\n",
    "The results are outputted as a numpy array of arrays containing the `gid`, `section_id` and `segment_id` of the results.\n",
    "\n",
    "**CONGRATULATIONS! You just performed your first query!** 🥳🥳🥳\n",
    "\n",
    "---\n",
    "\n",
    "Now let's proceed with something slightly different.\n",
    "\n",
    "The most common type of queries would be a box query i.e. asking for elements in a certain cubic area of space. In order to do so you have multiple choice but for the moment we'll show you the easiest way to get the data.\n",
    "\n",
    "You can use the `box_query` function to output the results of the box query as a dictionary of numpy arrays that can be easily manipulated and imported in a data analysis framework. \n",
    "\n",
    "We will define the two vertices of the box we want to query and then call the function.\n",
    "Let's run this:"
   ]
  },
  {
   "cell_type": "code",
   "execution_count": null,
   "metadata": {},
   "outputs": [],
   "source": [
    "min_corner = [0, 0, 0]\n",
    "max_corner = [30, 30, 30]\n",
    "index.box_query(min_corner, max_corner)"
   ]
  },
  {
   "cell_type": "markdown",
   "metadata": {},
   "source": [
    "As you can see it returns all the elements in that box with their relative data.\n",
    "\n",
    "In the case of a segment (like in this case), the fields would be `gid`, `section_id`, `segment_id`, `ids`, `centroid`, `radius`, `endpoints`, `section_type` and `is_soma` which is `True` when the element is a soma.\n",
    "\n",
    "**Now you know the basics of BrainIndexer!**\n",
    "\n",
    "---\n",
    "\n",
    "For the next tutorial we will show some of the other tools and workflow you can use."
   ]
  },
  {
   "cell_type": "markdown",
   "metadata": {},
   "source": [
    "## Alternative way of creating an index\n",
    "\n",
    "As shown before, you can create an index directly from the command line. This is useful especially in situations where you need to create a big index once and then use it multiple times for your queries. But there are situation where it can also be useful to create the index directly on the fly and also having the possibility to restrict the range of the index for specific use cases or testing.\n",
    "\n",
    "In that case you can create the index from a Python script and query it on the fly. The index can be left in memory for the scope of the script or it can be dumped to file for future use. Let's see how this can be achieved.\n",
    "\n",
    "We will be using the same circuit file as the example above so let's start by creating two variables containing the circuit and morphology paths:"
   ]
  },
  {
   "cell_type": "code",
   "execution_count": null,
   "metadata": {},
   "outputs": [],
   "source": [
    "CIRCUIT_2K = \"/gpfs/bbp.cscs.ch/project/proj12/spatial_index/v4/circuit-2k\"\n",
    "NODE_FILE = CIRCUIT_2K + \"/nodes.h5\"\n",
    "MORPH_FILE = CIRCUIT_2K + \"/morphologies/ascii\""
   ]
  },
  {
   "cell_type": "markdown",
   "metadata": {},
   "source": [
    "Now we can create an index builder object and then process the relevant entries of the circuit. We can use the `process_all()` method to process ALL the entries (but this can take a lot of memory and a long time to run) or specify a range of entries to process if we're only interested in those. In this case you can use the `process_range` method.\n",
    "\n",
    "For the sake of simplicity, in this example we will be processing just 50 cells using the `process_range` method. "
   ]
  },
  {
   "cell_type": "code",
   "execution_count": null,
   "metadata": {},
   "outputs": [],
   "source": [
    "from brain_indexer import MorphIndexBuilder\n",
    "index = MorphIndexBuilder.from_sonata_file(MORPH_FILE, NODE_FILE, \"All\", gids=range(700, 750))"
   ]
  },
  {
   "cell_type": "markdown",
   "metadata": {},
   "source": [
    "Now we can check that the index was built correctly by printing the number of elements in the index."
   ]
  },
  {
   "cell_type": "code",
   "execution_count": null,
   "metadata": {},
   "outputs": [],
   "source": [
    "print(\"Index contains\", len(index), \"elements.\")"
   ]
  },
  {
   "cell_type": "markdown",
   "metadata": {},
   "source": [
    "As you can see 50 cells generated more than 500k elements as each cells contains a soma but multiple segments.\n",
    "\n",
    "After building the index we can now query it normally like the index we previously created via command line and then imported in BrainIndexer."
   ]
  },
  {
   "cell_type": "code",
   "execution_count": null,
   "metadata": {},
   "outputs": [],
   "source": [
    "min_corner = [0, 0, 0]\n",
    "max_corner = [30, 30, 30]\n",
    "index.box_query(min_corner, max_corner)"
   ]
  },
  {
   "cell_type": "markdown",
   "metadata": {},
   "source": [
    "Easy right? You don't need to use the min and max corner any two corners that define the box, i.e., two opposing corners, are fine.\n",
    "\n",
    "Now, if you want, we can dump the index generated inside the script to disk for further use. For the spatial index seen so far, this is not necessary because the index fits into RAM. There are certain use cases or tests were keeping the index only in memory is the correct choice.\n",
    "\n",
    "If you want to write this index to disk you need to provide the path of an empty or non-existing directory to `index.write`:"
   ]
  },
  {
   "cell_type": "code",
   "execution_count": null,
   "metadata": {},
   "outputs": [],
   "source": [
    "import os\n",
    "index_path = \"example_segment_index\"\n",
    "if not os.path.exists(index_path):\n",
    "    index.write(index_path)"
   ]
  },
  {
   "cell_type": "markdown",
   "metadata": {},
   "source": [
    "## Alternative queries\n",
    "\n",
    "In the previous paragraph we already showed some ways of performing queries namely by using the `sphere_query` function for sphere queries and the `box_query` function for box queries. However, there are multiple ways you can get the data you want, especially in situations where you don't need all the data related to a specific entry.\n",
    "\n",
    "For example if you just need the ids of the entries (`gid`, `section_id`, `segment_id` for segments or `id`, `post_gid`, `pre_gid` for synapses) you can pass `fields=[\"gid\", \"section_id\", \"segment_id\"]` to get a dictionary with three numpy arrays. "
   ]
  },
  {
   "cell_type": "code",
   "execution_count": null,
   "metadata": {},
   "outputs": [],
   "source": [
    "ids = index.box_query(min_corner, max_corner, fields=[\"gid\", \"segment_id\", \"section_id\"])\n",
    "print(\"Number of elements within window:\", len(ids))\n",
    "print(ids)"
   ]
  },
  {
   "cell_type": "markdown",
   "metadata": {},
   "source": [
    "Similarly if you just need the positions of the center of the elements in your query, you can use `fields=\"centroid\"` like shown below:"
   ]
  },
  {
   "cell_type": "code",
   "execution_count": null,
   "metadata": {},
   "outputs": [],
   "source": [
    "pos = index.box_query(min_corner, max_corner, fields=\"centroid\")\n",
    "print(pos)"
   ]
  },
  {
   "cell_type": "markdown",
   "metadata": {},
   "source": [
    "As you can see it returns a set of numpy arrays that contain the 3D position of the center of the elements.\n"
   ]
  },
  {
   "cell_type": "markdown",
   "metadata": {},
   "source": [
    "You've frequently seen us \"count\" the number of element by calling `len` on the result. Clearly, this is only for demonstration purposes. You can directly count the number of elements that are present in a certain region of space. If you're not interested in the actual details of the elements, you can just use the `box_counts()` function like shown below:"
   ]
  },
  {
   "cell_type": "code",
   "execution_count": null,
   "metadata": {},
   "outputs": [],
   "source": [
    "count = index.box_counts(min_corner, max_corner)\n",
    "print(count)"
   ]
  },
  {
   "cell_type": "markdown",
   "metadata": {},
   "source": [
    "**With this you know most of the stuff necessary for you day-to-day use of BrainIndexer.**\n",
    "**Well done! 🎉🎉🎉**\n",
    "\n",
    "Thanks for following up until this point!\n",
    "\n",
    "If you want you can now move to the `advanced_tutorial.ipynb` you can find in the `example` folder, where we'll go into more details on techniques like Multi-Indexing."
   ]
  },
  {
   "cell_type": "markdown",
   "metadata": {},
   "source": [
    "## Appendix I: Example list and description\n",
    "\n",
    "The step-by-step tutorial is a very nice starting point but we included a lot of examples ready to use in the `examples` folder of the `BrainIndexer` repo.\n",
    "\n",
    "If you're struggling with any of the snippets of code in this tutorial, or you simply want a more encompassing picture of the tool, please consider looking also at the examples. Here'we'll provide a list of the example files included and what they implement, hoping it can be useful.\n",
    "\n",
    "- `basic_tutorial.ipynb`: this file!\n",
    "- `advanced_tutorial.ipynb`: a Jupyter Notebook with examples on multi-indexing\n",
    "- `segment_index.py`: simple indexing and querying of a segment index \n",
    "- `synapses_index.py`: simple indexing and querying of a synapse index\n",
    "- `segment_index_sonata.py`: indexing and querying of a segment index using SONATA files\n",
    "- `segment_multi_index_sonata.py`: indexing and querying of a segment multi-index using SONATA files\n",
    "- `synapse_multi_index_sonata.py`: indexing and querying of a synapse multi-index using SONATA files"
   ]
  }
 ],
 "metadata": {
  "kernelspec": {
   "display_name": "Python 3.9.7 ('venv': venv)",
   "language": "python",
   "name": "python3"
  },
  "language_info": {
   "codemirror_mode": {
    "name": "ipython",
    "version": 3
   },
   "file_extension": ".py",
   "mimetype": "text/x-python",
   "name": "python",
   "nbconvert_exporter": "python",
   "pygments_lexer": "ipython3",
   "version": "3.9.7"
  },
  "orig_nbformat": 4,
  "vscode": {
   "interpreter": {
    "hash": "3e114e1f4fb82502fa733e8f3ebf0a137e266fe56a980e57b18e4ea32cca23c2"
   }
  }
 },
 "nbformat": 4,
 "nbformat_minor": 2
}
