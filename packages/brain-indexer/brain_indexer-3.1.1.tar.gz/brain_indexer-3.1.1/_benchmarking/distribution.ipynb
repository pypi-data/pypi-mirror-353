{
 "cells": [
  {
   "cell_type": "code",
   "execution_count": null,
   "metadata": {},
   "outputs": [],
   "source": [
    "# A little script to show the distribution of generated points\n",
    "# using the UniformFactory script.\n",
    "\n",
    "import brain_indexer\n",
    "import matplotlib.pyplot as plt\n",
    "import numpy as np\n",
    "\n",
    "from brain_indexer.synthetic_index import UniformFactory\n",
    "\n",
    "n_sections = 10\n",
    "n_segments_per_section = 10\n",
    "n_elements = n_sections * n_segments_per_section\n",
    "boundary = 1000\n",
    "\n",
    "# Generate index with above values\n",
    "index = UniformFactory(n_elements, boundary).morph_index(n_sections=n_sections, n_segments_per_section=n_segments_per_section)\n",
    "\n",
    "min_corner = np.array([-boundary, -boundary, -boundary])\n",
    "max_corner = np.array([boundary, boundary, boundary])\n",
    "\n",
    "# Query the whole index\n",
    "results = index.box_query(min_corner, max_corner)\n",
    "\n",
    "p1, p2 = results[\"endpoints\"]\n",
    "\n",
    "# Plot the points\n",
    "fig = plt.figure()\n",
    "ax = fig.add_subplot(111, projection='3d')\n",
    "ax.scatter(p1[:, 0], p1[:, 1], p1[:, 2], c='r', marker='o')\n",
    "ax.scatter(p2[:, 0], p2[:, 1], p2[:, 2], c='b', marker='o')\n",
    "plt.show()\n",
    "\n",
    "# print the min and max distance between points\n",
    "print(np.min(p2 - p1))\n",
    "print(np.max(p2 - p1))"
   ]
  }
 ],
 "metadata": {
  "kernelspec": {
   "display_name": "Python 3.9.7 ('venv': venv)",
   "language": "python",
   "name": "python3"
  },
  "language_info": {
   "codemirror_mode": {
    "name": "ipython",
    "version": 3
   },
   "file_extension": ".py",
   "mimetype": "text/x-python",
   "name": "python",
   "nbconvert_exporter": "python",
   "pygments_lexer": "ipython3",
   "version": "3.9.7"
  },
  "orig_nbformat": 4,
  "vscode": {
   "interpreter": {
    "hash": "3e114e1f4fb82502fa733e8f3ebf0a137e266fe56a980e57b18e4ea32cca23c2"
   }
  }
 },
 "nbformat": 4,
 "nbformat_minor": 2
}
