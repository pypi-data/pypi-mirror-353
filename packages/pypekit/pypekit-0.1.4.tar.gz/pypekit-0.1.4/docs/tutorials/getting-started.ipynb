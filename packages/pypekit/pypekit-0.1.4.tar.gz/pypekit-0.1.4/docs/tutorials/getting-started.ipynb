{
 "cells": [
  {
   "cell_type": "markdown",
   "id": "67596aca",
   "metadata": {},
   "source": [
    "# Getting Started\n",
    "\n",
    "## Installation\n",
    "\n",
    "```\n",
    "pip install pypekit\n",
    "```\n",
    "\n",
    "## Define Tasks"
   ]
  },
  {
   "cell_type": "code",
   "execution_count": 1,
   "id": "13a0f426",
   "metadata": {},
   "outputs": [],
   "source": [
    "from pypekit import Task\n",
    "\n",
    "class Source(Task):\n",
    "    input_types = [\"source\"]\n",
    "    output_types = [\"a\"]\n",
    "\n",
    "    def run(self, _):\n",
    "        print(\"Running Source\")\n",
    "        return \"source\"\n",
    "\n",
    "class Transform1(Task):\n",
    "    input_types = [\"a\"]\n",
    "    output_types = [\"b\"]\n",
    "\n",
    "    def run(self, x):\n",
    "        print(\"Running Transform1\")\n",
    "        return x + \"_transformed-1\"\n",
    "    \n",
    "class Transform2(Task):\n",
    "    input_types = [\"a\", \"b\"]\n",
    "    output_types = [\"b\"]\n",
    "\n",
    "    def run(self, x):\n",
    "        print(\"Running Transform2\")\n",
    "        return x + \"_transformed-2\"\n",
    "    \n",
    "class Sink1(Task):\n",
    "    input_types = [\"b\"]\n",
    "    output_types = [\"sink\"]\n",
    "\n",
    "    def run(self, x):\n",
    "        print(\"Running Sink1\")\n",
    "        return x + \"_sink-1\"\n",
    "    \n",
    "class Sink2(Task):\n",
    "    input_types = [\"b\"]\n",
    "    output_types = [\"sink\"]\n",
    "\n",
    "    def run(self, x):\n",
    "        print(\"Running Sink2\")\n",
    "        return x + \"_sink-2\"\n"
   ]
  },
  {
   "cell_type": "markdown",
   "id": "cb67b003",
   "metadata": {},
   "source": [
    "## Build Repository"
   ]
  },
  {
   "cell_type": "code",
   "execution_count": 2,
   "id": "2f54657c",
   "metadata": {},
   "outputs": [],
   "source": [
    "from pypekit import Repository\n",
    "\n",
    "repository = Repository([\n",
    "    Source,\n",
    "    Transform1,\n",
    "    Transform2,\n",
    "    Sink1,\n",
    "    Sink2\n",
    "])\n",
    "\n",
    "root = repository.build_tree()"
   ]
  },
  {
   "cell_type": "markdown",
   "id": "19b8f2f9",
   "metadata": {},
   "source": [
    "## Inspect Tree"
   ]
  },
  {
   "cell_type": "code",
   "execution_count": 3,
   "id": "89bade5d",
   "metadata": {},
   "outputs": [
    {
     "name": "stdout",
     "output_type": "stream",
     "text": [
      "└── Root()\n",
      "    └── Source()\n",
      "        ├── Transform1()\n",
      "        │   ├── Transform2()\n",
      "        │   │   ├── Sink1()\n",
      "        │   │   └── Sink2()\n",
      "        │   ├── Sink1()\n",
      "        │   └── Sink2()\n",
      "        └── Transform2()\n",
      "            ├── Sink1()\n",
      "            └── Sink2()\n",
      "\n"
     ]
    }
   ],
   "source": [
    "tree_representation = repository.build_tree_string()\n",
    "print(tree_representation)"
   ]
  },
  {
   "cell_type": "markdown",
   "id": "3194265d",
   "metadata": {},
   "source": [
    "## Build Pipelines"
   ]
  },
  {
   "cell_type": "code",
   "execution_count": 4,
   "id": "122b038d",
   "metadata": {},
   "outputs": [
    {
     "name": "stdout",
     "output_type": "stream",
     "text": [
      "Pipeline(tasks=[Source(), Transform1(), Transform2(), Sink1()])\n",
      "Pipeline(tasks=[Source(), Transform1(), Transform2(), Sink2()])\n",
      "Pipeline(tasks=[Source(), Transform1(), Sink1()])\n",
      "Pipeline(tasks=[Source(), Transform1(), Sink2()])\n",
      "Pipeline(tasks=[Source(), Transform2(), Sink1()])\n",
      "Pipeline(tasks=[Source(), Transform2(), Sink2()])\n"
     ]
    }
   ],
   "source": [
    "pipelines = repository.build_pipelines()\n",
    "for p in pipelines:\n",
    "    print(p)"
   ]
  },
  {
   "cell_type": "markdown",
   "id": "5b058404",
   "metadata": {},
   "source": [
    "## Execute Pipelines with Caching"
   ]
  },
  {
   "cell_type": "code",
   "execution_count": 5,
   "id": "860359c6",
   "metadata": {},
   "outputs": [
    {
     "name": "stdout",
     "output_type": "stream",
     "text": [
      "Running Source\n",
      "Running Transform1\n",
      "Running Transform2\n",
      "Running Sink1\n",
      "Pipeline 1/6 completed. Runtime: 0.00s.\n",
      "Running Sink2\n",
      "Pipeline 2/6 completed. Runtime: 0.00s.\n",
      "Running Sink1\n",
      "Pipeline 3/6 completed. Runtime: 0.00s.\n",
      "Running Sink2\n",
      "Pipeline 4/6 completed. Runtime: 0.00s.\n",
      "Running Transform2\n",
      "Running Sink1\n",
      "Pipeline 5/6 completed. Runtime: 0.00s.\n",
      "Running Sink2\n",
      "Pipeline 6/6 completed. Runtime: 0.00s.\n"
     ]
    }
   ],
   "source": [
    "from pypekit import CachedExecutor\n",
    "\n",
    "executor = CachedExecutor(pipelines, verbose=True)\n",
    "results = executor.run()"
   ]
  },
  {
   "cell_type": "markdown",
   "id": "617012a7",
   "metadata": {},
   "source": [
    "## Inspect Results"
   ]
  },
  {
   "cell_type": "code",
   "execution_count": 6,
   "id": "fb407c6e",
   "metadata": {},
   "outputs": [
    {
     "name": "stdout",
     "output_type": "stream",
     "text": [
      "Tasks: ['Source()', 'Transform1()', 'Transform2()', 'Sink1()']    Output: source_transformed-1_transformed-2_sink-1\n",
      "Tasks: ['Source()', 'Transform1()', 'Transform2()', 'Sink2()']    Output: source_transformed-1_transformed-2_sink-2\n",
      "Tasks: ['Source()', 'Transform1()', 'Sink1()']    Output: source_transformed-1_sink-1\n",
      "Tasks: ['Source()', 'Transform1()', 'Sink2()']    Output: source_transformed-1_sink-2\n",
      "Tasks: ['Source()', 'Transform2()', 'Sink1()']    Output: source_transformed-2_sink-1\n",
      "Tasks: ['Source()', 'Transform2()', 'Sink2()']    Output: source_transformed-2_sink-2\n"
     ]
    }
   ],
   "source": [
    "for r in results.values():\n",
    "    print(f\"Tasks: {r['tasks']}    Output: {r['output']}\")"
   ]
  },
  {
   "cell_type": "markdown",
   "id": "1df8b226",
   "metadata": {},
   "source": [
    "# Reusing Cache"
   ]
  },
  {
   "cell_type": "code",
   "execution_count": 7,
   "id": "5c4ced3e",
   "metadata": {},
   "outputs": [
    {
     "name": "stdout",
     "output_type": "stream",
     "text": [
      "Pipeline 1/6 completed. Runtime: 0.00s.\n",
      "Pipeline 2/6 completed. Runtime: 0.00s.\n",
      "Pipeline 3/6 completed. Runtime: 0.00s.\n",
      "Pipeline 4/6 completed. Runtime: 0.00s.\n",
      "Pipeline 5/6 completed. Runtime: 0.00s.\n",
      "Pipeline 6/6 completed. Runtime: 0.00s.\n"
     ]
    }
   ],
   "source": [
    "new_executor = CachedExecutor(pipelines, cache=executor.cache, verbose=True)\n",
    "new_executor.run();"
   ]
  },
  {
   "cell_type": "markdown",
   "id": "b276873a",
   "metadata": {},
   "source": [
    "# Instances, Parameters and Pipelines"
   ]
  },
  {
   "cell_type": "code",
   "execution_count": 8,
   "id": "98a32e32",
   "metadata": {},
   "outputs": [
    {
     "name": "stdout",
     "output_type": "stream",
     "text": [
      "└── Root()\n",
      "    └── Source()\n",
      "        ├── Transform2()\n",
      "        │   ├── Transform2()\n",
      "        │   │   └── Sink1()\n",
      "        │   └── Sink1()\n",
      "        ├── Transform2()\n",
      "        │   ├── Transform2()\n",
      "        │   │   └── Sink1()\n",
      "        │   └── Sink1()\n",
      "        ├── Transform3(test=True)\n",
      "        │   ├── Transform2()\n",
      "        │   │   ├── Transform2()\n",
      "        │   │   │   └── Sink1()\n",
      "        │   │   └── Sink1()\n",
      "        │   ├── Transform2()\n",
      "        │   │   ├── Transform2()\n",
      "        │   │   │   └── Sink1()\n",
      "        │   │   └── Sink1()\n",
      "        │   └── Sink1()\n",
      "        └── Pipeline(tasks=[Transform1(), Sink2()])\n",
      "\n"
     ]
    }
   ],
   "source": [
    "from pypekit import Pipeline\n",
    "\n",
    "# New task, that takes arguments\n",
    "class Transform3(Task):\n",
    "    input_types = [\"a\"]\n",
    "    output_types = [\"b\"]\n",
    "\n",
    "    def __init__(self, **kwargs):\n",
    "        self.test = kwargs.get(\"test\", False)\n",
    "\n",
    "    def run(self, x):\n",
    "        print(\"Running Transform3 with test =\", self.test)\n",
    "        return x + \"_transformed-3\" + (\"-test\" if self.test else \"\")\n",
    "\n",
    "pipeline = Pipeline([\n",
    "    Transform1(),\n",
    "    Sink2()\n",
    "])\n",
    "\n",
    "repository = Repository([\n",
    "    Source,\n",
    "    Transform2, Transform2,         # Instances of TransformTask2 can occur twice on each branch of the tree\n",
    "    (Transform3, {\"test\": True}),   # TransformTask3 will be instantiated with the argument test=True every time it is used\n",
    "    Sink1(),                        # Every node with the task SinkTask1 will have the same instance\n",
    "    pipeline                        # Pipeline instance as task\n",
    "])\n",
    "\n",
    "repository.build_tree()\n",
    "print(repository.build_tree_string())"
   ]
  }
 ],
 "metadata": {
  "kernelspec": {
   "display_name": "pypekit",
   "language": "python",
   "name": "python3"
  },
  "language_info": {
   "codemirror_mode": {
    "name": "ipython",
    "version": 3
   },
   "file_extension": ".py",
   "mimetype": "text/x-python",
   "name": "python",
   "nbconvert_exporter": "python",
   "pygments_lexer": "ipython3",
   "version": "3.13.2"
  }
 },
 "nbformat": 4,
 "nbformat_minor": 5
}
