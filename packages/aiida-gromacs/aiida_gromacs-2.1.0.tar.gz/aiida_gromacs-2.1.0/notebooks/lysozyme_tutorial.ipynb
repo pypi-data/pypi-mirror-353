{
 "cells": [
  {
   "cell_type": "markdown",
   "metadata": {},
   "source": [
    "# Recording Data Provenance with ``aiida-gromacs``"
   ]
  },
  {
   "cell_type": "markdown",
   "metadata": {},
   "source": [
    "This tutorial follows the first six steps of Justin Lemkul’s [lysozyme tutorial](http://www.mdtutorials.com/gmx/lysozyme/). We will not explain each individual step as this can be found on Justin’s webpage, but we will link to each page and show the ``aiida-gromacs`` equivalant command.\n",
    "\n",
    "<center><img src=\"lysozyme_files/images/lemkul.png\" alt=\"Lysozyme structure\" width=\"50%\" /></center>\n",
    "\n",
    "Please also note the slight differences in commands between the tutorial and that by Justin Lemkul is simply down to the way we are recording provenance, which requires non-interactive input into the gromacs tools.\n",
    "\n",
    "Also at each of the below steps you should run ``verdi`` (the command line interface utility for AiiDA) to view the status of the submitted process before moving onto the next step, you do this by:"
   ]
  },
  {
   "cell_type": "code",
   "execution_count": 10,
   "metadata": {},
   "outputs": [
    {
     "name": "stdout",
     "output_type": "stream",
     "text": [
      "\u001b[22mPK    Created    Process label    Process State    Process status\n",
      "----  ---------  ---------------  ---------------  ----------------\u001b[0m\n",
      "\u001b[22m\n",
      "Total results: 0\n",
      "\u001b[0m\n",
      "\u001b[34m\u001b[1mReport\u001b[0m: \u001b[22mlast time an entry changed state: never\u001b[0m\n",
      "\u001b[34m\u001b[1mReport\u001b[0m: \u001b[22mChecking daemon load... \u001b[0m\u001b[32m\u001b[1mOK\u001b[0m\n",
      "\u001b[34m\u001b[1mReport\u001b[0m: \u001b[22mUsing 0% of the available daemon worker slots.\u001b[0m\n"
     ]
    }
   ],
   "source": [
    "! verdi process list -a"
   ]
  },
  {
   "cell_type": "markdown",
   "metadata": {},
   "source": [
    "In this notebook AiiDA, the aiida-gromacs plugin and dependent tools are pre-installed. Here's a brief description of the tools used; \n",
    "* AiiDA uses a [PostgreSQL](https://www.postgresql.org) database to store all data produced and the links between input and output files for each command run. Each submitted command is termed a process in AiiDA. \n",
    "* Communication between submitted processes are handled with [RabbitMQ](https://www.rabbitmq.com/) and submitted processes are handled with a deamon process that runs in the background. \n",
    "* ``aiida-gromacs`` requires an installation of [GROMACS](https://www.gromacs.org/) and the path to where it is installed.\n",
    "\n",
    "1. We will start from the [pbd2gmx](http://www.mdtutorials.com/gmx/lysozyme/01_pdb2gmx.html)  step of Justin’s tutorial, with the ``aiida-gromacs`` equivalent python wrapper ``gmx_pdb2gmx``:"
   ]
  },
  {
   "cell_type": "code",
   "execution_count": 11,
   "metadata": {},
   "outputs": [
    {
     "name": "stdout",
     "output_type": "stream",
     "text": []
    }
   ],
   "source": [
    "! gmx_pdb2gmx -f lysozyme_files/inputs/1AKI_clean.pdb -ff oplsaa -water spce -o 1AKI_forcefield.gro -p 1AKI_topology.top -i 1AKI_restraints.itp"
   ]
  },
  {
   "cell_type": "markdown",
   "metadata": {},
   "source": [
    "A successfully finished process will exit with code [0]. "
   ]
  },
  {
   "cell_type": "code",
   "execution_count": 12,
   "metadata": {},
   "outputs": [
    {
     "name": "stdout",
     "output_type": "stream",
     "text": [
      "\u001b[22m  PK  Created    Process label       Process State    Process status\n",
      "----  ---------  ------------------  ---------------  ----------------\n",
      "   5  3s ago     Pdb2gmxCalculation  ⏹ Finished [0]\u001b[0m\n",
      "\u001b[22m\n",
      "Total results: 1\n",
      "\u001b[0m\n",
      "\u001b[34m\u001b[1mReport\u001b[0m: \u001b[22mlast time an entry changed state: 2s ago (at 13:50:38 on 2024-06-12)\u001b[0m\n",
      "\u001b[34m\u001b[1mReport\u001b[0m: \u001b[22mChecking daemon load... \u001b[0m\u001b[32m\u001b[1mOK\u001b[0m\n",
      "\u001b[34m\u001b[1mReport\u001b[0m: \u001b[22mUsing 0% of the available daemon worker slots.\u001b[0m\n"
     ]
    }
   ],
   "source": [
    "! verdi process list -a"
   ]
  },
  {
   "cell_type": "markdown",
   "metadata": {},
   "source": [
    "2. & 3. Next we will create the [box and then solvate](http://www.mdtutorials.com/gmx/lysozyme/03_solvate.html):"
   ]
  },
  {
   "cell_type": "code",
   "execution_count": 13,
   "metadata": {},
   "outputs": [
    {
     "name": "stdout",
     "output_type": "stream",
     "text": []
    }
   ],
   "source": [
    "! gmx_editconf -f 1AKI_forcefield.gro -center 0 -d 1.0 -bt cubic -o 1AKI_newbox.gro"
   ]
  },
  {
   "cell_type": "code",
   "execution_count": 14,
   "metadata": {},
   "outputs": [
    {
     "name": "stdout",
     "output_type": "stream",
     "text": [
      "\u001b[22m  PK  Created    Process label        Process State    Process status\n",
      "----  ---------  -------------------  ---------------  ----------------\n",
      "   5  11s ago    Pdb2gmxCalculation   ⏹ Finished [0]\n",
      "  14  3s ago     EditconfCalculation  ⏹ Finished [0]\u001b[0m\n",
      "\u001b[22m\n",
      "Total results: 2\n",
      "\u001b[0m\n",
      "\u001b[34m\u001b[1mReport\u001b[0m: \u001b[22mlast time an entry changed state: 2s ago (at 13:50:46 on 2024-06-12)\u001b[0m\n",
      "\u001b[34m\u001b[1mReport\u001b[0m: \u001b[22mChecking daemon load... \u001b[0m\u001b[32m\u001b[1mOK\u001b[0m\n",
      "\u001b[34m\u001b[1mReport\u001b[0m: \u001b[22mUsing 0% of the available daemon worker slots.\u001b[0m\n"
     ]
    }
   ],
   "source": [
    "! verdi process list -a"
   ]
  },
  {
   "cell_type": "code",
   "execution_count": 15,
   "metadata": {},
   "outputs": [
    {
     "name": "stdout",
     "output_type": "stream",
     "text": []
    }
   ],
   "source": [
    "! gmx_solvate -cp 1AKI_newbox.gro -cs spc216.gro -p 1AKI_topology.top -o 1AKI_solvated.gro"
   ]
  },
  {
   "cell_type": "code",
   "execution_count": 16,
   "metadata": {},
   "outputs": [
    {
     "name": "stdout",
     "output_type": "stream",
     "text": [
      "\u001b[22m  PK  Created    Process label        Process State    Process status\n",
      "----  ---------  -------------------  ---------------  ----------------\n",
      "   5  21s ago    Pdb2gmxCalculation   ⏹ Finished [0]\n",
      "  14  13s ago    EditconfCalculation  ⏹ Finished [0]\n",
      "  21  4s ago     SolvateCalculation   ⏹ Finished [0]\u001b[0m\n",
      "\u001b[22m\n",
      "Total results: 3\n",
      "\u001b[0m\n",
      "\u001b[34m\u001b[1mReport\u001b[0m: \u001b[22mlast time an entry changed state: 3s ago (at 13:50:55 on 2024-06-12)\u001b[0m\n",
      "\u001b[34m\u001b[1mReport\u001b[0m: \u001b[22mChecking daemon load... \u001b[0m\u001b[32m\u001b[1mOK\u001b[0m\n",
      "\u001b[34m\u001b[1mReport\u001b[0m: \u001b[22mUsing 0% of the available daemon worker slots.\u001b[0m\n"
     ]
    }
   ],
   "source": [
    "! verdi process list -a"
   ]
  },
  {
   "cell_type": "markdown",
   "metadata": {},
   "source": [
    "4. & 5. Then add [ions](http://www.mdtutorials.com/gmx/lysozyme/04_ions.html) to neutralise the system after preprocessing the topology:"
   ]
  },
  {
   "cell_type": "code",
   "execution_count": 17,
   "metadata": {},
   "outputs": [
    {
     "name": "stdout",
     "output_type": "stream",
     "text": []
    }
   ],
   "source": [
    "! gmx_grompp -f lysozyme_files/inputs/ions.mdp -c 1AKI_solvated.gro -p 1AKI_topology.top -o 1AKI_ions.tpr"
   ]
  },
  {
   "cell_type": "code",
   "execution_count": 18,
   "metadata": {},
   "outputs": [
    {
     "name": "stdout",
     "output_type": "stream",
     "text": [
      "\u001b[22m  PK  Created    Process label        Process State    Process status\n",
      "----  ---------  -------------------  ---------------  ----------------\n",
      "   5  36s ago    Pdb2gmxCalculation   ⏹ Finished [0]\n",
      "  14  28s ago    EditconfCalculation  ⏹ Finished [0]\n",
      "  21  19s ago    SolvateCalculation   ⏹ Finished [0]\n",
      "  30  3s ago     GromppCalculation    ⏹ Finished [0]\u001b[0m\n",
      "\u001b[22m\n",
      "Total results: 4\n",
      "\u001b[0m\n",
      "\u001b[34m\u001b[1mReport\u001b[0m: \u001b[22mlast time an entry changed state: 2s ago (at 13:51:11 on 2024-06-12)\u001b[0m\n",
      "\u001b[34m\u001b[1mReport\u001b[0m: \u001b[22mChecking daemon load... \u001b[0m\u001b[32m\u001b[1mOK\u001b[0m\n",
      "\u001b[34m\u001b[1mReport\u001b[0m: \u001b[22mUsing 0% of the available daemon worker slots.\u001b[0m\n"
     ]
    }
   ],
   "source": [
    "! verdi process list -a"
   ]
  },
  {
   "cell_type": "code",
   "execution_count": 19,
   "metadata": {},
   "outputs": [
    {
     "name": "stdout",
     "output_type": "stream",
     "text": []
    }
   ],
   "source": [
    "! gmx_genion -s 1AKI_ions.tpr -p 1AKI_topology.top -pname NA -nname CL -neutral true -o 1AKI_solvated_ions.gro"
   ]
  },
  {
   "cell_type": "code",
   "execution_count": 20,
   "metadata": {},
   "outputs": [
    {
     "name": "stdout",
     "output_type": "stream",
     "text": [
      "\u001b[22m  PK  Created    Process label        Process State    Process status\n",
      "----  ---------  -------------------  ---------------  ----------------\n",
      "   5  44s ago    Pdb2gmxCalculation   ⏹ Finished [0]\n",
      "  14  36s ago    EditconfCalculation  ⏹ Finished [0]\n",
      "  21  27s ago    SolvateCalculation   ⏹ Finished [0]\n",
      "  30  11s ago    GromppCalculation    ⏹ Finished [0]\n",
      "  38  3s ago     GenionCalculation    ⏹ Finished [0]\u001b[0m\n",
      "\u001b[22m\n",
      "Total results: 5\n",
      "\u001b[0m\n",
      "\u001b[34m\u001b[1mReport\u001b[0m: \u001b[22mlast time an entry changed state: 2s ago (at 13:51:19 on 2024-06-12)\u001b[0m\n",
      "\u001b[34m\u001b[1mReport\u001b[0m: \u001b[22mChecking daemon load... \u001b[0m\u001b[32m\u001b[1mOK\u001b[0m\n",
      "\u001b[34m\u001b[1mReport\u001b[0m: \u001b[22mUsing 0% of the available daemon worker slots.\u001b[0m\n"
     ]
    }
   ],
   "source": [
    "! verdi process list -a"
   ]
  },
  {
   "cell_type": "markdown",
   "metadata": {},
   "source": [
    "6. & 7. Then [minimise](http://www.mdtutorials.com/gmx/lysozyme/05_EM.html) the system after preprocessing the topology:"
   ]
  },
  {
   "cell_type": "code",
   "execution_count": 21,
   "metadata": {},
   "outputs": [
    {
     "name": "stdout",
     "output_type": "stream",
     "text": []
    }
   ],
   "source": [
    "! gmx_grompp -f lysozyme_files/inputs/min.mdp -c 1AKI_solvated_ions.gro -p 1AKI_topology.top -o 1AKI_minimised.tpr"
   ]
  },
  {
   "cell_type": "code",
   "execution_count": 22,
   "metadata": {},
   "outputs": [
    {
     "name": "stdout",
     "output_type": "stream",
     "text": [
      "\u001b[22m  PK  Created    Process label        Process State    Process status\n",
      "----  ---------  -------------------  ---------------  ----------------\n",
      "   5  55s ago    Pdb2gmxCalculation   ⏹ Finished [0]\n",
      "  14  47s ago    EditconfCalculation  ⏹ Finished [0]\n",
      "  21  38s ago    SolvateCalculation   ⏹ Finished [0]\n",
      "  30  22s ago    GromppCalculation    ⏹ Finished [0]\n",
      "  38  14s ago    GenionCalculation    ⏹ Finished [0]\n",
      "  47  3s ago     GromppCalculation    ⏹ Finished [0]\u001b[0m\n",
      "\u001b[22m\n",
      "Total results: 6\n",
      "\u001b[0m\n",
      "\u001b[34m\u001b[1mReport\u001b[0m: \u001b[22mlast time an entry changed state: 2s ago (at 13:51:30 on 2024-06-12)\u001b[0m\n",
      "\u001b[34m\u001b[1mReport\u001b[0m: \u001b[22mChecking daemon load... \u001b[0m\u001b[32m\u001b[1mOK\u001b[0m\n",
      "\u001b[34m\u001b[1mReport\u001b[0m: \u001b[22mUsing 0% of the available daemon worker slots.\u001b[0m\n"
     ]
    }
   ],
   "source": [
    "! verdi process list -a"
   ]
  },
  {
   "cell_type": "code",
   "execution_count": 23,
   "metadata": {},
   "outputs": [
    {
     "name": "stdout",
     "output_type": "stream",
     "text": []
    }
   ],
   "source": [
    "! gmx_mdrun -s 1AKI_minimised.tpr -c 1AKI_minimised.gro -e 1AKI_minimised.edr -g 1AKI_minimised.log -o 1AKI_minimised.trr"
   ]
  },
  {
   "cell_type": "code",
   "execution_count": 25,
   "metadata": {},
   "outputs": [
    {
     "name": "stdout",
     "output_type": "stream",
     "text": [
      "\u001b[22m  PK  Created    Process label        Process State    Process status\n",
      "----  ---------  -------------------  ---------------  ----------------\n",
      "   5  1m ago     Pdb2gmxCalculation   ⏹ Finished [0]\n",
      "  14  1m ago     EditconfCalculation  ⏹ Finished [0]\n",
      "  21  59s ago    SolvateCalculation   ⏹ Finished [0]\n",
      "  30  43s ago    GromppCalculation    ⏹ Finished [0]\n",
      "  38  35s ago    GenionCalculation    ⏹ Finished [0]\n",
      "  47  24s ago    GromppCalculation    ⏹ Finished [0]\n",
      "  54  15s ago    MdrunCalculation     ⏹ Finished [0]\u001b[0m\n",
      "\u001b[22m\n",
      "Total results: 7\n",
      "\u001b[0m\n",
      "\u001b[34m\u001b[1mReport\u001b[0m: \u001b[22mlast time an entry changed state: 5s ago (at 13:51:48 on 2024-06-12)\u001b[0m\n",
      "\u001b[34m\u001b[1mReport\u001b[0m: \u001b[22mChecking daemon load... \u001b[0m\u001b[32m\u001b[1mOK\u001b[0m\n",
      "\u001b[34m\u001b[1mReport\u001b[0m: \u001b[22mUsing 0% of the available daemon worker slots.\u001b[0m\n"
     ]
    }
   ],
   "source": [
    "! verdi process list -a"
   ]
  },
  {
   "cell_type": "markdown",
   "metadata": {},
   "source": [
    "We can view the provenance graph of these processes, which shows how inputs and outputs of each process are connected to other processes. To save the provenance graph of all finished processes, replace the primary key value <PK> in the command below with that of the most recently run process."
   ]
  },
  {
   "cell_type": "code",
   "execution_count": 26,
   "metadata": {},
   "outputs": [
    {
     "name": "stdout",
     "output_type": "stream",
     "text": [
      "\u001b[32m\u001b[1mSuccess: \u001b[0m\u001b[22mOutput written to `54.dot.pdf`\u001b[0m\n"
     ]
    }
   ],
   "source": [
    "! verdi node graph generate 54"
   ]
  },
  {
   "cell_type": "markdown",
   "metadata": {},
   "source": [
    "The graph should look something like this:\n",
    "\n",
    "<center><img src=\"lysozyme_files/images/54.dot.png\" alt=\"Lysozyme structure\" width=\"90%\" /></center>"
   ]
  },
  {
   "cell_type": "markdown",
   "metadata": {},
   "source": [
    "To view all the currently run commands in each process, the input files used in each command and the output files produced from each command, we can use:"
   ]
  },
  {
   "cell_type": "code",
   "execution_count": 27,
   "metadata": {},
   "outputs": [
    {
     "name": "stdout",
     "output_type": "stream",
     "text": [
      "\n",
      "Step 1.\n",
      "\tcommand: gmx pdb2gmx -f 1AKI_clean.pdb -ff oplsaa -water spce -o 1AKI_forcefield.gro -p 1AKI_topology.top -i 1AKI_restraints.itp \n",
      "\texecutable: gmx\n",
      "\tinput files: \n",
      "\t\t1AKI_clean.pdb\n",
      "\toutput files: \n",
      "\t\tpdb2gmx.out\n",
      "\t\t1AKI_forcefield.gro\n",
      "\t\t1AKI_topology.top\n",
      "\t\t1AKI_restraints.itp\n",
      "\n",
      "Step 2.\n",
      "\tcommand: gmx editconf -f 1AKI_forcefield.gro -center 0 -d 1.0 -bt cubic -o 1AKI_newbox.gro \n",
      "\texecutable: gmx\n",
      "\tinput files: \n",
      "\t\t1AKI_forcefield.gro <-- from Step 1.\n",
      "\toutput files: \n",
      "\t\teditconf.out\n",
      "\t\t1AKI_newbox.gro\n",
      "\n",
      "Step 3.\n",
      "\tcommand: gmx solvate -cp 1AKI_newbox.gro -cs spc216.gro -p 1AKI_topology.top -o 1AKI_solvated.gro \n",
      "\texecutable: gmx\n",
      "\tinput files: \n",
      "\t\t1AKI_topology.top <-- from Step 1.\n",
      "\t\t1AKI_newbox.gro <-- from Step 2.\n",
      "\toutput files: \n",
      "\t\tsolvate.out\n",
      "\t\t1AKI_solvated.gro\n",
      "\t\t1AKI_topology.top\n",
      "\n",
      "Step 4.\n",
      "\tcommand: gmx grompp -f ions.mdp -c 1AKI_solvated.gro -p 1AKI_topology.top -o 1AKI_ions.tpr \n",
      "\texecutable: gmx\n",
      "\tinput files: \n",
      "\t\t1AKI_solvated.gro <-- from Step 3.\n",
      "\t\t1AKI_topology.top <-- from Step 3.\n",
      "\t\tions.mdp\n",
      "\toutput files: \n",
      "\t\tgrompp.out\n",
      "\t\t1AKI_ions.tpr\n",
      "\n",
      "Step 5.\n",
      "\tcommand: gmx genion -s 1AKI_ions.tpr -p 1AKI_topology.top -pname NA -nname CL -neutral true -o 1AKI_solvated_ions.gro \n",
      "\texecutable: bash\n",
      "\tinput files: \n",
      "\t\t1AKI_topology.top <-- from Step 3.\n",
      "\t\t1AKI_ions.tpr <-- from Step 4.\n",
      "\toutput files: \n",
      "\t\tgenion.out\n",
      "\t\t1AKI_solvated_ions.gro\n",
      "\t\t1AKI_topology.top\n",
      "\n",
      "Step 6.\n",
      "\tcommand: gmx grompp -f min.mdp -c 1AKI_solvated_ions.gro -p 1AKI_topology.top -o 1AKI_minimised.tpr \n",
      "\texecutable: gmx\n",
      "\tinput files: \n",
      "\t\t1AKI_solvated_ions.gro <-- from Step 5.\n",
      "\t\t1AKI_topology.top <-- from Step 5.\n",
      "\t\tmin.mdp\n",
      "\toutput files: \n",
      "\t\tgrompp.out\n",
      "\t\t1AKI_minimised.tpr\n",
      "\n",
      "Step 7.\n",
      "\tcommand: gmx mdrun -s 1AKI_minimised.tpr -c 1AKI_minimised.gro -e 1AKI_minimised.edr -g 1AKI_minimised.log -o 1AKI_minimised.trr -xvg none \n",
      "\texecutable: gmx\n",
      "\tinput files: \n",
      "\t\t1AKI_minimised.tpr <-- from Step 6.\n",
      "\toutput files: \n",
      "\t\tmdrun.out\n",
      "\t\t1AKI_minimised.gro\n",
      "\t\t1AKI_minimised.edr\n",
      "\t\t1AKI_minimised.log\n",
      "\t\t1AKI_minimised.trr\n"
     ]
    }
   ],
   "source": [
    "! verdi data provenance show"
   ]
  },
  {
   "cell_type": "markdown",
   "metadata": {},
   "source": [
    "At the end of a project, the AiiDA database can be saved as an AiiDA archive file (sqlite/zip format) for long term storage and to share your data and provenance with others. "
   ]
  },
  {
   "cell_type": "code",
   "execution_count": 28,
   "metadata": {},
   "outputs": [
    {
     "name": "stdout",
     "output_type": "stream",
     "text": [
      "\u001b[34m\u001b[1mReport\u001b[0m: \n",
      "Archive Parameters\n",
      "--------------------  -----------------------\n",
      "Path                  lysozyme_tutorial.aiida\n",
      "Version               main_0001\n",
      "Compression           6\n",
      "\n",
      "Inclusion rules\n",
      "----------------------------  -----\n",
      "Computers/Nodes/Groups/Users  All\n",
      "Computer Authinfos            False\n",
      "Node Comments                 True\n",
      "Node Logs                     True\n",
      "\n",
      "\u001b[34m\u001b[1mReport\u001b[0m: Validating Nodes                                           \n",
      "\u001b[34m\u001b[1mReport\u001b[0m: Creating archive with:\n",
      "---------  --\n",
      "users       1\n",
      "computers   1\n",
      "nodes      62\n",
      "links      70\n",
      "---------  --\n",
      "\u001b[34m\u001b[1mReport\u001b[0m: Finalizing archive creation...                             \n",
      "\u001b[34m\u001b[1mReport\u001b[0m: Archive created successfully\n",
      "\u001b[32m\u001b[1mSuccess: \u001b[0m\u001b[22mwrote the export archive file to lysozyme_tutorial.aiida\u001b[0m\n"
     ]
    }
   ],
   "source": [
    "! verdi archive create --all lysozyme_tutorial.aiida"
   ]
  },
  {
   "cell_type": "markdown",
   "metadata": {},
   "source": [
    "We hope to share further tutorials on loading, querying and displaying data from AiiDA archives. Watch this space!"
   ]
  }
 ],
 "metadata": {
  "kernelspec": {
   "display_name": "aiida-2.4.0",
   "language": "python",
   "name": "python3"
  },
  "language_info": {
   "codemirror_mode": {
    "name": "ipython",
    "version": 3
   },
   "file_extension": ".py",
   "mimetype": "text/x-python",
   "name": "python",
   "nbconvert_exporter": "python",
   "pygments_lexer": "ipython3",
   "version": "3.11.0"
  }
 },
 "nbformat": 4,
 "nbformat_minor": 2
}
