{
 "cells": [
  {
   "cell_type": "markdown",
   "id": "84b039b7-da7e-41c4-8469-0c08df2e2a71",
   "metadata": {},
   "source": [
    "#### Title: demo.ipynb\n",
    "\n",
    "#### Description: Sample code for using XGBOrdinal with and without GridSearchCV\n",
    "\n",
    "#### Author: Fabian Kahl"
   ]
  },
  {
   "cell_type": "code",
   "execution_count": 1,
   "id": "516fed6b-d799-4e9c-9b53-45dd0258fb6b",
   "metadata": {},
   "outputs": [],
   "source": [
    "import pandas as pd\n",
    "import numpy as np\n",
    "from sklearn.model_selection import GridSearchCV, train_test_split\n",
    "import xgbordinal as xgbo\n",
    "from sklearn.metrics import mean_squared_error, mean_absolute_error\n",
    "from sklearn.datasets import load_diabetes"
   ]
  },
  {
   "cell_type": "code",
   "execution_count": 2,
   "id": "3207c85c-c6d0-44de-8d53-173d839e43f9",
   "metadata": {},
   "outputs": [
    {
     "name": "stdout",
     "output_type": "stream",
     "text": [
      "Mean squared error (ordinal): 5.292\n",
      "Mean absolute error (ordinal): 1.787\n"
     ]
    }
   ],
   "source": [
    "# True: run with GridSearchCV, False: run without GidSearchCV\n",
    "optimize_params = False\n",
    "\n",
    "y_col = 'target_quantiles'\n",
    "number_quantiles = 10\n",
    "\n",
    "# Load and split the dataset\n",
    "data = load_diabetes()\n",
    "X_df = pd.DataFrame(data[\"data\"], columns = data[\"feature_names\"])\n",
    "y = data[\"target\"]\n",
    "\n",
    "# Assign quantile categories\n",
    "y = pd.qcut(y, q=number_quantiles, labels=False)\n",
    "\n",
    "# Split the data\n",
    "X_train_df, X_test_df, y_train, y_test = train_test_split(X_df, y, test_size=0.2, random_state=42,\n",
    "                    stratify=y)\n",
    "\n",
    "# Hyperparameter optimization or direct training\n",
    "if optimize_params:\n",
    "    param_grid = {\n",
    "        'max_depth': [3, 6],\n",
    "        'learning_rate': [0.1, 0.5],\n",
    "        'subsample': [0.8, 1.0],\n",
    "    }\n",
    "    optimal_params = GridSearchCV(estimator=xgbo.XGBOrdinal(),\n",
    "                                            param_grid=param_grid, cv=5)\n",
    "    optimal_params.fit(X_train_df, y_train)\n",
    "    model = optimal_params.best_estimator_\n",
    "else:\n",
    "    model = xgbo.XGBOrdinal()\n",
    "    model.fit(X_train_df, y_train)\n",
    "\n",
    "# Make predictions and calculate metrics\n",
    "y_test_pred = model.predict(X_test_df)\n",
    "mse = mean_squared_error(y_test, y_test_pred)\n",
    "mae = mean_absolute_error(y_test, y_test_pred)\n",
    "\n",
    "print(f'Mean squared error (ordinal): {mse:.3f}')\n",
    "print(f'Mean absolute error (ordinal): {mae:.3f}')"
   ]
  }
 ],
 "metadata": {
  "kernelspec": {
   "display_name": "thrombophilia",
   "language": "python",
   "name": "thrombophilia"
  },
  "language_info": {
   "codemirror_mode": {
    "name": "ipython",
    "version": 3
   },
   "file_extension": ".py",
   "mimetype": "text/x-python",
   "name": "python",
   "nbconvert_exporter": "python",
   "pygments_lexer": "ipython3",
   "version": "3.9.17"
  }
 },
 "nbformat": 4,
 "nbformat_minor": 5
}
