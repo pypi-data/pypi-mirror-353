{
 "cells": [
  {
   "cell_type": "markdown",
   "metadata": {},
   "source": [
    "# nbconvert latex test"
   ]
  },
  {
   "cell_type": "markdown",
   "metadata": {},
   "source": [
    "**Lorem ipsum** dolor sit amet, consectetur adipiscing elit. Nunc luctus bibendum felis dictum sodales. Ut suscipit, orci ut interdum imperdiet, purus ligula mollis *justo*, non malesuada nisl augue eget lorem. Donec bibendum, erat sit amet porttitor aliquam, urna lorem ornare libero, in vehicula diam diam ut ante. Nam non urna rhoncus, accumsan elit sit amet, mollis tellus. Vestibulum nec tellus metus. Vestibulum tempor, ligula et vehicula rhoncus, sapien turpis faucibus lorem, id dapibus turpis mauris ac orci. Sed volutpat vestibulum venenatis.\n",
    "\n",
    "$\\LaTeX ~ \\TeX$\n",
    "\n",
    "This is a test list:\n",
    "\n",
    "1. item 1\n",
    "   - subitem 1\n",
    "   - subitem 2\n",
    "2. item 2\n",
    "3. item 3"
   ]
  },
  {
   "cell_type": "markdown",
   "metadata": {},
   "source": [
    "## Printed Using Python"
   ]
  },
  {
   "cell_type": "code",
   "execution_count": 1,
   "metadata": {},
   "outputs": [
    {
     "name": "stdout",
     "output_type": "stream",
     "text": [
      "\n",
      "Aenean vitae diam consectetur, tempus arcu quis, ultricies urna. Vivamus venenatis sem \n",
      "quis orci condimentum, sed feugiat dui porta.\n",
      "\n",
      "Aenean vitae diam consectetur, tempus arcu quis, ultricies urna. Vivamus venenatis sem \n",
      "quis orci condimentum, sed feugiat dui porta.\n",
      "\n"
     ]
    }
   ],
   "source": [
    "next_paragraph = \"\"\"\n",
    "Aenean vitae diam consectetur, tempus arcu quis, ultricies urna. Vivamus venenatis sem \n",
    "quis orci condimentum, sed feugiat dui porta.\n",
    "\"\"\"\n",
    "\n",
    "def identity_dec(ob):\n",
    "    return ob\n",
    "\n",
    "@identity_dec\n",
    "def nifty_print(text):\n",
    "    \"\"\"Used to test syntax highlighting\"\"\"\n",
    "    \n",
    "    print(text * 2)\n",
    "\n",
    "nifty_print(next_paragraph)"
   ]
  },
  {
   "cell_type": "markdown",
   "metadata": {},
   "source": [
    "## Pyout (and Text Wrapping)"
   ]
  },
  {
   "cell_type": "code",
   "execution_count": 2,
   "metadata": {},
   "outputs": [
    {
     "data": {
      "text/plain": [
       "'\\nAliquam blandit aliquet enim, eget scelerisque eros adipiscing quis. Nunc sed metus \\nut lorem condimentum condimentum nec id enim. Sed malesuada cursus hendrerit. Praesent \\net commodo justo. Interdum et malesuada fames ac ante ipsum primis in faucibus. \\nCurabitur et magna ante. Proin luctus tellus sit amet egestas laoreet. Sed dapibus \\nneque ac nulla mollis cursus. Fusce mollis egestas libero mattis facilisis.\\n'"
      ]
     },
     "execution_count": 2,
     "metadata": {},
     "output_type": "execute_result"
    }
   ],
   "source": [
    "Text = \"\"\"\n",
    "Aliquam blandit aliquet enim, eget scelerisque eros adipiscing quis. Nunc sed metus \n",
    "ut lorem condimentum condimentum nec id enim. Sed malesuada cursus hendrerit. Praesent \n",
    "et commodo justo. Interdum et malesuada fames ac ante ipsum primis in faucibus. \n",
    "Curabitur et magna ante. Proin luctus tellus sit amet egestas laoreet. Sed dapibus \n",
    "neque ac nulla mollis cursus. Fusce mollis egestas libero mattis facilisis.\n",
    "\"\"\"\n",
    "Text #Use print(Text) instead to get text wrapping in pdf"
   ]
  },
  {
   "cell_type": "code",
   "execution_count": 3,
   "metadata": {},
   "outputs": [
    {
     "name": "stdout",
     "output_type": "stream",
     "text": [
      "\n",
      "Aliquam blandit aliquet enim, eget scelerisque eros adipiscing quis. Nunc sed metus \n",
      "ut lorem condimentum condimentum nec id enim. Sed malesuada cursus hendrerit. Praesent \n",
      "et commodo justo. Interdum et malesuada fames ac ante ipsum primis in faucibus. \n",
      "Curabitur et magna ante. Proin luctus tellus sit amet egestas laoreet. Sed dapibus \n",
      "neque ac nulla mollis cursus. Fusce mollis egestas libero mattis facilisis.\n",
      "\n"
     ]
    }
   ],
   "source": [
    "print(Text)"
   ]
  },
  {
   "cell_type": "code",
   "execution_count": 4,
   "metadata": {},
   "outputs": [
    {
     "name": "stdout",
     "output_type": "stream",
     "text": [
      "[[0.28568166 0.8747998  0.87645362 0.51011938 0.06167899 0.6253242\n",
      "  0.21695898 0.35406203 0.76399062 0.38721428]\n",
      " [0.59226394 0.23033422 0.11576507 0.0131951  0.34366223 0.96629731\n",
      "  0.2867491  0.95194302 0.60324146 0.55986092]\n",
      " [0.36955543 0.78864789 0.73933855 0.39474922 0.74616752 0.9144543\n",
      "  0.88600249 0.42611302 0.49375306 0.4260594 ]\n",
      " [0.40550295 0.85035162 0.5525894  0.21827199 0.67949174 0.93909704\n",
      "  0.0331135  0.27240638 0.39332899 0.19852766]\n",
      " [0.32876315 0.97305405 0.11060386 0.20685979 0.3897287  0.01538051\n",
      "  0.44747911 0.99865014 0.89374066 0.5141975 ]\n",
      " [0.10450336 0.42284722 0.95628045 0.32792639 0.11370905 0.32150692\n",
      "  0.28631773 0.58203321 0.21240863 0.87954985]\n",
      " [0.62257223 0.79092658 0.72718477 0.0039627  0.61581427 0.28007586\n",
      "  0.4653752  0.24737437 0.97801711 0.31160009]\n",
      " [0.03592867 0.56885907 0.05229575 0.12322391 0.45236765 0.98892923\n",
      "  0.15013782 0.81404334 0.71795481 0.60145161]\n",
      " [0.01582381 0.23420526 0.18574213 0.6497537  0.71730148 0.0068443\n",
      "  0.32733317 0.81837686 0.58895758 0.37633478]\n",
      " [0.64226276 0.77550803 0.23729951 0.9287232  0.14250076 0.23955818\n",
      "  0.70490581 0.84959453 0.46939408 0.01230405]]\n"
     ]
    },
    {
     "data": {
      "text/plain": [
       "array([[0.28568166, 0.8747998 , 0.87645362, 0.51011938, 0.06167899,\n",
       "        0.6253242 , 0.21695898, 0.35406203, 0.76399062, 0.38721428],\n",
       "       [0.59226394, 0.23033422, 0.11576507, 0.0131951 , 0.34366223,\n",
       "        0.96629731, 0.2867491 , 0.95194302, 0.60324146, 0.55986092],\n",
       "       [0.36955543, 0.78864789, 0.73933855, 0.39474922, 0.74616752,\n",
       "        0.9144543 , 0.88600249, 0.42611302, 0.49375306, 0.4260594 ],\n",
       "       [0.40550295, 0.85035162, 0.5525894 , 0.21827199, 0.67949174,\n",
       "        0.93909704, 0.0331135 , 0.27240638, 0.39332899, 0.19852766],\n",
       "       [0.32876315, 0.97305405, 0.11060386, 0.20685979, 0.3897287 ,\n",
       "        0.01538051, 0.44747911, 0.99865014, 0.89374066, 0.5141975 ],\n",
       "       [0.10450336, 0.42284722, 0.95628045, 0.32792639, 0.11370905,\n",
       "        0.32150692, 0.28631773, 0.58203321, 0.21240863, 0.87954985],\n",
       "       [0.62257223, 0.79092658, 0.72718477, 0.0039627 , 0.61581427,\n",
       "        0.28007586, 0.4653752 , 0.24737437, 0.97801711, 0.31160009],\n",
       "       [0.03592867, 0.56885907, 0.05229575, 0.12322391, 0.45236765,\n",
       "        0.98892923, 0.15013782, 0.81404334, 0.71795481, 0.60145161],\n",
       "       [0.01582381, 0.23420526, 0.18574213, 0.6497537 , 0.71730148,\n",
       "        0.0068443 , 0.32733317, 0.81837686, 0.58895758, 0.37633478],\n",
       "       [0.64226276, 0.77550803, 0.23729951, 0.9287232 , 0.14250076,\n",
       "        0.23955818, 0.70490581, 0.84959453, 0.46939408, 0.01230405]])"
      ]
     },
     "execution_count": 4,
     "metadata": {},
     "output_type": "execute_result"
    }
   ],
   "source": [
    "import numpy as np\n",
    "\n",
    "a = np.random.rand(10,10)\n",
    "print(a)\n",
    "a"
   ]
  },
  {
   "cell_type": "markdown",
   "metadata": {},
   "source": [
    "### Image"
   ]
  },
  {
   "cell_type": "code",
   "execution_count": 5,
   "metadata": {},
   "outputs": [
    {
     "data": {
      "image/png": "[encoded data removed]",
      "text/plain": [
       "<IPython.core.display.Image object>"
      ]
     },
     "execution_count": 5,
     "metadata": {},
     "output_type": "execute_result"
    }
   ],
   "source": [
    "from IPython.core.display import Image\n",
    "Image(data=\"http://ipython.org/_static/IPy_header.png\")"
   ]
  },
  {
   "cell_type": "code",
   "execution_count": 1231,
   "metadata": {},
   "outputs": [
    {
     "name": "stdout",
     "output_type": "stream",
     "text": [
      "text\n"
     ]
    }
   ],
   "source": [
    "print('text')"
   ]
  },
  {
   "cell_type": "code",
   "execution_count": 7,
   "metadata": {},
   "outputs": [],
   "source": [
    "%matplotlib inline\n",
    "import matplotlib.pyplot as plt\n",
    "import numpy as np"
   ]
  },
  {
   "cell_type": "code",
   "execution_count": 8,
   "metadata": {},
   "outputs": [
    {
     "data": {
      "image/png": "[encoded data removed]",
      "text/plain": [
       "<Figure size 432x288 with 1 Axes>"
      ]
     },
     "metadata": {},
     "output_type": "display_data"
    }
   ],
   "source": [
    "x = np.arange(1,100)\n",
    "y = np.sin(x)\n",
    "plt.plot(x,y)\n",
    "plt.show()"
   ]
  },
  {
   "cell_type": "markdown",
   "metadata": {},
   "source": [
    "### Operator Highlighing Check"
   ]
  },
  {
   "cell_type": "code",
   "execution_count": 9,
   "metadata": {},
   "outputs": [
    {
     "name": "stdout",
     "output_type": "stream",
     "text": [
      "1953188.1556827284\n"
     ]
    },
    {
     "data": {
      "text/plain": [
       "{0, 2, 4, 6, 8}"
      ]
     },
     "execution_count": 9,
     "metadata": {},
     "output_type": "execute_result"
    }
   ],
   "source": [
    "#This is a comment with an operation x @ y in it.\n",
    "test = 5**9 + 2 - x@ y / (7 % 2) + True * 7\n",
    "print(test)\n",
    "\n",
    "a = set([1,2,3,4,5,6,7,8,9,0])\n",
    "b = set([2,4,6,8,0])\n",
    "a & b"
   ]
  },
  {
   "cell_type": "markdown",
   "metadata": {},
   "source": [
    "#### Pandas Output\n",
    "\n",
    "Here we test the output of **Pandas**\n",
    "\n",
    "First a *markdown* table:\n",
    "\n",
    "Column 1 | Column 2\n",
    "---------|-----------\n",
    " 1       | 3\n",
    "~~a~~    | b\n",
    "        4| & \n",
    "\n",
    "#### Pandas"
   ]
  },
  {
   "cell_type": "code",
   "execution_count": 10,
   "metadata": {},
   "outputs": [
    {
     "data": {
      "text/html": [
       "<div>\n",
       "<style scoped>\n",
       "    .dataframe tbody tr th:only-of-type {\n",
       "        vertical-align: middle;\n",
       "    }\n",
       "\n",
       "    .dataframe tbody tr th {\n",
       "        vertical-align: top;\n",
       "    }\n",
       "\n",
       "    .dataframe thead th {\n",
       "        text-align: right;\n",
       "    }\n",
       "</style>\n",
       "<table border=\"1\" class=\"dataframe\">\n",
       "  <thead>\n",
       "    <tr style=\"text-align: right;\">\n",
       "      <th></th>\n",
       "      <th>0</th>\n",
       "      <th>1</th>\n",
       "      <th>2</th>\n",
       "    </tr>\n",
       "  </thead>\n",
       "  <tbody>\n",
       "    <tr>\n",
       "      <th>0</th>\n",
       "      <td>-1.565342</td>\n",
       "      <td>-0.260043</td>\n",
       "      <td>-1.427162</td>\n",
       "    </tr>\n",
       "    <tr>\n",
       "      <th>1</th>\n",
       "      <td>-0.267812</td>\n",
       "      <td>1.022688</td>\n",
       "      <td>-0.268030</td>\n",
       "    </tr>\n",
       "    <tr>\n",
       "      <th>2</th>\n",
       "      <td>0.104852</td>\n",
       "      <td>0.415075</td>\n",
       "      <td>0.958796</td>\n",
       "    </tr>\n",
       "    <tr>\n",
       "      <th>3</th>\n",
       "      <td>0.210758</td>\n",
       "      <td>-0.500437</td>\n",
       "      <td>-1.584460</td>\n",
       "    </tr>\n",
       "    <tr>\n",
       "      <th>4</th>\n",
       "      <td>-0.754263</td>\n",
       "      <td>-2.317940</td>\n",
       "      <td>-0.384726</td>\n",
       "    </tr>\n",
       "    <tr>\n",
       "      <th>5</th>\n",
       "      <td>-0.062044</td>\n",
       "      <td>-0.804551</td>\n",
       "      <td>0.914101</td>\n",
       "    </tr>\n",
       "    <tr>\n",
       "      <th>6</th>\n",
       "      <td>-2.193517</td>\n",
       "      <td>2.356933</td>\n",
       "      <td>0.542824</td>\n",
       "    </tr>\n",
       "    <tr>\n",
       "      <th>7</th>\n",
       "      <td>-1.246683</td>\n",
       "      <td>0.981807</td>\n",
       "      <td>-0.216905</td>\n",
       "    </tr>\n",
       "    <tr>\n",
       "      <th>8</th>\n",
       "      <td>-0.784741</td>\n",
       "      <td>-0.647911</td>\n",
       "      <td>0.134776</td>\n",
       "    </tr>\n",
       "    <tr>\n",
       "      <th>9</th>\n",
       "      <td>0.008086</td>\n",
       "      <td>1.652312</td>\n",
       "      <td>-0.468785</td>\n",
       "    </tr>\n",
       "  </tbody>\n",
       "</table>\n",
       "</div>"
      ],
      "text/plain": [
       "          0         1         2\n",
       "0 -1.565342 -0.260043 -1.427162\n",
       "1 -0.267812  1.022688 -0.268030\n",
       "2  0.104852  0.415075  0.958796\n",
       "3  0.210758 -0.500437 -1.584460\n",
       "4 -0.754263 -2.317940 -0.384726\n",
       "5 -0.062044 -0.804551  0.914101\n",
       "6 -2.193517  2.356933  0.542824\n",
       "7 -1.246683  0.981807 -0.216905\n",
       "8 -0.784741 -0.647911  0.134776\n",
       "9  0.008086  1.652312 -0.468785"
      ]
     },
     "execution_count": 10,
     "metadata": {},
     "output_type": "execute_result"
    }
   ],
   "source": [
    "import pandas as pd\n",
    "pd.DataFrame(np.random.randn(10,3))"
   ]
  },
  {
   "cell_type": "markdown",
   "metadata": {},
   "source": [
    "##### Sympy output"
   ]
  },
  {
   "cell_type": "code",
   "execution_count": 11,
   "metadata": {},
   "outputs": [
    {
     "data": {
      "image/png": "[encoded data removed]",
      "text/latex": [
       "$$\\frac{P_{n}^{\\left(m\\right)}\\left(\\cos{\\left (\\theta \\right )}\\right)}{2 \\sqrt{\\pi}} \\sqrt{\\frac{\\left(- m + n\\right)!}{\\left(m + n\\right)!} \\left(2 n + 1\\right)} e^{i m \\phi}$$"
      ],
      "text/plain": [
       "    _____________________                                    \n",
       "   ╱ (2⋅n + 1)⋅(-m + n)!   ⅈ⋅m⋅φ                             \n",
       "  ╱  ─────────────────── ⋅ℯ     ⋅assoc_legendre(n, m, cos(θ))\n",
       "╲╱         (m + n)!                                          \n",
       "─────────────────────────────────────────────────────────────\n",
       "                             2⋅√π                            "
      ]
     },
     "execution_count": 11,
     "metadata": {},
     "output_type": "execute_result"
    }
   ],
   "source": [
    "import sympy\n",
    "from sympy.abc import x, n, m\n",
    "sympy.init_printing()\n",
    "theta = sympy.Symbol('theta')\n",
    "phi = sympy.Symbol('phi')\n",
    "\n",
    "sympy.simplify(sympy.Ynm(n,m,theta,phi).expand(func=True))"
   ]
  },
  {
   "cell_type": "markdown",
   "metadata": {},
   "source": [
    "x + y as plain text.\n",
    "\n",
    "$\\frac{P_{n}^{\\left(m\\right)}\\left(\\cos{\\left (\\theta \\right )}\\right)}{2 \\sqrt{\\pi}} \\sqrt{\\frac{\\left(- m + n\\right)!}{\\left(m + n\\right)!} \\left(2 n + 1\\right)} e^{i m \\phi}$"
   ]
  },
  {
   "cell_type": "markdown",
   "metadata": {},
   "source": [
    "##### Line Length"
   ]
  },
  {
   "cell_type": "code",
   "execution_count": null,
   "metadata": {},
   "outputs": [],
   "source": [
    "1 3 5 7 9 12 15 18 21 24 27 30 33 36 39 42 45 48 51 54 57 60 63 66 69 72 75 78 81 84 87 90 93 96 99 103"
   ]
  }
 ],
 "metadata": {
  "cell_tags": [
   [
    "<None>",
    null
   ]
  ],
  "kernelspec": {
   "display_name": "Python 3",
   "language": "python",
   "name": "python3"
  },
  "language_info": {
   "codemirror_mode": {
    "name": "ipython",
    "version": 3
   },
   "file_extension": ".py",
   "mimetype": "text/x-python",
   "name": "python",
   "nbconvert_exporter": "python",
   "pygments_lexer": "ipython3",
   "version": "3.6.5"
  }
 },
 "nbformat": 4,
 "nbformat_minor": 1
}
