{
 "cells": [
  {
   "cell_type": "heading",
   "metadata": {},
   "level": 1,
   "source": [
    "ctypeslib 2.0 Introduction"
   ]
  },
  {
   "cell_type": "markdown",
   "metadata": {},
   "source": [
    "Hi you, \n\nSo here we are going to show a small demo of ctypeslib 2.0.\n\nThe purpose of ctypeslib is to transform C headers into ABI-compatible python code using ctypes.\n\nFirst, lets start with a few easy C headers that we want to \"convert\" to python ctypes code."
   ]
  },
  {
   "cell_type": "code",
   "execution_count": 1,
   "metadata": {},
   "outputs": [],
   "source": [
    "c_headers = '''\n",
    "/** very simple tests */\n",
    "int version = 2;\n",
    "char text[] = \"Hello World!\";\n",
    "int minors[] = {2,0,0};\n",
    "'''"
   ]
  },
  {
   "cell_type": "markdown",
   "metadata": {},
   "source": [
    "we now can use the ctypeslib parser.\n\nNote: the ctypeslib python library require the LLVM Clang library and its python bindings."
   ]
  },
  {
   "cell_type": "code",
   "execution_count": 2,
   "metadata": {},
   "outputs": [
    {
     "name": "stdout",
     "output_type": "stream",
     "text": [
      "[Variable(comment=None,init=Hello World!,typ=ArrayType(...),name=text,location=('/tmp/tmpQSo4jd.h', 4)), Variable(comment=very simple tests,init=2,typ=FundamentalType(...),name=version,location=('/tmp/tmpQSo4jd.h', 3)), Variable(comment=None,init=[2, 0, 0],typ=ArrayType(...),name=minors,location=('/tmp/tmpQSo4jd.h', 5))]\n"
     ]
    }
   ],
   "source": [
    "import ctypeslib\n",
    "from ctypeslib.codegen import clangparser\n",
    "# let's create a parser\n",
    "parser = clangparser.Clang_Parser(flags=[])\n",
    "# parse the c headers\n",
    "parser.parse_string(c_headers)\n",
    "# get the result\n",
    "items = parser.get_result()\n",
    "print items"
   ]
  },
  {
   "cell_type": "markdown",
   "metadata": {},
   "source": [
    "Now, we have parsed the C headers.\n\nThe parser returns an collection of intermediate python objects.\n\nWe want to produce a python source code out of it. Let's use the codegenerator."
   ]
  },
  {
   "cell_type": "code",
   "execution_count": 3,
   "metadata": {},
   "outputs": [],
   "source": [
    "# we need a output stream to store the generated code \n",
    "from StringIO import StringIO\n",
    "output = StringIO()\n",
    "\n",
    "from ctypeslib.codegen import codegenerator\n",
    "# get the generator \n",
    "gen = codegenerator.Generator(output)\n",
    "# and produce the code\n",
    "gen.generate(parser, items)"
   ]
  },
  {
   "cell_type": "markdown",
   "metadata": {},
   "source": [
    "The code is generated in the output stream (which could be a file)"
   ]
  },
  {
   "cell_type": "code",
   "execution_count": 4,
   "metadata": {},
   "outputs": [
    {
     "name": "stdout",
     "output_type": "stream",
     "text": [
      "# -*- coding: utf-8 -*-\n#\n# TARGET arch is: []\n# WORD_SIZE is: 8\n# POINTER_SIZE is: 8\n# LONGDOUBLE_SIZE is: 16\n#\nimport ctypes\n\n\n\n\nversion = 2 # Variable ctypes.c_int32\ntext = 'Hello World!' # Variable ctypes.c_char * 12\nminors = [2, 0, 0] # Variable ctypes.c_int32 * 3\n__all__ = ['text', 'version', 'minors']\n\n"
     ]
    }
   ],
   "source": [
    "print output.getvalue()"
   ]
  },
  {
   "cell_type": "markdown",
   "metadata": {},
   "source": [
    "Let's try to load that code in the python console"
   ]
  },
  {
   "cell_type": "code",
   "execution_count": 5,
   "metadata": {},
   "outputs": [],
   "source": [
    "# -*- coding: utf-8 -*-\n",
    "#\n",
    "# TARGET arch is: []\n",
    "# WORD_SIZE is: 8\n",
    "# POINTER_SIZE is: 8\n",
    "# LONGDOUBLE_SIZE is: 16\n",
    "#\n",
    "import ctypes\n",
    "\n",
    "\n",
    "\n",
    "\n",
    "version = 2 # Variable ctypes.c_int32\n",
    "text = 'Hello World!' # Variable ctypes.c_char * 12\n",
    "minors = [2, 0, 0] # Variable ctypes.c_int32 * 3\n",
    "__all__ = ['text', 'version', 'minors']"
   ]
  },
  {
   "cell_type": "markdown",
   "metadata": {},
   "source": [
    "Are the C variables now accessible in Python ?"
   ]
  },
  {
   "cell_type": "code",
   "execution_count": 6,
   "metadata": {},
   "outputs": [
    {
     "name": "stdout",
     "output_type": "stream",
     "text": [
      "Hello World!\nBrought to you by ctypeslib version 2\n[2, 0, 0]\n"
     ]
    }
   ],
   "source": [
    "print text\n",
    "print 'Brought to you by ctypeslib version', version\n",
    "print minors"
   ]
  },
  {
   "cell_type": "markdown",
   "metadata": {},
   "source": [
    "Success !!\nLet's try something harder."
   ]
  },
  {
   "cell_type": "code",
   "execution_count": 7,
   "metadata": {},
   "outputs": [
    {
     "name": "stdout",
     "output_type": "stream",
     "text": [
      "# -*- coding: utf-8 -*-\n#\n# TARGET arch is: []\n# WORD_SIZE is: 8\n# POINTER_SIZE is: 8\n# LONGDOUBLE_SIZE is: 16\n#\nimport ctypes\n\n\n# if local wordsize is same as target, keep ctypes pointer function.\nif ctypes.sizeof(ctypes.c_void_p) == 8:\n    POINTER_T = ctypes.POINTER\nelse:\n    # required to access _ctypes\n    import _ctypes\n    # Emulate a pointer class using the approriate c_int32/c_int64 type\n    # The new class should have :\n    # ['__module__', 'from_param', '_type_', '__dict__', '__weakref__', '__doc__']\n    # but the class should be submitted to a unique instance for each base type\n    # to that if A == B, POINTER_T(A) == POINTER_T(B)\n    ctypes._pointer_t_type_cache = {}\n    def POINTER_T(pointee):\n        # a pointer should have the same length as LONG\n        fake_ptr_base_type = ctypes.c_uint64 \n        # specific case for c_void_p\n        if pointee is None: # VOID pointer type. c_void_p.\n            pointee = type(None) # ctypes.c_void_p # ctypes.c_ulong\n            clsname = 'c_void'\n        else:\n            clsname = pointee.__name__\n        if clsname in ctypes._pointer_t_type_cache:\n            return ctypes._pointer_t_type_cache[clsname]\n        # make template\n        class _T(_ctypes._SimpleCData,):\n            _type_ = 'L'\n            _subtype_ = pointee\n            def _sub_addr_(self):\n                return self.value\n            def __repr__(self):\n                return '%s(%d)'%(clsname, self.value)\n            def contents(self):\n                raise TypeError('This is not a ctypes pointer.')\n            def __init__(self, **args):\n                raise TypeError('This is not a ctypes pointer. It is not instanciable.')\n        _class = type('LP_%d_%s'%(8, clsname), (_T,),{}) \n        ctypes._pointer_t_type_cache[clsname] = _class\n        return _class\n\nc_int128 = ctypes.c_ubyte*16\nc_uint128 = c_int128\nvoid = None\nif ctypes.sizeof(ctypes.c_longdouble) == 16:\n    c_long_double_t = ctypes.c_longdouble\nelse:\n    c_long_double_t = ctypes.c_ubyte*16\n\n\n\nclass struct_Name(ctypes.Structure):\n    _pack_ = True # source:False\n    _fields_ = [\n    ('member1', ctypes.c_int16),\n    ('member2', ctypes.c_int32),\n    ('member3', ctypes.c_uint32),\n    ('member4', ctypes.c_uint32),\n    ('member5', ctypes.c_uint32),\n     ]\n\nclass struct_Name2(ctypes.Structure):\n    _pack_ = True # source:False\n    _fields_ = [\n    ('member1', ctypes.c_int16),\n    ('PADDING_0', ctypes.c_ubyte * 2),\n    ('member2', ctypes.c_int32),\n    ('member3', ctypes.c_uint32),\n    ('member4', ctypes.c_uint32),\n    ('member5', ctypes.c_uint32),\n     ]\n\nclass struct_Node(ctypes.Structure):\n    pass\n\nclass struct_Node2(ctypes.Structure):\n    _pack_ = True # source:False\n    _fields_ = [\n    ('m1', ctypes.c_ubyte),\n    ('PADDING_0', ctypes.c_ubyte * 7),\n    ('m2', POINTER_T(struct_Node)),\n     ]\n\nstruct_Node._pack_ = True # source:False\nstruct_Node._fields_ = [\n    ('val1', ctypes.c_uint32),\n    ('PADDING_0', ctypes.c_ubyte * 4),\n    ('ptr2', POINTER_T(None)),\n    ('ptr3', POINTER_T(ctypes.c_int32)),\n    ('ptr4', POINTER_T(struct_Node2)),\n]\n\nclass struct_Node3(ctypes.Structure):\n    _pack_ = True # source:False\n    _fields_ = [\n    ('ptr1', POINTER_T(struct_Node)),\n    ('ptr2', POINTER_T(ctypes.c_ubyte)),\n    ('ptr3', POINTER_T(ctypes.c_uint16)),\n    ('ptr4', POINTER_T(ctypes.c_uint32)),\n    ('ptr5', POINTER_T(ctypes.c_uint64)),\n    ('ptr6', POINTER_T(ctypes.c_uint64)),\n    ('ptr7', POINTER_T(ctypes.c_double)),\n    ('ptr8', POINTER_T(c_long_double_t)),\n    ('ptr9', POINTER_T(None)),\n     ]\n\n__all__ = ['struct_Name', 'struct_Node', 'struct_Node3',\n           'struct_Node2', 'struct_Name2']\n\n"
     ]
    }
   ],
   "source": [
    "structs=\"\"\"\n",
    "struct Name\n",
    "{\n",
    "  short member1;\n",
    "  int member2;\n",
    "  unsigned int member3;\n",
    "  unsigned int member4;\n",
    "  unsigned int member5;\n",
    "} __attribute__((packed));\n",
    "\n",
    "struct Name2\n",
    "{\n",
    "  short member1;\n",
    "  int member2;\n",
    "  unsigned int member3;\n",
    "  unsigned int member4;\n",
    "  unsigned int member5;\n",
    "};\n",
    "\n",
    "struct Node {\n",
    "  unsigned int val1;\n",
    "  void * ptr2;\n",
    "  int * ptr3;\n",
    "  struct Node2 * ptr4;\n",
    "};\n",
    "\n",
    "struct Node2 {\n",
    "  unsigned char m1;\n",
    "  struct Node * m2;\n",
    "};\n",
    "\n",
    "struct Node3 {\n",
    "  struct Node * ptr1;\n",
    "  unsigned char * ptr2;\n",
    "  unsigned short * ptr3;\n",
    "  unsigned int * ptr4;\n",
    "  unsigned long * ptr5;\n",
    "  unsigned long long * ptr6;\n",
    "  double * ptr7;\n",
    "  long double * ptr8;\n",
    "  void * ptr9;\n",
    "};\"\"\"\n",
    "\n",
    "parser = clangparser.Clang_Parser(flags=[])\n",
    "parser.parse_string(structs)\n",
    "items = parser.get_result()\n",
    "output = StringIO()\n",
    "gen = codegenerator.Generator(output)\n",
    "gen.generate(parser, items)\n",
    "\n",
    "print output.getvalue()"
   ]
  },
  {
   "cell_type": "code",
   "execution_count": 8,
   "metadata": {},
   "outputs": [
    {
     "name": "stdout",
     "output_type": "stream",
     "text": [
      "sizeof(struct Name) == 18\nsizeof(struct Name2) == 20\n"
     ]
    }
   ],
   "source": [
    "# lets load this output into a Python namespace\n",
    "namespace = {}\n",
    "exec output.getvalue() in namespace\n",
    "namespace = ctypeslib.codegen.util.ADict(namespace)\n",
    "\n",
    "import ctypes\n",
    "print \"sizeof(struct Name) ==\", ctypes.sizeof(namespace.struct_Name)\n",
    "print \"sizeof(struct Name2) ==\", ctypes.sizeof(namespace.struct_Name2)"
   ]
  },
  {
   "cell_type": "markdown",
   "metadata": {},
   "source": [
    "Un-surprisingly, the packed structure is smaller than the non-packed one."
   ]
  },
  {
   "cell_type": "code",
   "execution_count": 1,
   "metadata": {},
   "outputs": [
    {
     "ename": "NameError",
     "evalue": "name 'namespace' is not defined",
     "traceback": [
      "\u001b[0;31m\u001b[0m",
      "\u001b[0;31mNameError\u001b[0mTraceback (most recent call last)",
      "\u001b[0;32m<ipython-input-1-363d5e915c5f>\u001b[0m in \u001b[0;36m<module>\u001b[0;34m()\u001b[0m\n\u001b[0;32m----> 1\u001b[0;31m \u001b[0mn1\u001b[0m \u001b[0;34m=\u001b[0m \u001b[0mnamespace\u001b[0m\u001b[0;34m.\u001b[0m\u001b[0mstruct_Node\u001b[0m\u001b[0;34m(\u001b[0m\u001b[0;34m)\u001b[0m\u001b[0;34m\u001b[0m\u001b[0m\n\u001b[0m\u001b[1;32m      2\u001b[0m \u001b[0mn2\u001b[0m \u001b[0;34m=\u001b[0m \u001b[0mnamespace\u001b[0m\u001b[0;34m.\u001b[0m\u001b[0mstruct_Node2\u001b[0m\u001b[0;34m(\u001b[0m\u001b[0;34m)\u001b[0m\u001b[0;34m\u001b[0m\u001b[0m\n\u001b[1;32m      3\u001b[0m \u001b[0mn3\u001b[0m \u001b[0;34m=\u001b[0m \u001b[0mnamespace\u001b[0m\u001b[0;34m.\u001b[0m\u001b[0mstruct_Node3\u001b[0m\u001b[0;34m(\u001b[0m\u001b[0;34m)\u001b[0m\u001b[0;34m\u001b[0m\u001b[0m\n\u001b[1;32m      4\u001b[0m \u001b[0;34m\u001b[0m\u001b[0m\n\u001b[1;32m      5\u001b[0m \u001b[0mptr_n2\u001b[0m \u001b[0;34m=\u001b[0m \u001b[0mctypes\u001b[0m\u001b[0;34m.\u001b[0m\u001b[0mpointer\u001b[0m\u001b[0;34m(\u001b[0m\u001b[0mn2\u001b[0m\u001b[0;34m)\u001b[0m\u001b[0;34m\u001b[0m\u001b[0m\n",
      "\u001b[0;31mNameError\u001b[0m: name 'namespace' is not defined"
     ],
     "output_type": "error"
    }
   ],
   "source": [
    "n1 = namespace.struct_Node()\n",
    "n2 = namespace.struct_Node2()\n",
    "n3 = namespace.struct_Node3()\n",
    "\n",
    "ptr_n2 = ctypes.pointer(n2)\n",
    "n1.val1 = 42\n",
    "n1.ptr4 = ptr_n2\n",
    "\n",
    "n2.m1 = 43\n",
    "n2.m2 = ctypes.pointer(n1)\n",
    "n3.ptr1 = n2.m2\n",
    "\n",
    "print \"node3\", n3\n",
    "print \"node3.ptr1\", n3.ptr1\n",
    "print \"node3->ptr1.val1\",n3.ptr1.contents.val1\n",
    "print \"node3->ptr1.ptr4->m1\",n3.ptr1.contents.ptr4.contents.m1\n",
    "print \"node2.m1\",n3.ptr1.contents.ptr4.contents.m1"
   ]
  },
  {
   "cell_type": "markdown",
   "metadata": {},
   "source": [
    "If you want to use standard headers, you need to specify include path"
   ]
  },
  {
   "cell_type": "code",
   "execution_count": 7,
   "metadata": {},
   "outputs": [
    {
     "name": "stdout",
     "output_type": "stream",
     "text": [
      "#include <stdbool.h>\r\n\r\ntypedef struct s_foo {\r\n\t  bool bar1;\r\n\t    bool bar2;\r\n\t      bool bar3;\r\n} foo;\r\n"
     ]
    },
    {
     "name": "stdout",
     "output_type": "stream",
     "text": [
      "usage: clang2py [-h] [-c] [-d] [--debug] [-e] [-k TYPEKIND] [-i] [-l DLL]\r\n                [-m module] [-o OUTPUT] [-p DLL] [-q] [-r EXPRESSION]\r\n                [-s SYMBOL] [-t TARGET] [-v] [-V] [-w W] [-x]\r\n                [--show-ids SHOWIDS] [--max-depth N] [--clang-args CLANG_ARGS]\r\n                files [files ...]\r\nclang2py: error: argument files: can't open '../../test/data/test-stdbook.c': [Errno 2] No such file or directory: '../../test/data/test-stdbook.c'\r\n"
     ]
    }
   ],
   "source": [
    "!cat test/data/test-stdbool.c"
   ]
  },
  {
   "cell_type": "code",
   "execution_count": null,
   "metadata": {},
   "outputs": [],
   "source": [
    ""
   ]
  }
 ],
 "metadata": {
  "name": "ctypeslib 2.0 Introduction"
 },
 "nbformat": 4,
 "nbformat_minor": 0
}