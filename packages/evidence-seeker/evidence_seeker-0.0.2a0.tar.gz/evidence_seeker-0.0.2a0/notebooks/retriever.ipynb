{
 "cells": [
  {
   "cell_type": "code",
   "execution_count": 3,
   "metadata": {},
   "outputs": [
    {
     "name": "stdout",
     "output_type": "stream",
     "text": [
      "🌍 To view the Phoenix app in your browser, visit http://localhost:6006/\n",
      "📖 For more information on how to use Phoenix, check out https://docs.arize.com/phoenix\n"
     ]
    },
    {
     "data": {
      "text/plain": [
       "<phoenix.session.session.ThreadSession at 0x74d0edb5e950>"
      ]
     },
     "execution_count": 3,
     "metadata": {},
     "output_type": "execute_result"
    }
   ],
   "source": [
    "# observability\n",
    "import phoenix as px\n",
    "px.launch_app()\n"
   ]
  },
  {
   "cell_type": "code",
   "execution_count": 4,
   "metadata": {},
   "outputs": [],
   "source": [
    "import llama_index.core\n",
    "llama_index.core.set_global_handler(\"arize_phoenix\", endpoint=\"http://localhost:6006/v1/traces\")"
   ]
  },
  {
   "cell_type": "code",
   "execution_count": null,
   "metadata": {},
   "outputs": [
    {
     "name": "stderr",
     "output_type": "stream",
     "text": [
      "None of PyTorch, TensorFlow >= 2.0, or Flax have been found. Models won't be available and only tokenizers, configuration and file/data utilities can be used.\n"
     ]
    },
    {
     "data": {
      "text/plain": [
       "556"
      ]
     },
     "execution_count": 1,
     "metadata": {},
     "output_type": "execute_result"
    }
   ],
   "source": [
    "# save default config\n",
    "\n",
    "import pathlib\n",
    "import yaml\n",
    "\n",
    "from evidence_seeker.retrieval import RetrievalConfig\n",
    "\n",
    "configfile = pathlib.Path(\"../configs/retrieval_config_default.yaml\")\n",
    "\n",
    "default_config = RetrievalConfig()\n",
    "default_config_dict = default_config.model_dump()\n",
    "\n",
    "#configfile.write_text(yaml.dump(default_config_dict))"
   ]
  },
  {
   "cell_type": "code",
   "execution_count": 4,
   "metadata": {},
   "outputs": [
    {
     "name": "stderr",
     "output_type": "stream",
     "text": [
      "WARNING: All log messages before absl::InitializeLog() is called are written to STDERR\n",
      "I0000 00:00:1733235587.689908   36823 fork_posix.cc:75] Other threads are currently calling into gRPC, skipping fork() handlers\n",
      "I0000 00:00:1733235588.305768   36823 fork_posix.cc:75] Other threads are currently calling into gRPC, skipping fork() handlers\n"
     ]
    },
    {
     "name": "stdout",
     "output_type": "stream",
     "text": [
      "  % Total    % Received % Xferd  Average Speed   Time    Time     Time  Current\n",
      "                                 Dload  Upload   Total   Spent    Left  Speed\n",
      "100 30.9M  100 30.9M    0     0  23.0M      0  0:00:01  0:00:01 --:--:-- 23.1M\n"
     ]
    }
   ],
   "source": [
    "# Download IPCC report\n",
    "!mkdir -p ../TMP\n",
    "!curl https://www.ipcc.ch/report/ar6/wg1/downloads/report/IPCC_AR6_WGI_TS.pdf --output ../TMP/IPCC_AR6_WGI_TS.pdf"
   ]
  },
  {
   "cell_type": "code",
   "execution_count": null,
   "metadata": {},
   "outputs": [
    {
     "name": "stderr",
     "output_type": "stream",
     "text": [
      "\u001b[32m2025-06-03 13:20:09.251\u001b[0m | \u001b[1mINFO    \u001b[0m | \u001b[36mevidence_seeker.retrieval.base\u001b[0m:\u001b[36mload_index\u001b[0m:\u001b[36m168\u001b[0m - \u001b[1mUsing index persist path: ../TMP/APUZ/storage\u001b[0m\n",
      "\u001b[32m2025-06-03 13:20:09.252\u001b[0m | \u001b[1mINFO    \u001b[0m | \u001b[36mevidence_seeker.retrieval.base\u001b[0m:\u001b[36mload_index\u001b[0m:\u001b[36m169\u001b[0m - \u001b[1mTrue\u001b[0m\n",
      "\u001b[32m2025-06-03 13:20:09.252\u001b[0m | \u001b[1mINFO    \u001b[0m | \u001b[36mevidence_seeker.retrieval.base\u001b[0m:\u001b[36mload_index\u001b[0m:\u001b[36m193\u001b[0m - \u001b[1mLoading index from disk at ../TMP/APUZ/storage/index\u001b[0m\n"
     ]
    }
   ],
   "source": [
    "from evidence_seeker.retrieval import RetrievalConfig\n",
    "from evidence_seeker.retrieval import DocumentRetriever\n",
    "from evidence_seeker.datamodels import CheckedClaim\n",
    "\n",
    "config = RetrievalConfig(\n",
    "    ### Huggingface inference API ###\n",
    "    # embed_backend_type=\"huggingface_inference_api\",\n",
    "    # embed_model_name=\"sentence-transformers/paraphrase-multilingual-mpnet-base-v2\",\n",
    "    # embed_base_url=\"https://router.huggingface.co/hf-inference/models/sentence-transformers/paraphrase-multilingual-mpnet-base-v2\",\n",
    "    # api_key_name=\"hf_debatelab_inference_provider\",\n",
    "    # bill_to=\"DebateLabKIT\",\n",
    "    ### Local model (via Huggingface API) ###\n",
    "    embed_backend_type=\"huggingface\",\n",
    "    embed_model_name=\"sentence-transformers/paraphrase-multilingual-mpnet-base-v2\",\n",
    "    ### Local model via Ollama ###\n",
    "    # embed_base_url=\"http://localhost:11434\",\n",
    "    # embed_backend_type=\"ollama\",\n",
    "    # embed_model_name=\"bge-m3\"\n",
    "    ### PATHS ### \n",
    "    index_hub_path=\"DebateLabKIT/apuz-index-es\",\n",
    "    index_persist_path=\"../TMP/APUZ/storage\",\n",
    ")\n",
    "\n",
    "# TODO: Mv to package.\n",
    "import os\n",
    "import dotenv\n",
    "dotenv.load_dotenv()\n",
    "config.api_key_name in os.environ or print(\n",
    "    f\"Warning: Check wether you need an API token for your embedding backend ('{config.embed_backend_type}'). \"\n",
    "    f\"If you need one, set the API token '{config.api_key_name}' as environment variable in .env file\"\n",
    ")\n",
    "\n",
    "retriever = DocumentRetriever(\n",
    "    config=config,\n",
    ")"
   ]
  },
  {
   "cell_type": "code",
   "execution_count": 2,
   "metadata": {},
   "outputs": [],
   "source": [
    "claim = CheckedClaim(\n",
    "    text=\"Die Osterweiterung der EU hat zu einer Schwächung der EU geführt\",\n",
    "    negation=\"Die Osterweiterung der EU hat nicht zu einer Schwächung der EU geführt\",\n",
    "    uid=\"123\"\n",
    ")\n",
    "claim = CheckedClaim(\n",
    "    text=\"Die russische Regierung verbreitet keine Desinformation\",\n",
    "    negation=\"Die russische Regierung verbreitet keine Desinformation\",\n",
    "    uid=\"123\"\n",
    ")\n",
    "docs = await retriever.retrieve_documents(claim)"
   ]
  },
  {
   "cell_type": "code",
   "execution_count": 3,
   "metadata": {},
   "outputs": [
    {
     "data": {
      "text/plain": [
       "[Document(text='Es handelt sich zwar um eine prorussische Exklave mit russischem Militär, zugleich besteht – zumindest\\nbislang – keine Verkehrsverbindung zu Russland.  Die Schließung der Grenze zur Ukraine nach Beginn der russischen Großinvasion ermöglicht es der Republik\\nMoldau, durch ökonomischen Druck eine Wiedereingliederung Transnistriens in die Republik Moldau voranzutreiben.\\n Beide abtrünnigen Territorien bilden zugleich Gefahrenherde für die moldauische Demokratie und die Pläne für eine europäische Integration.  Russland\\nunternimmt große Kraftanstrengungen, um durch Desinformation Einfluss zu nehmen – allerdings beschränkt sich diese nicht auf die beiden separatistischen\\nGebiete, sondern wirkt in der gesamten Republik Moldau.  Zugleich versucht Letztere mit Unterstützung der EU und den USA dem entgegenzuwirken und bis\\n2030 tatsächlich Teil der Union zu werden.  Die Präsidentschaftswahlen und das Referendum im Herbst 2024 dürften bestimmend dafür sein.  Derzeit zeichnet sich\\njedenfalls trotz Russlands Bemühungen ein \"Ja\" zum EU-Beitritt in der Bevölkerung ab.\\n', uid='7c0d3ca2-9e9b-41ee-90c1-65d34422985d', metadata={'page_label': '4', 'file_name': 'yelizaveta_teile_2024.pdf', 'original_text': 'Russland\\nunternimmt große Kraftanstrengungen, um durch Desinformation Einfluss zu nehmen – allerdings beschränkt sich diese nicht auf die beiden separatistischen\\nGebiete, sondern wirkt in der gesamten Republik Moldau. '}),\n",
       " Document(text='[4]\\nSchätzungsweise 90 Prozent der Bewohnerinnen und Bewohner Transnistriens besitzen einen moldauischen Pass, und auch die Anzahl der beantragten\\nmoldauische Führerscheine steigt beständig.  Die Loyalität der transnistrischen Bevölkerung gegenüber den Behörden in ihrer Hauptstadt Tiraspol oder\\ngegenüber Russland scheint zudem fraglich zu sein, was sich auch daran festmachen lässt, dass es Menschen gab, die die abtrünnige Region verließen, nachdem\\neine Meldung über eine Mobilmachung in Umlauf geriet, was sich später als Fehlinformation herausstellen sollte.  In der in Transnistrien stationierten russischen\\n\"Friedenstruppe\" gibt es keine Rotation, und die meisten \"Friedensschützer\" bestehen aus in Transnistrien ansässigen Personen mit russischer\\nStaatsbürgerschaft. [5] Dennoch ist die Bevölkerung nach wie vor empfänglich für Desinformation, und es steht zu befürchten, dass der Kreml dies weiter\\nausnutzt.  Ein Beispiel dafür war etwa der Abgeordnetenkongress in Tiraspol im Februar 2024, der internationale Spekulationen darüber auslöste, ob Transnistrien\\nRussland um formale Anerkennung und eine militärische \"Schutzintervention\" bitten würde.  Es kam nicht dazu, die Delegierten beschäftigten sich in erster Linie\\nmit der Verschlechterung der Wirtschaftslage.  Hintergrund war die Entscheidung der Behörden in Chișinău, die Zollbefreiungen für transnistrische Unternehmen\\naufzuheben und sie damit den Unternehmen am rechten Ufer des Dnister-Flusses gleichzustellen. ', uid='b5a0f8af-bb8f-4af2-9a34-c06828ce90c6', metadata={'page_label': '2', 'file_name': 'anastasia_fragile_2024.pdf', 'original_text': '[5] Dennoch ist die Bevölkerung nach wie vor empfänglich für Desinformation, und es steht zu befürchten, dass der Kreml dies weiter\\nausnutzt. '}),\n",
       " Document(text='Die Partei des Oligarchen wurde im Sommer 2023\\nzwar für verfassungswidrig erklärt und aufgelöst, was seine Bemühungen, die politische Landschaft aufzumischen, teilweise erschwerte.  Seinem Einfluss hat dies\\njedoch keinen Abbruch getan – es entstanden neue Parteien, die mit ihm in Verbindung stehen, und die Gefahr einer Destabilisierung bleibt hoch, solange es\\neinen Zustrom von Finanzmitteln aus Moskau gibt.\\n Fragile Stabilität\\nAnastasia Pociumban\\n03.07.2024 / 14 Minuten zu lesen\\nSicherheit und wirtschaftlicher Aufschwung sind die zwei größten politischen Herausforderungen, die die\\nRepublik Moldau derzeit umtreiben.  Desinformationskampagnen Russlands und schwindender Konsens im\\nLand schwächen den proeuropäischen Kurs der Regierung.\\n Fragile Stabilität | Republik Moldau | bpb.de https://www.bpb.de/shop/zeitschriften/apuz/republik-moldau-2024/5501...\\n1 von 5 12.12.2024, 16:53', uid='cce6f519-45e3-466c-964a-bdce5a17a58f', metadata={'page_label': '1', 'file_name': 'anastasia_fragile_2024.pdf', 'original_text': 'Desinformationskampagnen Russlands und schwindender Konsens im\\nLand schwächen den proeuropäischen Kurs der Regierung.\\n'}),\n",
       " Document(text='Zielstaaten zu verbreiten, um dort die Polarisierung zu verstärken und neue politische Gräben aufzuwerfen. [12] Das ist oft bemerkenswert einfach, da politische\\nAkteure im Inland dieselben nichtfaktischen Informationen verbreiten, mitunter verwenden sie sogar unwissentlich Material, das von außen bereitgestellt wurde.\\n Aus internen Kreml-Dokumenten, die westliche Geheimdienste im Frühjahr 2024 veröffentlichten, ging hervor, dass im Rahmen einer laufenden\\nDesinformationskampagne politische Strategen und Internet-Trolle Tausende von gefälschten Nachrichtenartikeln, Beiträgen in sozialen Medien und\\nKommentaren produzierten.  Alle sollten Ängste in Bezug auf die Grenzsicherheit schüren und die wirtschaftlichen Sorgen und rassistischen Spannungen in den\\nZielländern verschärfen. [13] Ein wesentliches Ziel der Kampagne bestand darin, Politikerinnen und Politiker in Europa und den USA dazu zu bringen, die vom\\nKreml erstellten fiktiven Geschichten zu wiederholen und den Falschmeldungen so mehr Autorität und Legitimität zu verleihen.  Die auf Angst basierenden\\nBotschaften über Migration, Kriminalität und mangelnden Grenzschutz erhalten dadurch noch mehr Gewicht. ', uid='5c953477-337e-4178-8949-ea6b1c87d91a', metadata={'page_label': '4', 'file_name': 'm_krieg_2024.pdf', 'original_text': 'Aus internen Kreml-Dokumenten, die westliche Geheimdienste im Frühjahr 2024 veröffentlichten, ging hervor, dass im Rahmen einer laufenden\\nDesinformationskampagne politische Strategen und Internet-Trolle Tausende von gefälschten Nachrichtenartikeln, Beiträgen in sozialen Medien und\\nKommentaren produzierten. '}),\n",
       " Document(text='Obwohl der Başkan von Amtes wegen Mitglied der moldauischen Regierung ist,\\nhat Präsidentin Maia Sandu die gewählte Gouverneurin Evghenia Guțul immer noch nicht in die Regierung aufgenommen.  Diese Verzögerung ist möglich, da das\\nGesetz keinen konkreten Zeitrahmen vorgibt, innerhalb dessen die Aufnahme erfolgen muss.\\n Die Wahlen in dem kleinen Gagausien wurden in russischen Staatsmedien ausführlich und einseitig behandelt.  Es waren offensichtliche Parallelen zur russischen\\nBerichterstattung über die Ukraine zu beobachten: Das \"Regime Maia Sandus\" wurde beschuldigt, die russischsprachige Bevölkerung in Gagausien zu\\nbenachteiligen, politische Gegner zu unterdrücken und \"russophob\" zu sein.  Die staatliche russische Nachrichtenagentur RIA Novosti titelte sogar am 5.  Mai:\\n\"Fatale Entscheidung.  Moldau bewegt sich auf einen Bürgerkrieg zu.', uid='652ae527-be1e-47c8-91de-9fc8f172eaf0', metadata={'page_label': '3', 'file_name': 'yelizaveta_teile_2024.pdf', 'original_text': 'Es waren offensichtliche Parallelen zur russischen\\nBerichterstattung über die Ukraine zu beobachten: Das \"Regime Maia Sandus\" wurde beschuldigt, die russischsprachige Bevölkerung in Gagausien zu\\nbenachteiligen, politische Gegner zu unterdrücken und \"russophob\" zu sein. '}),\n",
       " Document(text='Die Polizeigewalt erreichte eine neue Dimension, so auch die Politisierung der\\nPolizei und des Innenministeriums unter der von Plahotniuc kontollierten PDM-Regierung. [29]\\nIm Winter 2022/23 kam es infolge des Krieges in der Ukraine, der galoppierenden Inflation, die zeitweilig bei 25 Prozent lag, und vor allem wegen der hohen\\nEnergiepreise erneut zu massiven sozialen Protesten, die Tausende auf die Straße brachten.  Diese Proteste waren zwar spontan, wurden aber teilweise von\\nprorussischen Kräften im Land, vornehmlich der Șor-Partei, befeuert und gesteuert.  Russische Desinformationskampagnen und populistische Forderungen von\\nȘor fielen auf fruchtbaren Boden.\\n Künftige Herausforderungen\\nDie demokratische Entwicklung der Republik Moldau steht in den kommenden Jahren vor gewaltigen Herausforderungen.  2024 werden entscheidende Weichen\\ngestellt.  Innenpolitisch steht an oberster Stelle die Stärkung des gesellschaftlichen Zusammenhalts. ', uid='d0e4814d-748c-4259-8cb4-4728b3f6e28d', metadata={'page_label': '4', 'file_name': 'nadja_machtfragen_2024.pdf', 'original_text': 'Russische Desinformationskampagnen und populistische Forderungen von\\nȘor fielen auf fruchtbaren Boden.\\n'}),\n",
       " Document(text='Leaked Records Detail Vast Russian Influence Campaign Targeting Ukraine, EU, 17.9.2024, http://www.rferl.org/a/33123498.html.\\n [13]\\nVgl.  Catherine Belton/Joseph Menn, Russian Trolls Target U.S.  Support for Ukraine, Kremlin Documents Show, 8.4.2024, http://www.washingtonpost.com/\\nworld/2024/04/08/russia-propaganda-us-ukraine.\\n [14]\\nVgl.  Kelly M. Greenhill, Extra-Factual Information, in: Alessandro Nai/Max Grömping/Dominique Wirz (Hrsg. ), Elgar Encyclopedia of Political Communication,\\nLondon (i.E.).\\n', uid='0613dbbe-d091-4538-9ea1-6a85bce6f6a2', metadata={'page_label': '5', 'file_name': 'm_krieg_2024.pdf', 'original_text': 'Support for Ukraine, Kremlin Documents Show, 8.4.2024, http://www.washingtonpost.com/\\nworld/2024/04/08/russia-propaganda-us-ukraine.\\n'}),\n",
       " Document(text='Der Rest ist unentschieden oder plant, nicht zu wählen. [7] Valeriu\\nPașa von WatchDog mahnt jedoch zur Vorsicht.  Auf Nachfrage hin sagt er: \"Ich glaube nicht, dass das Ergebnis völlig sicher ist, weil es eine sehr große, von\\nRussland unterstützte Kampagne gegen den EU-Beitritt gibt.  Das Ergebnis hängt stark davon ab, inwieweit es Russland und seinen Lügen gelingt, die\\nmoldauischen Wähler*innen mit Desinformation zu beeinflussen. \"[8]\\n\"Stopp EU\"\\nTatsächlich scheinen aktuell die prorussischen Kräfte im Land alles dafür zu tun, dass das ambitionierte Ziel eines EU-Beitritts der Republik Moldau bis 2030\\nnicht erreicht wird.  So fand etwa eine Woche vor der Anhörung Evghenia Guțuls, am 18.  Mai, das \"Festival der Völkerfreundschaft\" statt, wo die von Russland\\ninitiierte Eurasische Wirtschaftsunion (EAWU) als Gegenmodell zur EU beworben wurde. ', uid='70eba50f-17e6-40bc-be07-3193e9b5dde8', metadata={'page_label': '2', 'file_name': 'yelizaveta_teile_2024.pdf', 'original_text': 'Das Ergebnis hängt stark davon ab, inwieweit es Russland und seinen Lügen gelingt, die\\nmoldauischen Wähler*innen mit Desinformation zu beeinflussen.'})]"
      ]
     },
     "execution_count": 3,
     "metadata": {},
     "output_type": "execute_result"
    }
   ],
   "source": [
    "docs"
   ]
  },
  {
   "cell_type": "code",
   "execution_count": 6,
   "metadata": {},
   "outputs": [
    {
     "data": {
      "text/markdown": [
       "- `yelizaveta_teile_2024.pdf` (S. 4): \"Russland\n",
       "unternimmt große Kraftanstrengungen, um durch Desinformation Einfluss zu nehmen – allerdings beschränkt sich diese nicht auf die beiden separatistischen\n",
       "Gebiete, sondern wirkt in der gesamten Republik Moldau. \"\n",
       "- `anastasia_fragile_2024.pdf` (S. 2): \"[5] Dennoch ist die Bevölkerung nach wie vor empfänglich für Desinformation, und es steht zu befürchten, dass der Kreml dies weiter\n",
       "ausnutzt. \"\n",
       "- `anastasia_fragile_2024.pdf` (S. 1): \"Desinformationskampagnen Russlands und schwindender Konsens im\n",
       "Land schwächen den proeuropäischen Kurs der Regierung.\n",
       "\"\n",
       "- `m_krieg_2024.pdf` (S. 4): \"Aus internen Kreml-Dokumenten, die westliche Geheimdienste im Frühjahr 2024 veröffentlichten, ging hervor, dass im Rahmen einer laufenden\n",
       "Desinformationskampagne politische Strategen und Internet-Trolle Tausende von gefälschten Nachrichtenartikeln, Beiträgen in sozialen Medien und\n",
       "Kommentaren produzierten. \"\n",
       "- `yelizaveta_teile_2024.pdf` (S. 3): \"Es waren offensichtliche Parallelen zur russischen\n",
       "Berichterstattung über die Ukraine zu beobachten: Das \"Regime Maia Sandus\" wurde beschuldigt, die russischsprachige Bevölkerung in Gagausien zu\n",
       "benachteiligen, politische Gegner zu unterdrücken und \"russophob\" zu sein. \"\n",
       "- `nadja_machtfragen_2024.pdf` (S. 4): \"Russische Desinformationskampagnen und populistische Forderungen von\n",
       "Șor fielen auf fruchtbaren Boden.\n",
       "\"\n",
       "- `m_krieg_2024.pdf` (S. 5): \"Support for Ukraine, Kremlin Documents Show, 8.4.2024, http://www.washingtonpost.com/\n",
       "world/2024/04/08/russia-propaganda-us-ukraine.\n",
       "\"\n",
       "- `yelizaveta_teile_2024.pdf` (S. 2): \"Das Ergebnis hängt stark davon ab, inwieweit es Russland und seinen Lügen gelingt, die\n",
       "moldauischen Wähler*innen mit Desinformation zu beeinflussen.\"\n"
      ],
      "text/plain": [
       "<IPython.core.display.Markdown object>"
      ]
     },
     "metadata": {},
     "output_type": "display_data"
    }
   ],
   "source": [
    "from IPython.display import Markdown, display\n",
    "template_added_metadata = ('- {author}: \"{original_text}\" [(Quelle)]({url})\\n')\n",
    "template_automated_metadata = ('- `{file_name}` (S. {page_label}): \"{original_text}\"\\n')\n",
    "t = ''\n",
    "if \"url\" in docs[0].metadata.keys():\n",
    "    document_template = template_added_metadata\n",
    "else:\n",
    "    document_template = template_automated_metadata\n",
    "for doc in docs:\n",
    "    t += (document_template.format(**doc.metadata))\n",
    "display(Markdown(t))"
   ]
  }
 ],
 "metadata": {
  "kernelspec": {
   "display_name": "dev_env",
   "language": "python",
   "name": "python3"
  },
  "language_info": {
   "codemirror_mode": {
    "name": "ipython",
    "version": 3
   },
   "file_extension": ".py",
   "mimetype": "text/x-python",
   "name": "python",
   "nbconvert_exporter": "python",
   "pygments_lexer": "ipython3",
   "version": "3.10.16"
  }
 },
 "nbformat": 4,
 "nbformat_minor": 2
}
