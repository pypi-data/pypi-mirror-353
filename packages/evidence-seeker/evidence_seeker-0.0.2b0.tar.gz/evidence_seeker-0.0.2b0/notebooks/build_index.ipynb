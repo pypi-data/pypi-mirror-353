{
 "cells": [
  {
   "cell_type": "markdown",
   "metadata": {},
   "source": [
    "# Build and upload index"
   ]
  },
  {
   "cell_type": "code",
   "execution_count": 2,
   "metadata": {},
   "outputs": [],
   "source": [
    "from evidence_seeker.retrieval import build_index, RetrievalConfig\n",
    "config = RetrievalConfig(\n",
    "    ###### MODEL CONFIGURATION ##############\n",
    "    ### Local model (via Huggingface API) ###\n",
    "    embed_backend_type=\"huggingface\",\n",
    "    embed_model_name=\"sentence-transformers/paraphrase-multilingual-mpnet-base-v2\",   \n",
    "    ### Huggingface inference API ###########\n",
    "    # embed_backend_type=\"huggingface_inference_api\",\n",
    "    # embed_model_name=\"sentence-transformers/paraphrase-multilingual-mpnet-base-v2\",\n",
    "    # embed_base_url=\"https://router.huggingface.co/hf-inference/models/sentence-transformers/paraphrase-multilingual-mpnet-base-v2\",\n",
    "    # api_key_name=\"hf_debatelab_inference_provider\",\n",
    "    # bill_to=\"DebateLabKIT\",\n",
    "    ####### END MODEL CONFIGURATIAN #########\n",
    "    hub_key_name=\"hf_evse_data\",\n",
    "    document_input_dir=\"../TMP/APUZ/corpus\",\n",
    "    index_persist_path=\"../TMP/APUZ/storage\",\n",
    "    # uncomment the following line to not upload the index to the HF hub\n",
    "    #index_hub_path = \"DebateLabKIT/apuz-index-es\",\n",
    ")"
   ]
  },
  {
   "cell_type": "code",
   "execution_count": 7,
   "metadata": {},
   "outputs": [
    {
     "name": "stdout",
     "output_type": "stream",
     "text": [
      "Loaded 907 documents with metadata from ../TMP/APUZ/corpus\n"
     ]
    }
   ],
   "source": [
    "from loguru import logger\n",
    "import pathlib\n",
    "import yaml\n",
    "from llama_index.core import SimpleDirectoryReader\n",
    "from pprint import pprint\n",
    "from typing import Dict\n",
    "import os\n",
    "#import chardet \n",
    "\n",
    "metadata_dict = {}\n",
    "metadata_dir = config.document_input_dir or os.path.dirname(config.document_input_files[0])\n",
    "# load and parse all yaml files in metadata_dir\n",
    "for filepath in pathlib.Path(metadata_dir).rglob(\"*.yaml\"):\n",
    "    #logger.info(f\"Loading metadata from {filepath}\")\n",
    "\n",
    "    # if the corresponding pdf file does not exist, skip this metadata file\n",
    "    pdf_file = os.path.join(metadata_dir, filepath.stem + \".pdf\")\n",
    "    if not pathlib.Path(pdf_file).is_file():\n",
    "        logger.warning(f\"PDF file {pdf_file} does not exist, skipping metadata file {filepath}.\")\n",
    "        continue\n",
    "    with open(filepath, \"r\", encoding=\"utf-8\") as f:\n",
    "        data = yaml.safe_load(f)\n",
    "        if (\n",
    "            \"file\" in data \n",
    "            and \"author\" in data \n",
    "            and \"url\" in data\n",
    "            and \"title\" in data\n",
    "        ):\n",
    "            filename = data[\"file\"]\n",
    "            metadata_dict[filename] = {\n",
    "                \"author\": data[\"author\"],\n",
    "                \"title\": data[\"title\"], \n",
    "                \"url\": data[\"url\"],\n",
    "                \"year\": data.get(\"year\", None),  # optional field\n",
    "                \"month\": data.get(\"month\", None),  # optional field\n",
    "                # added by hand (not correctly in the yaml files/bibtex file)\n",
    "                \"journal\": \"Aus Politik und Zeitgeschichte (APuZ)\",\n",
    "            }\n",
    "        else:\n",
    "            logger.warning(f\"Invalid metadata in {filepath}.\")\n",
    "        \n",
    "\n",
    "def document_file_metadata(filename: str) -> Dict: \n",
    "    meta = metadata_dict.get(pathlib.Path(filename).name, {})\n",
    "    if not meta:\n",
    "        logger.warning(f\"No metadata found for file: {filename}\")\n",
    "    return meta\n",
    "\n",
    "# List all pdf files (we do not need to index the metadata files)\n",
    "pdf_files = [str(p) for p in pathlib.Path(metadata_dir).rglob(\"*\") if p.is_file() and (p.name.endswith(\".pdf\") or p.name.endswith(\".PDF\"))]\n",
    "\n",
    "# for debugging purposes, print the metadata dictionary\n",
    "reader = SimpleDirectoryReader(\n",
    "    input_files=pdf_files,\n",
    "    file_metadata=document_file_metadata,\n",
    ")\n",
    "docs = reader.load_data()\n",
    "print(f\"Loaded {len(docs)} documents with metadata from {metadata_dir}\")\n",
    "#for doc in docs:\n",
    "#    print(doc.metadata)\n",
    "\n",
    "#pprint(docs[0].metadata)\n"
   ]
  },
  {
   "cell_type": "code",
   "execution_count": 8,
   "metadata": {},
   "outputs": [
    {
     "name": "stdout",
     "output_type": "stream",
     "text": [
      "Warning: Check wether you need an API token for your embedding backend ('huggingface'). If you need one, specify the key name under 'api_key_name' in the config and set the API token with the specified key name as environment variable in .env file\n"
     ]
    }
   ],
   "source": [
    "# TODO: Mv to package.\n",
    "import os\n",
    "import dotenv\n",
    "dotenv.load_dotenv()\n",
    "if config.api_key_name is None or config.api_key_name not in os.environ:\n",
    "    api_token = None\n",
    "    print(\n",
    "        f\"Warning: Check wether you need an API token for your embedding backend ('{config.embed_backend_type}'). \"\n",
    "        f\"If you need one, specify the key name under 'api_key_name' in the config and \"\n",
    "        f\"set the API token with the specified key name as environment variable in .env file\"\n",
    "    )\n",
    "else:\n",
    "    api_token=os.environ.get(config.api_key_name, None)\n",
    "# Alternatively, you can set the API token directly:\n",
    "# api_token = \"your_api_token_here\""
   ]
  },
  {
   "cell_type": "code",
   "execution_count": 9,
   "metadata": {},
   "outputs": [],
   "source": [
    "import huggingface_hub\n",
    "import os\n",
    "import dotenv\n",
    "dotenv.load_dotenv()\n",
    "\n",
    "# TODO: Mv to package.\n",
    "\n",
    "if config.hub_key_name is None or config.hub_key_name not in os.environ:\n",
    "    hub_token = None\n",
    "    print(\n",
    "        f\"Warning: Check wether you need a token to upload the index on HuggingFace hub. \"\n",
    "        f\"If you need one, specify the key name under 'hub_key_name' in the config and \"\n",
    "        f\"set the token with the specified key name as environment variable in .env file\"\n",
    "\n",
    "    )\n",
    "else:\n",
    "    hub_token=os.environ.get(config.hub_key_name, None)\n",
    "\n",
    "hub_token=os.environ.get(config.hub_key_name, None)\n",
    "# Alternatively, you can set the HuggingFace hub token directly:\n",
    "# hub_token = \"your_huggingface_hub_token_here\""
   ]
  },
  {
   "cell_type": "code",
   "execution_count": 10,
   "metadata": {},
   "outputs": [
    {
     "name": "stderr",
     "output_type": "stream",
     "text": [
      "\u001b[32m2025-06-04 14:36:35.084\u001b[0m | \u001b[34m\u001b[1mDEBUG   \u001b[0m | \u001b[36mevidence_seeker.retrieval.base\u001b[0m:\u001b[36mbuild_index\u001b[0m:\u001b[36m437\u001b[0m - \u001b[34m\u001b[1mReading documents from ['../TMP/APUZ/corpus/ehrhardt_vernetzt_2024.pdf', '../TMP/APUZ/corpus/jager_hohere_2024.pdf', '../TMP/APUZ/corpus/stephan_europa_2024.pdf', '../TMP/APUZ/corpus/ulrike_flucht_2024.pdf', '../TMP/APUZ/corpus/joachim_am_2024.pdf', '../TMP/APUZ/corpus/juhasz_mehr_2024.pdf', '../TMP/APUZ/corpus/haas_von_2023.pdf', '../TMP/APUZ/corpus/becker_antisemitische_2024.pdf', '../TMP/APUZ/corpus/hoppe_schatten_2024.pdf', '../TMP/APUZ/corpus/wrohlich_erwerbsbeteiligung_2024.pdf', '../TMP/APUZ/corpus/gorg_comeback_2024.pdf', '../TMP/APUZ/corpus/rainald_alltagliche_2024.pdf', '../TMP/APUZ/corpus/geier_blackout_2023.pdf', '../TMP/APUZ/corpus/andreas_humanitare_2024.pdf', '../TMP/APUZ/corpus/rieger-ladich_neustart_2024.pdf', '../TMP/APUZ/corpus/svetlana_zwischen_2024.pdf', '../TMP/APUZ/corpus/jobst_uber_2024.pdf', '../TMP/APUZ/corpus/jana_moldau_2024.pdf', '../TMP/APUZ/corpus/daniel_losungsweg_2024.pdf', '../TMP/APUZ/corpus/friede_wie_2024.pdf', '../TMP/APUZ/corpus/friederike_wo_2024.pdf', '../TMP/APUZ/corpus/reuschenbach_europawahlen_2024.pdf', '../TMP/APUZ/corpus/jorn_kriege_2024.pdf', '../TMP/APUZ/corpus/alexander_stabil_2024.pdf', '../TMP/APUZ/corpus/dietrich_wie_2024.pdf', '../TMP/APUZ/corpus/charlotte_antidemokratische_2024.pdf', '../TMP/APUZ/corpus/ulrike_reproduktive_2024.pdf', '../TMP/APUZ/corpus/gromling_herausforderungen_2024.pdf', '../TMP/APUZ/corpus/wurdemann_israel_2024.pdf', '../TMP/APUZ/corpus/neitzel_kriegstuchtig_2024.pdf', '../TMP/APUZ/corpus/naika_postmigrantische_2024.pdf', '../TMP/APUZ/corpus/pickel_was_2024.pdf', '../TMP/APUZ/corpus/yelizaveta_teile_2024.pdf', '../TMP/APUZ/corpus/artus_frauen_2024.pdf', '../TMP/APUZ/corpus/estis_shoahppropriation_2024.pdf', '../TMP/APUZ/corpus/minna_drehscheibe_2024.pdf', '../TMP/APUZ/corpus/steehouder_am_2024.pdf', '../TMP/APUZ/corpus/hank_sackgasse_2024.pdf', '../TMP/APUZ/corpus/chernivsky_7_2024.pdf', '../TMP/APUZ/corpus/klimeniouk_gibt_2024.pdf', '../TMP/APUZ/corpus/schnabel_antisemitismus_2024.pdf', '../TMP/APUZ/corpus/barbara_strategische_2024.pdf', '../TMP/APUZ/corpus/kowalczuk_warum_2024.pdf', '../TMP/APUZ/corpus/jochen_fluchtling_2024.pdf', '../TMP/APUZ/corpus/brahma_ende_2024.pdf', '../TMP/APUZ/corpus/kimmel_grundungsgeschichten_2024.pdf', '../TMP/APUZ/corpus/liane_pladoyer_2024.pdf', '../TMP/APUZ/corpus/m_gut_2024.pdf', '../TMP/APUZ/corpus/kohlrausch_vom_2024.pdf', '../TMP/APUZ/corpus/michael_streikrecht_2024.pdf', '../TMP/APUZ/corpus/tuffers_verpasste_2024.pdf', '../TMP/APUZ/corpus/anastasia_fragile_2024.pdf', '../TMP/APUZ/corpus/thorsten_schon_2024.pdf', '../TMP/APUZ/corpus/karoline_nachhaltig_2024.pdf', '../TMP/APUZ/corpus/maier_bildungspolitik_2024.pdf', '../TMP/APUZ/corpus/herbert_ziemlich_2024.pdf', '../TMP/APUZ/corpus/kinderman_weltoffenes_2024.pdf', '../TMP/APUZ/corpus/sasse_rekonstruktion_2024.pdf', '../TMP/APUZ/corpus/roman_kleine_2024.pdf', '../TMP/APUZ/corpus/samida_sichtbar-unsichtbare_2024.pdf', '../TMP/APUZ/corpus/hermann_parlamentarische_2024.pdf', '../TMP/APUZ/corpus/stefan_preis_2024.pdf', '../TMP/APUZ/corpus/philipp_zasur_2024.pdf', '../TMP/APUZ/corpus/borosch_ruinen_2024.pdf', '../TMP/APUZ/corpus/elisabeth_zukunftsteam_2024.pdf', '../TMP/APUZ/corpus/sebastian_rasender_2024.pdf', '../TMP/APUZ/corpus/von_altenbockum_spuren_2024.pdf', '../TMP/APUZ/corpus/grimm_alt_2024.pdf', '../TMP/APUZ/corpus/hacke_wehrhafte_2024.pdf', '../TMP/APUZ/corpus/franceso_autoritar_2024.pdf', '../TMP/APUZ/corpus/catherina_30_2024.pdf', '../TMP/APUZ/corpus/mau_ausgebremste_2024.pdf', '../TMP/APUZ/corpus/pawel_guerilla-demokratie_2024.pdf', '../TMP/APUZ/corpus/bretschneider_trotzdem_2024.pdf', '../TMP/APUZ/corpus/jurgen_digitale_2024.pdf', '../TMP/APUZ/corpus/jesse_parteigrundungen_2024.pdf', '../TMP/APUZ/corpus/heike_genfer_2024.pdf', '../TMP/APUZ/corpus/andrea_realitatea_2024.pdf', '../TMP/APUZ/corpus/levitsky_tyrannei_2024.pdf', '../TMP/APUZ/corpus/reemtsma_antisemitismus_2024.pdf', '../TMP/APUZ/corpus/beikircher_bonner_2024.pdf', '../TMP/APUZ/corpus/ahrens_pragmatischer_2024.pdf', '../TMP/APUZ/corpus/carlo_deutsche_2024.pdf', '../TMP/APUZ/corpus/fowkes_krise_2024.pdf', '../TMP/APUZ/corpus/kupper_demokratiedistanz_2024.pdf', '../TMP/APUZ/corpus/patel_stromausfalle_2023.pdf', '../TMP/APUZ/corpus/broermann_wertvolle_2024.pdf', '../TMP/APUZ/corpus/bonkost_erscheinung_2024.pdf', '../TMP/APUZ/corpus/sebastian_stimme_2024.pdf', '../TMP/APUZ/corpus/pelzer_grundrecht_2024.pdf', '../TMP/APUZ/corpus/hannemann_cocktail_2024.pdf', '../TMP/APUZ/corpus/von_keine_2024.pdf', '../TMP/APUZ/corpus/murciano_7_2024.pdf', '../TMP/APUZ/corpus/bucking_kleine_2024.pdf', '../TMP/APUZ/corpus/sabrow_blasse_2024.pdf', '../TMP/APUZ/corpus/mohnhaupt_gerechtigkeit_2024.pdf', '../TMP/APUZ/corpus/brumann_konfliktraum_2024.pdf', '../TMP/APUZ/corpus/woodworth_wachstum_2024.pdf', '../TMP/APUZ/corpus/peter_wegmarken_2024.pdf', '../TMP/APUZ/corpus/trenz_politik_2024.pdf', '../TMP/APUZ/corpus/erlach_sind_2023.pdf', '../TMP/APUZ/corpus/samira_ziviler_2024.pdf', '../TMP/APUZ/corpus/zamirirad_irans_2024.pdf', '../TMP/APUZ/corpus/marie-luise_anatomie_2024.pdf', '../TMP/APUZ/corpus/merkel_wie_2024.pdf', '../TMP/APUZ/corpus/luca_italien_2024.pdf', '../TMP/APUZ/corpus/kotzing_vom_2024.pdf', '../TMP/APUZ/corpus/pfeil_franzosische_2024.pdf', '../TMP/APUZ/corpus/fischer_mythos_2024.pdf', '../TMP/APUZ/corpus/manak_fluch_2024.pdf', '../TMP/APUZ/corpus/matzing_von_2024.pdf', '../TMP/APUZ/corpus/van_dyck_privateigentum_2024.pdf', '../TMP/APUZ/corpus/kiefer_instrumentalisierte_2024.pdf', '../TMP/APUZ/corpus/aliev_zwischen_2024.pdf', '../TMP/APUZ/corpus/miriam_souveranitat_2024.pdf', '../TMP/APUZ/corpus/giulia_wo_2024.pdf', '../TMP/APUZ/corpus/raphael_grausames_2024.pdf', '../TMP/APUZ/corpus/baer_verfassungskultur_2024.pdf', '../TMP/APUZ/corpus/thranhardt_schrittweise_2024.pdf', '../TMP/APUZ/corpus/furtig_nahe_2024.pdf', '../TMP/APUZ/corpus/stefan_metrische_2024.pdf', '../TMP/APUZ/corpus/busse_gazastreifen_2024.pdf', '../TMP/APUZ/corpus/walgenbach_privilege_2024.pdf', '../TMP/APUZ/corpus/irme_pladoyer_2024.pdf', '../TMP/APUZ/corpus/wintgens_what_2024.pdf', '../TMP/APUZ/corpus/puleo_schutz_2023.pdf', '../TMP/APUZ/corpus/nadja_machtfragen_2024.pdf', '../TMP/APUZ/corpus/grande_bonner_2024.pdf', '../TMP/APUZ/corpus/scheller_vom_2024.pdf', '../TMP/APUZ/corpus/benjamin_digital_2024.pdf', '../TMP/APUZ/corpus/alexandra_digitale_2024.pdf', '../TMP/APUZ/corpus/wiebke_zwischen_2024.pdf', '../TMP/APUZ/corpus/bayramoglu_white_2024.pdf', '../TMP/APUZ/corpus/diermeier_europa_2024.pdf', '../TMP/APUZ/corpus/nico_gesundheitsrisiken_2024.pdf', '../TMP/APUZ/corpus/nina_extremismus_2024.pdf', '../TMP/APUZ/corpus/m_krieg_2024.pdf', '../TMP/APUZ/corpus/grzegorz_gesellschaftsdienst_2024.pdf', '../TMP/APUZ/corpus/david_digitale_2024.pdf', '../TMP/APUZ/corpus/weber_furchtlosigkeit_2024.pdf', '../TMP/APUZ/corpus/dieter_wer_2024.pdf', '../TMP/APUZ/corpus/veith_demokratische_2024.pdf', '../TMP/APUZ/corpus/schlosmacher_bonn_2024.pdf', '../TMP/APUZ/corpus/lons_im_2024.pdf', '../TMP/APUZ/corpus/finnin_krim_2024.pdf', '../TMP/APUZ/corpus/kasmann_schleichende_2024.pdf', '../TMP/APUZ/corpus/ruoff_alles_2024.pdf', '../TMP/APUZ/corpus/susanne_vielstimmige_2024.pdf', '../TMP/APUZ/corpus/hammerstein_blick_2024.pdf', '../TMP/APUZ/corpus/c_politische_2024.pdf', '../TMP/APUZ/corpus/birgit_eu-migrations-_2024.pdf', '../TMP/APUZ/corpus/melanie_von_2024.pdf', '../TMP/APUZ/corpus/stefan_vom_2024.pdf', '../TMP/APUZ/corpus/kollmorgen_von_2024.pdf', '../TMP/APUZ/corpus/hestermann_traumatisiert_2024.pdf', '../TMP/APUZ/corpus/daphne_reproduktive_2024.pdf', '../TMP/APUZ/corpus/kaeding_wie_2024.pdf', '../TMP/APUZ/corpus/romaniec_vom_2024.pdf', '../TMP/APUZ/corpus/huther_wir_2024.pdf', '../TMP/APUZ/corpus/grosmann_gefahrliche_2024.pdf', '../TMP/APUZ/corpus/holleitner_fach-_2024.pdf', '../TMP/APUZ/corpus/genner_blackout_2023.pdf', '../TMP/APUZ/corpus/daniel_burgerrate_2024.pdf', '../TMP/APUZ/corpus/robert_willkommen_2024.pdf', '../TMP/APUZ/corpus/ruge_souveraner_2024.pdf', '../TMP/APUZ/corpus/bildung_einstiegsdroge_2024.pdf', '../TMP/APUZ/corpus/diehl_rechtspopulismus_2024.pdf', '../TMP/APUZ/corpus/beck_was_2024.pdf', '../TMP/APUZ/corpus/ypi_freiheit_2024.pdf', '../TMP/APUZ/corpus/hagen_streikschaden_2024.pdf']\u001b[0m\n",
      "\u001b[32m2025-06-04 14:36:35.085\u001b[0m | \u001b[1mINFO    \u001b[0m | \u001b[36mevidence_seeker.retrieval.base\u001b[0m:\u001b[36mbuild_index\u001b[0m:\u001b[36m442\u001b[0m - \u001b[1mBuilding document index...\u001b[0m\n",
      "\u001b[32m2025-06-04 14:38:49.268\u001b[0m | \u001b[34m\u001b[1mDEBUG   \u001b[0m | \u001b[36mevidence_seeker.retrieval.base\u001b[0m:\u001b[36mbuild_index\u001b[0m:\u001b[36m450\u001b[0m - \u001b[34m\u001b[1mParsing nodes...\u001b[0m\n",
      "\u001b[32m2025-06-04 14:38:51.240\u001b[0m | \u001b[34m\u001b[1mDEBUG   \u001b[0m | \u001b[36mevidence_seeker.retrieval.base\u001b[0m:\u001b[36mbuild_index\u001b[0m:\u001b[36m457\u001b[0m - \u001b[34m\u001b[1mCreating VectorStoreIndex with embeddings...\u001b[0m\n"
     ]
    },
    {
     "data": {
      "application/vnd.jupyter.widget-view+json": {
       "model_id": "b11e5fa912d549f39c7fac48853a4a35",
       "version_major": 2,
       "version_minor": 0
      },
      "text/plain": [
       "Generating embeddings:   0%|          | 0/2048 [00:00<?, ?it/s]"
      ]
     },
     "metadata": {},
     "output_type": "display_data"
    },
    {
     "data": {
      "application/vnd.jupyter.widget-view+json": {
       "model_id": "d32ec1313074475e80796140f9eacfd4",
       "version_major": 2,
       "version_minor": 0
      },
      "text/plain": [
       "Generating embeddings:   0%|          | 0/2048 [00:00<?, ?it/s]"
      ]
     },
     "metadata": {},
     "output_type": "display_data"
    },
    {
     "data": {
      "application/vnd.jupyter.widget-view+json": {
       "model_id": "a077659587294afa96b50f469f3d5d13",
       "version_major": 2,
       "version_minor": 0
      },
      "text/plain": [
       "Generating embeddings:   0%|          | 0/2048 [00:00<?, ?it/s]"
      ]
     },
     "metadata": {},
     "output_type": "display_data"
    },
    {
     "data": {
      "application/vnd.jupyter.widget-view+json": {
       "model_id": "781951cf178449a98dbb25f9506601f4",
       "version_major": 2,
       "version_minor": 0
      },
      "text/plain": [
       "Generating embeddings:   0%|          | 0/2048 [00:00<?, ?it/s]"
      ]
     },
     "metadata": {},
     "output_type": "display_data"
    },
    {
     "data": {
      "application/vnd.jupyter.widget-view+json": {
       "model_id": "905c0b735ce44dbc9d7914058e1fb894",
       "version_major": 2,
       "version_minor": 0
      },
      "text/plain": [
       "Generating embeddings:   0%|          | 0/2048 [00:00<?, ?it/s]"
      ]
     },
     "metadata": {},
     "output_type": "display_data"
    },
    {
     "data": {
      "application/vnd.jupyter.widget-view+json": {
       "model_id": "5e829a5201bf4a1ca326aa95a0c1ede0",
       "version_major": 2,
       "version_minor": 0
      },
      "text/plain": [
       "Generating embeddings:   0%|          | 0/2048 [00:00<?, ?it/s]"
      ]
     },
     "metadata": {},
     "output_type": "display_data"
    },
    {
     "data": {
      "application/vnd.jupyter.widget-view+json": {
       "model_id": "d47ce58cc0424cf88ecca1bc347795d2",
       "version_major": 2,
       "version_minor": 0
      },
      "text/plain": [
       "Generating embeddings:   0%|          | 0/2048 [00:00<?, ?it/s]"
      ]
     },
     "metadata": {},
     "output_type": "display_data"
    },
    {
     "data": {
      "application/vnd.jupyter.widget-view+json": {
       "model_id": "9dee46de49d34246b3dac8f4be55f542",
       "version_major": 2,
       "version_minor": 0
      },
      "text/plain": [
       "Generating embeddings:   0%|          | 0/2048 [00:00<?, ?it/s]"
      ]
     },
     "metadata": {},
     "output_type": "display_data"
    },
    {
     "data": {
      "application/vnd.jupyter.widget-view+json": {
       "model_id": "62512181b05a4ff69acff77c75a19c56",
       "version_major": 2,
       "version_minor": 0
      },
      "text/plain": [
       "Generating embeddings:   0%|          | 0/2048 [00:00<?, ?it/s]"
      ]
     },
     "metadata": {},
     "output_type": "display_data"
    },
    {
     "data": {
      "application/vnd.jupyter.widget-view+json": {
       "model_id": "c44a77f94f8e420db194b633fc9222e5",
       "version_major": 2,
       "version_minor": 0
      },
      "text/plain": [
       "Generating embeddings:   0%|          | 0/2048 [00:00<?, ?it/s]"
      ]
     },
     "metadata": {},
     "output_type": "display_data"
    },
    {
     "data": {
      "application/vnd.jupyter.widget-view+json": {
       "model_id": "7000fd20434a428a910b6086a1e94714",
       "version_major": 2,
       "version_minor": 0
      },
      "text/plain": [
       "Generating embeddings:   0%|          | 0/2048 [00:00<?, ?it/s]"
      ]
     },
     "metadata": {},
     "output_type": "display_data"
    },
    {
     "data": {
      "application/vnd.jupyter.widget-view+json": {
       "model_id": "f1b4053050354a8d8706349c8955737e",
       "version_major": 2,
       "version_minor": 0
      },
      "text/plain": [
       "Generating embeddings:   0%|          | 0/2048 [00:00<?, ?it/s]"
      ]
     },
     "metadata": {},
     "output_type": "display_data"
    },
    {
     "data": {
      "application/vnd.jupyter.widget-view+json": {
       "model_id": "a0db733cc4d441ffbe2c4c076dd17054",
       "version_major": 2,
       "version_minor": 0
      },
      "text/plain": [
       "Generating embeddings:   0%|          | 0/2048 [00:00<?, ?it/s]"
      ]
     },
     "metadata": {},
     "output_type": "display_data"
    },
    {
     "data": {
      "application/vnd.jupyter.widget-view+json": {
       "model_id": "25c35e70e8f94a409c1aef3ef740c18c",
       "version_major": 2,
       "version_minor": 0
      },
      "text/plain": [
       "Generating embeddings:   0%|          | 0/2048 [00:00<?, ?it/s]"
      ]
     },
     "metadata": {},
     "output_type": "display_data"
    },
    {
     "data": {
      "application/vnd.jupyter.widget-view+json": {
       "model_id": "d9e11c4ee79b4ed290d4b50ec2fd1534",
       "version_major": 2,
       "version_minor": 0
      },
      "text/plain": [
       "Generating embeddings:   0%|          | 0/2048 [00:00<?, ?it/s]"
      ]
     },
     "metadata": {},
     "output_type": "display_data"
    },
    {
     "data": {
      "application/vnd.jupyter.widget-view+json": {
       "model_id": "6bb36ee14e594e41b903beeff111cdb3",
       "version_major": 2,
       "version_minor": 0
      },
      "text/plain": [
       "Generating embeddings:   0%|          | 0/2048 [00:00<?, ?it/s]"
      ]
     },
     "metadata": {},
     "output_type": "display_data"
    },
    {
     "data": {
      "application/vnd.jupyter.widget-view+json": {
       "model_id": "6d609ee8d92447a9be643acfebc803fe",
       "version_major": 2,
       "version_minor": 0
      },
      "text/plain": [
       "Generating embeddings:   0%|          | 0/1702 [00:00<?, ?it/s]"
      ]
     },
     "metadata": {},
     "output_type": "display_data"
    },
    {
     "name": "stderr",
     "output_type": "stream",
     "text": [
      "\u001b[32m2025-06-04 15:34:29.671\u001b[0m | \u001b[34m\u001b[1mDEBUG   \u001b[0m | \u001b[36mevidence_seeker.retrieval.base\u001b[0m:\u001b[36mbuild_index\u001b[0m:\u001b[36m464\u001b[0m - \u001b[34m\u001b[1mPersisting index to /home/basti/Nextcloud/Documents/mindmaps/mind/projects/kideku/code/evidence-seeker/TMP/APUZ/storage/index\u001b[0m\n"
     ]
    }
   ],
   "source": [
    "build_index(\n",
    "    #document_input_dir=config.document_input_dir,\n",
    "    document_input_files=pdf_files,\n",
    "    document_file_metadata=document_file_metadata,\n",
    "    index_persist_path=config.index_persist_path,\n",
    "    embed_base_url=config.embed_base_url,\n",
    "    embed_model_name=config.embed_model_name,\n",
    "    embed_backend_type=config.embed_backend_type,\n",
    "    bill_to=config.bill_to,\n",
    "    api_token=api_token,\n",
    "    hub_token=hub_token,\n",
    "    upload_hub_path=config.index_hub_path,\n",
    ")"
   ]
  },
  {
   "cell_type": "code",
   "execution_count": 11,
   "metadata": {},
   "outputs": [
    {
     "data": {
      "text/plain": [
       "'../TMP/APUZ/storage'"
      ]
     },
     "execution_count": 11,
     "metadata": {},
     "output_type": "execute_result"
    }
   ],
   "source": [
    "config.index_persist_path"
   ]
  },
  {
   "cell_type": "code",
   "execution_count": 12,
   "metadata": {},
   "outputs": [
    {
     "data": {
      "application/vnd.jupyter.widget-view+json": {
       "model_id": "517a77ce9f224b90bd672b14cdcea565",
       "version_major": 2,
       "version_minor": 0
      },
      "text/plain": [
       "Upload 2 LFS files:   0%|          | 0/2 [00:00<?, ?it/s]"
      ]
     },
     "metadata": {},
     "output_type": "display_data"
    },
    {
     "data": {
      "application/vnd.jupyter.widget-view+json": {
       "model_id": "f2780337b3e94405b305862e41ee3c10",
       "version_major": 2,
       "version_minor": 0
      },
      "text/plain": [
       "default__vector_store.json:   0%|          | 0.00/650M [00:00<?, ?B/s]"
      ]
     },
     "metadata": {},
     "output_type": "display_data"
    },
    {
     "data": {
      "application/vnd.jupyter.widget-view+json": {
       "model_id": "4e67c5d79b4243c0b6c17798aa707539",
       "version_major": 2,
       "version_minor": 0
      },
      "text/plain": [
       "docstore.json:   0%|          | 0.00/208M [00:00<?, ?B/s]"
      ]
     },
     "metadata": {},
     "output_type": "display_data"
    },
    {
     "data": {
      "text/plain": [
       "CommitInfo(commit_url='https://huggingface.co/datasets/DebateLabKIT/apuz-index-es/commit/799dee54e009b532410c4765368ee1bcbdade16b', commit_message='Upload folder using huggingface_hub', commit_description='', oid='799dee54e009b532410c4765368ee1bcbdade16b', pr_url=None, repo_url=RepoUrl('https://huggingface.co/datasets/DebateLabKIT/apuz-index-es', endpoint='https://huggingface.co', repo_type='dataset', repo_id='DebateLabKIT/apuz-index-es'), pr_revision=None, pr_num=None)"
      ]
     },
     "execution_count": 12,
     "metadata": {},
     "output_type": "execute_result"
    }
   ],
   "source": [
    "# explicitly upload the index to the HuggingFace hub \n",
    "# (can also be done via the `build_index` function)\n",
    "from evidence_seeker.retrieval.base import INDEX_PATH_IN_REPO\n",
    "\n",
    "HfApi = huggingface_hub.HfApi(token=hub_token)\n",
    "HfApi.upload_folder(\n",
    "    repo_id=\"DebateLabKIT/apuz-index-es\",\n",
    "    folder_path=config.index_persist_path,\n",
    "    #path_in_repo=INDEX_PATH_IN_REPO,\n",
    "    repo_type=\"dataset\",\n",
    ")"
   ]
  },
  {
   "cell_type": "code",
   "execution_count": null,
   "metadata": {},
   "outputs": [],
   "source": []
  }
 ],
 "metadata": {
  "kernelspec": {
   "display_name": "dev_env",
   "language": "python",
   "name": "python3"
  },
  "language_info": {
   "codemirror_mode": {
    "name": "ipython",
    "version": 3
   },
   "file_extension": ".py",
   "mimetype": "text/x-python",
   "name": "python",
   "nbconvert_exporter": "python",
   "pygments_lexer": "ipython3",
   "version": "3.10.16"
  }
 },
 "nbformat": 4,
 "nbformat_minor": 2
}
