{
 "cells": [
  {
   "cell_type": "markdown",
   "metadata": {},
   "source": [
    "# Testing Pipelines"
   ]
  },
  {
   "cell_type": "markdown",
   "metadata": {},
   "source": [
    "### Initiating observation via Phoenix"
   ]
  },
  {
   "cell_type": "code",
   "execution_count": 1,
   "metadata": {},
   "outputs": [
    {
     "name": "stdout",
     "output_type": "stream",
     "text": [
      "🌍 To view the Phoenix app in your browser, visit http://localhost:6006/\n",
      "📖 For more information on how to use Phoenix, check out https://docs.arize.com/phoenix\n"
     ]
    }
   ],
   "source": [
    "# %pip pip install arize-phoenix\n",
    "# %pip install llama-index-callbacks-arize-phoenix\n",
    "\n",
    "# observability\n",
    "import phoenix as px\n",
    "px.launch_app()\n",
    "\n",
    "import llama_index.core\n",
    "llama_index.core.set_global_handler(\"arize_phoenix\", endpoint=\"http://localhost:6006/v1/traces\")"
   ]
  },
  {
   "cell_type": "markdown",
   "metadata": {},
   "source": [
    "## Preprocessing pipeline"
   ]
  },
  {
   "cell_type": "markdown",
   "metadata": {},
   "source": [
    "### Visualizing workflows"
   ]
  },
  {
   "cell_type": "code",
   "execution_count": 2,
   "metadata": {},
   "outputs": [
    {
     "name": "stderr",
     "output_type": "stream",
     "text": [
      "None of PyTorch, TensorFlow >= 2.0, or Flax have been found. Models won't be available and only tokenizers, configuration and file/data utilities can be used.\n"
     ]
    },
    {
     "name": "stdout",
     "output_type": "stream",
     "text": [
      "<class 'NoneType'>\n",
      "<class 'evidence_seeker.preprocessing.workflows.ListAscriptiveClaimsEvent'>\n",
      "<class 'llama_index.core.workflow.events.StopEvent'>\n",
      "<class 'evidence_seeker.preprocessing.workflows.ListDescriptiveClaimsEvent'>\n",
      "<class 'evidence_seeker.preprocessing.workflows.NegateClaimEvent'>\n",
      "<class 'evidence_seeker.preprocessing.workflows.StartedNegatingClaims'>\n",
      "<class 'evidence_seeker.preprocessing.workflows.NegateClaimEvent'>\n",
      "<class 'evidence_seeker.preprocessing.workflows.StartedNegatingClaims'>\n",
      "<class 'evidence_seeker.preprocessing.workflows.NegateClaimEvent'>\n",
      "<class 'evidence_seeker.preprocessing.workflows.StartedNegatingClaims'>\n",
      "<class 'evidence_seeker.preprocessing.workflows.CollectClarifiedClaimsEvent'>\n",
      "<class 'evidence_seeker.preprocessing.workflows.ListNormativeClaimsEvent'>\n",
      "<class 'evidence_seeker.preprocessing.workflows.NormativeAnalysisEvent'>\n",
      "<class 'evidence_seeker.preprocessing.workflows.DescriptiveAnalysisEvent'>\n",
      "<class 'evidence_seeker.preprocessing.workflows.AscriptiveAnalysisEvent'>\n",
      "../TMP/PreprocessingWorkflow.html\n"
     ]
    },
    {
     "name": "stderr",
     "output_type": "stream",
     "text": [
      "WARNING: All log messages before absl::InitializeLog() is called are written to STDERR\n",
      "I0000 00:00:1734196016.452777  549171 fork_posix.cc:75] Other threads are currently calling into gRPC, skipping fork() handlers\n",
      "I0000 00:00:1734196016.491641  549171 fork_posix.cc:75] Other threads are currently calling into gRPC, skipping fork() handlers\n"
     ]
    }
   ],
   "source": [
    "\n",
    "import os\n",
    "from llama_index.utils.workflow import draw_all_possible_flows\n",
    "\n",
    "from evidence_seeker.preprocessing.workflows import (\n",
    "    PreprocessingWorkflow,\n",
    ")\n",
    "\n",
    "draw_all_possible_flows(\n",
    "    PreprocessingWorkflow, filename=\"../TMP/PreprocessingWorkflow.html\"\n",
    ")\n"
   ]
  },
  {
   "cell_type": "markdown",
   "metadata": {},
   "source": [
    "### Save default config"
   ]
  },
  {
   "cell_type": "code",
   "execution_count": 3,
   "metadata": {},
   "outputs": [
    {
     "data": {
      "text/plain": [
       "7841"
      ]
     },
     "execution_count": 3,
     "metadata": {},
     "output_type": "execute_result"
    }
   ],
   "source": [
    "import pathlib\n",
    "import yaml\n",
    "\n",
    "from evidence_seeker.preprocessing import ClaimPreprocessingConfig\n",
    "\n",
    "configfile = pathlib.Path(\"../configs/preprocessing_config_default.yaml\")\n",
    "\n",
    "default_config = ClaimPreprocessingConfig()\n",
    "default_config_dict = default_config.model_dump()\n",
    "\n",
    "#configfile.write_text(yaml.dump(default_config_dict))\n"
   ]
  },
  {
   "cell_type": "markdown",
   "metadata": {},
   "source": [
    "### Running ClaimPreprocessor"
   ]
  },
  {
   "cell_type": "code",
   "execution_count": 2,
   "metadata": {},
   "outputs": [
    {
     "name": "stderr",
     "output_type": "stream",
     "text": [
      "None of PyTorch, TensorFlow >= 2.0, or Flax have been found. Models won't be available and only tokenizers, configuration and file/data utilities can be used.\n"
     ]
    },
    {
     "data": {
      "text/plain": [
       "{'description': 'A list of claims.',\n",
       " 'properties': {'claims': {'description': 'A list of claims.',\n",
       "   'items': {'type': 'string'},\n",
       "   'title': 'Claims',\n",
       "   'type': 'array'}},\n",
       " 'required': ['claims'],\n",
       " 'title': 'Claims',\n",
       " 'type': 'object'}"
      ]
     },
     "execution_count": 2,
     "metadata": {},
     "output_type": "execute_result"
    }
   ],
   "source": [
    "from evidence_seeker.preprocessing.workflows import Claims\n",
    "\n",
    "Claims.model_json_schema()"
   ]
  },
  {
   "cell_type": "code",
   "execution_count": 2,
   "metadata": {},
   "outputs": [
    {
     "name": "stderr",
     "output_type": "stream",
     "text": [
      "\u001b[32m2025-05-13 10:36:09.158\u001b[0m | \u001b[34m\u001b[1mDEBUG   \u001b[0m | \u001b[36mevidence_seeker.backend\u001b[0m:\u001b[36mget_openai_llm\u001b[0m:\u001b[36m233\u001b[0m - \u001b[34m\u001b[1mFetching api key via env var: hf_debatelab_inference_provider\u001b[0m\n",
      "\u001b[32m2025-05-13 10:36:09.160\u001b[0m | \u001b[34m\u001b[1mDEBUG   \u001b[0m | \u001b[36mevidence_seeker.backend\u001b[0m:\u001b[36mget_openai_llm\u001b[0m:\u001b[36m241\u001b[0m - \u001b[34m\u001b[1mInstantiating OpenAILike model (model: meta-llama/Llama-3.2-3B-Instruct-Turbo,base_url: https://router.huggingface.co/together/v1).\u001b[0m\n"
     ]
    }
   ],
   "source": [
    "from pprint import pprint\n",
    "\n",
    "from evidence_seeker.preprocessing import ClaimPreprocessor, ClaimPreprocessingConfig\n",
    "import pathlib\n",
    "\n",
    "#config_file = pathlib.Path(\"../configs/confirmation_analysis_config_default.yaml\")\n",
    "#confirmation_analyzer = ConfirmationAnalyzer.from_config_file(config_file)\n",
    "\n",
    "\n",
    "#config_file = \"../configs/preprocessing_config_default.yaml\" \n",
    "#config = ClaimPreprocessingConfig.from_config_file(config_file)\n",
    "\n",
    "config = ClaimPreprocessingConfig(\n",
    "    timeout=1200\n",
    ")\n",
    "preprocessor = ClaimPreprocessor(config=config)\n",
    "\n",
    "example_inputs = [\n",
    "    \"Die Osterweiterung hat die EU-Institutionen nachhaltig geschwächt.\",\n",
    "    \"In den knapp 70 Jahren seit ihrer Gründung hat es in der Bundeswehr immer wieder rechtsextremistische Vorfälle gegeben.\",\n",
    "    \"In der Bundeswehr gibt es keinen politischen Extremismus.\",\n",
    "    \"Die Bundesrepublik verfolgt eine orientierungslose Anpassungspolitik, weshalb zunehmend andere Staaten und Institutionen die deutsche Außen- und Sicherheitspolitik beeinflussen und steuern.\",\n",
    "]\n",
    "\n",
    "example_ascriptions = [\n",
    "    \"Petra Krüger behauptet, dass es in der Bundeswehr keinen politischen Extremismus gibt.\",\n",
    "    \"Der indische Premierminister Modi hält Putin für seinen Freund.\",\n",
    "    \"Heike Krieger zufolge verbietet das humanitäre Völkerrecht Kriegsführung nicht per se.\",\n",
    "    \"Jörn Leonhard schreibt, dass die Anzahl hybrider Kriege zugenommen hat.\",\n",
    "    \"Laut Andreas Schüller sind die Genfer Konventionen oft hinter ihrem Anspruch, die Zivilbevölkerung zu schützen, zurückgeblieben.\"\n",
    "    \"Der Autorin zufolge verbietet das humanitäre Völkerrecht Kriegsführung nicht per se.\",\n",
    "    \"Tim Smith schreibt, dass die Anzahl hybrider Kriege zugenommen hat.\",\n",
    "    \"Laut dem Autor sind die Genfer Konventionen oft hinter ihrem Anspruch, die Zivilbevölkerung zu schützen, zurückgeblieben.\"\n",
    "    \"Claudia Gatzka schreibt, dass sich ihre Einstellung zur parteipolitischen Lage in Deutschland mit ihrem großen Freundeskreis deckt.\",\n",
    "    \"Die Autorin schreibt, dass sich ihre Einstellung zur parteipolitischen Lage in Deutschland mit ihrem großen Freundeskreis deckt.\",\n",
    "]\n",
    "\n",
    "example_ascriptions = [\n",
    "    \"Petra Krüger behauptet, dass es in der Bundeswehr keinen politischen Extremismus gibt.\",\n",
    "]\n"
   ]
  },
  {
   "cell_type": "code",
   "execution_count": 3,
   "metadata": {},
   "outputs": [
    {
     "name": "stderr",
     "output_type": "stream",
     "text": [
      "\u001b[32m2025-05-13 10:36:14.455\u001b[0m | \u001b[34m\u001b[1mDEBUG   \u001b[0m | \u001b[36mevidence_seeker.preprocessing.workflows\u001b[0m:\u001b[36mascriptive_analysis\u001b[0m:\u001b[36m173\u001b[0m - \u001b[34m\u001b[1mAnalysing ascriptive aspects of claim.\u001b[0m\n",
      "\u001b[32m2025-05-13 10:36:14.464\u001b[0m | \u001b[34m\u001b[1mDEBUG   \u001b[0m | \u001b[36mevidence_seeker.preprocessing.workflows\u001b[0m:\u001b[36mdescriptive_analysis\u001b[0m:\u001b[36m118\u001b[0m - \u001b[34m\u001b[1mAnalysing descriptive aspects of claim.\u001b[0m\n",
      "\u001b[32m2025-05-13 10:36:14.469\u001b[0m | \u001b[34m\u001b[1mDEBUG   \u001b[0m | \u001b[36mevidence_seeker.preprocessing.workflows\u001b[0m:\u001b[36mnormative_analysis\u001b[0m:\u001b[36m228\u001b[0m - \u001b[34m\u001b[1mAnalysing normative aspects of claim.\u001b[0m\n",
      "\u001b[32m2025-05-13 10:36:19.546\u001b[0m | \u001b[34m\u001b[1mDEBUG   \u001b[0m | \u001b[36mevidence_seeker.preprocessing.workflows\u001b[0m:\u001b[36mnegate_claim\u001b[0m:\u001b[36m281\u001b[0m - \u001b[34m\u001b[1mNegating claim.\u001b[0m\n",
      "\u001b[32m2025-05-13 10:36:19.549\u001b[0m | \u001b[34m\u001b[1mDEBUG   \u001b[0m | \u001b[36mevidence_seeker.preprocessing.workflows\u001b[0m:\u001b[36mnegate_claim\u001b[0m:\u001b[36m281\u001b[0m - \u001b[34m\u001b[1mNegating claim.\u001b[0m\n",
      "\u001b[32m2025-05-13 10:36:19.553\u001b[0m | \u001b[34m\u001b[1mDEBUG   \u001b[0m | \u001b[36mevidence_seeker.preprocessing.workflows\u001b[0m:\u001b[36mnegate_claim\u001b[0m:\u001b[36m281\u001b[0m - \u001b[34m\u001b[1mNegating claim.\u001b[0m\n",
      "\u001b[32m2025-05-13 10:36:19.989\u001b[0m | \u001b[34m\u001b[1mDEBUG   \u001b[0m | \u001b[36mevidence_seeker.preprocessing.workflows\u001b[0m:\u001b[36mnegate_claim\u001b[0m:\u001b[36m281\u001b[0m - \u001b[34m\u001b[1mNegating claim.\u001b[0m\n",
      "\u001b[32m2025-05-13 10:36:19.994\u001b[0m | \u001b[34m\u001b[1mDEBUG   \u001b[0m | \u001b[36mevidence_seeker.preprocessing.workflows\u001b[0m:\u001b[36mnegate_claim\u001b[0m:\u001b[36m281\u001b[0m - \u001b[34m\u001b[1mNegating claim.\u001b[0m\n",
      "\u001b[32m2025-05-13 10:36:19.997\u001b[0m | \u001b[34m\u001b[1mDEBUG   \u001b[0m | \u001b[36mevidence_seeker.preprocessing.workflows\u001b[0m:\u001b[36mnegate_claim\u001b[0m:\u001b[36m281\u001b[0m - \u001b[34m\u001b[1mNegating claim.\u001b[0m\n",
      "\u001b[32m2025-05-13 10:36:20.077\u001b[0m | \u001b[34m\u001b[1mDEBUG   \u001b[0m | \u001b[36mevidence_seeker.preprocessing.workflows\u001b[0m:\u001b[36mnegate_claim\u001b[0m:\u001b[36m281\u001b[0m - \u001b[34m\u001b[1mNegating claim.\u001b[0m\n",
      "\u001b[32m2025-05-13 10:36:20.081\u001b[0m | \u001b[34m\u001b[1mDEBUG   \u001b[0m | \u001b[36mevidence_seeker.preprocessing.workflows\u001b[0m:\u001b[36mnegate_claim\u001b[0m:\u001b[36m281\u001b[0m - \u001b[34m\u001b[1mNegating claim.\u001b[0m\n",
      "\u001b[32m2025-05-13 10:36:20.084\u001b[0m | \u001b[34m\u001b[1mDEBUG   \u001b[0m | \u001b[36mevidence_seeker.preprocessing.workflows\u001b[0m:\u001b[36mnegate_claim\u001b[0m:\u001b[36m281\u001b[0m - \u001b[34m\u001b[1mNegating claim.\u001b[0m\n",
      "\u001b[32m2025-05-13 10:36:20.087\u001b[0m | \u001b[34m\u001b[1mDEBUG   \u001b[0m | \u001b[36mevidence_seeker.preprocessing.workflows\u001b[0m:\u001b[36mnegate_claim\u001b[0m:\u001b[36m281\u001b[0m - \u001b[34m\u001b[1mNegating claim.\u001b[0m\n"
     ]
    }
   ],
   "source": [
    "import asyncio\n",
    "\n",
    "coros = [preprocessor(claim=claim) for claim in example_ascriptions]\n",
    "results = await asyncio.gather(*coros)\n",
    "\n",
    "# {'response_format': {'type': 'json_schema', 'json_schema': {'schema': {'properties': {'answer': {'description': \"The correct answer, must be one of 'A', 'B', or 'C'.\", 'pattern': '^(A|B|C)$', 'title': 'Answer', 'type': 'string'}}, 'required': ['answer'], 'title': 'Answer', 'type': 'object'}}}}\n",
    "\n"
   ]
  },
  {
   "cell_type": "code",
   "execution_count": 3,
   "metadata": {},
   "outputs": [
    {
     "name": "stdout",
     "output_type": "stream",
     "text": [
      "[{'average_confirmation': None,\n",
      "  'confirmation_by_document': None,\n",
      "  'documents': None,\n",
      "  'evidential_uncertainty': None,\n",
      "  'metadata': {},\n",
      "  'n_evidence': None,\n",
      "  'negation': 'Es gibt in der Bundeswehr politischen Extremismus.',\n",
      "  'statement_type': <StatementType.ASCRIPTIVE: 'ascriptive'>,\n",
      "  'text': 'Petra Krüger behauptet, dass es in der Bundeswehr keinen '\n",
      "          'politischen Extremismus gibt.',\n",
      "  'uid': '883a85b9-2fc9-4dcc-adb8-9190776d7c9b',\n",
      "  'verbalized_confirmation': None},\n",
      " {'average_confirmation': None,\n",
      "  'confirmation_by_document': None,\n",
      "  'documents': None,\n",
      "  'evidential_uncertainty': None,\n",
      "  'metadata': {},\n",
      "  'n_evidence': None,\n",
      "  'negation': 'Die Bundeswehr hat politischen Extremismus.',\n",
      "  'statement_type': <StatementType.ASCRIPTIVE: 'ascriptive'>,\n",
      "  'text': 'Die Bundeswehr hat keinen politischen Extremismus.',\n",
      "  'uid': 'ee2f570e-0b61-4468-b4b5-b0dc081ca1c9',\n",
      "  'verbalized_confirmation': None},\n",
      " {'average_confirmation': None,\n",
      "  'confirmation_by_document': None,\n",
      "  'documents': None,\n",
      "  'evidential_uncertainty': None,\n",
      "  'metadata': {},\n",
      "  'n_evidence': None,\n",
      "  'negation': 'Petra Krüger ist keine Person, die in der Bundeswehr tätig ist.',\n",
      "  'statement_type': <StatementType.DESCRIPTIVE: 'descriptive'>,\n",
      "  'text': 'Petra Krüger ist eine Person, die in der Bundeswehr tätig ist',\n",
      "  'uid': '9711e648-a973-4643-9743-cd28e64fac4c',\n",
      "  'verbalized_confirmation': None},\n",
      " {'average_confirmation': None,\n",
      "  'confirmation_by_document': None,\n",
      "  'documents': None,\n",
      "  'evidential_uncertainty': None,\n",
      "  'metadata': {},\n",
      "  'n_evidence': None,\n",
      "  'negation': 'Petra Krüger hat sich zu einem bestimmten Zeitpunkt nicht über '\n",
      "              'den Bestand von politischem Extremismus in der Bundeswehr '\n",
      "              'geäußert.',\n",
      "  'statement_type': <StatementType.DESCRIPTIVE: 'descriptive'>,\n",
      "  'text': 'Petra Krüger hat sich zu einem bestimmten Zeitpunkt über den '\n",
      "          'Bestand von politischem Extremismus in der Bundeswehr geäußert',\n",
      "  'uid': '478a8f1d-e31f-4053-bc7f-e9d37e627515',\n",
      "  'verbalized_confirmation': None},\n",
      " {'average_confirmation': None,\n",
      "  'confirmation_by_document': None,\n",
      "  'documents': None,\n",
      "  'evidential_uncertainty': None,\n",
      "  'metadata': {},\n",
      "  'n_evidence': None,\n",
      "  'negation': 'Die Behauptung impliziert, dass politischer Extremismus '\n",
      "              'innerhalb der Bundeswehr erwünscht oder akzeptabel ist.',\n",
      "  'statement_type': <StatementType.NORMATIVE: 'normative'>,\n",
      "  'text': 'Die Behauptung impliziert, dass politischer Extremismus innerhalb '\n",
      "          'der Bundeswehr unerwünscht oder unakzeptabel ist.',\n",
      "  'uid': '5203123e-615f-415a-8a45-521d2004cf04',\n",
      "  'verbalized_confirmation': None},\n",
      " {'average_confirmation': None,\n",
      "  'confirmation_by_document': None,\n",
      "  'documents': None,\n",
      "  'evidential_uncertainty': None,\n",
      "  'metadata': {},\n",
      "  'n_evidence': None,\n",
      "  'negation': 'Petra Krüger glaubt, dass es politische Extremisten in der '\n",
      "              'Bundeswehr gibt.',\n",
      "  'statement_type': <StatementType.NORMATIVE: 'normative'>,\n",
      "  'text': 'Petra Krüger glaubt, dass es keine politischen Extremisten in der '\n",
      "          'Bundeswehr geben sollte.',\n",
      "  'uid': '2fbf37ad-57c3-4dd1-8993-178dbc5be078',\n",
      "  'verbalized_confirmation': None}]\n"
     ]
    }
   ],
   "source": [
    "\n",
    "for clarified_claims in results:\n",
    "    pprint([cc.model_dump() for cc in clarified_claims])"
   ]
  },
  {
   "cell_type": "code",
   "execution_count": null,
   "metadata": {},
   "outputs": [],
   "source": []
  }
 ],
 "metadata": {
  "kernelspec": {
   "display_name": "dev_env",
   "language": "python",
   "name": "python3"
  },
  "language_info": {
   "codemirror_mode": {
    "name": "ipython",
    "version": 3
   },
   "file_extension": ".py",
   "mimetype": "text/x-python",
   "name": "python",
   "nbconvert_exporter": "python",
   "pygments_lexer": "ipython3",
   "version": "3.10.16"
  }
 },
 "nbformat": 4,
 "nbformat_minor": 2
}
