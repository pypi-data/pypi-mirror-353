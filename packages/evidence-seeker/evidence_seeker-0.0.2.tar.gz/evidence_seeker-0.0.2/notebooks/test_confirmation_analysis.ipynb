{
 "cells": [
  {
   "cell_type": "markdown",
   "metadata": {},
   "source": [
    "# Testing Pipelines"
   ]
  },
  {
   "cell_type": "markdown",
   "metadata": {},
   "source": [
    "### Initiating observation via Phoenix"
   ]
  },
  {
   "cell_type": "code",
   "execution_count": 1,
   "metadata": {},
   "outputs": [
    {
     "name": "stdout",
     "output_type": "stream",
     "text": [
      "🌍 To view the Phoenix app in your browser, visit http://localhost:6006/\n",
      "📖 For more information on how to use Phoenix, check out https://docs.arize.com/phoenix\n"
     ]
    }
   ],
   "source": [
    "# %pip pip install arize-phoenix\n",
    "# %pip install llama-index-callbacks-arize-phoenix\n",
    "# observability\n",
    "import phoenix as px\n",
    "px.launch_app()\n",
    "\n",
    "import llama_index.core\n",
    "llama_index.core.set_global_handler(\"arize_phoenix\", endpoint=\"http://localhost:6006/v1/traces\")"
   ]
  },
  {
   "cell_type": "markdown",
   "metadata": {},
   "source": [
    "### Save default config"
   ]
  },
  {
   "cell_type": "code",
   "execution_count": 5,
   "metadata": {},
   "outputs": [
    {
     "data": {
      "text/plain": [
       "6557"
      ]
     },
     "execution_count": 5,
     "metadata": {},
     "output_type": "execute_result"
    }
   ],
   "source": [
    "import pathlib\n",
    "import yaml\n",
    "\n",
    "from evidence_seeker.confirmation_analysis import ConfirmationAnalyzerConfig\n",
    "\n",
    "configfile = pathlib.Path(\"../configs/confirmation_analysis_config_default.yaml\")\n",
    "\n",
    "default_config = ConfirmationAnalyzerConfig()\n",
    "default_config_dict = default_config.model_dump()\n",
    "\n",
    "configfile.write_text(yaml.dump(default_config_dict))\n"
   ]
  },
  {
   "cell_type": "markdown",
   "metadata": {},
   "source": [
    "## Confirmation Analysis Pipeline"
   ]
  },
  {
   "cell_type": "markdown",
   "metadata": {},
   "source": [
    "### Visualizing Workflow"
   ]
  },
  {
   "cell_type": "code",
   "execution_count": 2,
   "metadata": {},
   "outputs": [
    {
     "name": "stdout",
     "output_type": "stream",
     "text": [
      "<class 'NoneType'>\n",
      "<class 'llama_index.core.workflow.events.StopEvent'>\n",
      "<class 'evidence_seeker.confirmation_analysis.workflows.MultipleChoiceConfirmationAnalysisEvent'>\n",
      "<class 'evidence_seeker.confirmation_analysis.workflows.CollectAnalysesEvent'>\n",
      "<class 'evidence_seeker.confirmation_analysis.workflows.FreetextConfirmationAnalysisEvent'>\n",
      "../TMP/SimpleConfirmationAnalysisWorkflow.html\n"
     ]
    }
   ],
   "source": [
    "\n",
    "import os\n",
    "from llama_index.utils.workflow import draw_all_possible_flows\n",
    "from evidence_seeker.confirmation_analysis.workflows import (\n",
    "    SimpleConfirmationAnalysisWorkflow\n",
    ")\n",
    "\n",
    "# create dir ../tmp if not exists\n",
    "os.makedirs(\"../TMP\", exist_ok=True)\n",
    "\n",
    "draw_all_possible_flows(\n",
    "    SimpleConfirmationAnalysisWorkflow, filename=\"../TMP/SimpleConfirmationAnalysisWorkflow.html\"\n",
    ")\n"
   ]
  },
  {
   "cell_type": "code",
   "execution_count": null,
   "metadata": {},
   "outputs": [],
   "source": [
    "# to move (explaining configuration)\n",
    "from evidence_seeker.confirmation_analysis import (\n",
    "    ConfirmationAnalyzer, ConfirmationAnalyzerConfig\n",
    ")\n",
    "\n",
    "\n",
    "config = ConfirmationAnalyzerConfig(\n",
    "    #used_model_key=\"model_5\"\n",
    "    timeout=1200,\n",
    "    used_model_key=\"lmstudio\",\n",
    "    models={'lmstudio':{\n",
    "                \"name\": \"meta-llama-3.1-8b-instruct\",\n",
    "                \"description\": \"Local model served via LMStudio\",\n",
    "                \"base_url\": \"http://127.0.0.1:1234/v1/\",\n",
    "                #\"model\": \"meta-llama-3.1-8b-instruct\",\n",
    "                \"model\": \"meta-llama-3.1-8b-instruct\",\n",
    "                \"backend_type\": \"openai\",\n",
    "                \"max_tokens\": 1024,\n",
    "                \"temperature\": 0.2,\n",
    "                \"api_key\": \"not_needed\",\n",
    "                \"timeout\": 180\n",
    "            },\n",
    "    }\n",
    ")\n",
    "confirmation_analyzer = ConfirmationAnalyzer(config=config)\n",
    "\n",
    "#config_file = pathlib.Path(\"../configs/confirmation_analysis_config_default.yaml\")\n",
    "#confirmation_analyzer = ConfirmationAnalyzer.from_config_file(config_file)\n",
    "\n",
    "\n",
    "## Testing some of the config behavior\n",
    "config.get_chat_template(config.multiple_choice_confirmation_analysis)\n",
    "print(config.get_step_config(config.multiple_choice_confirmation_analysis))\n",
    "# system prompt can be defined globally in the config, per config step or model specific for each step\n",
    "print(config.get_system_prompt(config.multiple_choice_confirmation_analysis))\n"
   ]
  },
  {
   "cell_type": "markdown",
   "metadata": {},
   "source": [
    "### Used example"
   ]
  },
  {
   "cell_type": "code",
   "execution_count": 1,
   "metadata": {},
   "outputs": [],
   "source": [
    "from evidence_seeker.datamodels import (\n",
    "    CheckedClaim,\n",
    "    Document\n",
    ")\n",
    "\n",
    "docs = [\n",
    "    Document(text='There is high confidence that oxygen levels have \\ndropped in many regions since the mid 20th century and \\nthat the geographic range of many marine organisms has \\nchanged over the last two decades. \\n The amount of ocean warming observed since 1971 \\nwill likely at least double by 2100 under a low warming \\nscenario (SSP1-2.6) and will increase by 4–8 times under \\na high warming scenario (SSP5-8.5).  Stratification (virtually \\ncertain), acidification ( virtually certain ), deoxygenation \\n(high confidence ) and marine heatwave frequency ( high \\nconfidence) will continue to increase in the 21st century. \\n While there is low confidence in 20th century AMOC change, \\nit is very likely that AMOC will decline over the 21st century \\n(Figure TS.11).  {2.3, 3.5, 3.6, 4.3.2, 5.3, 7.2, 9.2, Box\\xa09.2, 12.4}\\nIt is virtually certain that the global ocean has warmed since at least \\n1971, representing about 90% of the increase in the global energy \\ninventory (Section TS.3.1).  The ocean is currently warming faster than \\nat any other time since at least the last deglacial transition (medium \\nconfidence), with warming extending to depths well below 2000 m \\n(very high confidence ).  It is extremely likely that human influence \\nwas the main driver of this recent ocean warming. ', uid='1f47ce98-4105-4ddc-98a9-c4956dab2000', metadata={'page_label': '74', 'file_name': 'IPCC_AR6_WGI_TS.pdf', 'author': 'IPCC Working Group I', 'original_text': 'While there is low confidence in 20th century AMOC change, \\nit is very likely that AMOC will decline over the 21st century \\n(Figure TS.11). '}),\n",
    "    Document(text='Based on recent refined \\nanalyses of the available observations, there is high confidence  \\nthat it increased by 4.9 ± 1.5% from 1970–2018, which is about \\ntwice as much as assessed in SROCC, and will continue to increase \\nthroughout the 21st century at a rate depending on the emissions \\nscenario (virtually certain).  {2.3.3, 9.2.1}\\nIt is virtually certain that since 1950 near-surface high-salinity \\nregions have become more saline, while low-salinity regions have \\nbecome fresher, with medium confidence  that this is linked to an \\nintensification of the hydrological cycle (Box TS.6).  It is extremely \\nlikely that human influence has contributed to this salinity change \\nand that the large-scale pattern will grow in amplitude over the 21st \\ncentury (medium confidence).  {2.3.3, 3.5.2, 9.2.2, 12.4.8}\\nThe AMOC was relatively stable during the past 8000 years (medium \\nconfidence).  There is low confidence in the quantification of AMOC \\nchanges in the 20th century because of low agreement in quantitative \\nreconstructed and simulated trends, missing key processes in both \\nmodels and measurements used for formulating proxies, and new \\nmodel evaluations.  Direct observational records since the mid-2000s \\nare too short to determine the relative contributions of internal \\nvariability, natural forcing and anthropogenic forcing to AMOC \\nchange (high confidence).  An AMOC decline over the 21st century \\nis very likely for all SSP scenarios (Figure TS.11b); a possible abrupt \\ndecline is assessed further in Box TS.3. ', uid='6fcd6c0f-99a1-48e7-881f-f79758c54769', metadata={'page_label': '74', 'file_name': 'IPCC_AR6_WGI_TS.pdf', 'author': 'IPCC Working Group I', 'original_text': '{2.3.3, 3.5.2, 9.2.2, 12.4.8}\\nThe AMOC was relatively stable during the past 8000 years (medium \\nconfidence). '}),\n",
    "    Document(text='{2.3.3, 3.5.2, 9.2.2, 12.4.8}\\nThe AMOC was relatively stable during the past 8000 years (medium \\nconfidence).  There is low confidence in the quantification of AMOC \\nchanges in the 20th century because of low agreement in quantitative \\nreconstructed and simulated trends, missing key processes in both \\nmodels and measurements used for formulating proxies, and new \\nmodel evaluations.  Direct observational records since the mid-2000s \\nare too short to determine the relative contributions of internal \\nvariability, natural forcing and anthropogenic forcing to AMOC \\nchange (high confidence).  An AMOC decline over the 21st century \\nis very likely for all SSP scenarios (Figure TS.11b); a possible abrupt \\ndecline is assessed further in Box TS.3.  {2.3.3, 3.5.4, 4.3.2, 8.6.1, \\n9.2.3, Cross-Chapter Box\\xa012.3}\\nThere is high confidence that many ocean currents will change in \\nthe 21st century in response to changes in wind stress.   There is low \\nconfidence in 21st century change of Southern Ocean circulation, \\ndespite high confidence  that it is sensitive to changes in wind \\npatterns and increased ice-shelf melt.  Western boundary currents \\nand subtropical gyres have shifted poleward since 1993 ( medium \\nconfidence). ', uid='f52c120f-ff9c-4893-822e-bfca72eaa9c6', metadata={'page_label': '74', 'file_name': 'IPCC_AR6_WGI_TS.pdf', 'author': 'IPCC Working Group I', 'original_text': 'An AMOC decline over the 21st century \\nis very likely for all SSP scenarios (Figure TS.11b); a possible abrupt \\ndecline is assessed further in Box TS.3. '}),\n",
    "    Document(text='73\\nTechnical Summary\\nTS\\nBox TS.3 (continued)\\nWhile there is medium confidence  that the projected decline in the AMOC (Section TS.2.4) will not involve an abrupt collapse \\nbefore\\xa02100, such a collapse might be triggered by an unexpected meltwater influx from the Greenland Ice Sheet.  If an AMOC collapse \\nwere to occur, it would very likely cause abrupt shifts in the regional weather patterns and water cycle, such as a southward shift in the \\ntropical rain belt, and could result in weakening of the African and Asian monsoons, strengthening of Southern Hemisphere monsoons, \\nand drying in Europe.  (See also Boxes TS.9 and TS.13).  {4.7.2, 8.6.1, 9.2.3}\\nVery rare extremes and compound or concurrent events, such as the 2018 concurrent heatwaves across the Northern Hemisphere, are \\noften associated with large impacts.  The changing climate state is already altering the likelihood of extreme events, such as decadal \\ndroughts and extreme sea levels, and will continue to do so under future warming. ', uid='1f8242fe-50a2-45e2-bfda-986466f966d4', metadata={'page_label': '73', 'file_name': 'IPCC_AR6_WGI_TS.pdf', 'author': 'IPCC Working Group I', 'original_text': 'If an AMOC collapse \\nwere to occur, it would very likely cause abrupt shifts in the regional weather patterns and water cycle, such as a southward shift in the \\ntropical rain belt, and could result in weakening of the African and Asian monsoons, strengthening of Southern Hemisphere monsoons, \\nand drying in Europe. '}),\n",
    "    Document(text='Some processes suspected of having tipping points, such as the Atlantic Meridional Overturning \\nCirculation (AMOC), have been found to often undergo recovery after temperature stabilization with a time delay ( low confidence). \\n However, substantial irreversibility is further substantiated for some cryosphere changes, ocean warming, sea level rise, and ocean \\nacidification.  {4.7.2, 5.3.3, 5.4.9, 9.2.2, 9.2.4, 9.4.1, 9.4.2, 9.6.3}\\nSome climate system components are slow to respond, such as the deep ocean overturning circulation and the ice sheets.  It is likely that \\nunder stabilization of global warming at 1.5°C, 2.0°C or 3.0°C relative to 1850–1900, the AMOC will continue to weaken for several \\ndecades by about 15%, 20% and 30% of its strength and then recover to pre-decline values over several centuries (medium confidence). \\n At sustained warming levels between 2°C and 3°C, there is limited evidence that the Greenland and West Antarctic ice sheets will be lost \\nalmost completely and irreversibly over multiple millennia; both the probability of their complete loss and the rate of mass loss increases \\nwith higher surface temperatures ( high confidence).  At sustained warming levels between 3°C and 5°C, near-complete loss of the \\nGreenland Ice Sheet and complete loss of the West Antarctic Ice Sheet is projected to occur irreversibly over multiple millennia (medium \\nconfidence); with substantial parts or all of Wilkes Subglacial Basin in East Antarctica lost over multiple millennia (low confidence).  Early-\\nwarning signals of accelerated sea level rise from Antarctica could possibly be observed within the next few decades. ', uid='87697b86-aa91-4bdb-b02c-7dbd2af4dd9c', metadata={'page_label': '106', 'file_name': 'IPCC_AR6_WGI_TS.pdf', 'author': 'IPCC Working Group I', 'original_text': 'It is likely that \\nunder stabilization of global warming at 1.5°C, 2.0°C or 3.0°C relative to 1850–1900, the AMOC will continue to weaken for several \\ndecades by about 15%, 20% and 30% of its strength and then recover to pre-decline values over several centuries (medium confidence). \\n'}),\n",
    "    Document(text='{2.3.3, 9.2.1}\\nIt is virtually certain that since 1950 near-surface high-salinity \\nregions have become more saline, while low-salinity regions have \\nbecome fresher, with medium confidence  that this is linked to an \\nintensification of the hydrological cycle (Box TS.6).  It is extremely \\nlikely that human influence has contributed to this salinity change \\nand that the large-scale pattern will grow in amplitude over the 21st \\ncentury (medium confidence).  {2.3.3, 3.5.2, 9.2.2, 12.4.8}\\nThe AMOC was relatively stable during the past 8000 years (medium \\nconfidence).  There is low confidence in the quantification of AMOC \\nchanges in the 20th century because of low agreement in quantitative \\nreconstructed and simulated trends, missing key processes in both \\nmodels and measurements used for formulating proxies, and new \\nmodel evaluations.  Direct observational records since the mid-2000s \\nare too short to determine the relative contributions of internal \\nvariability, natural forcing and anthropogenic forcing to AMOC \\nchange (high confidence).  An AMOC decline over the 21st century \\nis very likely for all SSP scenarios (Figure TS.11b); a possible abrupt \\ndecline is assessed further in Box TS.3.  {2.3.3, 3.5.4, 4.3.2, 8.6.1, \\n9.2.3, Cross-Chapter Box\\xa012.3}\\nThere is high confidence that many ocean currents will change in \\nthe 21st century in response to changes in wind stress.  ', uid='abaed8de-7f35-40d8-bc9d-2a6a8e543586', metadata={'page_label': '74', 'file_name': 'IPCC_AR6_WGI_TS.pdf', 'author': 'IPCC Working Group I', 'original_text': 'There is low confidence in the quantification of AMOC \\nchanges in the 20th century because of low agreement in quantitative \\nreconstructed and simulated trends, missing key processes in both \\nmodels and measurements used for formulating proxies, and new \\nmodel evaluations. '}),\n",
    "    Document(text='Models that exhibit such tipping points are characterized by abrupt changes once the threshold is crossed, and even \\na return to pre-threshold surface temperatures or to atmospheric carbon dioxide concentrations does not guarantee \\nthat the tipping elements return to their pre-threshold state.  Monitoring and early warning systems are being put into \\nplace to observe tipping elements in the climate system.  {1.3, 1.4.4, 1.5, 4.3.2, Table\\xa04.10, 5.3.4, 5.4.9, 7.5.3, 9.2.2, \\n9.2.4, 9.4.1, 9.4.2, 9.6.3, Cross-chapter Box\\xa012.1}\\nUnderstanding of multi-decadal reversibility (i.e., the system returns to the previous climate state within multiple decades after \\nthe radiative forcing is removed) has improved since AR5 for many atmospheric, land surface and sea ice climate metrics following \\nsea surface temperature recovery.  Some processes suspected of having tipping points, such as the Atlantic Meridional Overturning \\nCirculation (AMOC), have been found to often undergo recovery after temperature stabilization with a time delay ( low confidence). \\n However, substantial irreversibility is further substantiated for some cryosphere changes, ocean warming, sea level rise, and ocean \\nacidification.  {4.7.2, 5.3.3, 5.4.9, 9.2.2, 9.2.4, 9.4.1, 9.4.2, 9.6.3}\\nSome climate system components are slow to respond, such as the deep ocean overturning circulation and the ice sheets.  It is likely that \\nunder stabilization of global warming at 1.5°C, 2.0°C or 3.0°C relative to 1850–1900, the AMOC will continue to weaken for several \\ndecades by about 15%, 20% and 30% of its strength and then recover to pre-decline values over several centuries (medium confidence). \\n', uid='64dce431-7e8d-46cd-9dd8-dc7e2ac18443', metadata={'page_label': '106', 'file_name': 'IPCC_AR6_WGI_TS.pdf', 'author': 'IPCC Working Group I', 'original_text': 'Some processes suspected of having tipping points, such as the Atlantic Meridional Overturning \\nCirculation (AMOC), have been found to often undergo recovery after temperature stabilization with a time delay ( low confidence). \\n'}),\n",
    "    Document(text='72\\nTechnical Summary\\nTS\\nBox TS.3 | Low-likelihood, High-warming Storylines\\nFuture global warming exceeding the assessed very likely range cannot be ruled out and is potentially associated \\nwith the highest risks for society and ecosystems.  Such low-likelihood, high-warming storylines tend to exhibit \\nsubstantially greater changes in the intensity of regional drying and wetting than the multi-model mean.  Even at \\nlevels of warming within the very likely range, global and regional low-likelihood outcomes might occur, such as large \\nprecipitation changes, additional sea level rise associated with collapsing ice sheets (see Box TS.4), or abrupt ocean \\ncirculation changes.  While there is medium confidence that the Atlantic Meridional Overturning Circulation (AMOC) \\nwill not experience an abrupt collapse before 2100, if it were to occur, it would very likely cause abrupt shifts in \\nregional weather patterns and water cycle.  The probability of these low-likelihood outcomes increases with higher \\nglobal warming levels.  If the real-world climate sensitivity lies at the high end of the assessed range, then global \\nand regional changes substantially outside the very likely range projections occur for a given emissions scenario. \\n With increasing global warming, some very rare extremes and some compound events (multivariate or concurrent \\nextremes) with low likelihood in past and current climate will become more frequent, and there is a\\xa0higher chance \\nthat events unprecedented in the observational record occur ( high confidence). ', uid='d7162beb-25d2-4653-aecd-2734bfd39693', metadata={'page_label': '72', 'file_name': 'IPCC_AR6_WGI_TS.pdf', 'author': 'IPCC Working Group I', 'original_text': 'While there is medium confidence that the Atlantic Meridional Overturning Circulation (AMOC) \\nwill not experience an abrupt collapse before 2100, if it were to occur, it would very likely cause abrupt shifts in \\nregional weather patterns and water cycle. '})\n",
    "]\n",
    "\n",
    "claim = CheckedClaim(\n",
    "    text=\"The AMOC is slowing down\",\n",
    "    negation=\"The AMOC is not changing\",\n",
    "    uid=\"123\",\n",
    "    documents=docs[0:1]\n",
    ")\n"
   ]
  },
  {
   "cell_type": "markdown",
   "metadata": {},
   "source": [
    "### Running `ConfirmationAnalyzer`"
   ]
  },
  {
   "cell_type": "code",
   "execution_count": 2,
   "metadata": {},
   "outputs": [
    {
     "name": "stderr",
     "output_type": "stream",
     "text": [
      "\u001b[32m2025-06-05 10:51:28.212\u001b[0m | \u001b[34m\u001b[1mDEBUG   \u001b[0m | \u001b[36mevidence_seeker.confirmation_analysis.workflows\u001b[0m:\u001b[36mfreetext_analysis\u001b[0m:\u001b[36m118\u001b[0m - \u001b[34m\u001b[1mConfirmation analysis.\u001b[0m\n",
      "\u001b[32m2025-06-05 10:51:28.212\u001b[0m | \u001b[34m\u001b[1mDEBUG   \u001b[0m | \u001b[36mevidence_seeker.backend\u001b[0m:\u001b[36mget_openai_llm\u001b[0m:\u001b[36m232\u001b[0m - \u001b[34m\u001b[1mFetching api key via env var: hf_debatelab_inference_provider\u001b[0m\n",
      "\u001b[32m2025-06-05 10:51:28.213\u001b[0m | \u001b[34m\u001b[1mDEBUG   \u001b[0m | \u001b[36mevidence_seeker.backend\u001b[0m:\u001b[36mget_openai_llm\u001b[0m:\u001b[36m240\u001b[0m - \u001b[34m\u001b[1mInstantiating OpenAILike model (model: meta-llama/Llama-3.2-3B-Instruct-Turbo,base_url: https://router.huggingface.co/together/v1).\u001b[0m\n",
      "\u001b[32m2025-06-05 10:51:28.220\u001b[0m | \u001b[34m\u001b[1mDEBUG   \u001b[0m | \u001b[36mevidence_seeker.confirmation_analysis.workflows\u001b[0m:\u001b[36mfreetext_analysis\u001b[0m:\u001b[36m118\u001b[0m - \u001b[34m\u001b[1mConfirmation analysis.\u001b[0m\n",
      "\u001b[32m2025-06-05 10:51:31.661\u001b[0m | \u001b[34m\u001b[1mDEBUG   \u001b[0m | \u001b[36mevidence_seeker.confirmation_analysis.workflows\u001b[0m:\u001b[36mmultiple_choice\u001b[0m:\u001b[36m177\u001b[0m - \u001b[34m\u001b[1mUsed guidance type: json\u001b[0m\n",
      "\u001b[32m2025-06-05 10:51:31.666\u001b[0m | \u001b[34m\u001b[1mDEBUG   \u001b[0m | \u001b[36mevidence_seeker.confirmation_analysis.workflows\u001b[0m:\u001b[36mmultiple_choice\u001b[0m:\u001b[36m177\u001b[0m - \u001b[34m\u001b[1mUsed guidance type: json\u001b[0m\n",
      "\u001b[32m2025-06-05 10:51:31.669\u001b[0m | \u001b[34m\u001b[1mDEBUG   \u001b[0m | \u001b[36mevidence_seeker.confirmation_analysis.workflows\u001b[0m:\u001b[36mmultiple_choice\u001b[0m:\u001b[36m177\u001b[0m - \u001b[34m\u001b[1mUsed guidance type: json\u001b[0m\n",
      "\u001b[32m2025-06-05 10:51:32.230\u001b[0m | \u001b[1mINFO    \u001b[0m | \u001b[36mevidence_seeker.confirmation_analysis.workflows\u001b[0m:\u001b[36m_extract_logprobs\u001b[0m:\u001b[36m495\u001b[0m - \u001b[1mTokens: ['{', '\"', 'answer', '\":', ' \"', 'C', '\"}', '<|eot_id|>']\u001b[0m\n",
      "\u001b[32m2025-06-05 10:51:32.231\u001b[0m | \u001b[1mINFO    \u001b[0m | \u001b[36mevidence_seeker.confirmation_analysis.workflows\u001b[0m:\u001b[36m_extract_logprobs\u001b[0m:\u001b[36m496\u001b[0m - \u001b[1mTop logprobs: [{'{': -0.0019302368, '{\"': -6.25, '#': None, '\"': None, '!': None}, {'\"': -3.5762787e-06, '\"a': -12.5625, '$': None, '#': None, '!': None}, {'answer': -0.0019302368, 'a': -6.25, 'ans': -21.5, 'an': -22, '!': None}, {'\":': 0, '\"': -23.5, '$': None, '#': None, '!': None}, {' \"': 0, ' ': -46, '#': None, '\"': None, '!': None}, {'C': 0, 'A': -31, 'B': -37, '\"': None, '!': None}, {'\"}': 0, '\"': -24, '$': None, '#': None, '!': None}, {'<|eot_id|>': 0, '#': None, '!': None, '$': None, '\"': None}]\u001b[0m\n",
      "\u001b[32m2025-06-05 10:51:32.232\u001b[0m | \u001b[34m\u001b[1mDEBUG   \u001b[0m | \u001b[36mevidence_seeker.confirmation_analysis.workflows\u001b[0m:\u001b[36m_extract_logprobs\u001b[0m:\u001b[36m509\u001b[0m - \u001b[34m\u001b[1mToken: 'C'\u001b[0m\n",
      "\u001b[32m2025-06-05 10:51:32.232\u001b[0m | \u001b[34m\u001b[1mDEBUG   \u001b[0m | \u001b[36mevidence_seeker.confirmation_analysis.workflows\u001b[0m:\u001b[36m_extract_logprobs\u001b[0m:\u001b[36m510\u001b[0m - \u001b[34m\u001b[1m   Alternative: 'C', Logprob: 0, Prob: 1.0\u001b[0m\n",
      "\u001b[32m2025-06-05 10:51:32.233\u001b[0m | \u001b[34m\u001b[1mDEBUG   \u001b[0m | \u001b[36mevidence_seeker.confirmation_analysis.workflows\u001b[0m:\u001b[36m_extract_logprobs\u001b[0m:\u001b[36m511\u001b[0m - \u001b[34m\u001b[1m      Checking label: C for '{\"answer\": \"C'\u001b[0m\n",
      "\u001b[32m2025-06-05 10:51:32.233\u001b[0m | \u001b[34m\u001b[1mDEBUG   \u001b[0m | \u001b[36mevidence_seeker.confirmation_analysis.workflows\u001b[0m:\u001b[36m_extract_logprobs\u001b[0m:\u001b[36m512\u001b[0m - \u001b[34m\u001b[1m         True/0/True\u001b[0m\n",
      "\u001b[32m2025-06-05 10:51:32.234\u001b[0m | \u001b[34m\u001b[1mDEBUG   \u001b[0m | \u001b[36mevidence_seeker.confirmation_analysis.workflows\u001b[0m:\u001b[36m_extract_logprobs\u001b[0m:\u001b[36m514\u001b[0m - \u001b[34m\u001b[1m            Adding to probs_dict \u001b[0m\n",
      "\u001b[32m2025-06-05 10:51:32.234\u001b[0m | \u001b[34m\u001b[1mDEBUG   \u001b[0m | \u001b[36mevidence_seeker.confirmation_analysis.workflows\u001b[0m:\u001b[36m_extract_logprobs\u001b[0m:\u001b[36m519\u001b[0m - \u001b[34m\u001b[1m            Probs dict: {'C': np.float64(1.0)}\u001b[0m\n",
      "\u001b[32m2025-06-05 10:51:32.235\u001b[0m | \u001b[34m\u001b[1mDEBUG   \u001b[0m | \u001b[36mevidence_seeker.confirmation_analysis.workflows\u001b[0m:\u001b[36m_extract_logprobs\u001b[0m:\u001b[36m509\u001b[0m - \u001b[34m\u001b[1mToken: 'C'\u001b[0m\n",
      "\u001b[32m2025-06-05 10:51:32.236\u001b[0m | \u001b[34m\u001b[1mDEBUG   \u001b[0m | \u001b[36mevidence_seeker.confirmation_analysis.workflows\u001b[0m:\u001b[36m_extract_logprobs\u001b[0m:\u001b[36m510\u001b[0m - \u001b[34m\u001b[1m   Alternative: 'A', Logprob: -31, Prob: 3.442477108469977e-14\u001b[0m\n",
      "\u001b[32m2025-06-05 10:51:32.236\u001b[0m | \u001b[34m\u001b[1mDEBUG   \u001b[0m | \u001b[36mevidence_seeker.confirmation_analysis.workflows\u001b[0m:\u001b[36m_extract_logprobs\u001b[0m:\u001b[36m511\u001b[0m - \u001b[34m\u001b[1m      Checking label: A for '{\"answer\": \"A'\u001b[0m\n",
      "\u001b[32m2025-06-05 10:51:32.237\u001b[0m | \u001b[34m\u001b[1mDEBUG   \u001b[0m | \u001b[36mevidence_seeker.confirmation_analysis.workflows\u001b[0m:\u001b[36m_extract_logprobs\u001b[0m:\u001b[36m512\u001b[0m - \u001b[34m\u001b[1m         True/-31/True\u001b[0m\n",
      "\u001b[32m2025-06-05 10:51:32.237\u001b[0m | \u001b[34m\u001b[1mDEBUG   \u001b[0m | \u001b[36mevidence_seeker.confirmation_analysis.workflows\u001b[0m:\u001b[36m_extract_logprobs\u001b[0m:\u001b[36m514\u001b[0m - \u001b[34m\u001b[1m            Adding to probs_dict \u001b[0m\n",
      "\u001b[32m2025-06-05 10:51:32.238\u001b[0m | \u001b[34m\u001b[1mDEBUG   \u001b[0m | \u001b[36mevidence_seeker.confirmation_analysis.workflows\u001b[0m:\u001b[36m_extract_logprobs\u001b[0m:\u001b[36m519\u001b[0m - \u001b[34m\u001b[1m            Probs dict: {'C': np.float64(1.0), 'A': np.float64(3.442477108469977e-14)}\u001b[0m\n",
      "\u001b[32m2025-06-05 10:51:32.239\u001b[0m | \u001b[34m\u001b[1mDEBUG   \u001b[0m | \u001b[36mevidence_seeker.confirmation_analysis.workflows\u001b[0m:\u001b[36m_extract_logprobs\u001b[0m:\u001b[36m509\u001b[0m - \u001b[34m\u001b[1mToken: 'C'\u001b[0m\n",
      "\u001b[32m2025-06-05 10:51:32.240\u001b[0m | \u001b[34m\u001b[1mDEBUG   \u001b[0m | \u001b[36mevidence_seeker.confirmation_analysis.workflows\u001b[0m:\u001b[36m_extract_logprobs\u001b[0m:\u001b[36m510\u001b[0m - \u001b[34m\u001b[1m   Alternative: 'B', Logprob: -37, Prob: 8.533047625744066e-17\u001b[0m\n",
      "\u001b[32m2025-06-05 10:51:32.240\u001b[0m | \u001b[34m\u001b[1mDEBUG   \u001b[0m | \u001b[36mevidence_seeker.confirmation_analysis.workflows\u001b[0m:\u001b[36m_extract_logprobs\u001b[0m:\u001b[36m511\u001b[0m - \u001b[34m\u001b[1m      Checking label: B for '{\"answer\": \"B'\u001b[0m\n",
      "\u001b[32m2025-06-05 10:51:32.241\u001b[0m | \u001b[34m\u001b[1mDEBUG   \u001b[0m | \u001b[36mevidence_seeker.confirmation_analysis.workflows\u001b[0m:\u001b[36m_extract_logprobs\u001b[0m:\u001b[36m512\u001b[0m - \u001b[34m\u001b[1m         True/-37/True\u001b[0m\n",
      "\u001b[32m2025-06-05 10:51:32.242\u001b[0m | \u001b[34m\u001b[1mDEBUG   \u001b[0m | \u001b[36mevidence_seeker.confirmation_analysis.workflows\u001b[0m:\u001b[36m_extract_logprobs\u001b[0m:\u001b[36m514\u001b[0m - \u001b[34m\u001b[1m            Adding to probs_dict \u001b[0m\n",
      "\u001b[32m2025-06-05 10:51:32.243\u001b[0m | \u001b[34m\u001b[1mDEBUG   \u001b[0m | \u001b[36mevidence_seeker.confirmation_analysis.workflows\u001b[0m:\u001b[36m_extract_logprobs\u001b[0m:\u001b[36m519\u001b[0m - \u001b[34m\u001b[1m            Probs dict: {'C': np.float64(1.0), 'A': np.float64(3.442477108469977e-14), 'B': np.float64(8.533047625744066e-17)}\u001b[0m\n",
      "\u001b[32m2025-06-05 10:51:32.244\u001b[0m | \u001b[34m\u001b[1mDEBUG   \u001b[0m | \u001b[36mevidence_seeker.confirmation_analysis.workflows\u001b[0m:\u001b[36m_extract_logprobs\u001b[0m:\u001b[36m521\u001b[0m - \u001b[34m\u001b[1mFinal probs dict: {'C': np.float64(1.0), 'A': np.float64(3.442477108469977e-14), 'B': np.float64(8.533047625744066e-17)}\u001b[0m\n",
      "\u001b[32m2025-06-05 10:51:32.244\u001b[0m | \u001b[34m\u001b[1mDEBUG   \u001b[0m | \u001b[36mevidence_seeker.confirmation_analysis.workflows\u001b[0m:\u001b[36m_extract_logprobs\u001b[0m:\u001b[36m527\u001b[0m - \u001b[34m\u001b[1mProbs dict: {'C': 0.9999999999999656, 'A': 3.442477108469858e-14, 'B': 8.533047625743772e-17}\u001b[0m\n",
      "\u001b[32m2025-06-05 10:51:32.373\u001b[0m | \u001b[34m\u001b[1mDEBUG   \u001b[0m | \u001b[36mevidence_seeker.confirmation_analysis.workflows\u001b[0m:\u001b[36mmultiple_choice\u001b[0m:\u001b[36m177\u001b[0m - \u001b[34m\u001b[1mUsed guidance type: json\u001b[0m\n",
      "\u001b[32m2025-06-05 10:51:32.490\u001b[0m | \u001b[34m\u001b[1mDEBUG   \u001b[0m | \u001b[36mevidence_seeker.confirmation_analysis.workflows\u001b[0m:\u001b[36mmultiple_choice\u001b[0m:\u001b[36m177\u001b[0m - \u001b[34m\u001b[1mUsed guidance type: json\u001b[0m\n",
      "\u001b[32m2025-06-05 10:51:32.529\u001b[0m | \u001b[1mINFO    \u001b[0m | \u001b[36mevidence_seeker.confirmation_analysis.workflows\u001b[0m:\u001b[36m_extract_logprobs\u001b[0m:\u001b[36m495\u001b[0m - \u001b[1mTokens: ['{', '\"', 'answer', '\":', ' \"', 'B', '\"}', '<|eot_id|>']\u001b[0m\n",
      "\u001b[32m2025-06-05 10:51:32.529\u001b[0m | \u001b[1mINFO    \u001b[0m | \u001b[36mevidence_seeker.confirmation_analysis.workflows\u001b[0m:\u001b[36m_extract_logprobs\u001b[0m:\u001b[36m496\u001b[0m - \u001b[1mTop logprobs: [{'{': -0.038085938, '{\"': -3.28125, '#': None, '\"': None, '!': None}, {'\"': -1.2040138e-05, '\"a': -11.3125, '$': None, '#': None, '!': None}, {'answer': -0.005218506, 'a': -5.25, 'ans': -21, 'an': -21.5, '!': None}, {'\":': 0, '\"': -24.5, '$': None, '#': None, '!': None}, {' \"': 0, ' ': -48, '#': None, '\"': None, '!': None}, {'B': -1.1920929e-07, 'A': -16, 'C': -30.5, '\"': None, '!': None}, {'\"}': 0, '\"': -18, '$': None, '#': None, '!': None}, {'<|eot_id|>': 0, '#': None, '!': None, '$': None, '\"': None}]\u001b[0m\n",
      "\u001b[32m2025-06-05 10:51:32.530\u001b[0m | \u001b[34m\u001b[1mDEBUG   \u001b[0m | \u001b[36mevidence_seeker.confirmation_analysis.workflows\u001b[0m:\u001b[36m_extract_logprobs\u001b[0m:\u001b[36m509\u001b[0m - \u001b[34m\u001b[1mToken: 'B'\u001b[0m\n",
      "\u001b[32m2025-06-05 10:51:32.531\u001b[0m | \u001b[34m\u001b[1mDEBUG   \u001b[0m | \u001b[36mevidence_seeker.confirmation_analysis.workflows\u001b[0m:\u001b[36m_extract_logprobs\u001b[0m:\u001b[36m510\u001b[0m - \u001b[34m\u001b[1m   Alternative: 'B', Logprob: -1.1920929e-07, Prob: 0.9999998807907171\u001b[0m\n",
      "\u001b[32m2025-06-05 10:51:32.532\u001b[0m | \u001b[34m\u001b[1mDEBUG   \u001b[0m | \u001b[36mevidence_seeker.confirmation_analysis.workflows\u001b[0m:\u001b[36m_extract_logprobs\u001b[0m:\u001b[36m511\u001b[0m - \u001b[34m\u001b[1m      Checking label: B for '{\"answer\": \"B'\u001b[0m\n",
      "\u001b[32m2025-06-05 10:51:32.533\u001b[0m | \u001b[34m\u001b[1mDEBUG   \u001b[0m | \u001b[36mevidence_seeker.confirmation_analysis.workflows\u001b[0m:\u001b[36m_extract_logprobs\u001b[0m:\u001b[36m512\u001b[0m - \u001b[34m\u001b[1m         True/-1.1920929e-07/True\u001b[0m\n",
      "\u001b[32m2025-06-05 10:51:32.534\u001b[0m | \u001b[34m\u001b[1mDEBUG   \u001b[0m | \u001b[36mevidence_seeker.confirmation_analysis.workflows\u001b[0m:\u001b[36m_extract_logprobs\u001b[0m:\u001b[36m514\u001b[0m - \u001b[34m\u001b[1m            Adding to probs_dict \u001b[0m\n",
      "\u001b[32m2025-06-05 10:51:32.535\u001b[0m | \u001b[34m\u001b[1mDEBUG   \u001b[0m | \u001b[36mevidence_seeker.confirmation_analysis.workflows\u001b[0m:\u001b[36m_extract_logprobs\u001b[0m:\u001b[36m519\u001b[0m - \u001b[34m\u001b[1m            Probs dict: {'B': np.float64(0.9999998807907171)}\u001b[0m\n",
      "\u001b[32m2025-06-05 10:51:32.535\u001b[0m | \u001b[34m\u001b[1mDEBUG   \u001b[0m | \u001b[36mevidence_seeker.confirmation_analysis.workflows\u001b[0m:\u001b[36m_extract_logprobs\u001b[0m:\u001b[36m509\u001b[0m - \u001b[34m\u001b[1mToken: 'B'\u001b[0m\n",
      "\u001b[32m2025-06-05 10:51:32.536\u001b[0m | \u001b[34m\u001b[1mDEBUG   \u001b[0m | \u001b[36mevidence_seeker.confirmation_analysis.workflows\u001b[0m:\u001b[36m_extract_logprobs\u001b[0m:\u001b[36m510\u001b[0m - \u001b[34m\u001b[1m   Alternative: 'A', Logprob: -16, Prob: 1.1253517471925912e-07\u001b[0m\n",
      "\u001b[32m2025-06-05 10:51:32.537\u001b[0m | \u001b[34m\u001b[1mDEBUG   \u001b[0m | \u001b[36mevidence_seeker.confirmation_analysis.workflows\u001b[0m:\u001b[36m_extract_logprobs\u001b[0m:\u001b[36m511\u001b[0m - \u001b[34m\u001b[1m      Checking label: A for '{\"answer\": \"A'\u001b[0m\n",
      "\u001b[32m2025-06-05 10:51:32.538\u001b[0m | \u001b[34m\u001b[1mDEBUG   \u001b[0m | \u001b[36mevidence_seeker.confirmation_analysis.workflows\u001b[0m:\u001b[36m_extract_logprobs\u001b[0m:\u001b[36m512\u001b[0m - \u001b[34m\u001b[1m         True/-16/True\u001b[0m\n",
      "\u001b[32m2025-06-05 10:51:32.539\u001b[0m | \u001b[34m\u001b[1mDEBUG   \u001b[0m | \u001b[36mevidence_seeker.confirmation_analysis.workflows\u001b[0m:\u001b[36m_extract_logprobs\u001b[0m:\u001b[36m514\u001b[0m - \u001b[34m\u001b[1m            Adding to probs_dict \u001b[0m\n",
      "\u001b[32m2025-06-05 10:51:32.539\u001b[0m | \u001b[34m\u001b[1mDEBUG   \u001b[0m | \u001b[36mevidence_seeker.confirmation_analysis.workflows\u001b[0m:\u001b[36m_extract_logprobs\u001b[0m:\u001b[36m519\u001b[0m - \u001b[34m\u001b[1m            Probs dict: {'B': np.float64(0.9999998807907171), 'A': np.float64(1.1253517471925912e-07)}\u001b[0m\n",
      "\u001b[32m2025-06-05 10:51:32.540\u001b[0m | \u001b[34m\u001b[1mDEBUG   \u001b[0m | \u001b[36mevidence_seeker.confirmation_analysis.workflows\u001b[0m:\u001b[36m_extract_logprobs\u001b[0m:\u001b[36m509\u001b[0m - \u001b[34m\u001b[1mToken: 'B'\u001b[0m\n",
      "\u001b[32m2025-06-05 10:51:32.540\u001b[0m | \u001b[34m\u001b[1mDEBUG   \u001b[0m | \u001b[36mevidence_seeker.confirmation_analysis.workflows\u001b[0m:\u001b[36m_extract_logprobs\u001b[0m:\u001b[36m510\u001b[0m - \u001b[34m\u001b[1m   Alternative: 'C', Logprob: -30.5, Prob: 5.675685232632723e-14\u001b[0m\n",
      "\u001b[32m2025-06-05 10:51:32.540\u001b[0m | \u001b[34m\u001b[1mDEBUG   \u001b[0m | \u001b[36mevidence_seeker.confirmation_analysis.workflows\u001b[0m:\u001b[36m_extract_logprobs\u001b[0m:\u001b[36m511\u001b[0m - \u001b[34m\u001b[1m      Checking label: C for '{\"answer\": \"C'\u001b[0m\n",
      "\u001b[32m2025-06-05 10:51:32.541\u001b[0m | \u001b[34m\u001b[1mDEBUG   \u001b[0m | \u001b[36mevidence_seeker.confirmation_analysis.workflows\u001b[0m:\u001b[36m_extract_logprobs\u001b[0m:\u001b[36m512\u001b[0m - \u001b[34m\u001b[1m         True/-30.5/True\u001b[0m\n",
      "\u001b[32m2025-06-05 10:51:32.541\u001b[0m | \u001b[34m\u001b[1mDEBUG   \u001b[0m | \u001b[36mevidence_seeker.confirmation_analysis.workflows\u001b[0m:\u001b[36m_extract_logprobs\u001b[0m:\u001b[36m514\u001b[0m - \u001b[34m\u001b[1m            Adding to probs_dict \u001b[0m\n",
      "\u001b[32m2025-06-05 10:51:32.541\u001b[0m | \u001b[34m\u001b[1mDEBUG   \u001b[0m | \u001b[36mevidence_seeker.confirmation_analysis.workflows\u001b[0m:\u001b[36m_extract_logprobs\u001b[0m:\u001b[36m519\u001b[0m - \u001b[34m\u001b[1m            Probs dict: {'B': np.float64(0.9999998807907171), 'A': np.float64(1.1253517471925912e-07), 'C': np.float64(5.675685232632723e-14)}\u001b[0m\n",
      "\u001b[32m2025-06-05 10:51:32.543\u001b[0m | \u001b[34m\u001b[1mDEBUG   \u001b[0m | \u001b[36mevidence_seeker.confirmation_analysis.workflows\u001b[0m:\u001b[36m_extract_logprobs\u001b[0m:\u001b[36m521\u001b[0m - \u001b[34m\u001b[1mFinal probs dict: {'B': np.float64(0.9999998807907171), 'A': np.float64(1.1253517471925912e-07), 'C': np.float64(5.675685232632723e-14)}\u001b[0m\n",
      "\u001b[32m2025-06-05 10:51:32.544\u001b[0m | \u001b[34m\u001b[1mDEBUG   \u001b[0m | \u001b[36mevidence_seeker.confirmation_analysis.workflows\u001b[0m:\u001b[36m_extract_logprobs\u001b[0m:\u001b[36m527\u001b[0m - \u001b[34m\u001b[1mProbs dict: {'B': 0.9999998874647678, 'A': 1.1253517547032466e-07, 'C': 5.675685270512538e-14}\u001b[0m\n",
      "\u001b[32m2025-06-05 10:51:32.546\u001b[0m | \u001b[34m\u001b[1mDEBUG   \u001b[0m | \u001b[36mevidence_seeker.confirmation_analysis.workflows\u001b[0m:\u001b[36mmultiple_choice\u001b[0m:\u001b[36m177\u001b[0m - \u001b[34m\u001b[1mUsed guidance type: json\u001b[0m\n",
      "\u001b[32m2025-06-05 10:51:32.554\u001b[0m | \u001b[1mINFO    \u001b[0m | \u001b[36mevidence_seeker.confirmation_analysis.workflows\u001b[0m:\u001b[36m_extract_logprobs\u001b[0m:\u001b[36m495\u001b[0m - \u001b[1mTokens: ['{', '\"', 'answer', '\":', ' \"', 'C', '\"}', '<|eot_id|>']\u001b[0m\n",
      "\u001b[32m2025-06-05 10:51:32.554\u001b[0m | \u001b[1mINFO    \u001b[0m | \u001b[36mevidence_seeker.confirmation_analysis.workflows\u001b[0m:\u001b[36m_extract_logprobs\u001b[0m:\u001b[36m496\u001b[0m - \u001b[1mTop logprobs: [{'{': -0.0019302368, '{\"': -6.25, '#': None, '\"': None, '!': None}, {'\"': -3.5762787e-06, '\"a': -12.5625, '$': None, '#': None, '!': None}, {'answer': -0.0019302368, 'a': -6.25, 'ans': -21.5, 'an': -22, '!': None}, {'\":': 0, '\"': -23.5, '$': None, '#': None, '!': None}, {' \"': 0, ' ': -46, '#': None, '\"': None, '!': None}, {'C': 0, 'A': -31, 'B': -37, '\"': None, '!': None}, {'\"}': 0, '\"': -24, '$': None, '#': None, '!': None}, {'<|eot_id|>': 0, '#': None, '!': None, '$': None, '\"': None}]\u001b[0m\n",
      "\u001b[32m2025-06-05 10:51:32.555\u001b[0m | \u001b[34m\u001b[1mDEBUG   \u001b[0m | \u001b[36mevidence_seeker.confirmation_analysis.workflows\u001b[0m:\u001b[36m_extract_logprobs\u001b[0m:\u001b[36m509\u001b[0m - \u001b[34m\u001b[1mToken: 'C'\u001b[0m\n",
      "\u001b[32m2025-06-05 10:51:32.556\u001b[0m | \u001b[34m\u001b[1mDEBUG   \u001b[0m | \u001b[36mevidence_seeker.confirmation_analysis.workflows\u001b[0m:\u001b[36m_extract_logprobs\u001b[0m:\u001b[36m510\u001b[0m - \u001b[34m\u001b[1m   Alternative: 'C', Logprob: 0, Prob: 1.0\u001b[0m\n",
      "\u001b[32m2025-06-05 10:51:32.558\u001b[0m | \u001b[34m\u001b[1mDEBUG   \u001b[0m | \u001b[36mevidence_seeker.confirmation_analysis.workflows\u001b[0m:\u001b[36m_extract_logprobs\u001b[0m:\u001b[36m511\u001b[0m - \u001b[34m\u001b[1m      Checking label: C for '{\"answer\": \"C'\u001b[0m\n",
      "\u001b[32m2025-06-05 10:51:32.558\u001b[0m | \u001b[34m\u001b[1mDEBUG   \u001b[0m | \u001b[36mevidence_seeker.confirmation_analysis.workflows\u001b[0m:\u001b[36m_extract_logprobs\u001b[0m:\u001b[36m512\u001b[0m - \u001b[34m\u001b[1m         True/0/True\u001b[0m\n",
      "\u001b[32m2025-06-05 10:51:32.558\u001b[0m | \u001b[34m\u001b[1mDEBUG   \u001b[0m | \u001b[36mevidence_seeker.confirmation_analysis.workflows\u001b[0m:\u001b[36m_extract_logprobs\u001b[0m:\u001b[36m514\u001b[0m - \u001b[34m\u001b[1m            Adding to probs_dict \u001b[0m\n",
      "\u001b[32m2025-06-05 10:51:32.560\u001b[0m | \u001b[34m\u001b[1mDEBUG   \u001b[0m | \u001b[36mevidence_seeker.confirmation_analysis.workflows\u001b[0m:\u001b[36m_extract_logprobs\u001b[0m:\u001b[36m519\u001b[0m - \u001b[34m\u001b[1m            Probs dict: {'C': np.float64(1.0)}\u001b[0m\n",
      "\u001b[32m2025-06-05 10:51:32.561\u001b[0m | \u001b[34m\u001b[1mDEBUG   \u001b[0m | \u001b[36mevidence_seeker.confirmation_analysis.workflows\u001b[0m:\u001b[36m_extract_logprobs\u001b[0m:\u001b[36m509\u001b[0m - \u001b[34m\u001b[1mToken: 'C'\u001b[0m\n",
      "\u001b[32m2025-06-05 10:51:32.564\u001b[0m | \u001b[34m\u001b[1mDEBUG   \u001b[0m | \u001b[36mevidence_seeker.confirmation_analysis.workflows\u001b[0m:\u001b[36m_extract_logprobs\u001b[0m:\u001b[36m510\u001b[0m - \u001b[34m\u001b[1m   Alternative: 'A', Logprob: -31, Prob: 3.442477108469977e-14\u001b[0m\n",
      "\u001b[32m2025-06-05 10:51:32.565\u001b[0m | \u001b[34m\u001b[1mDEBUG   \u001b[0m | \u001b[36mevidence_seeker.confirmation_analysis.workflows\u001b[0m:\u001b[36m_extract_logprobs\u001b[0m:\u001b[36m511\u001b[0m - \u001b[34m\u001b[1m      Checking label: A for '{\"answer\": \"A'\u001b[0m\n",
      "\u001b[32m2025-06-05 10:51:32.565\u001b[0m | \u001b[34m\u001b[1mDEBUG   \u001b[0m | \u001b[36mevidence_seeker.confirmation_analysis.workflows\u001b[0m:\u001b[36m_extract_logprobs\u001b[0m:\u001b[36m512\u001b[0m - \u001b[34m\u001b[1m         True/-31/True\u001b[0m\n",
      "\u001b[32m2025-06-05 10:51:32.566\u001b[0m | \u001b[34m\u001b[1mDEBUG   \u001b[0m | \u001b[36mevidence_seeker.confirmation_analysis.workflows\u001b[0m:\u001b[36m_extract_logprobs\u001b[0m:\u001b[36m514\u001b[0m - \u001b[34m\u001b[1m            Adding to probs_dict \u001b[0m\n",
      "\u001b[32m2025-06-05 10:51:32.568\u001b[0m | \u001b[34m\u001b[1mDEBUG   \u001b[0m | \u001b[36mevidence_seeker.confirmation_analysis.workflows\u001b[0m:\u001b[36m_extract_logprobs\u001b[0m:\u001b[36m519\u001b[0m - \u001b[34m\u001b[1m            Probs dict: {'C': np.float64(1.0), 'A': np.float64(3.442477108469977e-14)}\u001b[0m\n",
      "\u001b[32m2025-06-05 10:51:32.568\u001b[0m | \u001b[34m\u001b[1mDEBUG   \u001b[0m | \u001b[36mevidence_seeker.confirmation_analysis.workflows\u001b[0m:\u001b[36m_extract_logprobs\u001b[0m:\u001b[36m509\u001b[0m - \u001b[34m\u001b[1mToken: 'C'\u001b[0m\n",
      "\u001b[32m2025-06-05 10:51:32.569\u001b[0m | \u001b[34m\u001b[1mDEBUG   \u001b[0m | \u001b[36mevidence_seeker.confirmation_analysis.workflows\u001b[0m:\u001b[36m_extract_logprobs\u001b[0m:\u001b[36m510\u001b[0m - \u001b[34m\u001b[1m   Alternative: 'B', Logprob: -37, Prob: 8.533047625744066e-17\u001b[0m\n",
      "\u001b[32m2025-06-05 10:51:32.569\u001b[0m | \u001b[34m\u001b[1mDEBUG   \u001b[0m | \u001b[36mevidence_seeker.confirmation_analysis.workflows\u001b[0m:\u001b[36m_extract_logprobs\u001b[0m:\u001b[36m511\u001b[0m - \u001b[34m\u001b[1m      Checking label: B for '{\"answer\": \"B'\u001b[0m\n",
      "\u001b[32m2025-06-05 10:51:32.571\u001b[0m | \u001b[34m\u001b[1mDEBUG   \u001b[0m | \u001b[36mevidence_seeker.confirmation_analysis.workflows\u001b[0m:\u001b[36m_extract_logprobs\u001b[0m:\u001b[36m512\u001b[0m - \u001b[34m\u001b[1m         True/-37/True\u001b[0m\n",
      "\u001b[32m2025-06-05 10:51:32.571\u001b[0m | \u001b[34m\u001b[1mDEBUG   \u001b[0m | \u001b[36mevidence_seeker.confirmation_analysis.workflows\u001b[0m:\u001b[36m_extract_logprobs\u001b[0m:\u001b[36m514\u001b[0m - \u001b[34m\u001b[1m            Adding to probs_dict \u001b[0m\n",
      "\u001b[32m2025-06-05 10:51:32.572\u001b[0m | \u001b[34m\u001b[1mDEBUG   \u001b[0m | \u001b[36mevidence_seeker.confirmation_analysis.workflows\u001b[0m:\u001b[36m_extract_logprobs\u001b[0m:\u001b[36m519\u001b[0m - \u001b[34m\u001b[1m            Probs dict: {'C': np.float64(1.0), 'A': np.float64(3.442477108469977e-14), 'B': np.float64(8.533047625744066e-17)}\u001b[0m\n",
      "\u001b[32m2025-06-05 10:51:32.576\u001b[0m | \u001b[34m\u001b[1mDEBUG   \u001b[0m | \u001b[36mevidence_seeker.confirmation_analysis.workflows\u001b[0m:\u001b[36m_extract_logprobs\u001b[0m:\u001b[36m521\u001b[0m - \u001b[34m\u001b[1mFinal probs dict: {'C': np.float64(1.0), 'A': np.float64(3.442477108469977e-14), 'B': np.float64(8.533047625744066e-17)}\u001b[0m\n",
      "\u001b[32m2025-06-05 10:51:32.577\u001b[0m | \u001b[34m\u001b[1mDEBUG   \u001b[0m | \u001b[36mevidence_seeker.confirmation_analysis.workflows\u001b[0m:\u001b[36m_extract_logprobs\u001b[0m:\u001b[36m527\u001b[0m - \u001b[34m\u001b[1mProbs dict: {'C': 0.9999999999999656, 'A': 3.442477108469858e-14, 'B': 8.533047625743772e-17}\u001b[0m\n",
      "\u001b[32m2025-06-05 10:51:33.191\u001b[0m | \u001b[1mINFO    \u001b[0m | \u001b[36mevidence_seeker.confirmation_analysis.workflows\u001b[0m:\u001b[36m_extract_logprobs\u001b[0m:\u001b[36m495\u001b[0m - \u001b[1mTokens: ['{', '\"', 'a', 'n', 'swer', '\":', ' \"', 'A', '\"}', '<|eot_id|>']\u001b[0m\n",
      "\u001b[32m2025-06-05 10:51:33.192\u001b[0m | \u001b[1mINFO    \u001b[0m | \u001b[36mevidence_seeker.confirmation_analysis.workflows\u001b[0m:\u001b[36m_extract_logprobs\u001b[0m:\u001b[36m496\u001b[0m - \u001b[1mTop logprobs: [{'{': -0.018188477, '{\"': -4.03125, '#': None, '\"': None, '!': None}, {'\"': -1.1920929e-07, '\"a': -16.625, '$': None, '#': None, '!': None}, {'a': -0.16015625, 'answer': -1.9140625, 'an': -16.375, 'ans': -24.875, '!': None}, {'n': -0.02709961, 'ns': -3.625, '#': None, '\"': None, '!': None}, {'swer': 0, 'sw': -34.75, 's': -74.5, '\"': None, '!': None}, {'\":': 0, '\"': -19.5, '$': None, '#': None, '!': None}, {' \"': 0, ' ': -41, '#': None, '\"': None, '!': None}, {'A': 0, 'C': -29, 'B': -30.5, '\"': None, '!': None}, {'\"}': 0, '\"': -21.5, '$': None, '#': None, '!': None}, {'<|eot_id|>': 0, '#': None, '!': None, '$': None, '\"': None}]\u001b[0m\n",
      "\u001b[32m2025-06-05 10:51:33.193\u001b[0m | \u001b[34m\u001b[1mDEBUG   \u001b[0m | \u001b[36mevidence_seeker.confirmation_analysis.workflows\u001b[0m:\u001b[36m_extract_logprobs\u001b[0m:\u001b[36m509\u001b[0m - \u001b[34m\u001b[1mToken: 'A'\u001b[0m\n",
      "\u001b[32m2025-06-05 10:51:33.193\u001b[0m | \u001b[34m\u001b[1mDEBUG   \u001b[0m | \u001b[36mevidence_seeker.confirmation_analysis.workflows\u001b[0m:\u001b[36m_extract_logprobs\u001b[0m:\u001b[36m510\u001b[0m - \u001b[34m\u001b[1m   Alternative: 'A', Logprob: 0, Prob: 1.0\u001b[0m\n",
      "\u001b[32m2025-06-05 10:51:33.193\u001b[0m | \u001b[34m\u001b[1mDEBUG   \u001b[0m | \u001b[36mevidence_seeker.confirmation_analysis.workflows\u001b[0m:\u001b[36m_extract_logprobs\u001b[0m:\u001b[36m511\u001b[0m - \u001b[34m\u001b[1m      Checking label: A for '{\"answer\": \"A'\u001b[0m\n",
      "\u001b[32m2025-06-05 10:51:33.194\u001b[0m | \u001b[34m\u001b[1mDEBUG   \u001b[0m | \u001b[36mevidence_seeker.confirmation_analysis.workflows\u001b[0m:\u001b[36m_extract_logprobs\u001b[0m:\u001b[36m512\u001b[0m - \u001b[34m\u001b[1m         True/0/True\u001b[0m\n",
      "\u001b[32m2025-06-05 10:51:33.194\u001b[0m | \u001b[34m\u001b[1mDEBUG   \u001b[0m | \u001b[36mevidence_seeker.confirmation_analysis.workflows\u001b[0m:\u001b[36m_extract_logprobs\u001b[0m:\u001b[36m514\u001b[0m - \u001b[34m\u001b[1m            Adding to probs_dict \u001b[0m\n",
      "\u001b[32m2025-06-05 10:51:33.195\u001b[0m | \u001b[34m\u001b[1mDEBUG   \u001b[0m | \u001b[36mevidence_seeker.confirmation_analysis.workflows\u001b[0m:\u001b[36m_extract_logprobs\u001b[0m:\u001b[36m519\u001b[0m - \u001b[34m\u001b[1m            Probs dict: {'A': np.float64(1.0)}\u001b[0m\n",
      "\u001b[32m2025-06-05 10:51:33.195\u001b[0m | \u001b[34m\u001b[1mDEBUG   \u001b[0m | \u001b[36mevidence_seeker.confirmation_analysis.workflows\u001b[0m:\u001b[36m_extract_logprobs\u001b[0m:\u001b[36m509\u001b[0m - \u001b[34m\u001b[1mToken: 'A'\u001b[0m\n",
      "\u001b[32m2025-06-05 10:51:33.195\u001b[0m | \u001b[34m\u001b[1mDEBUG   \u001b[0m | \u001b[36mevidence_seeker.confirmation_analysis.workflows\u001b[0m:\u001b[36m_extract_logprobs\u001b[0m:\u001b[36m510\u001b[0m - \u001b[34m\u001b[1m   Alternative: 'C', Logprob: -29, Prob: 2.543665647376923e-13\u001b[0m\n",
      "\u001b[32m2025-06-05 10:51:33.195\u001b[0m | \u001b[34m\u001b[1mDEBUG   \u001b[0m | \u001b[36mevidence_seeker.confirmation_analysis.workflows\u001b[0m:\u001b[36m_extract_logprobs\u001b[0m:\u001b[36m511\u001b[0m - \u001b[34m\u001b[1m      Checking label: C for '{\"answer\": \"C'\u001b[0m\n",
      "\u001b[32m2025-06-05 10:51:33.196\u001b[0m | \u001b[34m\u001b[1mDEBUG   \u001b[0m | \u001b[36mevidence_seeker.confirmation_analysis.workflows\u001b[0m:\u001b[36m_extract_logprobs\u001b[0m:\u001b[36m512\u001b[0m - \u001b[34m\u001b[1m         True/-29/True\u001b[0m\n",
      "\u001b[32m2025-06-05 10:51:33.196\u001b[0m | \u001b[34m\u001b[1mDEBUG   \u001b[0m | \u001b[36mevidence_seeker.confirmation_analysis.workflows\u001b[0m:\u001b[36m_extract_logprobs\u001b[0m:\u001b[36m514\u001b[0m - \u001b[34m\u001b[1m            Adding to probs_dict \u001b[0m\n",
      "\u001b[32m2025-06-05 10:51:33.196\u001b[0m | \u001b[34m\u001b[1mDEBUG   \u001b[0m | \u001b[36mevidence_seeker.confirmation_analysis.workflows\u001b[0m:\u001b[36m_extract_logprobs\u001b[0m:\u001b[36m519\u001b[0m - \u001b[34m\u001b[1m            Probs dict: {'A': np.float64(1.0), 'C': np.float64(2.543665647376923e-13)}\u001b[0m\n",
      "\u001b[32m2025-06-05 10:51:33.196\u001b[0m | \u001b[34m\u001b[1mDEBUG   \u001b[0m | \u001b[36mevidence_seeker.confirmation_analysis.workflows\u001b[0m:\u001b[36m_extract_logprobs\u001b[0m:\u001b[36m509\u001b[0m - \u001b[34m\u001b[1mToken: 'A'\u001b[0m\n",
      "\u001b[32m2025-06-05 10:51:33.197\u001b[0m | \u001b[34m\u001b[1mDEBUG   \u001b[0m | \u001b[36mevidence_seeker.confirmation_analysis.workflows\u001b[0m:\u001b[36m_extract_logprobs\u001b[0m:\u001b[36m510\u001b[0m - \u001b[34m\u001b[1m   Alternative: 'B', Logprob: -30.5, Prob: 5.675685232632723e-14\u001b[0m\n",
      "\u001b[32m2025-06-05 10:51:33.197\u001b[0m | \u001b[34m\u001b[1mDEBUG   \u001b[0m | \u001b[36mevidence_seeker.confirmation_analysis.workflows\u001b[0m:\u001b[36m_extract_logprobs\u001b[0m:\u001b[36m511\u001b[0m - \u001b[34m\u001b[1m      Checking label: B for '{\"answer\": \"B'\u001b[0m\n",
      "\u001b[32m2025-06-05 10:51:33.197\u001b[0m | \u001b[34m\u001b[1mDEBUG   \u001b[0m | \u001b[36mevidence_seeker.confirmation_analysis.workflows\u001b[0m:\u001b[36m_extract_logprobs\u001b[0m:\u001b[36m512\u001b[0m - \u001b[34m\u001b[1m         True/-30.5/True\u001b[0m\n",
      "\u001b[32m2025-06-05 10:51:33.197\u001b[0m | \u001b[34m\u001b[1mDEBUG   \u001b[0m | \u001b[36mevidence_seeker.confirmation_analysis.workflows\u001b[0m:\u001b[36m_extract_logprobs\u001b[0m:\u001b[36m514\u001b[0m - \u001b[34m\u001b[1m            Adding to probs_dict \u001b[0m\n",
      "\u001b[32m2025-06-05 10:51:33.198\u001b[0m | \u001b[34m\u001b[1mDEBUG   \u001b[0m | \u001b[36mevidence_seeker.confirmation_analysis.workflows\u001b[0m:\u001b[36m_extract_logprobs\u001b[0m:\u001b[36m519\u001b[0m - \u001b[34m\u001b[1m            Probs dict: {'A': np.float64(1.0), 'C': np.float64(2.543665647376923e-13), 'B': np.float64(5.675685232632723e-14)}\u001b[0m\n",
      "\u001b[32m2025-06-05 10:51:33.198\u001b[0m | \u001b[34m\u001b[1mDEBUG   \u001b[0m | \u001b[36mevidence_seeker.confirmation_analysis.workflows\u001b[0m:\u001b[36m_extract_logprobs\u001b[0m:\u001b[36m521\u001b[0m - \u001b[34m\u001b[1mFinal probs dict: {'A': np.float64(1.0), 'C': np.float64(2.543665647376923e-13), 'B': np.float64(5.675685232632723e-14)}\u001b[0m\n",
      "\u001b[32m2025-06-05 10:51:33.198\u001b[0m | \u001b[34m\u001b[1mDEBUG   \u001b[0m | \u001b[36mevidence_seeker.confirmation_analysis.workflows\u001b[0m:\u001b[36m_extract_logprobs\u001b[0m:\u001b[36m527\u001b[0m - \u001b[34m\u001b[1mProbs dict: {'A': 0.9999999999996887, 'C': 2.543665647376131e-13, 'B': 5.675685232630956e-14}\u001b[0m\n",
      "\u001b[32m2025-06-05 10:51:33.200\u001b[0m | \u001b[1mINFO    \u001b[0m | \u001b[36mevidence_seeker.confirmation_analysis.workflows\u001b[0m:\u001b[36m_extract_logprobs\u001b[0m:\u001b[36m495\u001b[0m - \u001b[1mTokens: ['{', '\"', 'answer', '\":', ' \"', 'C', '\"}', '<|eot_id|>']\u001b[0m\n",
      "\u001b[32m2025-06-05 10:51:33.201\u001b[0m | \u001b[1mINFO    \u001b[0m | \u001b[36mevidence_seeker.confirmation_analysis.workflows\u001b[0m:\u001b[36m_extract_logprobs\u001b[0m:\u001b[36m496\u001b[0m - \u001b[1mTop logprobs: [{'{': -0.0019302368, '{\"': -6.25, '#': None, '\"': None, '!': None}, {'\"': 0, '\"a': -18.5, '$': None, '#': None, '!': None}, {'answer': -0.0007095337, 'a': -7.25, 'an': -20.75, 'ans': -25.375, '!': None}, {'\":': -1.1920929e-07, '\"': -16.5, '$': None, '#': None, '!': None}, {' \"': 0, ' ': -40, '#': None, '\"': None, '!': None}, {'C': 0, 'B': -29.5, 'A': -32.5, '\"': None, '!': None}, {'\"}': 0, '\"': -18.5, '$': None, '#': None, '!': None}, {'<|eot_id|>': 0, '#': None, '!': None, '$': None, '\"': None}]\u001b[0m\n",
      "\u001b[32m2025-06-05 10:51:33.201\u001b[0m | \u001b[34m\u001b[1mDEBUG   \u001b[0m | \u001b[36mevidence_seeker.confirmation_analysis.workflows\u001b[0m:\u001b[36m_extract_logprobs\u001b[0m:\u001b[36m509\u001b[0m - \u001b[34m\u001b[1mToken: 'C'\u001b[0m\n",
      "\u001b[32m2025-06-05 10:51:33.202\u001b[0m | \u001b[34m\u001b[1mDEBUG   \u001b[0m | \u001b[36mevidence_seeker.confirmation_analysis.workflows\u001b[0m:\u001b[36m_extract_logprobs\u001b[0m:\u001b[36m510\u001b[0m - \u001b[34m\u001b[1m   Alternative: 'C', Logprob: 0, Prob: 1.0\u001b[0m\n",
      "\u001b[32m2025-06-05 10:51:33.202\u001b[0m | \u001b[34m\u001b[1mDEBUG   \u001b[0m | \u001b[36mevidence_seeker.confirmation_analysis.workflows\u001b[0m:\u001b[36m_extract_logprobs\u001b[0m:\u001b[36m511\u001b[0m - \u001b[34m\u001b[1m      Checking label: C for '{\"answer\": \"C'\u001b[0m\n",
      "\u001b[32m2025-06-05 10:51:33.202\u001b[0m | \u001b[34m\u001b[1mDEBUG   \u001b[0m | \u001b[36mevidence_seeker.confirmation_analysis.workflows\u001b[0m:\u001b[36m_extract_logprobs\u001b[0m:\u001b[36m512\u001b[0m - \u001b[34m\u001b[1m         True/0/True\u001b[0m\n",
      "\u001b[32m2025-06-05 10:51:33.203\u001b[0m | \u001b[34m\u001b[1mDEBUG   \u001b[0m | \u001b[36mevidence_seeker.confirmation_analysis.workflows\u001b[0m:\u001b[36m_extract_logprobs\u001b[0m:\u001b[36m514\u001b[0m - \u001b[34m\u001b[1m            Adding to probs_dict \u001b[0m\n",
      "\u001b[32m2025-06-05 10:51:33.203\u001b[0m | \u001b[34m\u001b[1mDEBUG   \u001b[0m | \u001b[36mevidence_seeker.confirmation_analysis.workflows\u001b[0m:\u001b[36m_extract_logprobs\u001b[0m:\u001b[36m519\u001b[0m - \u001b[34m\u001b[1m            Probs dict: {'C': np.float64(1.0)}\u001b[0m\n",
      "\u001b[32m2025-06-05 10:51:33.203\u001b[0m | \u001b[34m\u001b[1mDEBUG   \u001b[0m | \u001b[36mevidence_seeker.confirmation_analysis.workflows\u001b[0m:\u001b[36m_extract_logprobs\u001b[0m:\u001b[36m509\u001b[0m - \u001b[34m\u001b[1mToken: 'C'\u001b[0m\n",
      "\u001b[32m2025-06-05 10:51:33.205\u001b[0m | \u001b[34m\u001b[1mDEBUG   \u001b[0m | \u001b[36mevidence_seeker.confirmation_analysis.workflows\u001b[0m:\u001b[36m_extract_logprobs\u001b[0m:\u001b[36m510\u001b[0m - \u001b[34m\u001b[1m   Alternative: 'B', Logprob: -29.5, Prob: 1.5428112031918877e-13\u001b[0m\n",
      "\u001b[32m2025-06-05 10:51:33.205\u001b[0m | \u001b[34m\u001b[1mDEBUG   \u001b[0m | \u001b[36mevidence_seeker.confirmation_analysis.workflows\u001b[0m:\u001b[36m_extract_logprobs\u001b[0m:\u001b[36m511\u001b[0m - \u001b[34m\u001b[1m      Checking label: B for '{\"answer\": \"B'\u001b[0m\n",
      "\u001b[32m2025-06-05 10:51:33.205\u001b[0m | \u001b[34m\u001b[1mDEBUG   \u001b[0m | \u001b[36mevidence_seeker.confirmation_analysis.workflows\u001b[0m:\u001b[36m_extract_logprobs\u001b[0m:\u001b[36m512\u001b[0m - \u001b[34m\u001b[1m         True/-29.5/True\u001b[0m\n",
      "\u001b[32m2025-06-05 10:51:33.206\u001b[0m | \u001b[34m\u001b[1mDEBUG   \u001b[0m | \u001b[36mevidence_seeker.confirmation_analysis.workflows\u001b[0m:\u001b[36m_extract_logprobs\u001b[0m:\u001b[36m514\u001b[0m - \u001b[34m\u001b[1m            Adding to probs_dict \u001b[0m\n",
      "\u001b[32m2025-06-05 10:51:33.207\u001b[0m | \u001b[34m\u001b[1mDEBUG   \u001b[0m | \u001b[36mevidence_seeker.confirmation_analysis.workflows\u001b[0m:\u001b[36m_extract_logprobs\u001b[0m:\u001b[36m519\u001b[0m - \u001b[34m\u001b[1m            Probs dict: {'C': np.float64(1.0), 'B': np.float64(1.5428112031918877e-13)}\u001b[0m\n",
      "\u001b[32m2025-06-05 10:51:33.207\u001b[0m | \u001b[34m\u001b[1mDEBUG   \u001b[0m | \u001b[36mevidence_seeker.confirmation_analysis.workflows\u001b[0m:\u001b[36m_extract_logprobs\u001b[0m:\u001b[36m509\u001b[0m - \u001b[34m\u001b[1mToken: 'C'\u001b[0m\n",
      "\u001b[32m2025-06-05 10:51:33.208\u001b[0m | \u001b[34m\u001b[1mDEBUG   \u001b[0m | \u001b[36mevidence_seeker.confirmation_analysis.workflows\u001b[0m:\u001b[36m_extract_logprobs\u001b[0m:\u001b[36m510\u001b[0m - \u001b[34m\u001b[1m   Alternative: 'A', Logprob: -32.5, Prob: 7.681204685202095e-15\u001b[0m\n",
      "\u001b[32m2025-06-05 10:51:33.208\u001b[0m | \u001b[34m\u001b[1mDEBUG   \u001b[0m | \u001b[36mevidence_seeker.confirmation_analysis.workflows\u001b[0m:\u001b[36m_extract_logprobs\u001b[0m:\u001b[36m511\u001b[0m - \u001b[34m\u001b[1m      Checking label: A for '{\"answer\": \"A'\u001b[0m\n",
      "\u001b[32m2025-06-05 10:51:33.208\u001b[0m | \u001b[34m\u001b[1mDEBUG   \u001b[0m | \u001b[36mevidence_seeker.confirmation_analysis.workflows\u001b[0m:\u001b[36m_extract_logprobs\u001b[0m:\u001b[36m512\u001b[0m - \u001b[34m\u001b[1m         True/-32.5/True\u001b[0m\n",
      "\u001b[32m2025-06-05 10:51:33.208\u001b[0m | \u001b[34m\u001b[1mDEBUG   \u001b[0m | \u001b[36mevidence_seeker.confirmation_analysis.workflows\u001b[0m:\u001b[36m_extract_logprobs\u001b[0m:\u001b[36m514\u001b[0m - \u001b[34m\u001b[1m            Adding to probs_dict \u001b[0m\n",
      "\u001b[32m2025-06-05 10:51:33.209\u001b[0m | \u001b[34m\u001b[1mDEBUG   \u001b[0m | \u001b[36mevidence_seeker.confirmation_analysis.workflows\u001b[0m:\u001b[36m_extract_logprobs\u001b[0m:\u001b[36m519\u001b[0m - \u001b[34m\u001b[1m            Probs dict: {'C': np.float64(1.0), 'B': np.float64(1.5428112031918877e-13), 'A': np.float64(7.681204685202095e-15)}\u001b[0m\n",
      "\u001b[32m2025-06-05 10:51:33.209\u001b[0m | \u001b[34m\u001b[1mDEBUG   \u001b[0m | \u001b[36mevidence_seeker.confirmation_analysis.workflows\u001b[0m:\u001b[36m_extract_logprobs\u001b[0m:\u001b[36m521\u001b[0m - \u001b[34m\u001b[1mFinal probs dict: {'C': np.float64(1.0), 'B': np.float64(1.5428112031918877e-13), 'A': np.float64(7.681204685202095e-15)}\u001b[0m\n",
      "\u001b[32m2025-06-05 10:51:33.210\u001b[0m | \u001b[34m\u001b[1mDEBUG   \u001b[0m | \u001b[36mevidence_seeker.confirmation_analysis.workflows\u001b[0m:\u001b[36m_extract_logprobs\u001b[0m:\u001b[36m527\u001b[0m - \u001b[34m\u001b[1mProbs dict: {'C': 0.9999999999998379, 'B': 1.5428112031916376e-13, 'A': 7.68120468520085e-15}\u001b[0m\n",
      "\u001b[32m2025-06-05 10:51:34.524\u001b[0m | \u001b[1mINFO    \u001b[0m | \u001b[36mevidence_seeker.confirmation_analysis.workflows\u001b[0m:\u001b[36m_extract_logprobs\u001b[0m:\u001b[36m495\u001b[0m - \u001b[1mTokens: ['{', '\"', 'a', 'n', 'swer', '\":', ' \"', 'A', '\"}', '<|eot_id|>']\u001b[0m\n",
      "\u001b[32m2025-06-05 10:51:34.525\u001b[0m | \u001b[1mINFO    \u001b[0m | \u001b[36mevidence_seeker.confirmation_analysis.workflows\u001b[0m:\u001b[36m_extract_logprobs\u001b[0m:\u001b[36m496\u001b[0m - \u001b[1mTop logprobs: [{'{': -0.0040893555, '{\"': -5.5, '#': None, '\"': None, '!': None}, {'\"': -9.536743e-07, '\"a': -13.8125, '$': None, '#': None, '!': None}, {'a': -0.38671875, 'answer': -1.140625, 'an': -16.625, 'ans': -25.625, '!': None}, {'n': -0.03930664, 'ns': -3.265625, '#': None, '\"': None, '!': None}, {'swer': 0, 'sw': -34.5, 's': -76.5, '\"': None, '!': None}, {'\":': 0, '\"': -18.5, '$': None, '#': None, '!': None}, {' \"': 0, ' ': -39.5, '#': None, '\"': None, '!': None}, {'A': -2.2649765e-06, 'C': -13, 'B': -24.5, '\"': None, '!': None}, {'\"}': 0, '\"': -19, '$': None, '#': None, '!': None}, {'<|eot_id|>': 0, '#': None, '!': None, '$': None, '\"': None}]\u001b[0m\n",
      "\u001b[32m2025-06-05 10:51:34.525\u001b[0m | \u001b[34m\u001b[1mDEBUG   \u001b[0m | \u001b[36mevidence_seeker.confirmation_analysis.workflows\u001b[0m:\u001b[36m_extract_logprobs\u001b[0m:\u001b[36m509\u001b[0m - \u001b[34m\u001b[1mToken: 'A'\u001b[0m\n",
      "\u001b[32m2025-06-05 10:51:34.526\u001b[0m | \u001b[34m\u001b[1mDEBUG   \u001b[0m | \u001b[36mevidence_seeker.confirmation_analysis.workflows\u001b[0m:\u001b[36m_extract_logprobs\u001b[0m:\u001b[36m510\u001b[0m - \u001b[34m\u001b[1m   Alternative: 'A', Logprob: -2.2649765e-06, Prob: 0.999997735026065\u001b[0m\n",
      "\u001b[32m2025-06-05 10:51:34.526\u001b[0m | \u001b[34m\u001b[1mDEBUG   \u001b[0m | \u001b[36mevidence_seeker.confirmation_analysis.workflows\u001b[0m:\u001b[36m_extract_logprobs\u001b[0m:\u001b[36m511\u001b[0m - \u001b[34m\u001b[1m      Checking label: A for '{\"answer\": \"A'\u001b[0m\n",
      "\u001b[32m2025-06-05 10:51:34.526\u001b[0m | \u001b[34m\u001b[1mDEBUG   \u001b[0m | \u001b[36mevidence_seeker.confirmation_analysis.workflows\u001b[0m:\u001b[36m_extract_logprobs\u001b[0m:\u001b[36m512\u001b[0m - \u001b[34m\u001b[1m         True/-2.2649765e-06/True\u001b[0m\n",
      "\u001b[32m2025-06-05 10:51:34.526\u001b[0m | \u001b[34m\u001b[1mDEBUG   \u001b[0m | \u001b[36mevidence_seeker.confirmation_analysis.workflows\u001b[0m:\u001b[36m_extract_logprobs\u001b[0m:\u001b[36m514\u001b[0m - \u001b[34m\u001b[1m            Adding to probs_dict \u001b[0m\n",
      "\u001b[32m2025-06-05 10:51:34.527\u001b[0m | \u001b[34m\u001b[1mDEBUG   \u001b[0m | \u001b[36mevidence_seeker.confirmation_analysis.workflows\u001b[0m:\u001b[36m_extract_logprobs\u001b[0m:\u001b[36m519\u001b[0m - \u001b[34m\u001b[1m            Probs dict: {'A': np.float64(0.999997735026065)}\u001b[0m\n",
      "\u001b[32m2025-06-05 10:51:34.527\u001b[0m | \u001b[34m\u001b[1mDEBUG   \u001b[0m | \u001b[36mevidence_seeker.confirmation_analysis.workflows\u001b[0m:\u001b[36m_extract_logprobs\u001b[0m:\u001b[36m509\u001b[0m - \u001b[34m\u001b[1mToken: 'A'\u001b[0m\n",
      "\u001b[32m2025-06-05 10:51:34.528\u001b[0m | \u001b[34m\u001b[1mDEBUG   \u001b[0m | \u001b[36mevidence_seeker.confirmation_analysis.workflows\u001b[0m:\u001b[36m_extract_logprobs\u001b[0m:\u001b[36m510\u001b[0m - \u001b[34m\u001b[1m   Alternative: 'C', Logprob: -13, Prob: 2.2603294069810542e-06\u001b[0m\n",
      "\u001b[32m2025-06-05 10:51:34.528\u001b[0m | \u001b[34m\u001b[1mDEBUG   \u001b[0m | \u001b[36mevidence_seeker.confirmation_analysis.workflows\u001b[0m:\u001b[36m_extract_logprobs\u001b[0m:\u001b[36m511\u001b[0m - \u001b[34m\u001b[1m      Checking label: C for '{\"answer\": \"C'\u001b[0m\n",
      "\u001b[32m2025-06-05 10:51:34.528\u001b[0m | \u001b[34m\u001b[1mDEBUG   \u001b[0m | \u001b[36mevidence_seeker.confirmation_analysis.workflows\u001b[0m:\u001b[36m_extract_logprobs\u001b[0m:\u001b[36m512\u001b[0m - \u001b[34m\u001b[1m         True/-13/True\u001b[0m\n",
      "\u001b[32m2025-06-05 10:51:34.528\u001b[0m | \u001b[34m\u001b[1mDEBUG   \u001b[0m | \u001b[36mevidence_seeker.confirmation_analysis.workflows\u001b[0m:\u001b[36m_extract_logprobs\u001b[0m:\u001b[36m514\u001b[0m - \u001b[34m\u001b[1m            Adding to probs_dict \u001b[0m\n",
      "\u001b[32m2025-06-05 10:51:34.529\u001b[0m | \u001b[34m\u001b[1mDEBUG   \u001b[0m | \u001b[36mevidence_seeker.confirmation_analysis.workflows\u001b[0m:\u001b[36m_extract_logprobs\u001b[0m:\u001b[36m519\u001b[0m - \u001b[34m\u001b[1m            Probs dict: {'A': np.float64(0.999997735026065), 'C': np.float64(2.2603294069810542e-06)}\u001b[0m\n",
      "\u001b[32m2025-06-05 10:51:34.529\u001b[0m | \u001b[34m\u001b[1mDEBUG   \u001b[0m | \u001b[36mevidence_seeker.confirmation_analysis.workflows\u001b[0m:\u001b[36m_extract_logprobs\u001b[0m:\u001b[36m509\u001b[0m - \u001b[34m\u001b[1mToken: 'A'\u001b[0m\n",
      "\u001b[32m2025-06-05 10:51:34.529\u001b[0m | \u001b[34m\u001b[1mDEBUG   \u001b[0m | \u001b[36mevidence_seeker.confirmation_analysis.workflows\u001b[0m:\u001b[36m_extract_logprobs\u001b[0m:\u001b[36m510\u001b[0m - \u001b[34m\u001b[1m   Alternative: 'B', Logprob: -24.5, Prob: 2.289734845645553e-11\u001b[0m\n",
      "\u001b[32m2025-06-05 10:51:34.530\u001b[0m | \u001b[34m\u001b[1mDEBUG   \u001b[0m | \u001b[36mevidence_seeker.confirmation_analysis.workflows\u001b[0m:\u001b[36m_extract_logprobs\u001b[0m:\u001b[36m511\u001b[0m - \u001b[34m\u001b[1m      Checking label: B for '{\"answer\": \"B'\u001b[0m\n",
      "\u001b[32m2025-06-05 10:51:34.530\u001b[0m | \u001b[34m\u001b[1mDEBUG   \u001b[0m | \u001b[36mevidence_seeker.confirmation_analysis.workflows\u001b[0m:\u001b[36m_extract_logprobs\u001b[0m:\u001b[36m512\u001b[0m - \u001b[34m\u001b[1m         True/-24.5/True\u001b[0m\n",
      "\u001b[32m2025-06-05 10:51:34.530\u001b[0m | \u001b[34m\u001b[1mDEBUG   \u001b[0m | \u001b[36mevidence_seeker.confirmation_analysis.workflows\u001b[0m:\u001b[36m_extract_logprobs\u001b[0m:\u001b[36m514\u001b[0m - \u001b[34m\u001b[1m            Adding to probs_dict \u001b[0m\n",
      "\u001b[32m2025-06-05 10:51:34.530\u001b[0m | \u001b[34m\u001b[1mDEBUG   \u001b[0m | \u001b[36mevidence_seeker.confirmation_analysis.workflows\u001b[0m:\u001b[36m_extract_logprobs\u001b[0m:\u001b[36m519\u001b[0m - \u001b[34m\u001b[1m            Probs dict: {'A': np.float64(0.999997735026065), 'C': np.float64(2.2603294069810542e-06), 'B': np.float64(2.289734845645553e-11)}\u001b[0m\n",
      "\u001b[32m2025-06-05 10:51:34.531\u001b[0m | \u001b[34m\u001b[1mDEBUG   \u001b[0m | \u001b[36mevidence_seeker.confirmation_analysis.workflows\u001b[0m:\u001b[36m_extract_logprobs\u001b[0m:\u001b[36m521\u001b[0m - \u001b[34m\u001b[1mFinal probs dict: {'A': np.float64(0.999997735026065), 'C': np.float64(2.2603294069810542e-06), 'B': np.float64(2.289734845645553e-11)}\u001b[0m\n",
      "\u001b[32m2025-06-05 10:51:34.531\u001b[0m | \u001b[34m\u001b[1mDEBUG   \u001b[0m | \u001b[36mevidence_seeker.confirmation_analysis.workflows\u001b[0m:\u001b[36m_extract_logprobs\u001b[0m:\u001b[36m527\u001b[0m - \u001b[34m\u001b[1mProbs dict: {'A': 0.9999977396476852, 'C': 2.260329417427462e-06, 'B': 2.2897348562278616e-11}\u001b[0m\n",
      "\u001b[32m2025-06-05 10:51:34.531\u001b[0m | \u001b[34m\u001b[1mDEBUG   \u001b[0m | \u001b[36mevidence_seeker.confirmation_analysis.workflows\u001b[0m:\u001b[36mcollect_analyses\u001b[0m:\u001b[36m232\u001b[0m - \u001b[34m\u001b[1mProbs for the claim: [8.533047625743772e-17, 1.1253517547032466e-07, 8.533047625743772e-17]\u001b[0m\n",
      "\u001b[32m2025-06-05 10:51:34.532\u001b[0m | \u001b[34m\u001b[1mDEBUG   \u001b[0m | \u001b[36mevidence_seeker.confirmation_analysis.workflows\u001b[0m:\u001b[36mcollect_analyses\u001b[0m:\u001b[36m233\u001b[0m - \u001b[34m\u001b[1mProbs for the negation: [5.675685232630956e-14, 1.5428112031916376e-13, 2.2897348562278616e-11]\u001b[0m\n"
     ]
    },
    {
     "name": "stdout",
     "output_type": "stream",
     "text": [
      "Confirmation scores by document: {'1f47ce98-4105-4ddc-98a9-c4956dab2000': np.float64(3.7504022418150225e-08)}\n",
      "text='The AMOC is slowing down' negation='The AMOC is not changing' uid='123' statement_type=None n_evidence=None average_confirmation=None evidential_uncertainty=None verbalized_confirmation=None documents=[Document(text='There is high confidence that oxygen levels have \\ndropped in many regions since the mid 20th century and \\nthat the geographic range of many marine organisms has \\nchanged over the last two decades. \\n The amount of ocean warming observed since 1971 \\nwill likely at least double by 2100 under a low warming \\nscenario (SSP1-2.6) and will increase by 4–8 times under \\na high warming scenario (SSP5-8.5).  Stratification (virtually \\ncertain), acidification ( virtually certain ), deoxygenation \\n(high confidence ) and marine heatwave frequency ( high \\nconfidence) will continue to increase in the 21st century. \\n While there is low confidence in 20th century AMOC change, \\nit is very likely that AMOC will decline over the 21st century \\n(Figure TS.11).  {2.3, 3.5, 3.6, 4.3.2, 5.3, 7.2, 9.2, Box\\xa09.2, 12.4}\\nIt is virtually certain that the global ocean has warmed since at least \\n1971, representing about 90% of the increase in the global energy \\ninventory (Section TS.3.1).  The ocean is currently warming faster than \\nat any other time since at least the last deglacial transition (medium \\nconfidence), with warming extending to depths well below 2000 m \\n(very high confidence ).  It is extremely likely that human influence \\nwas the main driver of this recent ocean warming. ', uid='1f47ce98-4105-4ddc-98a9-c4956dab2000', metadata={'page_label': '74', 'file_name': 'IPCC_AR6_WGI_TS.pdf', 'author': 'IPCC Working Group I', 'original_text': 'While there is low confidence in 20th century AMOC change, \\nit is very likely that AMOC will decline over the 21st century \\n(Figure TS.11). '})] confirmation_by_document={'1f47ce98-4105-4ddc-98a9-c4956dab2000': np.float64(3.7504022418150225e-08)} metadata={}\n"
     ]
    }
   ],
   "source": [
    "import pathlib\n",
    "from evidence_seeker.confirmation_analysis import (\n",
    "    ConfirmationAnalyzer, ConfirmationAnalyzerConfig\n",
    ")\n",
    "import os\n",
    "\n",
    "config = ConfirmationAnalyzerConfig(\n",
    "    timeout=1200,\n",
    "    used_model_key=\"together.ai\"\n",
    "    # used_model_key=\"lmstudio\",\n",
    ")\n",
    "confirmation_analyzer = ConfirmationAnalyzer(config=config)\n",
    "\n",
    "# config_file = pathlib.Path(\"../configs/confirmation_analysis_config_default.yaml\")\n",
    "# confirmation_analyzer = ConfirmationAnalyzer.from_config_file(config_file)\n",
    "\n",
    "checked_claim = await confirmation_analyzer(claim=claim) \n",
    "print(f\"Confirmation scores by document: {checked_claim.confirmation_by_document}\")\n",
    "print(checked_claim)"
   ]
  },
  {
   "cell_type": "code",
   "execution_count": 9,
   "metadata": {},
   "outputs": [
    {
     "ename": "AssertionError",
     "evalue": "",
     "output_type": "error",
     "traceback": [
      "\u001b[0;31m---------------------------------------------------------------------------\u001b[0m",
      "\u001b[0;31mAssertionError\u001b[0m                            Traceback (most recent call last)",
      "Cell \u001b[0;32mIn[9], line 2\u001b[0m\n\u001b[1;32m      1\u001b[0m prob \u001b[38;5;241m=\u001b[39m \u001b[38;5;28;01mNone\u001b[39;00m\n\u001b[0;32m----> 2\u001b[0m \u001b[38;5;28;01massert\u001b[39;00m \u001b[38;5;28;01mTrue\u001b[39;00m \u001b[38;5;129;01mand\u001b[39;00m prob \u001b[38;5;129;01mis\u001b[39;00m \u001b[38;5;129;01mnot\u001b[39;00m \u001b[38;5;28;01mNone\u001b[39;00m \n",
      "\u001b[0;31mAssertionError\u001b[0m: "
     ]
    }
   ],
   "source": [
    "prob = None\n",
    "assert True and prob is not None "
   ]
  },
  {
   "cell_type": "code",
   "execution_count": 6,
   "metadata": {},
   "outputs": [
    {
     "data": {
      "text/plain": [
       "np.float64(1.4068617124461467e-16)"
      ]
     },
     "execution_count": 6,
     "metadata": {},
     "output_type": "execute_result"
    }
   ],
   "source": [
    "import numpy as np\n",
    "np.exp(-36.5)"
   ]
  },
  {
   "cell_type": "code",
   "execution_count": null,
   "metadata": {},
   "outputs": [],
   "source": []
  }
 ],
 "metadata": {
  "kernelspec": {
   "display_name": "dev_env",
   "language": "python",
   "name": "python3"
  },
  "language_info": {
   "codemirror_mode": {
    "name": "ipython",
    "version": 3
   },
   "file_extension": ".py",
   "mimetype": "text/x-python",
   "name": "python",
   "nbconvert_exporter": "python",
   "pygments_lexer": "ipython3",
   "version": "3.10.16"
  }
 },
 "nbformat": 4,
 "nbformat_minor": 2
}
