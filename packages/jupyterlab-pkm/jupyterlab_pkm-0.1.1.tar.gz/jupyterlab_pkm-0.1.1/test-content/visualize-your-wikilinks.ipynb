{
 "cells": [
  {
   "cell_type": "markdown",
   "id": "20c56fdb-f522-417a-a442-55d249f21b43",
   "metadata": {},
   "source": [
    "# Visualize Your Notes\n",
    "\n",
    "The following code will read the pattern of wikilinks between your notes and visualize that pattern as a network graph. The visualization might reveal clusters of interesting ideas or other insights. You can also extend the code to identify key files, clusters, shortest paths etc. (For instance, the shortest path between two files/ideas might provide you with the structure for an essay or longer piece of writing)."
   ]
  },
  {
   "cell_type": "markdown",
   "id": "19c3f6cd-3af0-47da-82c2-26639c710376",
   "metadata": {},
   "source": [
    "## Functions"
   ]
  },
  {
   "cell_type": "code",
   "execution_count": 2,
   "id": "31a42b21-6971-48a5-87e1-40c2dea44b2a",
   "metadata": {},
   "outputs": [
    {
     "name": "stdout",
     "output_type": "stream",
     "text": [
      "Collecting networkx\n",
      "  Downloading networkx-3.5-py3-none-any.whl.metadata (6.3 kB)\n",
      "Downloading networkx-3.5-py3-none-any.whl (2.0 MB)\n",
      "\u001b[2K   \u001b[90m━━━━━━━━━━━━━━━━━━━━━━━━━━━━━━━━━━━━━━━━\u001b[0m \u001b[32m2.0/2.0 MB\u001b[0m \u001b[31m8.6 MB/s\u001b[0m eta \u001b[36m0:00:00\u001b[0mta \u001b[36m0:00:01\u001b[0m\n",
      "\u001b[?25hInstalling collected packages: networkx\n",
      "Successfully installed networkx-3.5\n"
     ]
    }
   ],
   "source": [
    "!pip install networkx"
   ]
  },
  {
   "cell_type": "code",
   "execution_count": 2,
   "id": "f8fe194c-c596-4303-98c7-41068b544ed5",
   "metadata": {},
   "outputs": [],
   "source": [
    "import json\n",
    "import matplotlib.pyplot as plt\n",
    "import networkx as nx\n",
    "\n",
    "def load_wikilink_data(filepath):\n",
    "    \"\"\"Load the wikilink JSON file.\"\"\"\n",
    "    with open(filepath, 'r') as f:\n",
    "        return json.load(f)\n",
    "\n",
    "def create_graph(data):\n",
    "    \"\"\"Create a NetworkX graph from the wikilink data.\"\"\"\n",
    "    G = nx.Graph()\n",
    "    links = data.get('links', {})\n",
    "    \n",
    "    for source, targets in links.items():\n",
    "        for target in (targets if isinstance(targets, list) else targets.keys()):\n",
    "            G.add_edge(source, target)\n",
    "    \n",
    "    return G\n",
    "\n",
    "def show_graph_info(G):\n",
    "    \"\"\"Print basic information about the graph.\"\"\"\n",
    "    print(f\"Nodes: {len(G.nodes())}\")\n",
    "    print(f\"Edges: {len(G.edges())}\")\n",
    "    if len(G.nodes()) > 0:\n",
    "        print(f\"Average connections: {sum(dict(G.degree()).values()) / len(G.nodes()):.1f}\")\n",
    "\n",
    "def plot_graph(G):\n",
    "    \"\"\"Create a simple visualization of the graph.\"\"\"\n",
    "    plt.figure(figsize=(10, 8))\n",
    "    \n",
    "    if len(G.nodes()) == 0:\n",
    "        plt.text(0.5, 0.5, 'No links found', ha='center', va='center', fontsize=16)\n",
    "        plt.xlim(0, 1)\n",
    "        plt.ylim(0, 1)\n",
    "    else:\n",
    "        pos = nx.spring_layout(G)\n",
    "        nx.draw(G, pos, with_labels=True, node_color='lightblue', \n",
    "                node_size=1000, font_size=10, font_weight='bold')\n",
    "    \n",
    "    plt.title('WikiLink Graph')\n",
    "    plt.axis('off')\n",
    "    plt.show()\n",
    "\n"
   ]
  },
  {
   "cell_type": "markdown",
   "id": "96a958c8-2c88-4cb0-9a1c-62c306b6dace",
   "metadata": {},
   "source": [
    "## Do It!"
   ]
  },
  {
   "cell_type": "code",
   "execution_count": 3,
   "id": "67c7420a-a258-4483-a454-f8e8ed80c9a5",
   "metadata": {},
   "outputs": [
    {
     "name": "stdout",
     "output_type": "stream",
     "text": [
      "Nodes: 0\n",
      "Edges: 0\n"
     ]
    },
    {
     "data": {
      "image/png": "[encoded data removed]",
      "text/plain": [
       "<Figure size 1000x800 with 1 Axes>"
      ]
     },
     "metadata": {},
     "output_type": "display_data"
    }
   ],
   "source": [
    "data = load_wikilink_data('wikilink-index.json')\n",
    "graph = create_graph(data)\n",
    "show_graph_info(graph)\n",
    "plot_graph(graph)"
   ]
  },
  {
   "cell_type": "markdown",
   "id": "512a499d-905f-4768-98d9-3b23f9d00c6d",
   "metadata": {},
   "source": [
    "[[start]] [[another]] [[fucking]] [[thing]]\n"
   ]
  },
  {
   "cell_type": "raw",
   "id": "21f6b84c-ad34-436b-a127-18ea47d0b4f1",
   "metadata": {},
   "source": []
  },
  {
   "cell_type": "markdown",
   "id": "743d1fc4-6d7b-41d7-964b-ad557dff85a6",
   "metadata": {},
   "source": []
  }
 ],
 "metadata": {
  "kernelspec": {
   "display_name": "Python 3 (ipykernel)",
   "language": "python",
   "name": "python3"
  },
  "language_info": {
   "codemirror_mode": {
    "name": "ipython",
    "version": 3
   },
   "file_extension": ".py",
   "mimetype": "text/x-python",
   "name": "python",
   "nbconvert_exporter": "python",
   "pygments_lexer": "ipython3",
   "version": "3.13.2"
  }
 },
 "nbformat": 4,
 "nbformat_minor": 5
}
