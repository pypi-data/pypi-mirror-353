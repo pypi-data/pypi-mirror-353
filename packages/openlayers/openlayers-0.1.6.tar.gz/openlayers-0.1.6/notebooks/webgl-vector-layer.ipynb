{
 "cells": [
  {
   "cell_type": "code",
   "execution_count": 1,
   "id": "94810fca-167a-46bb-a609-be617607fa59",
   "metadata": {},
   "outputs": [],
   "source": [
    "from openlayers.anywidget import MapWidget, View\n",
    "from openlayers.layers import VectorLayer, TileLayer, WebGLVectorLayer\n",
    "from openlayers.sources import GeoJSONSource, OSM"
   ]
  },
  {
   "cell_type": "code",
   "execution_count": null,
   "id": "f924a23b-ae75-4665-8a63-edf2dbaa3cf3",
   "metadata": {},
   "outputs": [],
   "source": []
  },
  {
   "cell_type": "code",
   "execution_count": 2,
   "id": "310a17d3-8331-4f1a-b956-3fbad467e3a7",
   "metadata": {},
   "outputs": [],
   "source": [
    "vector_layer = WebGLVectorLayer(\n",
    "    source=GeoJSONSource(url=\"https://openlayers.org/data/vector/populated-places.json\"),\n",
    "    style={\n",
    "        \"circle-fill-color\": \"red\",\n",
    "        \"circle-stroke-color\": \"yellow\",\n",
    "        \"circle-stroke-width\": 0.75,\n",
    "        \"circle-radius\": 5\n",
    "    }\n",
    ")"
   ]
  },
  {
   "cell_type": "code",
   "execution_count": 8,
   "id": "e6953dda-5893-4fca-9a84-b9ebc02f2671",
   "metadata": {},
   "outputs": [],
   "source": [
    "vector_layer_countries = WebGLVectorLayer(\n",
    "    source=GeoJSONSource(url=\"https://openlayers.org/data/vector/ecoregions.json\"),\n",
    "    style={\n",
    "         'stroke-color': ['*', ['get', 'COLOR'], [220, 220, 220]],\n",
    "      'stroke-width': 2,\n",
    "      'stroke-offset': -1,\n",
    "      'fill-color': ['*', ['get', 'COLOR'], [255, 255, 255, 0.6]]\n",
    "    }\n",
    ")"
   ]
  },
  {
   "cell_type": "code",
   "execution_count": 9,
   "id": "acbcab58-b211-492c-8389-b0ed5682d05b",
   "metadata": {},
   "outputs": [],
   "source": [
    "m = MapWidget(View(), layers=[\n",
    "    TileLayer(source=OSM()),\n",
    "    vector_layer_countries,\n",
    "    vector_layer])"
   ]
  },
  {
   "cell_type": "code",
   "execution_count": 10,
   "id": "da09651c-3e19-4724-afc7-41ed5acd952c",
   "metadata": {},
   "outputs": [
    {
     "data": {
      "text/plain": [
       "{'viewOptions': {'center': (0, 0), 'zoom': 0},\n",
       " 'layers': [{'type': 'TileLayer',\n",
       "   'options': {'source': {'type': 'OSM', 'options': {}}}},\n",
       "  {'type': 'WebGLVectorLayer',\n",
       "   'options': {'source': {'type': 'VectorSource',\n",
       "     'options': {'url': 'https://openlayers.org/data/vector/ecoregions.json',\n",
       "      'format': 'geojson'}},\n",
       "    'style': {'stroke-color': ['*', ['get', 'COLOR'], [220, 220, 220]],\n",
       "     'stroke-width': 2,\n",
       "     'stroke-offset': -1,\n",
       "     'fill-color': ['*', ['get', 'COLOR'], [255, 255, 255, 0.6]]}}},\n",
       "  {'type': 'WebGLVectorLayer',\n",
       "   'options': {'source': {'type': 'VectorSource',\n",
       "     'options': {'url': 'https://openlayers.org/data/vector/populated-places.json',\n",
       "      'format': 'geojson'}},\n",
       "    'style': {'circle-fill-color': 'red',\n",
       "     'circle-stroke-color': 'yellow',\n",
       "     'circle-stroke-width': 0.75,\n",
       "     'circle-radius': 5}}}]}"
      ]
     },
     "execution_count": 10,
     "metadata": {},
     "output_type": "execute_result"
    }
   ],
   "source": [
    "m.map_options"
   ]
  },
  {
   "cell_type": "code",
   "execution_count": 11,
   "id": "a9735186-e58e-48d4-8e13-5f0e6f51944b",
   "metadata": {},
   "outputs": [
    {
     "data": {
      "application/vnd.jupyter.widget-view+json": {
       "model_id": "9a5ff3e46e294ef6b92084ccb94a3eed",
       "version_major": 2,
       "version_minor": 1
      },
      "text/plain": [
       "MapWidget(height='400px', map_options={'viewOptions': {'center': (0, 0), 'zoom': 0}, 'layers': [{'type': 'Tile…"
      ]
     },
     "execution_count": 11,
     "metadata": {},
     "output_type": "execute_result"
    }
   ],
   "source": [
    "m"
   ]
  },
  {
   "cell_type": "code",
   "execution_count": null,
   "id": "1f051fea-bac7-43e3-8071-c999e11f847c",
   "metadata": {},
   "outputs": [],
   "source": []
  }
 ],
 "metadata": {
  "kernelspec": {
   "display_name": "Python 3 (ipykernel)",
   "language": "python",
   "name": "python3"
  },
  "language_info": {
   "codemirror_mode": {
    "name": "ipython",
    "version": 3
   },
   "file_extension": ".py",
   "mimetype": "text/x-python",
   "name": "python",
   "nbconvert_exporter": "python",
   "pygments_lexer": "ipython3",
   "version": "3.11.11"
  }
 },
 "nbformat": 4,
 "nbformat_minor": 5
}
