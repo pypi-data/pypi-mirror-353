{
 "cells": [
  {
   "cell_type": "code",
   "execution_count": 1,
   "id": "42b6c0c2-ca21-4994-a2a7-dae417b14fe8",
   "metadata": {},
   "outputs": [],
   "source": [
    "from openlayers.anywidget import MapWidget, View\n",
    "from openlayers.json_defs import (\n",
    "    ScaleLineControl,\n",
    "    FullScreenControl,\n",
    "    ZoomSliderControl,\n",
    "    MousePositionControl,\n",
    "    OverviewMapControl,\n",
    "    TileLayer,\n",
    "    OSM,\n",
    "    VectorSource,\n",
    "    WebGLVectorLayer\n",
    ")"
   ]
  },
  {
   "cell_type": "code",
   "execution_count": 4,
   "id": "5369f43a-3f9a-4004-b35c-9b07cbea33ea",
   "metadata": {},
   "outputs": [],
   "source": [
    "base_layers = [\n",
    "    # TileLayer(source=OSM()),\n",
    "    vector_layer,\n",
    "    # another_layer\n",
    "]\n",
    "controls = [\n",
    "    ScaleLineControl(bar=True),\n",
    "    FullScreenControl(),\n",
    "    MousePositionControl(),\n",
    "    ZoomSliderControl(),\n",
    "    OverviewMapControl(layers=base_layers)\n",
    "]"
   ]
  },
  {
   "cell_type": "code",
   "execution_count": 5,
   "id": "c141ba5c-154f-42b8-94ca-75e728ee7f01",
   "metadata": {},
   "outputs": [
    {
     "data": {
      "text/plain": [
       "{'viewOptions': {'center': (0, 0), 'zoom': 0},\n",
       " 'layers': [{'source': {'url': 'https://openlayers.org/data/vector/populated-places.json',\n",
       "    'format': {'@@type': 'GeoJSON'},\n",
       "    '@@type': 'VectorSource'},\n",
       "   'style': {'circle-fill-color': 'red',\n",
       "    'circle-stroke-color': 'yellow',\n",
       "    'circle-stroke-width': 0.75,\n",
       "    'circle-radius': 5},\n",
       "   '@@type': 'WebGLVectorLayer'}]}"
      ]
     },
     "execution_count": 5,
     "metadata": {},
     "output_type": "execute_result"
    }
   ],
   "source": [
    "m = MapWidget(layers=base_layers)\n",
    "# m = MapWidget()\n",
    "m.map_options"
   ]
  },
  {
   "cell_type": "code",
   "execution_count": 6,
   "id": "99d76b3f-5d79-4de0-bb4c-f288fcf59648",
   "metadata": {},
   "outputs": [
    {
     "data": {
      "application/vnd.jupyter.widget-view+json": {
       "model_id": "e05cc7867c4c4411b3051756e2f2130a",
       "version_major": 2,
       "version_minor": 1
      },
      "text/plain": [
       "MapWidget(height='400px', map_options={'viewOptions': {'center': (0, 0), 'zoom': 0}, 'layers': [{'source': {'u…"
      ]
     },
     "execution_count": 6,
     "metadata": {},
     "output_type": "execute_result"
    }
   ],
   "source": [
    "m"
   ]
  },
  {
   "cell_type": "code",
   "execution_count": 3,
   "id": "6df03ff7-633e-46b4-a42d-a6bf7a843a96",
   "metadata": {},
   "outputs": [
    {
     "data": {
      "text/plain": [
       "{'source': {'url': 'https://openlayers.org/data/vector/populated-places.json',\n",
       "  'format': {'@@type': 'GeoJSON'},\n",
       "  '@@type': 'VectorSource'},\n",
       " 'style': {'circle-fill-color': 'red',\n",
       "  'circle-stroke-color': 'yellow',\n",
       "  'circle-stroke-width': 0.75,\n",
       "  'circle-radius': 5},\n",
       " '@@type': 'WebGLVectorLayer'}"
      ]
     },
     "execution_count": 3,
     "metadata": {},
     "output_type": "execute_result"
    }
   ],
   "source": [
    "vector_layer = WebGLVectorLayer(\n",
    "    source=VectorSource(url=\"https://openlayers.org/data/vector/populated-places.json\",\n",
    "                        # format = {\"@@type\": \"KML\"}\n",
    "                       ),\n",
    "    style={\n",
    "        \"circle-fill-color\": \"red\",\n",
    "        \"circle-stroke-color\": \"yellow\",\n",
    "        \"circle-stroke-width\": 0.75,\n",
    "        \"circle-radius\": 5\n",
    "    }\n",
    ")\n",
    "vector_layer.model_dump()"
   ]
  },
  {
   "cell_type": "code",
   "execution_count": 2,
   "id": "4faa931b-5cb2-42b0-ae43-be35d595c4b5",
   "metadata": {},
   "outputs": [
    {
     "data": {
      "text/plain": [
       "{'@@type': 'WebGLVectorLayer',\n",
       " 'source': {'@@type': 'VectorSource',\n",
       "  'url': 'https://openlayers.org/data/vector/ecoregions.json',\n",
       "  'format': {'@@type': 'GeoJSON'}},\n",
       " 'style': {'stroke-color': ['*', ['get', 'COLOR'], [220, 220, 220]],\n",
       "  'stroke-width': 2,\n",
       "  'stroke-offset': -1,\n",
       "  'fill-color': ['*', ['get', 'COLOR'], [255, 255, 255, 0.6]]}}"
      ]
     },
     "execution_count": 2,
     "metadata": {},
     "output_type": "execute_result"
    }
   ],
   "source": [
    "another_layer = {\n",
    "    \"@@type\": \"WebGLVectorLayer\",\n",
    "    \"source\": {\n",
    "        \"@@type\": \"VectorSource\",\n",
    "        \"url\": \"https://openlayers.org/data/vector/ecoregions.json\",\n",
    "        \"format\": {\n",
    "            \"@@type\": \"GeoJSON\"\n",
    "        }\n",
    "    },\n",
    "    \"style\": {\n",
    "        'stroke-color': ['*', ['get', 'COLOR'], [220, 220, 220]],\n",
    "        'stroke-width': 2,\n",
    "        'stroke-offset': -1,\n",
    "        'fill-color': ['*', ['get', 'COLOR'], [255, 255, 255, 0.6]]\n",
    "    }\n",
    "\n",
    "\n",
    "}\n",
    "another_layer"
   ]
  },
  {
   "cell_type": "code",
   "execution_count": 7,
   "id": "38f47659-9b52-4ca5-8d73-e338259d2643",
   "metadata": {},
   "outputs": [
    {
     "data": {
      "text/plain": [
       "{'viewOptions': {'center': (0, 0), 'zoom': 0},\n",
       " 'layers': [{'source': {'url': 'https://openlayers.org/data/vector/ecoregions.json',\n",
       "    'format': {'@@type': 'GeoJSON'},\n",
       "    '@@type': 'VectorSource'},\n",
       "   'style': {'stroke-color': ['*', ['get', 'COLOR'], [220, 220, 220]],\n",
       "    'stroke-width': 2,\n",
       "    'stroke-offset': -1,\n",
       "    'fill-color': ['*', ['get', 'COLOR'], [255, 255, 255, 0.6]]},\n",
       "   '@@type': 'WebGLVectorLayer'}]}"
      ]
     },
     "execution_count": 7,
     "metadata": {},
     "output_type": "execute_result"
    }
   ],
   "source": [
    "m2 = MapWidget(layers=[another_layer])\n",
    "m2.map_options"
   ]
  },
  {
   "cell_type": "code",
   "execution_count": null,
   "id": "4c74366e-721b-4e2e-8c58-c1b9d3f25363",
   "metadata": {},
   "outputs": [],
   "source": []
  }
 ],
 "metadata": {
  "kernelspec": {
   "display_name": "Python 3 (ipykernel)",
   "language": "python",
   "name": "python3"
  },
  "language_info": {
   "codemirror_mode": {
    "name": "ipython",
    "version": 3
   },
   "file_extension": ".py",
   "mimetype": "text/x-python",
   "name": "python",
   "nbconvert_exporter": "python",
   "pygments_lexer": "ipython3",
   "version": "3.11.11"
  }
 },
 "nbformat": 4,
 "nbformat_minor": 5
}
