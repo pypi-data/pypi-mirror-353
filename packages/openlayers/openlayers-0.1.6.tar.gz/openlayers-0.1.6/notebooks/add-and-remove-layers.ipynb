{
 "cells": [
  {
   "cell_type": "code",
   "execution_count": 1,
   "id": "67d67e8f-532f-4bc9-a633-4caed4cf3cc5",
   "metadata": {},
   "outputs": [],
   "source": [
    "from openlayers.anywidget import MapWidget\n",
    "from openlayers.json_defs import ScaleLineControl"
   ]
  },
  {
   "cell_type": "code",
   "execution_count": 2,
   "id": "a2f7e9e3-b73d-4bca-9b6a-b6c73f23ccf0",
   "metadata": {},
   "outputs": [],
   "source": [
    "m = MapWidget()"
   ]
  },
  {
   "cell_type": "code",
   "execution_count": 3,
   "id": "b6d7b710-3501-4dfb-a32a-7684b527a614",
   "metadata": {},
   "outputs": [
    {
     "data": {
      "text/plain": [
       "{'viewOptions': {'center': (0, 0), 'zoom': 0},\n",
       " 'layers': [{'id': 'osm', 'source': {'@@type': 'OSM'}, '@@type': 'TileLayer'}]}"
      ]
     },
     "execution_count": 3,
     "metadata": {},
     "output_type": "execute_result"
    }
   ],
   "source": [
    "m.map_options"
   ]
  },
  {
   "cell_type": "code",
   "execution_count": 4,
   "id": "4d9948d7-b9fd-4606-a0db-ed1f59b17607",
   "metadata": {},
   "outputs": [
    {
     "data": {
      "application/vnd.jupyter.widget-view+json": {
       "model_id": "eca49cd8648b46daa65da11a5869be69",
       "version_major": 2,
       "version_minor": 1
      },
      "text/plain": [
       "MapWidget(height='400px', map_options={'viewOptions': {'center': (0, 0), 'zoom': 0}, 'layers': [{'id': 'osm', …"
      ]
     },
     "execution_count": 4,
     "metadata": {},
     "output_type": "execute_result"
    }
   ],
   "source": [
    "m"
   ]
  },
  {
   "cell_type": "code",
   "execution_count": 5,
   "id": "ea06faa1-2acf-45a2-b9f8-1a94692ff5ac",
   "metadata": {},
   "outputs": [],
   "source": [
    "m.add_call(\"addControl\", ScaleLineControl(id=\"scale-line\").model_dump())"
   ]
  },
  {
   "cell_type": "code",
   "execution_count": 6,
   "id": "3ecf1a5a-a967-45e2-ba22-33bf7f864f8a",
   "metadata": {},
   "outputs": [],
   "source": [
    "m.remove_control(control_id=\"scale-line\")"
   ]
  },
  {
   "cell_type": "code",
   "execution_count": 10,
   "id": "09084caf-93a1-4c6b-bf2b-a4e4f43811b6",
   "metadata": {},
   "outputs": [],
   "source": [
    "m.remove_layer(layer_id=\"osm\")"
   ]
  },
  {
   "cell_type": "code",
   "execution_count": 8,
   "id": "198d06cf-a163-4f8a-9ad0-8d8f5ebab65a",
   "metadata": {},
   "outputs": [],
   "source": [
    "l = {'id': 'osm',\n",
    "   'source': {'@@type': 'OSM'},\n",
    "   '@@type': 'TileLayer'}"
   ]
  },
  {
   "cell_type": "code",
   "execution_count": 11,
   "id": "fa0927ac-8559-41c2-bfa8-a53aa10c9596",
   "metadata": {},
   "outputs": [],
   "source": [
    "m.add_layer(l)"
   ]
  },
  {
   "cell_type": "code",
   "execution_count": null,
   "id": "d04dbb44-1f4b-402a-b4f6-9ea53b926805",
   "metadata": {},
   "outputs": [],
   "source": []
  }
 ],
 "metadata": {
  "kernelspec": {
   "display_name": "Python 3 (ipykernel)",
   "language": "python",
   "name": "python3"
  },
  "language_info": {
   "codemirror_mode": {
    "name": "ipython",
    "version": 3
   },
   "file_extension": ".py",
   "mimetype": "text/x-python",
   "name": "python",
   "nbconvert_exporter": "python",
   "pygments_lexer": "ipython3",
   "version": "3.11.11"
  }
 },
 "nbformat": 4,
 "nbformat_minor": 5
}
