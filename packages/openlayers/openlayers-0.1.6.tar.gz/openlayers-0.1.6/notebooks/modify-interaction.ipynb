{
 "cells": [
  {
   "cell_type": "code",
   "execution_count": 1,
   "id": "ea1efd9a-adcc-4ceb-9d66-1f2436bf0bf1",
   "metadata": {},
   "outputs": [],
   "source": [
    "import openlayers as ol"
   ]
  },
  {
   "cell_type": "code",
   "execution_count": 2,
   "id": "5f0015f6-9f02-4fcc-9949-a4d9d46515d3",
   "metadata": {},
   "outputs": [],
   "source": [
    "gdf = ol.GeoDataFrame.from_file(\"https://openlayers.org/en/v4.6.5/examples/data/geojson/countries.geojson\")"
   ]
  },
  {
   "cell_type": "code",
   "execution_count": 3,
   "id": "bf927816-1ce2-4929-8b9e-aeed7680be42",
   "metadata": {},
   "outputs": [
    {
     "data": {
      "text/html": [
       "<div>\n",
       "<style scoped>\n",
       "    .dataframe tbody tr th:only-of-type {\n",
       "        vertical-align: middle;\n",
       "    }\n",
       "\n",
       "    .dataframe tbody tr th {\n",
       "        vertical-align: top;\n",
       "    }\n",
       "\n",
       "    .dataframe thead th {\n",
       "        text-align: right;\n",
       "    }\n",
       "</style>\n",
       "<table border=\"1\" class=\"dataframe\">\n",
       "  <thead>\n",
       "    <tr style=\"text-align: right;\">\n",
       "      <th></th>\n",
       "      <th>id</th>\n",
       "      <th>name</th>\n",
       "      <th>geometry</th>\n",
       "    </tr>\n",
       "  </thead>\n",
       "  <tbody>\n",
       "    <tr>\n",
       "      <th>0</th>\n",
       "      <td>AFG</td>\n",
       "      <td>Afghanistan</td>\n",
       "      <td>POLYGON ((61.21082 35.65007, 62.23065 35.27066...</td>\n",
       "    </tr>\n",
       "    <tr>\n",
       "      <th>1</th>\n",
       "      <td>AGO</td>\n",
       "      <td>Angola</td>\n",
       "      <td>MULTIPOLYGON (((16.32653 -5.87747, 16.57318 -6...</td>\n",
       "    </tr>\n",
       "    <tr>\n",
       "      <th>2</th>\n",
       "      <td>ALB</td>\n",
       "      <td>Albania</td>\n",
       "      <td>POLYGON ((20.59025 41.8554, 20.46318 41.51509,...</td>\n",
       "    </tr>\n",
       "    <tr>\n",
       "      <th>3</th>\n",
       "      <td>ARE</td>\n",
       "      <td>United Arab Emirates</td>\n",
       "      <td>POLYGON ((51.57952 24.2455, 51.75744 24.29407,...</td>\n",
       "    </tr>\n",
       "    <tr>\n",
       "      <th>4</th>\n",
       "      <td>ARG</td>\n",
       "      <td>Argentina</td>\n",
       "      <td>MULTIPOLYGON (((-65.5 -55.2, -66.45 -55.25, -6...</td>\n",
       "    </tr>\n",
       "    <tr>\n",
       "      <th>...</th>\n",
       "      <td>...</td>\n",
       "      <td>...</td>\n",
       "      <td>...</td>\n",
       "    </tr>\n",
       "    <tr>\n",
       "      <th>174</th>\n",
       "      <td>PSE</td>\n",
       "      <td>West Bank</td>\n",
       "      <td>POLYGON ((35.54566 32.39399, 35.54525 31.7825,...</td>\n",
       "    </tr>\n",
       "    <tr>\n",
       "      <th>175</th>\n",
       "      <td>YEM</td>\n",
       "      <td>Yemen</td>\n",
       "      <td>POLYGON ((53.10857 16.65105, 52.38521 16.38241...</td>\n",
       "    </tr>\n",
       "    <tr>\n",
       "      <th>176</th>\n",
       "      <td>ZAF</td>\n",
       "      <td>South Africa</td>\n",
       "      <td>POLYGON ((31.521 -29.25739, 31.32556 -29.40198...</td>\n",
       "    </tr>\n",
       "    <tr>\n",
       "      <th>177</th>\n",
       "      <td>ZMB</td>\n",
       "      <td>Zambia</td>\n",
       "      <td>POLYGON ((32.75938 -9.2306, 33.23139 -9.67672,...</td>\n",
       "    </tr>\n",
       "    <tr>\n",
       "      <th>178</th>\n",
       "      <td>ZWE</td>\n",
       "      <td>Zimbabwe</td>\n",
       "      <td>POLYGON ((31.19141 -22.25151, 30.65986 -22.151...</td>\n",
       "    </tr>\n",
       "  </tbody>\n",
       "</table>\n",
       "<p>179 rows × 3 columns</p>\n",
       "</div>"
      ],
      "text/plain": [
       "      id                  name  \\\n",
       "0    AFG           Afghanistan   \n",
       "1    AGO                Angola   \n",
       "2    ALB               Albania   \n",
       "3    ARE  United Arab Emirates   \n",
       "4    ARG             Argentina   \n",
       "..   ...                   ...   \n",
       "174  PSE             West Bank   \n",
       "175  YEM                 Yemen   \n",
       "176  ZAF          South Africa   \n",
       "177  ZMB                Zambia   \n",
       "178  ZWE              Zimbabwe   \n",
       "\n",
       "                                              geometry  \n",
       "0    POLYGON ((61.21082 35.65007, 62.23065 35.27066...  \n",
       "1    MULTIPOLYGON (((16.32653 -5.87747, 16.57318 -6...  \n",
       "2    POLYGON ((20.59025 41.8554, 20.46318 41.51509,...  \n",
       "3    POLYGON ((51.57952 24.2455, 51.75744 24.29407,...  \n",
       "4    MULTIPOLYGON (((-65.5 -55.2, -66.45 -55.25, -6...  \n",
       "..                                                 ...  \n",
       "174  POLYGON ((35.54566 32.39399, 35.54525 31.7825,...  \n",
       "175  POLYGON ((53.10857 16.65105, 52.38521 16.38241...  \n",
       "176  POLYGON ((31.521 -29.25739, 31.32556 -29.40198...  \n",
       "177  POLYGON ((32.75938 -9.2306, 33.23139 -9.67672,...  \n",
       "178  POLYGON ((31.19141 -22.25151, 30.65986 -22.151...  \n",
       "\n",
       "[179 rows x 3 columns]"
      ]
     },
     "execution_count": 3,
     "metadata": {},
     "output_type": "execute_result"
    }
   ],
   "source": [
    "gdf"
   ]
  },
  {
   "cell_type": "code",
   "execution_count": 4,
   "id": "7ad0cc6a-c508-44b6-83d1-8f03eb6a7e72",
   "metadata": {},
   "outputs": [],
   "source": [
    "m = gdf.ol.explore(tooltip=False, webgl=False)\n",
    "# m.add_modify_interaction(\"geopandas\")\n",
    "# m.add_select_features()\n",
    "m.add_control(ol.DrawControl())"
   ]
  },
  {
   "cell_type": "code",
   "execution_count": 5,
   "id": "4241d0b7-ab89-4cbd-a60b-988b6896bbd7",
   "metadata": {},
   "outputs": [
    {
     "data": {
      "application/vnd.jupyter.widget-view+json": {
       "model_id": "76dd6da729614de0864befd370d3034e",
       "version_major": 2,
       "version_minor": 1
      },
      "text/plain": [
       "MapWidget(calls=[{'method': 'addLayer', 'args': ({'id': 'geopandas', 'source': {'@@geojson': {'type': 'Feature…"
      ]
     },
     "execution_count": 5,
     "metadata": {},
     "output_type": "execute_result"
    }
   ],
   "source": [
    "m"
   ]
  },
  {
   "cell_type": "code",
   "execution_count": 7,
   "id": "8ca96e77-dbad-4958-8bac-4b92cbd1acbb",
   "metadata": {},
   "outputs": [
    {
     "data": {
      "text/plain": [
       "{'draw': [{'type': 'Feature',\n",
       "   'geometry': {'type': 'Point',\n",
       "    'coordinates': [-120.47218141829924, -14.347436260705265]},\n",
       "   'properties': None},\n",
       "  {'type': 'Feature',\n",
       "   'geometry': {'type': 'Point',\n",
       "    'coordinates': [-115.55066021198198, -32.32384479303445]},\n",
       "   'properties': None},\n",
       "  {'type': 'Feature',\n",
       "   'geometry': {'type': 'Point',\n",
       "    'coordinates': [-91.20204716358482, -21.2491496568545]},\n",
       "   'properties': None}]}"
      ]
     },
     "execution_count": 7,
     "metadata": {},
     "output_type": "execute_result"
    }
   ],
   "source": [
    "m.features"
   ]
  },
  {
   "cell_type": "code",
   "execution_count": null,
   "id": "e80b179d-9ce6-410c-b28b-9d232e478685",
   "metadata": {},
   "outputs": [],
   "source": [
    "m.features[\"draw\"][0][\"type\"]"
   ]
  },
  {
   "cell_type": "code",
   "execution_count": null,
   "id": "b7dfdd78-ec19-4e72-9d82-3ed96fce30d3",
   "metadata": {},
   "outputs": [],
   "source": [
    "vector_layer = WebGLVectorLayer(\n",
    "    id=\"populated-places\",\n",
    "    source=VectorSource(url=\"https://openlayers.org/data/vector/populated-places.json\",\n",
    "                        # format = {\"@@type\": \"KML\"}\n",
    "                       ),\n",
    "    style={\n",
    "        \"circle-fill-color\": \"red\",\n",
    "        \"circle-stroke-color\": \"yellow\",\n",
    "        \"circle-stroke-width\": 0.75,\n",
    "        \"circle-radius\": 5\n",
    "    }\n",
    ")\n",
    "vector_layer.model_dump()"
   ]
  },
  {
   "cell_type": "code",
   "execution_count": null,
   "id": "e7c33cde-06ff-4b50-be93-f049c0a4ab90",
   "metadata": {},
   "outputs": [],
   "source": [
    "m.add_layer(vector_layer)"
   ]
  },
  {
   "cell_type": "code",
   "execution_count": null,
   "id": "760e2fed-21f4-48ea-b18c-c3335ed0b1f6",
   "metadata": {},
   "outputs": [],
   "source": [
    "m.remove_layer(\"populated-places\")"
   ]
  },
  {
   "cell_type": "code",
   "execution_count": null,
   "id": "a764abe9-9ed9-4983-af27-ea5ae744e97a",
   "metadata": {},
   "outputs": [],
   "source": [
    "gts = GeoTIFFSource(**{\n",
    "  \"sources\": [\n",
    "    {\n",
    "      \"url\": 'https://sentinel-cogs.s3.us-west-2.amazonaws.com/sentinel-s2-l2a-cogs/36/Q/WD/2020/7/S2A_36QWD_20200701_0_L2A/TCI.tif',\n",
    "    },\n",
    "  ],\n",
    "})\n",
    "gts.model_dump()"
   ]
  },
  {
   "cell_type": "code",
   "execution_count": null,
   "id": "a873206b-ea50-4429-bac6-3c2f2e78b13a",
   "metadata": {},
   "outputs": [],
   "source": [
    "layer_cog = WebGLTileLayer(\n",
    "    opacity=0.5,\n",
    "    source=GeoTIFFSource(\n",
    "        sources=[\n",
    "            dict(url=\"https://sentinel-cogs.s3.us-west-2.amazonaws.com/sentinel-s2-l2a-cogs/36/Q/WD/2020/7/S2A_36QWD_20200701_0_L2A/TCI.tif\")\n",
    "        ]\n",
    "    )\n",
    ")\n",
    "layer_cog.model_dump()"
   ]
  },
  {
   "cell_type": "code",
   "execution_count": null,
   "id": "88afc1ab-8703-4274-bb45-c077442b05fe",
   "metadata": {},
   "outputs": [],
   "source": [
    "m.add_layer(layer_cog)"
   ]
  },
  {
   "cell_type": "code",
   "execution_count": null,
   "id": "cd30ee6a-19aa-4e4b-adcb-d62753900397",
   "metadata": {},
   "outputs": [],
   "source": [
    "m.add_layer(layer)"
   ]
  },
  {
   "cell_type": "code",
   "execution_count": null,
   "id": "7b503c6b-2e65-42c2-a9b7-ab4ba5b03636",
   "metadata": {},
   "outputs": [],
   "source": [
    "m.remove_layer(\"a0ccb9af-caa2-447f-8a78-5472a940af9c\")"
   ]
  },
  {
   "cell_type": "code",
   "execution_count": null,
   "id": "e5504daa-5247-4639-bd3f-3eeef7f21ef2",
   "metadata": {},
   "outputs": [],
   "source": [
    "m.map_clicked"
   ]
  },
  {
   "cell_type": "code",
   "execution_count": null,
   "id": "256ce21f-d81c-4d9a-a709-401ce0041366",
   "metadata": {},
   "outputs": [],
   "source": []
  }
 ],
 "metadata": {
  "kernelspec": {
   "display_name": ".venv",
   "language": "python",
   "name": "python3"
  },
  "language_info": {
   "codemirror_mode": {
    "name": "ipython",
    "version": 3
   },
   "file_extension": ".py",
   "mimetype": "text/x-python",
   "name": "python",
   "nbconvert_exporter": "python",
   "pygments_lexer": "ipython3",
   "version": "3.11.11"
  }
 },
 "nbformat": 4,
 "nbformat_minor": 5
}
