{
 "cells": [
  {
   "cell_type": "code",
   "execution_count": 1,
   "id": "d95ae888-75f7-4c21-8fe7-c48f77a56521",
   "metadata": {},
   "outputs": [],
   "source": [
    "from openlayers.anywidget import MapWidget, View"
   ]
  },
  {
   "cell_type": "code",
   "execution_count": 2,
   "id": "5490ebb4-e684-4ee4-8e56-d68c04c9eedd",
   "metadata": {},
   "outputs": [],
   "source": [
    "view = View(center=(0, 0), zoom=4)"
   ]
  },
  {
   "cell_type": "code",
   "execution_count": 15,
   "id": "ffd8b44e-0756-48a4-a725-3d68e9447a64",
   "metadata": {},
   "outputs": [],
   "source": [
    "sources = [\n",
    "    dict(\n",
    "        type=\"OSM\",\n",
    "        # options=dict(url=\"xyz\")\n",
    "    ),\n",
    "    dict(\n",
    "        type=\"VectorSource\",\n",
    "        options=dict(\n",
    "            url=\"https://openlayers.org/data/vector/populated-places.json\",\n",
    "            format=\"geojson\"\n",
    "        )\n",
    "    )\n",
    "]"
   ]
  },
  {
   "cell_type": "code",
   "execution_count": 41,
   "id": "b694f7b2-1f06-4e09-a25c-4136ded96dca",
   "metadata": {},
   "outputs": [],
   "source": [
    "layers = [\n",
    "    dict(\n",
    "        type=\"TileLayer\",\n",
    "        options=dict(source=sources[0])\n",
    "    ),\n",
    "    dict(\n",
    "        type=\"VectorLayer\",\n",
    "        options=dict(\n",
    "            source=sources[1],\n",
    "            style={\n",
    "                \"circle-fill-color\": \"red\",\n",
    "                \"circle-stroke-color\": \"yellow\",\n",
    "                \"circle-stroke-width\": 0.75,\n",
    "                \"circle-radius\": 5\n",
    "            }\n",
    "        )\n",
    "    )\n",
    "]"
   ]
  },
  {
   "cell_type": "code",
   "execution_count": 42,
   "id": "3a894c52-2315-4539-b915-05821ae758d6",
   "metadata": {},
   "outputs": [],
   "source": [
    "debug_data = dict(\n",
    "    sources = sources,\n",
    "    layers = layers\n",
    ")"
   ]
  },
  {
   "cell_type": "code",
   "execution_count": 43,
   "id": "cc27c1be-be88-42da-b67c-5ccfe3fa8fec",
   "metadata": {},
   "outputs": [],
   "source": [
    "m = MapWidget(view, debug_data=debug_data\n",
    "              , layers = layers\n",
    "             )"
   ]
  },
  {
   "cell_type": "code",
   "execution_count": 44,
   "id": "c0cb7e15-7110-49e6-a9b1-12287b2a9dd7",
   "metadata": {},
   "outputs": [
    {
     "data": {
      "text/plain": [
       "{'viewOptions': {'center': (0.0, 0.0), 'zoom': 4.0},\n",
       " 'layers': [{'type': 'TileLayer', 'options': {'source': {'type': 'OSM'}}},\n",
       "  {'type': 'VectorLayer',\n",
       "   'options': {'source': {'type': 'VectorSource',\n",
       "     'options': {'url': 'https://openlayers.org/data/vector/populated-places.json',\n",
       "      'format': 'geojson'}},\n",
       "    'style': {'circle-fill-color': 'red',\n",
       "     'circle-stroke-color': 'yellow',\n",
       "     'circle-stroke-width': 0.75,\n",
       "     'circle-radius': 5}}}]}"
      ]
     },
     "execution_count": 44,
     "metadata": {},
     "output_type": "execute_result"
    }
   ],
   "source": [
    "m.map_options"
   ]
  },
  {
   "cell_type": "code",
   "execution_count": 45,
   "id": "831503c4-fa55-47fc-830e-2a921b295914",
   "metadata": {},
   "outputs": [
    {
     "data": {
      "application/vnd.jupyter.widget-view+json": {
       "model_id": "a9f7ab359acf45dd8b919498bd213666",
       "version_major": 2,
       "version_minor": 1
      },
      "text/plain": [
       "MapWidget(debug_data={'sources': [{'type': 'OSM'}, {'type': 'VectorSource', 'options': {'url': 'https://openla…"
      ]
     },
     "execution_count": 45,
     "metadata": {},
     "output_type": "execute_result"
    }
   ],
   "source": [
    "m"
   ]
  },
  {
   "cell_type": "code",
   "execution_count": null,
   "id": "ff05ee29-0916-482a-b7b6-8f967643dab5",
   "metadata": {},
   "outputs": [],
   "source": []
  },
  {
   "cell_type": "code",
   "execution_count": null,
   "id": "0584a938-f5ae-4043-a7f4-51c45dc5859d",
   "metadata": {},
   "outputs": [],
   "source": []
  }
 ],
 "metadata": {
  "kernelspec": {
   "display_name": "Python 3 (ipykernel)",
   "language": "python",
   "name": "python3"
  },
  "language_info": {
   "codemirror_mode": {
    "name": "ipython",
    "version": 3
   },
   "file_extension": ".py",
   "mimetype": "text/x-python",
   "name": "python",
   "nbconvert_exporter": "python",
   "pygments_lexer": "ipython3",
   "version": "3.11.11"
  }
 },
 "nbformat": 4,
 "nbformat_minor": 5
}
