{
 "cells": [
  {
   "cell_type": "code",
   "execution_count": 1,
   "id": "50a578df-e913-4b3a-abc0-2780bcc9999b",
   "metadata": {},
   "outputs": [],
   "source": [
    "import openlayers.express as ox"
   ]
  },
  {
   "cell_type": "code",
   "execution_count": 2,
   "id": "818ce264-61cb-4ccc-b74b-9314ccb36895",
   "metadata": {},
   "outputs": [],
   "source": [
    "url = \"https://openlayers.org/data/vector/us-states.json\""
   ]
  },
  {
   "cell_type": "code",
   "execution_count": 3,
   "id": "647d23eb-0023-47ed-87ed-384ff1c4bab2",
   "metadata": {},
   "outputs": [],
   "source": [
    "m = ox.GeoJSONLayer(data=url, webgl=False).to_map()"
   ]
  },
  {
   "cell_type": "code",
   "execution_count": 4,
   "id": "3e61cf8e-c4e9-4d28-90d2-a7e0e6c2749f",
   "metadata": {},
   "outputs": [
    {
     "data": {
      "application/vnd.jupyter.widget-view+json": {
       "model_id": "f263d2e8f4a441f686d56f9c35a024a6",
       "version_major": 2,
       "version_minor": 1
      },
      "text/plain": [
       "MapWidget(calls=[{'method': 'addLayer', 'args': ({'id': '9c642cc5c9', 'source': {'url': 'https://openlayers.or…"
      ]
     },
     "execution_count": 4,
     "metadata": {},
     "output_type": "execute_result"
    }
   ],
   "source": [
    "m"
   ]
  },
  {
   "cell_type": "code",
   "execution_count": 5,
   "id": "36967ec6-bb85-4a64-8e2d-7776a89a23bf",
   "metadata": {},
   "outputs": [],
   "source": [
    "m.add_call(\"addSelectFeatures\")"
   ]
  },
  {
   "cell_type": "code",
   "execution_count": 6,
   "id": "749ef4e0-c16b-4b5e-a925-026dc5a1349e",
   "metadata": {},
   "outputs": [],
   "source": [
    "import geopandas as gpd\n",
    "import shapely"
   ]
  },
  {
   "cell_type": "code",
   "execution_count": 7,
   "id": "b8cc6d11-8dcb-4620-bdba-78b1c767af98",
   "metadata": {},
   "outputs": [
    {
     "data": {
      "text/plain": [
       "array([<POLYGON ((-97.229 49, -97.097 48.683, -97.163 48.546, -97.13 48.14, -97.053...>,\n",
       "       <POLYGON ((-91.834 40.61, -91.73 40.615, -91.527 40.412, -91.418 40.38, -91....>,\n",
       "       <POLYGON ((-83.903 38.769, -83.679 38.632, -83.52 38.704, -83.142 38.627, -8...>,\n",
       "       <POLYGON ((-90.64 42.51, -88.789 42.494, -87.803 42.494, -87.836 42.302, -87...>,\n",
       "       <POLYGON ((-107.92 41.004, -105.729 40.998, -104.053 41.004, -102.054 41.004...>],\n",
       "      dtype=object)"
      ]
     },
     "execution_count": 7,
     "metadata": {},
     "output_type": "execute_result"
    }
   ],
   "source": [
    "features = shapely.from_geojson(m.features_selected)\n",
    "features"
   ]
  },
  {
   "cell_type": "code",
   "execution_count": 19,
   "id": "766fe3b7-9ca4-4b05-94e7-7f7563419274",
   "metadata": {},
   "outputs": [
    {
     "data": {
      "text/html": [
       "<div>\n",
       "<style scoped>\n",
       "    .dataframe tbody tr th:only-of-type {\n",
       "        vertical-align: middle;\n",
       "    }\n",
       "\n",
       "    .dataframe tbody tr th {\n",
       "        vertical-align: top;\n",
       "    }\n",
       "\n",
       "    .dataframe thead th {\n",
       "        text-align: right;\n",
       "    }\n",
       "</style>\n",
       "<table border=\"1\" class=\"dataframe\">\n",
       "  <thead>\n",
       "    <tr style=\"text-align: right;\">\n",
       "      <th></th>\n",
       "      <th>0</th>\n",
       "    </tr>\n",
       "  </thead>\n",
       "  <tbody>\n",
       "    <tr>\n",
       "      <th>0</th>\n",
       "      <td>POLYGON ((-107.421329 37.000263, -106.868158 3...</td>\n",
       "    </tr>\n",
       "    <tr>\n",
       "      <th>1</th>\n",
       "      <td>POLYGON ((-101.812942 36.501861, -100.000075 3...</td>\n",
       "    </tr>\n",
       "  </tbody>\n",
       "</table>\n",
       "</div>"
      ],
      "text/plain": [
       "                                                   0\n",
       "0  POLYGON ((-107.421329 37.000263, -106.868158 3...\n",
       "1  POLYGON ((-101.812942 36.501861, -100.000075 3..."
      ]
     },
     "execution_count": 19,
     "metadata": {},
     "output_type": "execute_result"
    }
   ],
   "source": [
    "gpd.GeoDataFrame(features)"
   ]
  },
  {
   "cell_type": "code",
   "execution_count": 22,
   "id": "37c15337-ed98-49b4-b827-9b9e3b268972",
   "metadata": {},
   "outputs": [],
   "source": [
    "# m.features_selected"
   ]
  },
  {
   "cell_type": "code",
   "execution_count": null,
   "id": "ae248d94-c42e-4a67-a9ea-e5abfcee9679",
   "metadata": {},
   "outputs": [],
   "source": []
  }
 ],
 "metadata": {
  "kernelspec": {
   "display_name": "Python 3 (ipykernel)",
   "language": "python",
   "name": "python3"
  },
  "language_info": {
   "codemirror_mode": {
    "name": "ipython",
    "version": 3
   },
   "file_extension": ".py",
   "mimetype": "text/x-python",
   "name": "python",
   "nbconvert_exporter": "python",
   "pygments_lexer": "ipython3",
   "version": "3.11.11"
  }
 },
 "nbformat": 4,
 "nbformat_minor": 5
}
