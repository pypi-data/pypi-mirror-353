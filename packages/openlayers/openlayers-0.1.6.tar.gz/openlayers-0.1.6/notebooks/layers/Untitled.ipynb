{
 "cells": [
  {
   "cell_type": "code",
   "execution_count": 1,
   "id": "0f2f22e3-ced2-4ade-85a9-8d240104f63f",
   "metadata": {},
   "outputs": [],
   "source": [
    "import openlayers as ol\n",
    "from openlayers.basemaps import BasemapLayer"
   ]
  },
  {
   "cell_type": "markdown",
   "id": "7cd63ea3",
   "metadata": {},
   "source": [
    "# Just a CartoDB basemap"
   ]
  },
  {
   "cell_type": "code",
   "execution_count": null,
   "id": "d8e07548-02fc-4f10-a6d4-8aaaddac5835",
   "metadata": {},
   "outputs": [],
   "source": [
    "basemap = BasemapLayer.carto()\n",
    "# basemap.model_dump()"
   ]
  },
  {
   "cell_type": "code",
   "execution_count": null,
   "id": "58821e15-137c-4f2b-9bb7-2c0fb4f464ec",
   "metadata": {},
   "outputs": [],
   "source": [
    "view = ol.View(center=(9.481544, 51.312801), zoom=12)\n",
    "# view.model_dump()"
   ]
  },
  {
   "cell_type": "code",
   "execution_count": null,
   "id": "208f5240",
   "metadata": {},
   "outputs": [],
   "source": [
    "m = ol.MapWidget(view, layers=[basemap])\n",
    "m"
   ]
  },
  {
   "cell_type": "code",
   "execution_count": null,
   "id": "9e061519",
   "metadata": {},
   "outputs": [],
   "source": [
    "m.add_control(ol.controls.OverviewMapControl())"
   ]
  },
  {
   "cell_type": "markdown",
   "id": "005ffbf7",
   "metadata": {},
   "source": [
    "# GeoPandas Extension"
   ]
  },
  {
   "cell_type": "code",
   "execution_count": 2,
   "id": "9191dc35",
   "metadata": {},
   "outputs": [],
   "source": [
    "from openlayers.styles import FlatStyle"
   ]
  },
  {
   "cell_type": "code",
   "execution_count": 3,
   "id": "2e7cee1d",
   "metadata": {},
   "outputs": [],
   "source": [
    "gdf = ol.GeoDataFrame.from_file(\"https://openlayers.org/data/vector/populated-places.json\")"
   ]
  },
  {
   "cell_type": "code",
   "execution_count": 4,
   "id": "2c00cb3f",
   "metadata": {},
   "outputs": [
    {
     "data": {
      "application/vnd.jupyter.widget-view+json": {
       "model_id": "8a4d8ad8c64b4475ad5a1392075c53d6",
       "version_major": 2,
       "version_minor": 1
      },
      "text/plain": [
       "MapWidget(calls=[{'method': 'addLayer', 'args': ({'id': 'geopandas', 'source': {'@@geojson': {'type': 'Feature…"
      ]
     },
     "execution_count": 4,
     "metadata": {},
     "output_type": "execute_result"
    }
   ],
   "source": [
    "style = FlatStyle(icon_src=\"https://openlayers.org/en/latest/examples/data/icon.png\", icon_color=\"red\")\n",
    "# style = FlatStyle(circle_fill_color=\"red\", circle_radius=5, circle_stroke_color=\"blue\", circle_stroke_width=2)\n",
    "gdf.ol.explore(style)"
   ]
  },
  {
   "cell_type": "code",
   "execution_count": null,
   "id": "75ea7643",
   "metadata": {},
   "outputs": [],
   "source": [
    "gdf.ol.explore(style=FlatStyle(icon_src=\"https://openlayers.org/en/latest/examples/data/icon.png\", icon_color=\"red\"))"
   ]
  },
  {
   "cell_type": "code",
   "execution_count": null,
   "id": "46e4d046",
   "metadata": {},
   "outputs": [],
   "source": [
    "from openlayers.geopandas import OLAccessor"
   ]
  },
  {
   "cell_type": "code",
   "execution_count": null,
   "id": "af24c60e",
   "metadata": {},
   "outputs": [],
   "source": [
    "df = OLAccessor(gdf)"
   ]
  },
  {
   "cell_type": "code",
   "execution_count": null,
   "id": "a86d2c38",
   "metadata": {},
   "outputs": [],
   "source": [
    "df.explore()"
   ]
  }
 ],
 "metadata": {
  "kernelspec": {
   "display_name": "Python 3 (ipykernel)",
   "language": "python",
   "name": "python3"
  },
  "language_info": {
   "codemirror_mode": {
    "name": "ipython",
    "version": 3
   },
   "file_extension": ".py",
   "mimetype": "text/x-python",
   "name": "python",
   "nbconvert_exporter": "python",
   "pygments_lexer": "ipython3",
   "version": "3.11.11"
  }
 },
 "nbformat": 4,
 "nbformat_minor": 5
}
