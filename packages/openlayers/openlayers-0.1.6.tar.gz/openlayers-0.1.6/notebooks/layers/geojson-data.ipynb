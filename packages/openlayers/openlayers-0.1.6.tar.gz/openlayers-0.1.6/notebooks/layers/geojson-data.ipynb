{
 "cells": [
  {
   "cell_type": "code",
   "execution_count": 1,
   "id": "9f6d5dd5-c3b2-43d6-a858-877f4c99b2c7",
   "metadata": {},
   "outputs": [],
   "source": [
    "import requests as req\n",
    "from openlayers.anywidget import MapWidget, View\n",
    "from openlayers.layers import WebGLVectorLayer, VectorLayer\n",
    "from openlayers.sources import VectorSource\n",
    "import geopandas as gpd\n",
    "from openlayers.geopandas import gdf_to_geojson"
   ]
  },
  {
   "cell_type": "code",
   "execution_count": 2,
   "id": "f3f231a5-2a7d-48b6-bc4d-af1de5872887",
   "metadata": {},
   "outputs": [],
   "source": [
    "url = \"https://openlayers.org/en/v4.6.5/examples/data/geojson/countries.geojson\""
   ]
  },
  {
   "cell_type": "code",
   "execution_count": 3,
   "id": "b60678db-bd5b-4807-9bb3-168ed15377db",
   "metadata": {},
   "outputs": [],
   "source": [
    "source = VectorSource(url=url)"
   ]
  },
  {
   "cell_type": "code",
   "execution_count": 4,
   "id": "edbe5af5-c44d-4714-9713-fbb9c7f2c3b7",
   "metadata": {},
   "outputs": [
    {
     "data": {
      "text/plain": [
       "{'id': 'countries',\n",
       " 'source': {'url': 'https://openlayers.org/en/v4.6.5/examples/data/geojson/countries.geojson',\n",
       "  'format': {'@@type': 'GeoJSON'},\n",
       "  '@@type': 'VectorSource'},\n",
       " 'background': 'yellow',\n",
       " '@@type': 'VectorLayer'}"
      ]
     },
     "execution_count": 4,
     "metadata": {},
     "output_type": "execute_result"
    }
   ],
   "source": [
    "countries_layer = VectorLayer(\n",
    "    id=\"countries\",\n",
    "    background=\"yellow\",\n",
    "    source=source\n",
    ")\n",
    "countries_layer.model_dump()"
   ]
  },
  {
   "cell_type": "code",
   "execution_count": 6,
   "id": "521d916d-d074-41f1-ba18-cde008adcfc2",
   "metadata": {},
   "outputs": [],
   "source": [
    "# m = MapWidget(View(projection=\"EPSG:4326\"),layers=None)\n",
    "m = MapWidget(layers=None)"
   ]
  },
  {
   "cell_type": "code",
   "execution_count": 7,
   "id": "2a39917d-e1a0-4ef4-a922-b31e359130bf",
   "metadata": {},
   "outputs": [
    {
     "data": {
      "application/vnd.jupyter.widget-view+json": {
       "model_id": "0e576a8203e04df8ae56f6668d39311a",
       "version_major": 2,
       "version_minor": 1
      },
      "text/plain": [
       "MapWidget(height='400px', map_options={'viewOptions': {'center': (0, 0), 'zoom': 0, 'projection': 'EPSG:3857'}…"
      ]
     },
     "execution_count": 7,
     "metadata": {},
     "output_type": "execute_result"
    }
   ],
   "source": [
    "m"
   ]
  },
  {
   "cell_type": "code",
   "execution_count": 8,
   "id": "e770869d-8e77-4561-a6e2-ff1c00128cce",
   "metadata": {},
   "outputs": [],
   "source": [
    "m.add_layer(countries_layer)"
   ]
  },
  {
   "cell_type": "code",
   "execution_count": 28,
   "id": "79a45f24-4f96-427d-b088-27720b8803fc",
   "metadata": {},
   "outputs": [],
   "source": [
    "feature_collection = req.get(url).json()"
   ]
  },
  {
   "cell_type": "code",
   "execution_count": 29,
   "id": "a4ada789-116c-4b1d-be29-5d7b2989c6a4",
   "metadata": {},
   "outputs": [],
   "source": [
    "# feature_collection[\"features\"][0]"
   ]
  },
  {
   "cell_type": "code",
   "execution_count": 30,
   "id": "9646c0ed-125c-4880-8f53-dca071d1f711",
   "metadata": {},
   "outputs": [
    {
     "data": {
      "text/plain": [
       "{}"
      ]
     },
     "execution_count": 30,
     "metadata": {},
     "output_type": "execute_result"
    }
   ],
   "source": [
    "m.map_clicked"
   ]
  },
  {
   "cell_type": "code",
   "execution_count": 11,
   "id": "60bfaedb-f472-45dc-81ba-a70a4260272c",
   "metadata": {},
   "outputs": [],
   "source": [
    "countries_layer_feat = VectorLayer(\n",
    "    style={\n",
    "        \"stroke-color\": \"black\",\n",
    "        \"stroke-width\": 6\n",
    "    },\n",
    "    id=\"countries-feat2\",\n",
    "    # background=\"yellow\",\n",
    "    source=VectorSource(\n",
    "        geojson=geojson # feature_collection,\n",
    "        # useSpatialIndex=False\n",
    "        #features=[circle_feature]\n",
    "    )\n",
    ")\n",
    "# countries_layer_feat.model_dump()"
   ]
  },
  {
   "cell_type": "code",
   "execution_count": 12,
   "id": "8311a584-eedf-4a89-b01e-faca7512a7ba",
   "metadata": {},
   "outputs": [],
   "source": [
    "m.add_layer(countries_layer_feat)"
   ]
  },
  {
   "cell_type": "code",
   "execution_count": 9,
   "id": "fd2ae79e-2499-4f82-8588-e47e51cef196",
   "metadata": {},
   "outputs": [],
   "source": [
    "# feature_collection[\"features\"][0][\"geometry\"][\"coordinates\"]"
   ]
  },
  {
   "cell_type": "code",
   "execution_count": 12,
   "id": "905fa9ec-959f-4755-b006-ed20f2d24202",
   "metadata": {},
   "outputs": [
    {
     "data": {
      "text/plain": [
       "{'@@type': 'Feature',\n",
       " 'geometry': {'@@type': 'Circle',\n",
       "  'center': (5000000.0, 7000000.0),\n",
       "  'radius': 100000000.0}}"
      ]
     },
     "execution_count": 12,
     "metadata": {},
     "output_type": "execute_result"
    }
   ],
   "source": [
    "# new Feature(new Circle([5e6, 7e6], 1e6)))\n",
    "circle_feature = {\n",
    "    \"@@type\": \"Feature\",\n",
    "    \"geometry\": {\n",
    "        \"@@type\": \"Circle\",\n",
    "        \"center\": (5e6, 7e6), \"radius\": 1e8\n",
    "    }\n",
    "}\n",
    "circle_feature"
   ]
  },
  {
   "cell_type": "code",
   "execution_count": 12,
   "id": "e2b7e3c1-0c02-4c87-b758-9ae958f9047d",
   "metadata": {},
   "outputs": [
    {
     "data": {
      "text/plain": [
       "7000000.0"
      ]
     },
     "execution_count": 12,
     "metadata": {},
     "output_type": "execute_result"
    }
   ],
   "source": []
  },
  {
   "cell_type": "code",
   "execution_count": 9,
   "id": "469a8c29-ed2f-4831-953f-0b6e3a3c3f7a",
   "metadata": {},
   "outputs": [],
   "source": [
    "feature_collection[\"crs\"] = crs"
   ]
  },
  {
   "cell_type": "code",
   "execution_count": 8,
   "id": "f0216057-fac3-4a06-a18c-c84feb9e45fb",
   "metadata": {},
   "outputs": [],
   "source": [
    "crs =  {\n",
    "        \"type\": \"name\",\n",
    "        \"properties\": {\n",
    "            \"name\": \"EPSG:4326\",\n",
    "        }}"
   ]
  },
  {
   "cell_type": "code",
   "execution_count": 8,
   "id": "a0f8c81d-6315-4f44-8756-974a48db8e5f",
   "metadata": {},
   "outputs": [
    {
     "ename": "KeyError",
     "evalue": "'crs'",
     "output_type": "error",
     "traceback": [
      "\u001b[31m---------------------------------------------------------------------------\u001b[39m",
      "\u001b[31mKeyError\u001b[39m                                  Traceback (most recent call last)",
      "\u001b[36mCell\u001b[39m\u001b[36m \u001b[39m\u001b[32mIn[8]\u001b[39m\u001b[32m, line 1\u001b[39m\n\u001b[32m----> \u001b[39m\u001b[32m1\u001b[39m \u001b[43mfeature_collection\u001b[49m\u001b[43m[\u001b[49m\u001b[33;43m\"\u001b[39;49m\u001b[33;43mcrs\u001b[39;49m\u001b[33;43m\"\u001b[39;49m\u001b[43m]\u001b[49m\n",
      "\u001b[31mKeyError\u001b[39m: 'crs'"
     ]
    }
   ],
   "source": [
    "feature_collection[\"crs\"]"
   ]
  },
  {
   "cell_type": "code",
   "execution_count": 10,
   "id": "6bec0714-d68d-4e55-ad2e-4736da6874a9",
   "metadata": {},
   "outputs": [],
   "source": [
    "geo_data = gpd.read_file(url)\n",
    "geojson = gdf_to_geojson(geo_data)"
   ]
  },
  {
   "cell_type": "code",
   "execution_count": 45,
   "id": "e1c206a4-05a9-4d0f-8a55-9decc2a93956",
   "metadata": {},
   "outputs": [],
   "source": [
    "import json\n",
    "\n",
    "d = json.loads(geo_data.to_json())"
   ]
  },
  {
   "cell_type": "code",
   "execution_count": 49,
   "id": "4f7aee61-e017-40b4-9df0-0772cfd8b8b9",
   "metadata": {},
   "outputs": [],
   "source": [
    "#d[\"features\"]"
   ]
  },
  {
   "cell_type": "code",
   "execution_count": 51,
   "id": "60961ab9-6176-4eed-880e-02ead9e58ba3",
   "metadata": {},
   "outputs": [
    {
     "name": "stdout",
     "output_type": "stream",
     "text": [
      "Help on method to_geo_dict in module geopandas.geodataframe:\n",
      "\n",
      "to_geo_dict(na='null', show_bbox=False, drop_id=False) method of geopandas.geodataframe.GeoDataFrame instance\n",
      "    Returns a python feature collection representation of the GeoDataFrame\n",
      "    as a dictionary with a list of features based on the ``__geo_interface__``\n",
      "    GeoJSON-like specification.\n",
      "    \n",
      "    Parameters\n",
      "    ----------\n",
      "    na : str, optional\n",
      "        Options are {'null', 'drop', 'keep'}, default 'null'.\n",
      "        Indicates how to output missing (NaN) values in the GeoDataFrame\n",
      "    \n",
      "        - null: output the missing entries as JSON null\n",
      "        - drop: remove the property from the feature. This applies to each feature individually so that features may have different properties\n",
      "        - keep: output the missing entries as NaN\n",
      "    \n",
      "    show_bbox : bool, optional\n",
      "        Include bbox (bounds) in the geojson. Default False.\n",
      "    drop_id : bool, default: False\n",
      "        Whether to retain the index of the GeoDataFrame as the id property\n",
      "        in the generated dictionary. Default is False, but may want True\n",
      "        if the index is just arbitrary row numbers.\n",
      "    \n",
      "    Examples\n",
      "    --------\n",
      "    \n",
      "    >>> from shapely.geometry import Point\n",
      "    >>> d = {'col1': ['name1', 'name2'], 'geometry': [Point(1, 2), Point(2, 1)]}\n",
      "    >>> gdf = geopandas.GeoDataFrame(d)\n",
      "    >>> gdf\n",
      "        col1     geometry\n",
      "    0  name1  POINT (1 2)\n",
      "    1  name2  POINT (2 1)\n",
      "    \n",
      "    >>> gdf.to_geo_dict()\n",
      "    {'type': 'FeatureCollection', 'features': [{'id': '0', 'type': 'Feature', 'properties': {'col1': 'name1'}, 'geometry': {'type': 'Point', 'coordinates': (1.0, 2.0)}}, {'id': '1', 'type': 'Feature', 'properties': {'col1': 'name2'}, 'geometry': {'type': 'Point', 'coordinates': (2.0, 1.0)}}]}\n",
      "    \n",
      "    See also\n",
      "    --------\n",
      "    GeoDataFrame.to_json : return a GeoDataFrame as a GeoJSON string\n",
      "\n"
     ]
    }
   ],
   "source": [
    "# geo_data.to_geo_dict()\n",
    "# help(geo_data.to_geo_dict)\n",
    "geo_data.transform("
   ]
  },
  {
   "cell_type": "code",
   "execution_count": 13,
   "id": "a6eff011-6971-46e6-91fa-fe311ee3ea78",
   "metadata": {},
   "outputs": [],
   "source": [
    "from pyproj import CRS"
   ]
  },
  {
   "cell_type": "code",
   "execution_count": 17,
   "id": "cbef95ef-07c7-4140-b0d3-02f3da7bce2d",
   "metadata": {},
   "outputs": [
    {
     "data": {
      "text/plain": [
       "'EPSG:4326'"
      ]
     },
     "execution_count": 17,
     "metadata": {},
     "output_type": "execute_result"
    }
   ],
   "source": [
    "str(CRS.from_epsg(4326))"
   ]
  },
  {
   "cell_type": "code",
   "execution_count": null,
   "id": "5d38c0a1-e8df-42be-9051-cd680adf68e7",
   "metadata": {},
   "outputs": [],
   "source": []
  }
 ],
 "metadata": {
  "kernelspec": {
   "display_name": "Python 3 (ipykernel)",
   "language": "python",
   "name": "python3"
  },
  "language_info": {
   "codemirror_mode": {
    "name": "ipython",
    "version": 3
   },
   "file_extension": ".py",
   "mimetype": "text/x-python",
   "name": "python",
   "nbconvert_exporter": "python",
   "pygments_lexer": "ipython3",
   "version": "3.11.11"
  }
 },
 "nbformat": 4,
 "nbformat_minor": 5
}
