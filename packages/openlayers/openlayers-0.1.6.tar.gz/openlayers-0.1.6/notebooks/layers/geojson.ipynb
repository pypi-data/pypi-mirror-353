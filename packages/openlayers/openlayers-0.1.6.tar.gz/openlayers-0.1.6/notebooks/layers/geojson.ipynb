{
 "cells": [
  {
   "cell_type": "code",
   "execution_count": 1,
   "id": "60fa6ce0-0354-44d5-8250-eb84224c70ef",
   "metadata": {},
   "outputs": [],
   "source": [
    "import openlayers as ol"
   ]
  },
  {
   "cell_type": "code",
   "execution_count": 2,
   "id": "8f37390a-9447-4dff-b8e1-6633ca089e7d",
   "metadata": {},
   "outputs": [],
   "source": [
    "url = \"https://openlayers.org/data/vector/populated-places.json\""
   ]
  },
  {
   "cell_type": "code",
   "execution_count": 3,
   "id": "ef931766-ee1b-4cfe-8eb5-d17199ecd9f4",
   "metadata": {},
   "outputs": [
    {
     "data": {
      "text/plain": [
       "{'id': 'populated-places',\n",
       " 'source': {'url': 'https://openlayers.org/data/vector/populated-places.json',\n",
       "  'format': {'@@type': 'GeoJSON'},\n",
       "  '@@type': 'VectorSource'},\n",
       " 'opacity': 1.0,\n",
       " 'visible': True,\n",
       " 'style': {'circle-fill-color': 'red',\n",
       "  'circle-stroke-color': 'yellow',\n",
       "  'circle-stroke-width': 0.75,\n",
       "  'circle-radius': 5},\n",
       " 'fitBounds': False,\n",
       " '@@type': 'WebGLVectorLayer'}"
      ]
     },
     "execution_count": 3,
     "metadata": {},
     "output_type": "execute_result"
    }
   ],
   "source": [
    "circle_layer = ol.WebGLVectorLayer(\n",
    "    id=\"populated-places\",\n",
    "    source=ol.VectorSource(\n",
    "        url=url\n",
    "    ),\n",
    "    style={\n",
    "        \"circle-fill-color\": \"red\",\n",
    "        \"circle-stroke-color\": \"yellow\",\n",
    "        \"circle-stroke-width\": 0.75,\n",
    "        \"circle-radius\": 5\n",
    "    }\n",
    ")\n",
    "circle_layer.model_dump()"
   ]
  },
  {
   "cell_type": "code",
   "execution_count": 5,
   "id": "28b6070b-3282-4435-b1d9-5d6e57dc5c74",
   "metadata": {},
   "outputs": [
    {
     "data": {
      "text/plain": [
       "{'view': {'center': (0.0, 0.0),\n",
       "  'zoom': 0,\n",
       "  'projection': 'EPSG:3857',\n",
       "  '@@type': 'View'},\n",
       " 'layers': [{'id': 'populated-places',\n",
       "   'source': {'url': 'https://openlayers.org/data/vector/populated-places.json',\n",
       "    'format': {'@@type': 'GeoJSON'},\n",
       "    '@@type': 'VectorSource'},\n",
       "   'opacity': 1.0,\n",
       "   'visible': True,\n",
       "   'style': {'circle-fill-color': 'red',\n",
       "    'circle-stroke-color': 'yellow',\n",
       "    'circle-stroke-width': 0.75,\n",
       "    'circle-radius': 5},\n",
       "   'fitBounds': False,\n",
       "   '@@type': 'WebGLVectorLayer'}]}"
      ]
     },
     "execution_count": 5,
     "metadata": {},
     "output_type": "execute_result"
    }
   ],
   "source": [
    "m = ol.MapWidget(layers=[circle_layer])\n",
    "m.options"
   ]
  },
  {
   "cell_type": "code",
   "execution_count": 6,
   "id": "0160f0b9-c2c1-4480-b890-8dece1eaca1d",
   "metadata": {},
   "outputs": [
    {
     "data": {
      "application/vnd.jupyter.widget-view+json": {
       "model_id": "2d66f67cdfc24f91860facfd2552d2c4",
       "version_major": 2,
       "version_minor": 1
      },
      "text/plain": [
       "MapWidget(height='400px', options={'view': {'center': (0.0, 0.0), 'zoom': 0, 'projection': 'EPSG:3857', '@@typ…"
      ]
     },
     "execution_count": 6,
     "metadata": {},
     "output_type": "execute_result"
    }
   ],
   "source": [
    "m"
   ]
  },
  {
   "cell_type": "code",
   "execution_count": 7,
   "id": "d8adafbf-d719-475d-aaba-e5c268784034",
   "metadata": {},
   "outputs": [
    {
     "data": {
      "text/plain": [
       "{'layers': [{'id': 'populated-places',\n",
       "   'opacity': 1,\n",
       "   'visible': True,\n",
       "   'fitBounds': False,\n",
       "   'maxResolution': None,\n",
       "   'minResolution': 0,\n",
       "   'minZoom': None,\n",
       "   'maxZoom': None,\n",
       "   'type': 'WebGLVectorLayer'}],\n",
       " 'controls': []}"
      ]
     },
     "execution_count": 7,
     "metadata": {},
     "output_type": "execute_result"
    }
   ],
   "source": [
    "m.metadata"
   ]
  },
  {
   "cell_type": "code",
   "execution_count": 8,
   "id": "a66a808e",
   "metadata": {},
   "outputs": [],
   "source": [
    "m.add_control(ol.ZoomSliderControl())"
   ]
  },
  {
   "cell_type": "code",
   "execution_count": 11,
   "id": "6c46e94b",
   "metadata": {},
   "outputs": [],
   "source": [
    "cid = m.metadata[\"controls\"][0][\"id\"]"
   ]
  },
  {
   "cell_type": "code",
   "execution_count": 12,
   "id": "3b693e8e",
   "metadata": {},
   "outputs": [],
   "source": [
    "m.remove_control(cid)"
   ]
  },
  {
   "cell_type": "code",
   "execution_count": 13,
   "id": "5e740b5b",
   "metadata": {},
   "outputs": [],
   "source": [
    "m.add_layer(ol.basemaps.BasemapLayer())"
   ]
  },
  {
   "cell_type": "code",
   "execution_count": 14,
   "id": "1e769336",
   "metadata": {},
   "outputs": [],
   "source": [
    "m.remove_layer(\"populated-places\")"
   ]
  },
  {
   "cell_type": "code",
   "execution_count": 15,
   "id": "4e0edd9c",
   "metadata": {},
   "outputs": [],
   "source": [
    "m.add_layer(circle_layer)"
   ]
  },
  {
   "cell_type": "code",
   "execution_count": null,
   "id": "a4ef255d",
   "metadata": {},
   "outputs": [],
   "source": []
  }
 ],
 "metadata": {
  "kernelspec": {
   "display_name": "Python 3 (ipykernel)",
   "language": "python",
   "name": "python3"
  },
  "language_info": {
   "codemirror_mode": {
    "name": "ipython",
    "version": 3
   },
   "file_extension": ".py",
   "mimetype": "text/x-python",
   "name": "python",
   "nbconvert_exporter": "python",
   "pygments_lexer": "ipython3",
   "version": "3.11.11"
  }
 },
 "nbformat": 4,
 "nbformat_minor": 5
}
