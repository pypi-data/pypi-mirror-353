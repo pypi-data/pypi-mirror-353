{
 "cells": [
  {
   "cell_type": "code",
   "execution_count": 1,
   "id": "25c81600-e906-4788-9775-7bdd60e6a161",
   "metadata": {},
   "outputs": [],
   "source": [
    "import openlayers as ol"
   ]
  },
  {
   "cell_type": "code",
   "execution_count": 2,
   "id": "914eaff6-42ba-47a0-96be-234a7019759f",
   "metadata": {},
   "outputs": [],
   "source": [
    "data = \"zip+https://github.com/Toblerity/Fiona/files/11151652/coutwildrnp.zip\"\n",
    "gdf = ol.GeoDataFrame.from_file(data)"
   ]
  },
  {
   "cell_type": "code",
   "execution_count": 4,
   "id": "981ae857-84e2-48b0-9233-4875f6535070",
   "metadata": {},
   "outputs": [
    {
     "data": {
      "text/plain": [
       "array([-113.56424713,   37.06898117, -104.97087097,   41.99627686])"
      ]
     },
     "execution_count": 4,
     "metadata": {},
     "output_type": "execute_result"
    }
   ],
   "source": [
    "gdf.total_bounds"
   ]
  },
  {
   "cell_type": "code",
   "execution_count": 5,
   "id": "b0198768-245b-4005-849a-17b6393be430",
   "metadata": {},
   "outputs": [],
   "source": [
    "m = gdf.ol.color_category(\"STATE\").explore()"
   ]
  },
  {
   "cell_type": "code",
   "execution_count": 6,
   "id": "7fa470bc-7a84-4788-bb04-da12b6a60379",
   "metadata": {},
   "outputs": [
    {
     "data": {
      "application/vnd.jupyter.widget-view+json": {
       "model_id": "7ca0db70398f45d5b74b8db21863d370",
       "version_major": 2,
       "version_minor": 1
      },
      "text/plain": [
       "MapWidget(calls=[{'method': 'addLayer', 'args': ({'id': 'geopandas', 'source': {'@@geojson': {'type': 'Feature…"
      ]
     },
     "execution_count": 6,
     "metadata": {},
     "output_type": "execute_result"
    }
   ],
   "source": [
    "m"
   ]
  },
  {
   "cell_type": "code",
   "execution_count": 7,
   "id": "e2558080-2fcf-4250-aa11-2c630055fa3b",
   "metadata": {},
   "outputs": [],
   "source": [
    "m.add_call(\"fitBoundsFromLonLat\", gdf.total_bounds)"
   ]
  },
  {
   "cell_type": "code",
   "execution_count": null,
   "id": "cbae705c-2c15-4d92-8307-66c7c92c3e94",
   "metadata": {},
   "outputs": [],
   "source": []
  }
 ],
 "metadata": {
  "kernelspec": {
   "display_name": "Python 3 (ipykernel)",
   "language": "python",
   "name": "python3"
  },
  "language_info": {
   "codemirror_mode": {
    "name": "ipython",
    "version": 3
   },
   "file_extension": ".py",
   "mimetype": "text/x-python",
   "name": "python",
   "nbconvert_exporter": "python",
   "pygments_lexer": "ipython3",
   "version": "3.11.11"
  }
 },
 "nbformat": 4,
 "nbformat_minor": 5
}
