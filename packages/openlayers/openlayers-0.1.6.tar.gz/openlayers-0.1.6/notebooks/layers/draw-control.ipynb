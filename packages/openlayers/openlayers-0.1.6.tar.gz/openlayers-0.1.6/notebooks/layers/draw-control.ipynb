{
 "cells": [
  {
   "cell_type": "code",
   "execution_count": 1,
   "id": "fcb43a68-346f-4232-9183-0cabe421e51c",
   "metadata": {},
   "outputs": [],
   "source": [
    "import openlayers as ol"
   ]
  },
  {
   "cell_type": "code",
   "execution_count": 2,
   "id": "0ba32ac6-7715-4a3a-bbcc-4ff9022e006a",
   "metadata": {},
   "outputs": [],
   "source": [
    "m = ol.MapWidget(controls=[ol.DrawControl()])"
   ]
  },
  {
   "cell_type": "code",
   "execution_count": 3,
   "id": "4bb4306a-4035-45f7-8203-54b8b5e8ce09",
   "metadata": {},
   "outputs": [
    {
     "data": {
      "application/vnd.jupyter.widget-view+json": {
       "model_id": "f28e2ec3d4ba4f1dbd065b551135ac32",
       "version_major": 2,
       "version_minor": 1
      },
      "text/plain": [
       "MapWidget(height='400px', options={'view': {'center': (0.0, 0.0), 'zoom': 0, 'projection': 'EPSG:3857', '@@typ…"
      ]
     },
     "execution_count": 3,
     "metadata": {},
     "output_type": "execute_result"
    }
   ],
   "source": [
    "m"
   ]
  },
  {
   "cell_type": "code",
   "execution_count": 14,
   "id": "d6efd311-8f02-4620-859d-41bda81157dc",
   "metadata": {},
   "outputs": [
    {
     "data": {
      "text/plain": [
       "{'type': 'FeatureCollection',\n",
       " 'features': ['{\"type\":\"Feature\",\"geometry\":{\"type\":\"Point\",\"coordinates\":[-125.89665252189707,29.8693128204649]},\"properties\":null}',\n",
       "  '{\"type\":\"Feature\",\"geometry\":{\"type\":\"LineString\",\"coordinates\":[[-72.22592198459827,-15.295776076177518],[15.286438185068512,6.9778786803578186],[39.08133814625181,26.13486798336824],[-72.22592198459827,17.80716486393308]]},\"properties\":null}',\n",
       "  '{\"type\":\"Feature\",\"geometry\":{\"type\":\"Polygon\",\"coordinates\":[[[-121.93083586169986,21.048396117389515],[-107.12510859433377,-7.001741395883869],[-37.062359333479414,35.431295097579664],[-85.18092894255743,39.419363549282394],[-106.86073255295044,31.68662445230116],[-121.93083586169986,21.048396117389515]]]},\"properties\":null}']}"
      ]
     },
     "execution_count": 14,
     "metadata": {},
     "output_type": "execute_result"
    }
   ],
   "source": [
    "fc = dict(type=\"FeatureCollection\", features=m.features[\"features\"])\n",
    "fc"
   ]
  },
  {
   "cell_type": "code",
   "execution_count": 15,
   "id": "695ca685-c6b8-477a-8f7d-c7f725cab774",
   "metadata": {},
   "outputs": [
    {
     "ename": "TypeError",
     "evalue": "string indices must be integers, not 'str'",
     "output_type": "error",
     "traceback": [
      "\u001b[31m---------------------------------------------------------------------------\u001b[39m",
      "\u001b[31mTypeError\u001b[39m                                 Traceback (most recent call last)",
      "\u001b[36mCell\u001b[39m\u001b[36m \u001b[39m\u001b[32mIn[15]\u001b[39m\u001b[32m, line 1\u001b[39m\n\u001b[32m----> \u001b[39m\u001b[32m1\u001b[39m \u001b[43mol\u001b[49m\u001b[43m.\u001b[49m\u001b[43mGeoDataFrame\u001b[49m\u001b[43m.\u001b[49m\u001b[43mfrom_features\u001b[49m\u001b[43m(\u001b[49m\u001b[43mfc\u001b[49m\u001b[43m)\u001b[49m\n",
      "\u001b[36mFile \u001b[39m\u001b[32m~/projects/internal/data-products/py-openlayers/.venv/lib/python3.11/site-packages/geopandas/geodataframe.py:737\u001b[39m, in \u001b[36mGeoDataFrame.from_features\u001b[39m\u001b[34m(cls, features, crs, columns)\u001b[39m\n\u001b[32m    734\u001b[39m \u001b[38;5;28;01mif\u001b[39;00m \u001b[38;5;28mhasattr\u001b[39m(feature, \u001b[33m\"\u001b[39m\u001b[33m__geo_interface__\u001b[39m\u001b[33m\"\u001b[39m):\n\u001b[32m    735\u001b[39m     feature = feature.__geo_interface__\n\u001b[32m    736\u001b[39m row = {\n\u001b[32m--> \u001b[39m\u001b[32m737\u001b[39m     \u001b[33m\"\u001b[39m\u001b[33mgeometry\u001b[39m\u001b[33m\"\u001b[39m: shape(feature[\u001b[33m\"\u001b[39m\u001b[33mgeometry\u001b[39m\u001b[33m\"\u001b[39m]) \u001b[38;5;28;01mif\u001b[39;00m \u001b[43mfeature\u001b[49m\u001b[43m[\u001b[49m\u001b[33;43m\"\u001b[39;49m\u001b[33;43mgeometry\u001b[39;49m\u001b[33;43m\"\u001b[39;49m\u001b[43m]\u001b[49m \u001b[38;5;28;01melse\u001b[39;00m \u001b[38;5;28;01mNone\u001b[39;00m\n\u001b[32m    738\u001b[39m }\n\u001b[32m    739\u001b[39m \u001b[38;5;66;03m# load properties\u001b[39;00m\n\u001b[32m    740\u001b[39m properties = feature[\u001b[33m\"\u001b[39m\u001b[33mproperties\u001b[39m\u001b[33m\"\u001b[39m]\n",
      "\u001b[31mTypeError\u001b[39m: string indices must be integers, not 'str'"
     ]
    }
   ],
   "source": [
    "ol.GeoDataFrame.from_features(fc)"
   ]
  },
  {
   "cell_type": "code",
   "execution_count": null,
   "id": "838b802f-f001-43d2-95e6-25c1c454d200",
   "metadata": {},
   "outputs": [],
   "source": []
  }
 ],
 "metadata": {
  "kernelspec": {
   "display_name": "Python 3 (ipykernel)",
   "language": "python",
   "name": "python3"
  },
  "language_info": {
   "codemirror_mode": {
    "name": "ipython",
    "version": 3
   },
   "file_extension": ".py",
   "mimetype": "text/x-python",
   "name": "python",
   "nbconvert_exporter": "python",
   "pygments_lexer": "ipython3",
   "version": "3.11.11"
  }
 },
 "nbformat": 4,
 "nbformat_minor": 5
}
