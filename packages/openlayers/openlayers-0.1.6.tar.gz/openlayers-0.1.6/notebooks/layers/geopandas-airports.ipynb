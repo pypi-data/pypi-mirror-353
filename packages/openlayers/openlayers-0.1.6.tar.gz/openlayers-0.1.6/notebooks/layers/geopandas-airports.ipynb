{
 "cells": [
  {
   "cell_type": "code",
   "execution_count": 3,
   "id": "dcd8abdb-3dd2-4e83-aaf6-39c311ab18e7",
   "metadata": {},
   "outputs": [],
   "source": [
    "import requests\n",
    "import openlayers as ol"
   ]
  },
  {
   "cell_type": "code",
   "execution_count": 4,
   "id": "4438aa07-cb5d-46dd-a957-7c8987908210",
   "metadata": {},
   "outputs": [],
   "source": [
    "data_url = \"https://raw.githubusercontent.com/visgl/deck.gl-data/master/examples/line/airports.json\""
   ]
  },
  {
   "cell_type": "code",
   "execution_count": 6,
   "id": "ff44b129-2466-45bf-b5e5-8269105e839d",
   "metadata": {},
   "outputs": [],
   "source": [
    "data = requests.get(data_url).json()"
   ]
  },
  {
   "cell_type": "code",
   "execution_count": 10,
   "id": "77e3da1b-0e19-42d2-8f63-ebc9b62bc8ba",
   "metadata": {},
   "outputs": [
    {
     "data": {
      "text/plain": [
       "{'type': 'small',\n",
       " 'name': 'Sahnewal',\n",
       " 'abbrev': 'LUH',\n",
       " 'coordinates': [75.95707224036516, 30.850359856170172]}"
      ]
     },
     "execution_count": 10,
     "metadata": {},
     "output_type": "execute_result"
    }
   ],
   "source": [
    "data[0]"
   ]
  },
  {
   "cell_type": "code",
   "execution_count": 9,
   "id": "de7e9abd-b7a3-4180-be18-cc7833df8b1e",
   "metadata": {},
   "outputs": [],
   "source": [
    "from shapely import Point"
   ]
  },
  {
   "cell_type": "code",
   "execution_count": 23,
   "id": "1d206054-9ac9-42e6-b671-891e428d17ad",
   "metadata": {},
   "outputs": [],
   "source": [
    "# datax = [item | dict(geom={\"type\": \"Point\", \"coordinates\": item[\"coordinates\"]}) for item in data]\n",
    "datax = [item | dict(geom=Point(*item[\"coordinates\"])) for item in data]"
   ]
  },
  {
   "cell_type": "code",
   "execution_count": 24,
   "id": "6fd20888-4910-4fa8-9d71-5c3ca6269234",
   "metadata": {},
   "outputs": [
    {
     "data": {
      "text/plain": [
       "{'type': 'small',\n",
       " 'name': 'Sahnewal',\n",
       " 'abbrev': 'LUH',\n",
       " 'coordinates': [75.95707224036516, 30.850359856170172],\n",
       " 'geom': <POINT (75.957 30.85)>}"
      ]
     },
     "execution_count": 24,
     "metadata": {},
     "output_type": "execute_result"
    }
   ],
   "source": [
    "datax[0]"
   ]
  },
  {
   "cell_type": "code",
   "execution_count": 31,
   "id": "c241c8a1-aa8f-43f7-9b8b-8101975624da",
   "metadata": {},
   "outputs": [],
   "source": [
    "gdf = ol.GeoDataFrame.from_dict(datax, geometry=\"geom\", crs=\"EPSG:4326\")"
   ]
  },
  {
   "cell_type": "code",
   "execution_count": 42,
   "id": "9d888565-2e84-4b82-9a93-b3bb4bc8f1fa",
   "metadata": {},
   "outputs": [
    {
     "data": {
      "application/vnd.jupyter.widget-view+json": {
       "model_id": "3f1197545c964ba3bf0f912aef3234b9",
       "version_major": 2,
       "version_minor": 1
      },
      "text/plain": [
       "MapWidget(calls=[{'method': 'addLayer', 'args': ({'id': 'geopandas', 'source': {'@@geojson': {'type': 'Feature…"
      ]
     },
     "execution_count": 42,
     "metadata": {},
     "output_type": "execute_result"
    }
   ],
   "source": [
    "m = gdf.ol.color_category(\"type\").explore()\n",
    "m"
   ]
  },
  {
   "cell_type": "code",
   "execution_count": 43,
   "id": "b6226d94-346c-4def-8433-31ecee5b46e0",
   "metadata": {},
   "outputs": [],
   "source": [
    "m.set_opacity(\"geopandas\", 0.6)"
   ]
  },
  {
   "cell_type": "code",
   "execution_count": null,
   "id": "f4cc5eb2-b3f1-4c91-90d4-c75af55147e9",
   "metadata": {},
   "outputs": [],
   "source": []
  }
 ],
 "metadata": {
  "kernelspec": {
   "display_name": "Python 3 (ipykernel)",
   "language": "python",
   "name": "python3"
  },
  "language_info": {
   "codemirror_mode": {
    "name": "ipython",
    "version": 3
   },
   "file_extension": ".py",
   "mimetype": "text/x-python",
   "name": "python",
   "nbconvert_exporter": "python",
   "pygments_lexer": "ipython3",
   "version": "3.11.11"
  }
 },
 "nbformat": 4,
 "nbformat_minor": 5
}
