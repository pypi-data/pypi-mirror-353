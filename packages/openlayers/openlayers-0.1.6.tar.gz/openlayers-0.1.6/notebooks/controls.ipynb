{
 "cells": [
  {
   "cell_type": "code",
   "execution_count": 1,
   "id": "ff7282e3-c751-4c5d-a941-212364da036b",
   "metadata": {},
   "outputs": [],
   "source": [
    "import openlayers as ol"
   ]
  },
  {
   "cell_type": "code",
   "execution_count": 2,
   "id": "c92a180c-c2b0-4db5-80b1-faec7c16007a",
   "metadata": {},
   "outputs": [],
   "source": [
    "controls = [\n",
    "    ol.ZoomSliderControl(),\n",
    "    ol.MousePositionControl()\n",
    "]"
   ]
  },
  {
   "cell_type": "code",
   "execution_count": 3,
   "id": "a77c6be9-2243-4a97-8785-b7ad15f33923",
   "metadata": {},
   "outputs": [],
   "source": [
    "m = ol.MapWidget(controls=controls)"
   ]
  },
  {
   "cell_type": "code",
   "execution_count": 4,
   "id": "cd826921-0dd1-4a9f-ad22-7bd9c57330ac",
   "metadata": {},
   "outputs": [
    {
     "data": {
      "text/plain": [
       "{'view': {'center': (0.0, 0.0),\n",
       "  'zoom': 0,\n",
       "  'projection': 'EPSG:3857',\n",
       "  '@@type': 'View'},\n",
       " 'controls': [{'id': '1978f58242', '@@type': 'ZoomSliderControl'},\n",
       "  {'id': '7e8c00fcd0', '@@type': 'MousePositionControl'}],\n",
       " 'layers': [{'id': 'osm',\n",
       "   'source': {'@@type': 'OSM'},\n",
       "   'opacity': 1.0,\n",
       "   'visible': True,\n",
       "   '@@type': 'TileLayer'}]}"
      ]
     },
     "execution_count": 4,
     "metadata": {},
     "output_type": "execute_result"
    }
   ],
   "source": [
    "m.options"
   ]
  },
  {
   "cell_type": "code",
   "execution_count": 5,
   "id": "f879eb8a-3cdf-4b1d-8295-849e8e79d479",
   "metadata": {},
   "outputs": [
    {
     "data": {
      "application/vnd.jupyter.widget-view+json": {
       "model_id": "c0a19bca9e894a5ab03da5faa497dfcc",
       "version_major": 2,
       "version_minor": 1
      },
      "text/plain": [
       "MapWidget(height='400px', options={'view': {'center': (0.0, 0.0), 'zoom': 0, 'projection': 'EPSG:3857', '@@typ…"
      ]
     },
     "execution_count": 5,
     "metadata": {},
     "output_type": "execute_result"
    }
   ],
   "source": [
    "m"
   ]
  },
  {
   "cell_type": "code",
   "execution_count": 6,
   "id": "4a9cefcc-dca0-48f7-89f4-a33956f77f32",
   "metadata": {},
   "outputs": [
    {
     "data": {
      "text/plain": [
       "{'center': (0.0, 0.0), 'zoom': 0, 'projection': 'EPSG:3857'}"
      ]
     },
     "execution_count": 6,
     "metadata": {},
     "output_type": "execute_result"
    }
   ],
   "source": [
    "m.initial_view_state"
   ]
  },
  {
   "cell_type": "code",
   "execution_count": 7,
   "id": "4062f78a-d8d2-4c26-87ac-3cd530cc7c5b",
   "metadata": {},
   "outputs": [
    {
     "data": {
      "text/plain": [
       "{'center': [36.2630317905983, -1.5858331267923234],\n",
       " 'projection': 'EPSG:3857',\n",
       " 'zoom': 2.958559395848007,\n",
       " 'extent': [-68.38974994395485,\n",
       "  -35.29598845521411,\n",
       "  140.91581352515144,\n",
       "  32.66607588460435]}"
      ]
     },
     "execution_count": 7,
     "metadata": {},
     "output_type": "execute_result"
    }
   ],
   "source": [
    "m.view_state"
   ]
  },
  {
   "cell_type": "code",
   "execution_count": null,
   "id": "1dffcd4d",
   "metadata": {},
   "outputs": [],
   "source": [
    "# m.set_view(ol.View(projection=\"EPSG:4326\"))"
   ]
  },
  {
   "cell_type": "code",
   "execution_count": 8,
   "id": "dfd1f19e",
   "metadata": {},
   "outputs": [
    {
     "data": {
      "text/plain": [
       "{'layers': [{'id': 'osm', 'type': 'TileLayer'}],\n",
       " 'controls': [{'id': '1978f58242', 'type': 'ZoomSliderControl'},\n",
       "  {'id': '7e8c00fcd0', 'type': 'MousePositionControl'}]}"
      ]
     },
     "execution_count": 8,
     "metadata": {},
     "output_type": "execute_result"
    }
   ],
   "source": [
    "m.metadata"
   ]
  },
  {
   "cell_type": "code",
   "execution_count": 9,
   "id": "810fc555",
   "metadata": {},
   "outputs": [
    {
     "data": {
      "text/plain": [
       "True"
      ]
     },
     "execution_count": 9,
     "metadata": {},
     "output_type": "execute_result"
    }
   ],
   "source": [
    "m.created"
   ]
  },
  {
   "cell_type": "code",
   "execution_count": 10,
   "id": "6c4945b0",
   "metadata": {},
   "outputs": [
    {
     "data": {
      "text/plain": [
       "[]"
      ]
     },
     "execution_count": 10,
     "metadata": {},
     "output_type": "execute_result"
    }
   ],
   "source": [
    "m.calls"
   ]
  },
  {
   "cell_type": "code",
   "execution_count": 11,
   "id": "8e713794",
   "metadata": {},
   "outputs": [],
   "source": [
    "m.add_control(ol.MousePositionControl())"
   ]
  },
  {
   "cell_type": "code",
   "execution_count": null,
   "id": "c0a2026d",
   "metadata": {},
   "outputs": [],
   "source": []
  }
 ],
 "metadata": {
  "kernelspec": {
   "display_name": ".venv",
   "language": "python",
   "name": "python3"
  },
  "language_info": {
   "codemirror_mode": {
    "name": "ipython",
    "version": 3
   },
   "file_extension": ".py",
   "mimetype": "text/x-python",
   "name": "python",
   "nbconvert_exporter": "python",
   "pygments_lexer": "ipython3",
   "version": "3.11.11"
  }
 },
 "nbformat": 4,
 "nbformat_minor": 5
}
