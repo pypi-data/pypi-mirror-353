{
 "cells": [
  {
   "cell_type": "code",
   "execution_count": 1,
   "id": "a3f75a57-a0a5-45ca-995f-28bc6f15bfc4",
   "metadata": {},
   "outputs": [],
   "source": [
    "# See also https://openlayers.org/en/latest/examples/cog.html\n",
    "from openlayers.anywidget import MapWidget, View\n",
    "from openlayers.sources import GeoTIFFSource\n",
    "from openlayers.layers import WebGLTileLayer"
   ]
  },
  {
   "cell_type": "code",
   "execution_count": 2,
   "id": "8ca5c312-612e-4880-9b26-fe7148d0eebd",
   "metadata": {},
   "outputs": [],
   "source": [
    "layer = WebGLTileLayer(\n",
    "    opacity=0.5,\n",
    "    source=GeoTIFFSource(\n",
    "        sources=[\n",
    "            dict(url=\"https://sentinel-cogs.s3.us-west-2.amazonaws.com/sentinel-s2-l2a-cogs/36/Q/WD/2020/7/S2A_36QWD_20200701_0_L2A/TCI.tif\")\n",
    "        ]\n",
    "    )\n",
    ")"
   ]
  },
  {
   "cell_type": "code",
   "execution_count": 5,
   "id": "d997f086-4879-4532-8608-566c4dc37dc3",
   "metadata": {},
   "outputs": [],
   "source": [
    "m = MapWidget(View(), layers=[layer])"
   ]
  },
  {
   "cell_type": "code",
   "execution_count": 6,
   "id": "7a409621-b7b5-4c22-ba39-c5b88cc77ab3",
   "metadata": {},
   "outputs": [
    {
     "data": {
      "text/plain": [
       "{'view': {'center': (0.0, 0.0),\n",
       "  'zoom': 0,\n",
       "  'projection': 'EPSG:3857',\n",
       "  '@@type': 'View'},\n",
       " 'layers': [{'id': '1a64a2d303',\n",
       "   'source': {'sources': [{'url': 'https://sentinel-cogs.s3.us-west-2.amazonaws.com/sentinel-s2-l2a-cogs/36/Q/WD/2020/7/S2A_36QWD_20200701_0_L2A/TCI.tif'}],\n",
       "    '@@type': 'GeoTIFFSource'},\n",
       "   'opacity': 0.5,\n",
       "   'visible': True,\n",
       "   '@@type': 'WebGLTileLayer'}]}"
      ]
     },
     "execution_count": 6,
     "metadata": {},
     "output_type": "execute_result"
    }
   ],
   "source": [
    "m.options"
   ]
  },
  {
   "cell_type": "code",
   "execution_count": 7,
   "id": "250913c3-707d-48c2-8c88-2b522a97e6f9",
   "metadata": {},
   "outputs": [
    {
     "data": {
      "application/vnd.jupyter.widget-view+json": {
       "model_id": "5ed8df4bc8ef4189aa12e6ffaf135eb9",
       "version_major": 2,
       "version_minor": 1
      },
      "text/plain": [
       "MapWidget(height='400px', options={'view': {'center': (0.0, 0.0), 'zoom': 0, 'projection': 'EPSG:3857', '@@typ…"
      ]
     },
     "execution_count": 7,
     "metadata": {},
     "output_type": "execute_result"
    }
   ],
   "source": [
    "m"
   ]
  },
  {
   "cell_type": "code",
   "execution_count": 9,
   "id": "d7377233-0af7-4f0d-988e-11f6d05da0f1",
   "metadata": {},
   "outputs": [
    {
     "data": {
      "text/plain": [
       "{'layers': [{'id': '1a64a2d303', 'type': 'WebGLTileLayer'}], 'controls': []}"
      ]
     },
     "execution_count": 9,
     "metadata": {},
     "output_type": "execute_result"
    }
   ],
   "source": [
    "m.metadata"
   ]
  },
  {
   "cell_type": "code",
   "execution_count": 10,
   "id": "10bb9b42",
   "metadata": {},
   "outputs": [],
   "source": [
    "m.add_call(\"setViewFromSource\", m.metadata[\"layers\"][0][\"id\"])"
   ]
  },
  {
   "cell_type": "code",
   "execution_count": null,
   "id": "bd8dff46",
   "metadata": {},
   "outputs": [],
   "source": []
  }
 ],
 "metadata": {
  "kernelspec": {
   "display_name": ".venv",
   "language": "python",
   "name": "python3"
  },
  "language_info": {
   "codemirror_mode": {
    "name": "ipython",
    "version": 3
   },
   "file_extension": ".py",
   "mimetype": "text/x-python",
   "name": "python",
   "nbconvert_exporter": "python",
   "pygments_lexer": "ipython3",
   "version": "3.11.11"
  }
 },
 "nbformat": 4,
 "nbformat_minor": 5
}
