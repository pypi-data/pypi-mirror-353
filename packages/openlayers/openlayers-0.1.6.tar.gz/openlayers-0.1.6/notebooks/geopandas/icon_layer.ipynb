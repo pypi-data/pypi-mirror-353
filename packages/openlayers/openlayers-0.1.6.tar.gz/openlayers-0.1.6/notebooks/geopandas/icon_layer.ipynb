{
 "cells": [
  {
   "cell_type": "code",
   "execution_count": 1,
   "id": "39739f98",
   "metadata": {},
   "outputs": [],
   "source": [
    "import openlayers as ol\n",
    "from openlayers.geopandas import GeoDataFrame, gdf_to_geojson"
   ]
  },
  {
   "cell_type": "code",
   "execution_count": 2,
   "id": "c84609d7-996a-4316-a156-c39cebaef37d",
   "metadata": {},
   "outputs": [],
   "source": [
    "data = \"https://maplibre.org/maplibre-gl-js/docs/assets/earthquakes.geojson\""
   ]
  },
  {
   "cell_type": "code",
   "execution_count": 3,
   "id": "fb037c28",
   "metadata": {},
   "outputs": [],
   "source": [
    "gdf = GeoDataFrame.from_file(data)"
   ]
  },
  {
   "cell_type": "code",
   "execution_count": 4,
   "id": "88729a9d-5ea2-48fd-ace8-5010f6e2a04b",
   "metadata": {},
   "outputs": [
    {
     "data": {
      "text/html": [
       "<div>\n",
       "<style scoped>\n",
       "    .dataframe tbody tr th:only-of-type {\n",
       "        vertical-align: middle;\n",
       "    }\n",
       "\n",
       "    .dataframe tbody tr th {\n",
       "        vertical-align: top;\n",
       "    }\n",
       "\n",
       "    .dataframe thead th {\n",
       "        text-align: right;\n",
       "    }\n",
       "</style>\n",
       "<table border=\"1\" class=\"dataframe\">\n",
       "  <thead>\n",
       "    <tr style=\"text-align: right;\">\n",
       "      <th></th>\n",
       "      <th>id</th>\n",
       "      <th>mag</th>\n",
       "      <th>time</th>\n",
       "      <th>felt</th>\n",
       "      <th>tsunami</th>\n",
       "      <th>geometry</th>\n",
       "    </tr>\n",
       "  </thead>\n",
       "  <tbody>\n",
       "    <tr>\n",
       "      <th>0</th>\n",
       "      <td>ak16994521</td>\n",
       "      <td>2.30</td>\n",
       "      <td>1507425650893</td>\n",
       "      <td>NaN</td>\n",
       "      <td>0</td>\n",
       "      <td>POINT Z (-151.5129 63.1016 0)</td>\n",
       "    </tr>\n",
       "    <tr>\n",
       "      <th>1</th>\n",
       "      <td>ak16994519</td>\n",
       "      <td>1.70</td>\n",
       "      <td>1507425289659</td>\n",
       "      <td>NaN</td>\n",
       "      <td>0</td>\n",
       "      <td>POINT Z (-150.4048 63.1224 105.5)</td>\n",
       "    </tr>\n",
       "    <tr>\n",
       "      <th>2</th>\n",
       "      <td>ak16994517</td>\n",
       "      <td>1.60</td>\n",
       "      <td>1507424832518</td>\n",
       "      <td>NaN</td>\n",
       "      <td>0</td>\n",
       "      <td>POINT Z (-151.3597 63.0781 0)</td>\n",
       "    </tr>\n",
       "    <tr>\n",
       "      <th>3</th>\n",
       "      <td>ci38021336</td>\n",
       "      <td>1.42</td>\n",
       "      <td>1507423898710</td>\n",
       "      <td>NaN</td>\n",
       "      <td>0</td>\n",
       "      <td>POINT Z (-118.497 34.29967 7.64)</td>\n",
       "    </tr>\n",
       "    <tr>\n",
       "      <th>4</th>\n",
       "      <td>us2000b2nn</td>\n",
       "      <td>4.20</td>\n",
       "      <td>1507422626990</td>\n",
       "      <td>NaN</td>\n",
       "      <td>0</td>\n",
       "      <td>POINT Z (-87.6901 12.0623 46.41)</td>\n",
       "    </tr>\n",
       "    <tr>\n",
       "      <th>...</th>\n",
       "      <td>...</td>\n",
       "      <td>...</td>\n",
       "      <td>...</td>\n",
       "      <td>...</td>\n",
       "      <td>...</td>\n",
       "      <td>...</td>\n",
       "    </tr>\n",
       "    <tr>\n",
       "      <th>6102</th>\n",
       "      <td>uw61304877</td>\n",
       "      <td>1.15</td>\n",
       "      <td>1504836765080</td>\n",
       "      <td>NaN</td>\n",
       "      <td>0</td>\n",
       "      <td>POINT Z (-122.56833 48.69917 3.29)</td>\n",
       "    </tr>\n",
       "    <tr>\n",
       "      <th>6103</th>\n",
       "      <td>us2000ahu8</td>\n",
       "      <td>3.70</td>\n",
       "      <td>1504836433340</td>\n",
       "      <td>2.0</td>\n",
       "      <td>0</td>\n",
       "      <td>POINT Z (-111.4569 42.6238 5)</td>\n",
       "    </tr>\n",
       "    <tr>\n",
       "      <th>6104</th>\n",
       "      <td>nc72888096</td>\n",
       "      <td>2.03</td>\n",
       "      <td>1504835142230</td>\n",
       "      <td>4.0</td>\n",
       "      <td>0</td>\n",
       "      <td>POINT Z (-122.05367 37.83517 7.59)</td>\n",
       "    </tr>\n",
       "    <tr>\n",
       "      <th>6105</th>\n",
       "      <td>ak16821829</td>\n",
       "      <td>1.50</td>\n",
       "      <td>1504834613166</td>\n",
       "      <td>NaN</td>\n",
       "      <td>0</td>\n",
       "      <td>POINT Z (-163.7652 67.5597 6.1)</td>\n",
       "    </tr>\n",
       "    <tr>\n",
       "      <th>6106</th>\n",
       "      <td>hv61900626</td>\n",
       "      <td>2.91</td>\n",
       "      <td>1504833891990</td>\n",
       "      <td>NaN</td>\n",
       "      <td>0</td>\n",
       "      <td>POINT Z (-155.01183 19.39933 2.609)</td>\n",
       "    </tr>\n",
       "  </tbody>\n",
       "</table>\n",
       "<p>6107 rows × 6 columns</p>\n",
       "</div>"
      ],
      "text/plain": [
       "              id   mag           time  felt  tsunami  \\\n",
       "0     ak16994521  2.30  1507425650893   NaN        0   \n",
       "1     ak16994519  1.70  1507425289659   NaN        0   \n",
       "2     ak16994517  1.60  1507424832518   NaN        0   \n",
       "3     ci38021336  1.42  1507423898710   NaN        0   \n",
       "4     us2000b2nn  4.20  1507422626990   NaN        0   \n",
       "...          ...   ...            ...   ...      ...   \n",
       "6102  uw61304877  1.15  1504836765080   NaN        0   \n",
       "6103  us2000ahu8  3.70  1504836433340   2.0        0   \n",
       "6104  nc72888096  2.03  1504835142230   4.0        0   \n",
       "6105  ak16821829  1.50  1504834613166   NaN        0   \n",
       "6106  hv61900626  2.91  1504833891990   NaN        0   \n",
       "\n",
       "                                 geometry  \n",
       "0           POINT Z (-151.5129 63.1016 0)  \n",
       "1       POINT Z (-150.4048 63.1224 105.5)  \n",
       "2           POINT Z (-151.3597 63.0781 0)  \n",
       "3        POINT Z (-118.497 34.29967 7.64)  \n",
       "4        POINT Z (-87.6901 12.0623 46.41)  \n",
       "...                                   ...  \n",
       "6102   POINT Z (-122.56833 48.69917 3.29)  \n",
       "6103        POINT Z (-111.4569 42.6238 5)  \n",
       "6104   POINT Z (-122.05367 37.83517 7.59)  \n",
       "6105      POINT Z (-163.7652 67.5597 6.1)  \n",
       "6106  POINT Z (-155.01183 19.39933 2.609)  \n",
       "\n",
       "[6107 rows x 6 columns]"
      ]
     },
     "execution_count": 4,
     "metadata": {},
     "output_type": "execute_result"
    }
   ],
   "source": [
    "gdf"
   ]
  },
  {
   "cell_type": "code",
   "execution_count": 5,
   "id": "fa678da4-ead3-489c-9296-5907060d9077",
   "metadata": {},
   "outputs": [],
   "source": [
    "m = gdf[0:10].ol.icon(icon_src=\"https://upload.wikimedia.org/wikipedia/commons/7/7c/201408_cat.png\", icon_scale=0.1).explore()"
   ]
  },
  {
   "cell_type": "code",
   "execution_count": 6,
   "id": "f25f4d6d-bf6a-4c0c-9f99-99382b8e9dfb",
   "metadata": {},
   "outputs": [
    {
     "data": {
      "application/vnd.jupyter.widget-view+json": {
       "model_id": "158bb835125f444080430a06ea50d3fc",
       "version_major": 2,
       "version_minor": 1
      },
      "text/plain": [
       "MapWidget(calls=[{'method': 'addLayer', 'args': ({'id': 'geopandas', 'source': {'@@geojson': {'type': 'Feature…"
      ]
     },
     "execution_count": 6,
     "metadata": {},
     "output_type": "execute_result"
    }
   ],
   "source": [
    "m"
   ]
  },
  {
   "cell_type": "code",
   "execution_count": 12,
   "id": "74dea72b-2158-4347-984f-6d62c130c01e",
   "metadata": {},
   "outputs": [
    {
     "data": {
      "text/plain": [
       "{'layers': [{'id': 'osm', 'type': 'TileLayer'},\n",
       "  {'id': 'geopandas', 'type': 'WebGLVectorLayer'}],\n",
       " 'controls': []}"
      ]
     },
     "execution_count": 12,
     "metadata": {},
     "output_type": "execute_result"
    }
   ],
   "source": [
    "m.metadata"
   ]
  },
  {
   "cell_type": "code",
   "execution_count": 12,
   "id": "beca60c5-3925-45f1-a7d5-1a409deb6272",
   "metadata": {},
   "outputs": [],
   "source": [
    "# m.add_call(\"setVectorSource\", \"geopandas\", ol.VectorSource(geojson=gdf_to_geojson(gdf[20:100])).model_dump())"
   ]
  },
  {
   "cell_type": "code",
   "execution_count": 8,
   "id": "dcc1f821-ecf7-4bf0-8dab-7b6e141824e5",
   "metadata": {},
   "outputs": [],
   "source": [
    "new_src = ol.VectorSource(geojson=gdf_to_geojson(gdf[20:100]))"
   ]
  },
  {
   "cell_type": "code",
   "execution_count": 9,
   "id": "41c064ca-b232-49a5-a597-ce69746446da",
   "metadata": {},
   "outputs": [],
   "source": [
    "m.set_source(layer_id=\"geopandas\", source=new_src)"
   ]
  },
  {
   "cell_type": "code",
   "execution_count": 10,
   "id": "24a5bdfa-a5f0-4493-999a-89f5876a57d8",
   "metadata": {},
   "outputs": [],
   "source": [
    "m.remove_layer(\"osm\")"
   ]
  },
  {
   "cell_type": "code",
   "execution_count": 13,
   "id": "31fdcb7d-b5b0-4755-adb2-d192e7e89114",
   "metadata": {},
   "outputs": [
    {
     "data": {
      "text/plain": [
       "{'layers': [{'id': 'osm', 'type': 'TileLayer'},\n",
       "  {'id': 'geopandas', 'type': 'WebGLVectorLayer'}],\n",
       " 'controls': []}"
      ]
     },
     "execution_count": 13,
     "metadata": {},
     "output_type": "execute_result"
    }
   ],
   "source": [
    "m.metadata"
   ]
  },
  {
   "cell_type": "code",
   "execution_count": null,
   "id": "50db0b70-4efc-4f68-a6ec-e3bab5dde7be",
   "metadata": {},
   "outputs": [],
   "source": []
  }
 ],
 "metadata": {
  "kernelspec": {
   "display_name": "Python 3 (ipykernel)",
   "language": "python",
   "name": "python3"
  },
  "language_info": {
   "codemirror_mode": {
    "name": "ipython",
    "version": 3
   },
   "file_extension": ".py",
   "mimetype": "text/x-python",
   "name": "python",
   "nbconvert_exporter": "python",
   "pygments_lexer": "ipython3",
   "version": "3.11.11"
  }
 },
 "nbformat": 4,
 "nbformat_minor": 5
}
