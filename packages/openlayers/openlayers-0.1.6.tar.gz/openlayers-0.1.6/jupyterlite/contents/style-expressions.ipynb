{
 "cells": [
  {
   "cell_type": "code",
   "execution_count": null,
   "id": "6981339e",
   "metadata": {},
   "outputs": [],
   "source": [
    "%pip install openlayers"
   ]
  },
  {
   "cell_type": "markdown",
   "id": "304dc023",
   "metadata": {},
   "source": [
    "# Style expressions\n",
    "\n",
    "See also [style-expressions](https://openlayers.org/en/latest/examples/style-expressions.html)"
   ]
  },
  {
   "cell_type": "code",
   "execution_count": null,
   "id": "3f0152d1",
   "metadata": {},
   "outputs": [],
   "source": [
    "import openlayers as ol"
   ]
  },
  {
   "cell_type": "code",
   "execution_count": null,
   "id": "429e976f",
   "metadata": {},
   "outputs": [],
   "source": [
    "polygons = ol.VectorLayer(\n",
    "    background=\"#1a2b39\",\n",
    "    source=ol.VectorSource(\n",
    "        url=\"https://d2ad6b4ur7yvpq.cloudfront.net/naturalearth-3.3.0/ne_110m_land.geojson\"\n",
    "    ),\n",
    "    style=ol.FlatStyle(\n",
    "        fill_color=\"darkgrey\",\n",
    "    )\n",
    ")"
   ]
  },
  {
   "cell_type": "code",
   "execution_count": null,
   "id": "34c4c9e5",
   "metadata": {},
   "outputs": [],
   "source": [
    "points = ol.VectorLayer(\n",
    "    source=ol.VectorSource(\n",
    "        url=\"https://d2ad6b4ur7yvpq.cloudfront.net/naturalearth-3.3.0/ne_50m_populated_places_simple.geojson\"\n",
    "    ),\n",
    "    style=ol.FlatStyle(\n",
    "        circle_radius=[\"get\", \"scalerank\"],\n",
    "        circle_fill_color=\"gray\",\n",
    "        circle_stroke_color=\"white\"\n",
    "    )\n",
    ")"
   ]
  },
  {
   "cell_type": "code",
   "execution_count": null,
   "id": "40f2bac1",
   "metadata": {},
   "outputs": [],
   "source": [
    "m = ol.MapWidget(layers=[polygons, points])"
   ]
  },
  {
   "cell_type": "code",
   "execution_count": null,
   "id": "a69adbaf",
   "metadata": {},
   "outputs": [],
   "source": [
    "m"
   ]
  },
  {
   "cell_type": "code",
   "execution_count": null,
   "id": "dd071b90",
   "metadata": {},
   "outputs": [],
   "source": [
    "text_style = [\n",
    "    {\n",
    "        \"filter\": [\">\", [\"get\", \"pop_max\"], 10000000],\n",
    "        \"style\": {\n",
    "            \"text-value\": [\n",
    "                \"concat\",\n",
    "                [\"get\", \"adm1name\"],\n",
    "                \", \",\n",
    "                [\"get\", \"adm0name\"],\n",
    "            ],\n",
    "            \"text-font\": \"16px sans-serif\",\n",
    "            \"text-fill-color\": \"white\",\n",
    "            \"text-stroke-color\": \"gray\",\n",
    "            \"text-stroke-width\": 2,\n",
    "        },\n",
    "    },\n",
    "    {\n",
    "        \"else\": True,\n",
    "        \"filter\": [\">\", [\"get\", \"pop_max\"], 5000000],\n",
    "        \"style\": {\n",
    "            \"text-value\": [\"get\", \"nameascii\"],\n",
    "            \"text-font\": \"12px sans-serif\",\n",
    "            \"text-fill-color\": \"white\",\n",
    "            \"text-stroke-color\": \"gray\",\n",
    "            \"text-stroke-width\": 2,\n",
    "        },\n",
    "    },\n",
    "]"
   ]
  },
  {
   "cell_type": "code",
   "execution_count": null,
   "id": "0d711fa7",
   "metadata": {},
   "outputs": [],
   "source": [
    "text = ol.VectorLayer(\n",
    "    declutter=False,\n",
    "    source=ol.VectorSource(\n",
    "        url=\"https://d2ad6b4ur7yvpq.cloudfront.net/naturalearth-3.3.0/ne_50m_populated_places_simple.geojson\"\n",
    "    ),\n",
    "    style=text_style\n",
    ")"
   ]
  },
  {
   "cell_type": "code",
   "execution_count": null,
   "id": "81240cc2",
   "metadata": {},
   "outputs": [],
   "source": [
    "m.add_layer(text)"
   ]
  },
  {
   "cell_type": "code",
   "execution_count": null,
   "id": "60b2e317",
   "metadata": {},
   "outputs": [],
   "source": []
  }
 ],
 "metadata": {
  "kernelspec": {
   "display_name": ".venv",
   "language": "python",
   "name": "python3"
  },
  "language_info": {
   "codemirror_mode": {
    "name": "ipython",
    "version": 3
   },
   "file_extension": ".py",
   "mimetype": "text/x-python",
   "name": "python",
   "nbconvert_exporter": "python",
   "pygments_lexer": "ipython3",
   "version": "3.11.11"
  }
 },
 "nbformat": 4,
 "nbformat_minor": 5
}
