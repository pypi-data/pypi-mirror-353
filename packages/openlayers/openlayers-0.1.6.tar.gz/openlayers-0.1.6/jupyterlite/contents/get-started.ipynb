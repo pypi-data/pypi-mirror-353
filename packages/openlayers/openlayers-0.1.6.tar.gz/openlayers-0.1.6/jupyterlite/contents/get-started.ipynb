{
  "cells": [
    {
      "cell_type": "code",
      "execution_count": null,
      "id": "66605b1e-7af5-4148-8239-c3812cfad687",
      "metadata": {
        "trusted": true
      },
      "outputs": [],
      "source": [
        "%pip install openlayers"
      ]
    },
    {
      "cell_type": "code",
      "execution_count": null,
      "id": "03aad39a-c9f9-443f-9e2d-cd5a25ce0407",
      "metadata": {
        "trusted": true
      },
      "outputs": [],
      "source": [
        "import openlayers as ol"
      ]
    },
    {
      "cell_type": "code",
      "execution_count": null,
      "id": "b2b99974-7e84-4712-8f76-043ed6319049",
      "metadata": {
        "trusted": true
      },
      "outputs": [],
      "source": [
        "m = ol.MapWidget()"
      ]
    },
    {
      "cell_type": "code",
      "execution_count": null,
      "id": "6afbefe8-254b-405e-905c-5a035325fe13",
      "metadata": {
        "trusted": true
      },
      "outputs": [],
      "source": [
        "m"
      ]
    },
    {
      "cell_type": "code",
      "execution_count": null,
      "id": "f2aa5a68-adf1-4fcb-9d5d-06050c8e1641",
      "metadata": {
        "trusted": true
      },
      "outputs": [],
      "source": []
    }
  ],
  "metadata": {
    "kernelspec": {
      "display_name": "Python (Pyodide)",
      "language": "python",
      "name": "python"
    },
    "language_info": {
      "codemirror_mode": {
        "name": "python",
        "version": 3
      },
      "file_extension": ".py",
      "mimetype": "text/x-python",
      "name": "python",
      "nbconvert_exporter": "python",
      "pygments_lexer": "ipython3",
      "version": "3.8"
    }
  },
  "nbformat": 4,
  "nbformat_minor": 5
}
