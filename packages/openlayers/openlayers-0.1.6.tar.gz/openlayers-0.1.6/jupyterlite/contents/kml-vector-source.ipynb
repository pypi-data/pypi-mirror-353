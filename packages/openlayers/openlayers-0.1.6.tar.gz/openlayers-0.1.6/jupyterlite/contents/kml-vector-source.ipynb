{
 "cells": [
  {
   "cell_type": "code",
   "execution_count": null,
   "id": "133a900e",
   "metadata": {},
   "outputs": [],
   "source": [
    "%pip install openlayers"
   ]
  },
  {
   "cell_type": "code",
   "execution_count": null,
   "id": "d6c9595e",
   "metadata": {},
   "outputs": [],
   "source": [
    "import openlayers as ol"
   ]
  },
  {
   "cell_type": "code",
   "execution_count": null,
   "id": "fbeb74ef",
   "metadata": {},
   "outputs": [],
   "source": [
    "data = \"https://openlayers.org/en/latest/examples/data//kml/states.kml\""
   ]
  },
  {
   "cell_type": "code",
   "execution_count": null,
   "id": "c6491ff9",
   "metadata": {},
   "outputs": [],
   "source": [
    "kml = ol.VectorLayer(\n",
    "    source=ol.VectorSource(url=data, format=ol.formats.KML()), fit_bounds=True\n",
    ")"
   ]
  },
  {
   "cell_type": "code",
   "execution_count": null,
   "id": "87176d1d",
   "metadata": {},
   "outputs": [],
   "source": [
    "m = ol.MapWidget(layers=[ol.BasemapLayer(), kml])"
   ]
  },
  {
   "cell_type": "code",
   "execution_count": null,
   "id": "6d4b35f0",
   "metadata": {},
   "outputs": [],
   "source": [
    "m"
   ]
  },
  {
   "cell_type": "code",
   "execution_count": null,
   "id": "622e7c2d",
   "metadata": {},
   "outputs": [],
   "source": []
  }
 ],
 "metadata": {
  "kernelspec": {
   "display_name": ".venv",
   "language": "python",
   "name": "python3"
  },
  "language_info": {
   "codemirror_mode": {
    "name": "ipython",
    "version": 3
   },
   "file_extension": ".py",
   "mimetype": "text/x-python",
   "name": "python",
   "nbconvert_exporter": "python",
   "pygments_lexer": "ipython3",
   "version": "3.11.11"
  }
 },
 "nbformat": 4,
 "nbformat_minor": 5
}
