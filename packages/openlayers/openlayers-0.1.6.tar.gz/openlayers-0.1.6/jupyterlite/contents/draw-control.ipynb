{
 "cells": [
  {
   "cell_type": "code",
   "execution_count": null,
   "id": "85309f05",
   "metadata": {},
   "outputs": [],
   "source": [
    "%pip install openlayers"
   ]
  },
  {
   "cell_type": "code",
   "execution_count": null,
   "id": "0b3f241f",
   "metadata": {},
   "outputs": [],
   "source": [
    "import openlayers as ol"
   ]
  },
  {
   "cell_type": "code",
   "execution_count": null,
   "id": "4bab49cc",
   "metadata": {},
   "outputs": [],
   "source": [
    "m = ol.MapWidget(controls=[ol.DrawControl()])"
   ]
  },
  {
   "cell_type": "code",
   "execution_count": null,
   "id": "c678eb5f",
   "metadata": {},
   "outputs": [],
   "source": [
    "m"
   ]
  },
  {
   "cell_type": "code",
   "execution_count": null,
   "id": "ce5b3e61",
   "metadata": {},
   "outputs": [],
   "source": [
    "m.features"
   ]
  },
  {
   "cell_type": "code",
   "execution_count": null,
   "id": "fa5198d0",
   "metadata": {},
   "outputs": [],
   "source": []
  }
 ],
 "metadata": {
  "kernelspec": {
   "display_name": ".venv",
   "language": "python",
   "name": "python3"
  },
  "language_info": {
   "codemirror_mode": {
    "name": "ipython",
    "version": 3
   },
   "file_extension": ".py",
   "mimetype": "text/x-python",
   "name": "python",
   "nbconvert_exporter": "python",
   "pygments_lexer": "ipython3",
   "version": "3.11.11"
  }
 },
 "nbformat": 4,
 "nbformat_minor": 5
}
