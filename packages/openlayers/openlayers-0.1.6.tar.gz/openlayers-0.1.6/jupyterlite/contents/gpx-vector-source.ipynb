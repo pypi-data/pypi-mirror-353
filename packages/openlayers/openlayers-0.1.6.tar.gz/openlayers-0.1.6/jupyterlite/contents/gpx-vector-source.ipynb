{
 "cells": [
  {
   "cell_type": "code",
   "execution_count": null,
   "id": "6a777f9b",
   "metadata": {},
   "outputs": [],
   "source": [
    "%pip install openlayers"
   ]
  },
  {
   "cell_type": "markdown",
   "id": "fd203e12",
   "metadata": {},
   "source": [
    "# GPX vector source"
   ]
  },
  {
   "cell_type": "code",
   "execution_count": null,
   "id": "9b026059",
   "metadata": {},
   "outputs": [],
   "source": [
    "import openlayers as ol"
   ]
  },
  {
   "cell_type": "code",
   "execution_count": null,
   "id": "2cdbc12d",
   "metadata": {},
   "outputs": [],
   "source": [
    "data = \"https://openlayers.org/en/latest/examples/data/gpx/fells_loop.gpx\""
   ]
  },
  {
   "cell_type": "code",
   "execution_count": null,
   "id": "484bec3c",
   "metadata": {},
   "outputs": [],
   "source": [
    "gpx = ol.WebGLVectorLayer(\n",
    "    fit_bounds=True,\n",
    "    source=ol.VectorSource(url=data, format=ol.formats.GPX()),\n",
    "    style=ol.FlatStyle(\n",
    "        circle_fill_color=\"steelblue\",\n",
    "        circle_stroke_color=\"white\",\n",
    "        circle_stroke_width=1,\n",
    "        circle_radius=5,\n",
    "        stroke_color=\"gray\",\n",
    "        stroke_width=3,\n",
    "    ),\n",
    ")"
   ]
  },
  {
   "cell_type": "code",
   "execution_count": null,
   "id": "2cba1466",
   "metadata": {},
   "outputs": [],
   "source": [
    "m = ol.MapWidget(layers=[ol.BasemapLayer(), gpx])\n",
    "m.add_tooltip()"
   ]
  },
  {
   "cell_type": "code",
   "execution_count": null,
   "id": "c21678e9",
   "metadata": {},
   "outputs": [],
   "source": [
    "m"
   ]
  },
  {
   "cell_type": "code",
   "execution_count": null,
   "id": "bce02236",
   "metadata": {},
   "outputs": [],
   "source": []
  }
 ],
 "metadata": {
  "kernelspec": {
   "display_name": ".venv",
   "language": "python",
   "name": "python3"
  },
  "language_info": {
   "codemirror_mode": {
    "name": "ipython",
    "version": 3
   },
   "file_extension": ".py",
   "mimetype": "text/x-python",
   "name": "python",
   "nbconvert_exporter": "python",
   "pygments_lexer": "ipython3",
   "version": "3.11.11"
  }
 },
 "nbformat": 4,
 "nbformat_minor": 5
}
