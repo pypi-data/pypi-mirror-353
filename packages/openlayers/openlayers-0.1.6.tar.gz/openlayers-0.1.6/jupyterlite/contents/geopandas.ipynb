{
 "cells": [
  {
   "cell_type": "code",
   "execution_count": null,
   "id": "8cd64f43",
   "metadata": {},
   "outputs": [],
   "source": [
    "%pip install geopandas openlayers"
   ]
  },
  {
   "cell_type": "code",
   "execution_count": null,
   "id": "33ad894a",
   "metadata": {},
   "outputs": [],
   "source": [
    "import openlayers as ol"
   ]
  },
  {
   "cell_type": "code",
   "execution_count": null,
   "id": "71348f7d",
   "metadata": {},
   "outputs": [],
   "source": [
    "gpd = ol.GeoDataFrame.from_file(\"data/ne_50m_populated_places_simple.geojson\")"
   ]
  },
  {
   "cell_type": "code",
   "execution_count": null,
   "id": "31772b8b",
   "metadata": {},
   "outputs": [],
   "source": [
    "gpd.ol.color_category(\"scalerank\").explore(fit_bounds=False)"
   ]
  },
  {
   "cell_type": "code",
   "execution_count": null,
   "id": "e53e89e2",
   "metadata": {},
   "outputs": [],
   "source": []
  }
 ],
 "metadata": {
  "kernelspec": {
   "display_name": ".venv",
   "language": "python",
   "name": "python3"
  },
  "language_info": {
   "codemirror_mode": {
    "name": "ipython",
    "version": 3
   },
   "file_extension": ".py",
   "mimetype": "text/x-python",
   "name": "python",
   "nbconvert_exporter": "python",
   "pygments_lexer": "ipython3",
   "version": "3.11.11"
  }
 },
 "nbformat": 4,
 "nbformat_minor": 5
}
