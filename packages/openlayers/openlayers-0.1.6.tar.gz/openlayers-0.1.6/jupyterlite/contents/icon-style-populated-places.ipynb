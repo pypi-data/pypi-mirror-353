{
  "cells": [
    {
      "cell_type": "code",
      "execution_count": null,
      "id": "dd19bccc-ca86-4a9d-a687-ef57aad99930",
      "metadata": {
        "trusted": true
      },
      "outputs": [],
      "source": [
        "%pip install openlayers"
      ]
    },
    {
      "cell_type": "code",
      "execution_count": null,
      "id": "db0aabf6-238b-4319-b3f5-3d87e594e62e",
      "metadata": {
        "trusted": true
      },
      "outputs": [],
      "source": [
        "import openlayers as ol"
      ]
    },
    {
      "cell_type": "code",
      "execution_count": null,
      "id": "aed4c003-b3c2-4e01-bb9f-716212344e6c",
      "metadata": {
        "trusted": true
      },
      "outputs": [],
      "source": [
        "data = \"https://openlayers.org/data/vector/populated-places.json\""
      ]
    },
    {
      "cell_type": "code",
      "execution_count": null,
      "id": "e3573938-5418-4dc6-869d-8d692f8f243f",
      "metadata": {
        "trusted": true
      },
      "outputs": [],
      "source": [
        "style = ol.FlatStyle(\n",
        "    icon_src=\"https://openlayers.org/en/latest/examples/data/icon.png\",\n",
        "    icon_scale=0.4,\n",
        "    icon_color=\"steelblue\"\n",
        ")"
      ]
    },
    {
      "cell_type": "code",
      "execution_count": null,
      "id": "d039fe26-ec7f-43a6-8aae-ed36c075c043",
      "metadata": {
        "trusted": true
      },
      "outputs": [],
      "source": [
        "vector = ol.VectorLayer(style=style, source=ol.VectorSource(url=data))"
      ]
    },
    {
      "cell_type": "code",
      "execution_count": null,
      "id": "c8828f24-aaea-4dff-a4ab-4acb1f271fa9",
      "metadata": {
        "trusted": true
      },
      "outputs": [],
      "source": [
        "m = ol.MapWidget(layers=[ol.BasemapLayer(), vector])"
      ]
    },
    {
      "cell_type": "code",
      "execution_count": null,
      "id": "0c6fdc02-b5e3-4066-b1cb-0eed736d1253",
      "metadata": {
        "trusted": true
      },
      "outputs": [],
      "source": [
        "m.add_tooltip()"
      ]
    },
    {
      "cell_type": "code",
      "execution_count": null,
      "id": "dea355b7-e108-4193-811a-25e360caad32",
      "metadata": {
        "trusted": true
      },
      "outputs": [],
      "source": [
        "m"
      ]
    },
    {
      "cell_type": "code",
      "execution_count": null,
      "id": "4891a5ef-694d-4d98-9977-9a11cd9108b4",
      "metadata": {
        "trusted": true
      },
      "outputs": [],
      "source": []
    }
  ],
  "metadata": {
    "kernelspec": {
      "display_name": "Python (Pyodide)",
      "language": "python",
      "name": "python"
    },
    "language_info": {
      "codemirror_mode": {
        "name": "python",
        "version": 3
      },
      "file_extension": ".py",
      "mimetype": "text/x-python",
      "name": "python",
      "nbconvert_exporter": "python",
      "pygments_lexer": "ipython3",
      "version": "3.8"
    }
  },
  "nbformat": 4,
  "nbformat_minor": 5
}
