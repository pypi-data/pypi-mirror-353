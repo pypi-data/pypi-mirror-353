{
  "cells": [
    {
      "cell_type": "code",
      "execution_count": null,
      "id": "c625b9af-8fb0-464b-817c-dd06c8aedd3e",
      "metadata": {
        "trusted": true
      },
      "outputs": [],
      "source": [
        "%pip install openlayers"
      ]
    },
    {
      "cell_type": "code",
      "execution_count": null,
      "id": "3b0fcd79-9467-4513-9699-6a59fc36b57c",
      "metadata": {
        "trusted": true
      },
      "outputs": [],
      "source": [
        "# See https://docs.maptiler.com/openlayers/examples/geojson-points/\n",
        "\n",
        "import openlayers as ol"
      ]
    },
    {
      "cell_type": "code",
      "execution_count": null,
      "id": "63f4139e-80b1-4f18-ad40-a55307c2479d",
      "metadata": {
        "trusted": true
      },
      "outputs": [],
      "source": [
        "plane = \"https://docs.maptiler.com/openlayers/examples/geojson-points/icon-plane-512.png\""
      ]
    },
    {
      "cell_type": "code",
      "execution_count": null,
      "id": "db80be7f-d2eb-410a-a95e-91afe2722189",
      "metadata": {
        "trusted": true
      },
      "outputs": [],
      "source": [
        "data = \"https://d2ad6b4ur7yvpq.cloudfront.net/naturalearth-3.3.0/ne_10m_airports.geojson\""
      ]
    },
    {
      "cell_type": "code",
      "execution_count": null,
      "id": "3f3fb488-bc49-4c3a-99cb-cc687453b7ef",
      "metadata": {
        "trusted": true
      },
      "outputs": [],
      "source": [
        "style = ol.FlatStyle(\n",
        "    icon_src=plane,\n",
        "    icon_scale=0.03,\n",
        ")"
      ]
    },
    {
      "cell_type": "code",
      "execution_count": null,
      "id": "da4ca3a8-72cd-482d-b5f5-65ef42f200a4",
      "metadata": {
        "trusted": true
      },
      "outputs": [],
      "source": [
        "vector = ol.VectorLayer(style=style, source=ol.VectorSource(url=data))"
      ]
    },
    {
      "cell_type": "code",
      "execution_count": null,
      "id": "1ab19543-6940-4cfa-af3a-c37a3d19a44b",
      "metadata": {
        "trusted": true
      },
      "outputs": [],
      "source": [
        "m = ol.MapWidget(\n",
        "    ol.View(center=(16.62662018, 49.2125578), zoom=5),\n",
        "    layers=[ol.BasemapLayer(), vector]\n",
        ")"
      ]
    },
    {
      "cell_type": "code",
      "execution_count": null,
      "id": "1c7882b4-2dca-4ab9-a297-a19fd0bee692",
      "metadata": {
        "trusted": true
      },
      "outputs": [],
      "source": [
        "m.add_tooltip()"
      ]
    },
    {
      "cell_type": "code",
      "execution_count": null,
      "id": "70db70ae-64ec-45ac-8a6f-6e0e5e6fd2b9",
      "metadata": {
        "trusted": true
      },
      "outputs": [],
      "source": [
        "m"
      ]
    },
    {
      "cell_type": "code",
      "execution_count": null,
      "id": "a349c02d-e6db-471c-91a2-f1699c70ec55",
      "metadata": {
        "trusted": true
      },
      "outputs": [],
      "source": []
    }
  ],
  "metadata": {
    "kernelspec": {
      "display_name": "Python (Pyodide)",
      "language": "python",
      "name": "python"
    },
    "language_info": {
      "codemirror_mode": {
        "name": "python",
        "version": 3
      },
      "file_extension": ".py",
      "mimetype": "text/x-python",
      "name": "python",
      "nbconvert_exporter": "python",
      "pygments_lexer": "ipython3",
      "version": "3.8"
    }
  },
  "nbformat": 4,
  "nbformat_minor": 5
}
