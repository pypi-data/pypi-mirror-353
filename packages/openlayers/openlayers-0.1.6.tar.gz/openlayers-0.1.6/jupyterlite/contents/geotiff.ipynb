{
  "cells": [
    {
      "cell_type": "code",
      "execution_count": null,
      "id": "9107e9f6-fb76-4f0c-89f7-576226375420",
      "metadata": {
        "trusted": true
      },
      "outputs": [],
      "source": [
        "%pip install openlayers"
      ]
    },
    {
      "cell_type": "code",
      "execution_count": null,
      "id": "853579b6-8499-4927-a7a1-bfae79f78107",
      "metadata": {
        "trusted": true
      },
      "outputs": [],
      "source": [
        "import openlayers as ol"
      ]
    },
    {
      "cell_type": "code",
      "execution_count": null,
      "id": "d4dfb1d9-3d1a-44c3-9bdc-5e7458811fd4",
      "metadata": {
        "trusted": true
      },
      "outputs": [],
      "source": [
        "data = \"https://sentinel-cogs.s3.us-west-2.amazonaws.com/sentinel-s2-l2a-cogs/36/Q/WD/2020/7/S2A_36QWD_20200701_0_L2A/TCI.tif\""
      ]
    },
    {
      "cell_type": "code",
      "execution_count": null,
      "id": "ed79ba6a-65e5-4a3b-afbb-ada812fad00f",
      "metadata": {
        "trusted": true
      },
      "outputs": [],
      "source": [
        "geotiff = ol.WebGLTileLayer(\n",
        "    id=\"cog\",\n",
        "    opacity=0.5,\n",
        "    source=ol.GeoTIFFSource(sources=[dict(url=data)])\n",
        ")"
      ]
    },
    {
      "cell_type": "code",
      "execution_count": null,
      "id": "466d9454-2ff5-42cf-b16f-e16438904977",
      "metadata": {
        "trusted": true
      },
      "outputs": [],
      "source": [
        "m = ol.MapWidget()\n",
        "m.add_layer(geotiff)"
      ]
    },
    {
      "cell_type": "code",
      "execution_count": null,
      "id": "91d8bb71-ba0b-4206-b36a-e0098c462ec7",
      "metadata": {
        "trusted": true
      },
      "outputs": [],
      "source": [
        "m"
      ]
    },
    {
      "cell_type": "code",
      "execution_count": null,
      "id": "0d072d98-399d-44c6-a180-985c799e3ed1",
      "metadata": {
        "trusted": true
      },
      "outputs": [],
      "source": [
        "m.set_view_from_source(\"cog\")"
      ]
    },
    {
      "cell_type": "code",
      "execution_count": null,
      "id": "399cf8c8-0e53-4513-96b3-4bf916cc6fa8",
      "metadata": {
        "trusted": true
      },
      "outputs": [],
      "source": []
    }
  ],
  "metadata": {
    "kernelspec": {
      "display_name": "Python (Pyodide)",
      "language": "python",
      "name": "python"
    },
    "language_info": {
      "codemirror_mode": {
        "name": "python",
        "version": 3
      },
      "file_extension": ".py",
      "mimetype": "text/x-python",
      "name": "python",
      "nbconvert_exporter": "python",
      "pygments_lexer": "ipython3",
      "version": "3.8"
    }
  },
  "nbformat": 4,
  "nbformat_minor": 5
}
