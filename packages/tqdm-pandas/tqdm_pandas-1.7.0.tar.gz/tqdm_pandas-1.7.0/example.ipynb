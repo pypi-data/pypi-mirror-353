{
 "cells": [
  {
   "cell_type": "code",
   "execution_count": 1,
   "metadata": {},
   "outputs": [],
   "source": [
    "\"\"\"Implementation test\"\"\"\n",
    "\n",
    "import pandas as pd\n",
    "import numpy as np\n",
    "from tqdm_pandas import patch_pandas, unpatch_pandas \n"
   ]
  },
  {
   "cell_type": "code",
   "execution_count": 2,
   "metadata": {},
   "outputs": [],
   "source": [
    "df = pd.DataFrame({\n",
    "    'x': np.random.randn(50000),\n",
    "    'y': np.random.randint(0, 100, 50000)\n",
    "})"
   ]
  },
  {
   "cell_type": "code",
   "execution_count": 3,
   "metadata": {},
   "outputs": [
    {
     "name": "stdout",
     "output_type": "stream",
     "text": [
      "Loaded CSV: (50000, 2), Parquet: (50000, 2)\n"
     ]
    }
   ],
   "source": [
    "# normal methods without progress bars\n",
    "df1 = pd.read_csv('test.csv')\n",
    "df2 = pd.read_parquet('test.parquet')\n",
    "print(f\"Loaded CSV: {df1.shape}, Parquet: {df2.shape}\")\n"
   ]
  },
  {
   "cell_type": "code",
   "execution_count": 4,
   "metadata": {},
   "outputs": [
    {
     "data": {
      "text/plain": [
       "True"
      ]
     },
     "execution_count": 4,
     "metadata": {},
     "output_type": "execute_result"
    }
   ],
   "source": [
    "#patch to pandas to enable progress bars\n",
    "patch_pandas()"
   ]
  },
  {
   "cell_type": "code",
   "execution_count": 5,
   "metadata": {},
   "outputs": [
    {
     "name": "stderr",
     "output_type": "stream",
     "text": [
      "Reading CSV:   0%|          | 0.00/1.13M [00:00<?, ?B/s]"
     ]
    },
    {
     "name": "stderr",
     "output_type": "stream",
     "text": [
      "Reading CSV: 100%|██████████| 1.13M/1.13M [00:00<00:00, 75.1MB/s]\n",
      "Reading Parquet: 100%|██████████| 546k/546k [00:00<00:00, 89.4MB/s]\n",
      "Reading JSON: 100%|██████████| 1.31M/1.31M [00:00<00:00, 14.8MB/s]"
     ]
    },
    {
     "name": "stdout",
     "output_type": "stream",
     "text": [
      "Loaded CSV: (50000, 2), Parquet: (50000, 2), JSON: (50000, 2)\n"
     ]
    },
    {
     "name": "stderr",
     "output_type": "stream",
     "text": [
      "\n"
     ]
    }
   ],
   "source": [
    "df3 = pd.read_csv('test.csv')\n",
    "df4 = pd.read_parquet('test.parquet')\n",
    "df5 = pd.read_json('test.json')\n",
    "\n",
    "print(f\"Loaded CSV: {df3.shape}, Parquet: {df4.shape}, JSON: {df5.shape}\")"
   ]
  },
  {
   "cell_type": "code",
   "execution_count": 6,
   "metadata": {},
   "outputs": [],
   "source": [
    "#try now with unpatching pandas, all methods should be back to normal\n",
    "unpatch_pandas()\n",
    "df1 = pd.read_csv('test.csv')\n",
    "df2 = pd.read_parquet('test.parquet')\n"
   ]
  }
 ],
 "metadata": {
  "kernelspec": {
   "display_name": "tf_new2611",
   "language": "python",
   "name": "python3"
  },
  "language_info": {
   "codemirror_mode": {
    "name": "ipython",
    "version": 3
   },
   "file_extension": ".py",
   "mimetype": "text/x-python",
   "name": "python",
   "nbconvert_exporter": "python",
   "pygments_lexer": "ipython3",
   "version": "3.9.15"
  }
 },
 "nbformat": 4,
 "nbformat_minor": 2
}
